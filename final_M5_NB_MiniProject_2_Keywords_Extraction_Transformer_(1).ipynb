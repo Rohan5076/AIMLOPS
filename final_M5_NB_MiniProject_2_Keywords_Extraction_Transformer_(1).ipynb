{
  "cells": [
    {
      "cell_type": "markdown",
      "metadata": {
        "id": "view-in-github",
        "colab_type": "text"
      },
      "source": [
        "<a href=\"https://colab.research.google.com/github/Rohan5076/AIMLOPS/blob/main/final_M5_NB_MiniProject_2_Keywords_Extraction_Transformer_(1).ipynb\" target=\"_parent\"><img src=\"https://colab.research.google.com/assets/colab-badge.svg\" alt=\"Open In Colab\"/></a>"
      ]
    },
    {
      "cell_type": "markdown",
      "metadata": {
        "id": "LJY-HzQzCiJx"
      },
      "source": [
        "# Advanced Certification Programme in AI and MLOps\n",
        "## A programme by IISc and TalentSprint\n",
        "### Mini-Project: Keywords Extraction using Transformer"
      ]
    },
    {
      "cell_type": "markdown",
      "metadata": {
        "id": "sNCzT95pcrIN"
      },
      "source": [
        "## Learning Objectives"
      ]
    },
    {
      "cell_type": "markdown",
      "metadata": {
        "id": "IMBrLtAtcrIO"
      },
      "source": [
        "At the end of the experiment, you will be able to :\n",
        "\n",
        "* perform data preprocessing, EDA and feature extraction on the Medical Transcription dataset\n",
        "* build transformer components - positional embedding, encoder, decoder, etc\n",
        "* train a transformer model for keywords extraction\n",
        "* create function to perform inference using trained transformer\n",
        "* use the gradio library  to generate a customizable UI for displaying the extracted keywords"
      ]
    },
    {
      "cell_type": "markdown",
      "metadata": {
        "id": "v6Xda9CM9el9"
      },
      "source": [
        "## Dataset description"
      ]
    },
    {
      "cell_type": "markdown",
      "metadata": {
        "id": "i98dvBWFQq4x"
      },
      "source": [
        "The dataset used in this project is the **Medical transcription** dataset. It contains sample medical transcriptions for various medical specialties.\n",
        "\n",
        "The data is in CSV format with below features:\n",
        "\n",
        "- **description**\n",
        "\n",
        "- **medical_specialty**\n",
        "\n",
        "- **sample_name**\n",
        "\n",
        "- **transcription**\n",
        "\n",
        "- **keywords**"
      ]
    },
    {
      "cell_type": "markdown",
      "metadata": {
        "id": "R7ZV5ryMP07f"
      },
      "source": [
        "##  Grading = 10 Points"
      ]
    },
    {
      "cell_type": "markdown",
      "metadata": {
        "id": "4Pped-3NPaDV"
      },
      "source": [
        "## Information"
      ]
    },
    {
      "cell_type": "markdown",
      "metadata": {
        "id": "QuxYf07d62Oo"
      },
      "source": [
        "Medical transcriptions are textual records of patient-doctor interactions, medical procedures, clinical findings, and more. Extracting keywords from these transcriptions can provide valuable insights into a patient's health status, medical history, and treatment plans.\n",
        "\n",
        "* Significance:\n",
        "\n",
        "  - Data Summarization: Keyword extraction helps in summarizing lengthy medical transcriptions, making it easier for healthcare professionals to quickly understand the patient's medical history.\n",
        "\n",
        "  - Search and Retrieval: Extracted keywords can be used to index medical records, facilitating faster search and retrieval of relevant documents.\n",
        "\n",
        "  - Trend Analysis: By analyzing frequently occurring keywords, healthcare institutions can identify common ailments, treatment outcomes, and more.\n",
        "\n",
        "* Applications:\n",
        "\n",
        "  - Clinical Decision Support: Extracted keywords can be used to develop clinical decision support systems that provide real-time suggestions to healthcare professionals.\n",
        "  - Patient Monitoring: By continuously analyzing the keywords from a patient's medical transcriptions, healthcare systems can monitor the patient's health and predict potential health risks.\n",
        "  - Research: Medical researchers can use extracted keywords to identify trends, study disease outbreaks, and understand treatment efficacies.\n",
        "  - Billing and Insurance: Keywords can help in automating the medical coding process, which is essential for billing and insurance claims."
      ]
    },
    {
      "cell_type": "markdown",
      "metadata": {
        "id": "YN15WtbfwPkB"
      },
      "source": [
        "### Problem Statement"
      ]
    },
    {
      "cell_type": "markdown",
      "metadata": {
        "id": "R8_CoX7swR14"
      },
      "source": [
        "Build a transformer model for performing keywords extraction on medical transcription dataset.\n",
        "\n",
        "**Note:**\n",
        "> For some steps such as how to create a positional embedding layer, transformer components - encoder and decoder blocks, etc you may need to refer to the ***M5 Assignment-5 on Transformer_Decoder*** covered in the 25 Aug Tutorial."
      ]
    },
    {
      "cell_type": "markdown",
      "metadata": {
        "id": "Gt9VG5y7FLpv"
      },
      "source": [
        "### Import required packages"
      ]
    },
    {
      "cell_type": "code",
      "execution_count": null,
      "metadata": {
        "id": "qV7FBip_FLpw",
        "colab": {
          "base_uri": "https://localhost:8080/"
        },
        "outputId": "38840af8-58d7-4e26-ad5a-8176aa09f3b5"
      },
      "outputs": [
        {
          "output_type": "stream",
          "name": "stderr",
          "text": [
            "[nltk_data] Downloading package stopwords to /root/nltk_data...\n",
            "[nltk_data]   Unzipping corpora/stopwords.zip.\n",
            "[nltk_data] Downloading package punkt to /root/nltk_data...\n",
            "[nltk_data]   Unzipping tokenizers/punkt.zip.\n"
          ]
        }
      ],
      "source": [
        "import numpy as np\n",
        "import pandas as pd\n",
        "import re\n",
        "import random\n",
        "import string\n",
        "from string import digits\n",
        "import seaborn as sns\n",
        "import matplotlib.pyplot as plt\n",
        "from matplotlib.gridspec import GridSpec\n",
        "import nltk\n",
        "nltk.download('stopwords')\n",
        "nltk.download('punkt')\n",
        "from nltk.corpus import stopwords\n",
        "from sklearn.model_selection import train_test_split\n",
        "\n",
        "import tensorflow as tf\n",
        "from tensorflow import keras\n",
        "from tensorflow.keras import layers\n",
        "from tensorflow.keras.models import Model\n",
        "from tensorflow.keras.preprocessing.text import Tokenizer, tokenizer_from_json\n",
        "from tensorflow.keras.preprocessing.sequence import pad_sequences\n",
        "\n",
        "import warnings\n",
        "pd.set_option(\"display.max_colwidth\", 200)\n",
        "warnings.filterwarnings(\"ignore\")"
      ]
    },
    {
      "cell_type": "code",
      "execution_count": null,
      "metadata": {
        "id": "_LAPs1EOmaID",
        "colab": {
          "base_uri": "https://localhost:8080/"
        },
        "outputId": "36327e31-a231-47a2-e787-be65f558e588"
      },
      "outputs": [
        {
          "output_type": "stream",
          "name": "stdout",
          "text": [
            "Medical_transcription_dataset.csv\n"
          ]
        }
      ],
      "source": [
        "#@title Download the dataset\n",
        "!wget -q https://cdn.iisc.talentsprint.com/AIandMLOps/Datasets/Medical_transcription_dataset.csv\n",
        "!ls | grep \".csv\""
      ]
    },
    {
      "cell_type": "markdown",
      "metadata": {
        "id": "T3FkLI6wcaat"
      },
      "source": [
        "**Exercise 1: Read the Medical_transcription_dataset.csv dataset**\n",
        "\n",
        "**Hint:** pd.read_csv()"
      ]
    },
    {
      "cell_type": "code",
      "execution_count": null,
      "metadata": {
        "id": "zvi5Q_4GVZwM",
        "colab": {
          "base_uri": "https://localhost:8080/",
          "height": 657
        },
        "outputId": "5296d7dc-6f34-4cdf-f1bd-3c1eaa7fa80c"
      },
      "outputs": [
        {
          "output_type": "execute_result",
          "data": {
            "text/plain": [
              "   Unnamed: 0  \\\n",
              "0           0   \n",
              "1           1   \n",
              "2           2   \n",
              "3           3   \n",
              "4           4   \n",
              "\n",
              "                                                         description  \\\n",
              "0   A 23-year-old white female presents with complaint of allergies.   \n",
              "1                           Consult for laparoscopic gastric bypass.   \n",
              "2                           Consult for laparoscopic gastric bypass.   \n",
              "3                                             2-D M-Mode. Doppler.     \n",
              "4                                                 2-D Echocardiogram   \n",
              "\n",
              "             medical_specialty                                sample_name  \\\n",
              "0         Allergy / Immunology                         Allergic Rhinitis    \n",
              "1                   Bariatrics   Laparoscopic Gastric Bypass Consult - 2    \n",
              "2                   Bariatrics   Laparoscopic Gastric Bypass Consult - 1    \n",
              "3   Cardiovascular / Pulmonary                    2-D Echocardiogram - 1    \n",
              "4   Cardiovascular / Pulmonary                    2-D Echocardiogram - 2    \n",
              "\n",
              "                                                                                                                                                                                             transcription  \\\n",
              "0  SUBJECTIVE:,  This 23-year-old white female presents with complaint of allergies.  She used to have allergies when she lived in Seattle but she thinks they are worse here.  In the past, she has tr...   \n",
              "1  PAST MEDICAL HISTORY:, He has difficulty climbing stairs, difficulty with airline seats, tying shoes, used to public seating, and lifting objects off the floor.  He exercises three times a week at...   \n",
              "2  HISTORY OF PRESENT ILLNESS: , I have seen ABC today.  He is a very pleasant gentleman who is 42 years old, 344 pounds.  He is 5'9\".  He has a BMI of 51.  He has been overweight for ten years since...   \n",
              "3  2-D M-MODE: , ,1.  Left atrial enlargement with left atrial diameter of 4.7 cm.,2.  Normal size right and left ventricle.,3.  Normal LV systolic function with left ventricular ejection fraction of...   \n",
              "4  1.  The left ventricular cavity size and wall thickness appear normal.  The wall motion and left ventricular systolic function appears hyperdynamic with estimated ejection fraction of 70% to 75%. ...   \n",
              "\n",
              "                                                                                                                                                                                                  keywords  \n",
              "0                                                                      allergy / immunology, allergic rhinitis, allergies, asthma, nasal sprays, rhinitis, nasal, erythematous, allegra, sprays, allergic,  \n",
              "1  bariatrics, laparoscopic gastric bypass, weight loss programs, gastric bypass, atkin's diet, weight watcher's, body weight, laparoscopic gastric, weight loss, pounds, months, weight, laparoscopic,...  \n",
              "2  bariatrics, laparoscopic gastric bypass, heart attacks, body weight, pulmonary embolism, potential complications, sleep study, weight loss, gastric bypass, anastomosis, loss, sleep, laparoscopic, ...  \n",
              "3  cardiovascular / pulmonary, 2-d m-mode, doppler, aortic valve, atrial enlargement, diastolic function, ejection fraction, mitral, mitral valve, pericardial effusion, pulmonary valve, regurgitation...  \n",
              "4  cardiovascular / pulmonary, 2-d, doppler, echocardiogram, annular, aortic root, aortic valve, atrial, atrium, calcification, cavity, ejection fraction, mitral, obliteration, outflow, regurgitation...  "
            ],
            "text/html": [
              "\n",
              "  <div id=\"df-1b30e2d2-73b7-4a9d-84e4-17f8c5eeeba1\" class=\"colab-df-container\">\n",
              "    <div>\n",
              "<style scoped>\n",
              "    .dataframe tbody tr th:only-of-type {\n",
              "        vertical-align: middle;\n",
              "    }\n",
              "\n",
              "    .dataframe tbody tr th {\n",
              "        vertical-align: top;\n",
              "    }\n",
              "\n",
              "    .dataframe thead th {\n",
              "        text-align: right;\n",
              "    }\n",
              "</style>\n",
              "<table border=\"1\" class=\"dataframe\">\n",
              "  <thead>\n",
              "    <tr style=\"text-align: right;\">\n",
              "      <th></th>\n",
              "      <th>Unnamed: 0</th>\n",
              "      <th>description</th>\n",
              "      <th>medical_specialty</th>\n",
              "      <th>sample_name</th>\n",
              "      <th>transcription</th>\n",
              "      <th>keywords</th>\n",
              "    </tr>\n",
              "  </thead>\n",
              "  <tbody>\n",
              "    <tr>\n",
              "      <th>0</th>\n",
              "      <td>0</td>\n",
              "      <td>A 23-year-old white female presents with complaint of allergies.</td>\n",
              "      <td>Allergy / Immunology</td>\n",
              "      <td>Allergic Rhinitis</td>\n",
              "      <td>SUBJECTIVE:,  This 23-year-old white female presents with complaint of allergies.  She used to have allergies when she lived in Seattle but she thinks they are worse here.  In the past, she has tr...</td>\n",
              "      <td>allergy / immunology, allergic rhinitis, allergies, asthma, nasal sprays, rhinitis, nasal, erythematous, allegra, sprays, allergic,</td>\n",
              "    </tr>\n",
              "    <tr>\n",
              "      <th>1</th>\n",
              "      <td>1</td>\n",
              "      <td>Consult for laparoscopic gastric bypass.</td>\n",
              "      <td>Bariatrics</td>\n",
              "      <td>Laparoscopic Gastric Bypass Consult - 2</td>\n",
              "      <td>PAST MEDICAL HISTORY:, He has difficulty climbing stairs, difficulty with airline seats, tying shoes, used to public seating, and lifting objects off the floor.  He exercises three times a week at...</td>\n",
              "      <td>bariatrics, laparoscopic gastric bypass, weight loss programs, gastric bypass, atkin's diet, weight watcher's, body weight, laparoscopic gastric, weight loss, pounds, months, weight, laparoscopic,...</td>\n",
              "    </tr>\n",
              "    <tr>\n",
              "      <th>2</th>\n",
              "      <td>2</td>\n",
              "      <td>Consult for laparoscopic gastric bypass.</td>\n",
              "      <td>Bariatrics</td>\n",
              "      <td>Laparoscopic Gastric Bypass Consult - 1</td>\n",
              "      <td>HISTORY OF PRESENT ILLNESS: , I have seen ABC today.  He is a very pleasant gentleman who is 42 years old, 344 pounds.  He is 5'9\".  He has a BMI of 51.  He has been overweight for ten years since...</td>\n",
              "      <td>bariatrics, laparoscopic gastric bypass, heart attacks, body weight, pulmonary embolism, potential complications, sleep study, weight loss, gastric bypass, anastomosis, loss, sleep, laparoscopic, ...</td>\n",
              "    </tr>\n",
              "    <tr>\n",
              "      <th>3</th>\n",
              "      <td>3</td>\n",
              "      <td>2-D M-Mode. Doppler.</td>\n",
              "      <td>Cardiovascular / Pulmonary</td>\n",
              "      <td>2-D Echocardiogram - 1</td>\n",
              "      <td>2-D M-MODE: , ,1.  Left atrial enlargement with left atrial diameter of 4.7 cm.,2.  Normal size right and left ventricle.,3.  Normal LV systolic function with left ventricular ejection fraction of...</td>\n",
              "      <td>cardiovascular / pulmonary, 2-d m-mode, doppler, aortic valve, atrial enlargement, diastolic function, ejection fraction, mitral, mitral valve, pericardial effusion, pulmonary valve, regurgitation...</td>\n",
              "    </tr>\n",
              "    <tr>\n",
              "      <th>4</th>\n",
              "      <td>4</td>\n",
              "      <td>2-D Echocardiogram</td>\n",
              "      <td>Cardiovascular / Pulmonary</td>\n",
              "      <td>2-D Echocardiogram - 2</td>\n",
              "      <td>1.  The left ventricular cavity size and wall thickness appear normal.  The wall motion and left ventricular systolic function appears hyperdynamic with estimated ejection fraction of 70% to 75%. ...</td>\n",
              "      <td>cardiovascular / pulmonary, 2-d, doppler, echocardiogram, annular, aortic root, aortic valve, atrial, atrium, calcification, cavity, ejection fraction, mitral, obliteration, outflow, regurgitation...</td>\n",
              "    </tr>\n",
              "  </tbody>\n",
              "</table>\n",
              "</div>\n",
              "    <div class=\"colab-df-buttons\">\n",
              "\n",
              "  <div class=\"colab-df-container\">\n",
              "    <button class=\"colab-df-convert\" onclick=\"convertToInteractive('df-1b30e2d2-73b7-4a9d-84e4-17f8c5eeeba1')\"\n",
              "            title=\"Convert this dataframe to an interactive table.\"\n",
              "            style=\"display:none;\">\n",
              "\n",
              "  <svg xmlns=\"http://www.w3.org/2000/svg\" height=\"24px\" viewBox=\"0 -960 960 960\">\n",
              "    <path d=\"M120-120v-720h720v720H120Zm60-500h600v-160H180v160Zm220 220h160v-160H400v160Zm0 220h160v-160H400v160ZM180-400h160v-160H180v160Zm440 0h160v-160H620v160ZM180-180h160v-160H180v160Zm440 0h160v-160H620v160Z\"/>\n",
              "  </svg>\n",
              "    </button>\n",
              "\n",
              "  <style>\n",
              "    .colab-df-container {\n",
              "      display:flex;\n",
              "      gap: 12px;\n",
              "    }\n",
              "\n",
              "    .colab-df-convert {\n",
              "      background-color: #E8F0FE;\n",
              "      border: none;\n",
              "      border-radius: 50%;\n",
              "      cursor: pointer;\n",
              "      display: none;\n",
              "      fill: #1967D2;\n",
              "      height: 32px;\n",
              "      padding: 0 0 0 0;\n",
              "      width: 32px;\n",
              "    }\n",
              "\n",
              "    .colab-df-convert:hover {\n",
              "      background-color: #E2EBFA;\n",
              "      box-shadow: 0px 1px 2px rgba(60, 64, 67, 0.3), 0px 1px 3px 1px rgba(60, 64, 67, 0.15);\n",
              "      fill: #174EA6;\n",
              "    }\n",
              "\n",
              "    .colab-df-buttons div {\n",
              "      margin-bottom: 4px;\n",
              "    }\n",
              "\n",
              "    [theme=dark] .colab-df-convert {\n",
              "      background-color: #3B4455;\n",
              "      fill: #D2E3FC;\n",
              "    }\n",
              "\n",
              "    [theme=dark] .colab-df-convert:hover {\n",
              "      background-color: #434B5C;\n",
              "      box-shadow: 0px 1px 3px 1px rgba(0, 0, 0, 0.15);\n",
              "      filter: drop-shadow(0px 1px 2px rgba(0, 0, 0, 0.3));\n",
              "      fill: #FFFFFF;\n",
              "    }\n",
              "  </style>\n",
              "\n",
              "    <script>\n",
              "      const buttonEl =\n",
              "        document.querySelector('#df-1b30e2d2-73b7-4a9d-84e4-17f8c5eeeba1 button.colab-df-convert');\n",
              "      buttonEl.style.display =\n",
              "        google.colab.kernel.accessAllowed ? 'block' : 'none';\n",
              "\n",
              "      async function convertToInteractive(key) {\n",
              "        const element = document.querySelector('#df-1b30e2d2-73b7-4a9d-84e4-17f8c5eeeba1');\n",
              "        const dataTable =\n",
              "          await google.colab.kernel.invokeFunction('convertToInteractive',\n",
              "                                                    [key], {});\n",
              "        if (!dataTable) return;\n",
              "\n",
              "        const docLinkHtml = 'Like what you see? Visit the ' +\n",
              "          '<a target=\"_blank\" href=https://colab.research.google.com/notebooks/data_table.ipynb>data table notebook</a>'\n",
              "          + ' to learn more about interactive tables.';\n",
              "        element.innerHTML = '';\n",
              "        dataTable['output_type'] = 'display_data';\n",
              "        await google.colab.output.renderOutput(dataTable, element);\n",
              "        const docLink = document.createElement('div');\n",
              "        docLink.innerHTML = docLinkHtml;\n",
              "        element.appendChild(docLink);\n",
              "      }\n",
              "    </script>\n",
              "  </div>\n",
              "\n",
              "\n",
              "<div id=\"df-385e9011-44d3-49f8-993e-6aacc3eaeead\">\n",
              "  <button class=\"colab-df-quickchart\" onclick=\"quickchart('df-385e9011-44d3-49f8-993e-6aacc3eaeead')\"\n",
              "            title=\"Suggest charts\"\n",
              "            style=\"display:none;\">\n",
              "\n",
              "<svg xmlns=\"http://www.w3.org/2000/svg\" height=\"24px\"viewBox=\"0 0 24 24\"\n",
              "     width=\"24px\">\n",
              "    <g>\n",
              "        <path d=\"M19 3H5c-1.1 0-2 .9-2 2v14c0 1.1.9 2 2 2h14c1.1 0 2-.9 2-2V5c0-1.1-.9-2-2-2zM9 17H7v-7h2v7zm4 0h-2V7h2v10zm4 0h-2v-4h2v4z\"/>\n",
              "    </g>\n",
              "</svg>\n",
              "  </button>\n",
              "\n",
              "<style>\n",
              "  .colab-df-quickchart {\n",
              "      --bg-color: #E8F0FE;\n",
              "      --fill-color: #1967D2;\n",
              "      --hover-bg-color: #E2EBFA;\n",
              "      --hover-fill-color: #174EA6;\n",
              "      --disabled-fill-color: #AAA;\n",
              "      --disabled-bg-color: #DDD;\n",
              "  }\n",
              "\n",
              "  [theme=dark] .colab-df-quickchart {\n",
              "      --bg-color: #3B4455;\n",
              "      --fill-color: #D2E3FC;\n",
              "      --hover-bg-color: #434B5C;\n",
              "      --hover-fill-color: #FFFFFF;\n",
              "      --disabled-bg-color: #3B4455;\n",
              "      --disabled-fill-color: #666;\n",
              "  }\n",
              "\n",
              "  .colab-df-quickchart {\n",
              "    background-color: var(--bg-color);\n",
              "    border: none;\n",
              "    border-radius: 50%;\n",
              "    cursor: pointer;\n",
              "    display: none;\n",
              "    fill: var(--fill-color);\n",
              "    height: 32px;\n",
              "    padding: 0;\n",
              "    width: 32px;\n",
              "  }\n",
              "\n",
              "  .colab-df-quickchart:hover {\n",
              "    background-color: var(--hover-bg-color);\n",
              "    box-shadow: 0 1px 2px rgba(60, 64, 67, 0.3), 0 1px 3px 1px rgba(60, 64, 67, 0.15);\n",
              "    fill: var(--button-hover-fill-color);\n",
              "  }\n",
              "\n",
              "  .colab-df-quickchart-complete:disabled,\n",
              "  .colab-df-quickchart-complete:disabled:hover {\n",
              "    background-color: var(--disabled-bg-color);\n",
              "    fill: var(--disabled-fill-color);\n",
              "    box-shadow: none;\n",
              "  }\n",
              "\n",
              "  .colab-df-spinner {\n",
              "    border: 2px solid var(--fill-color);\n",
              "    border-color: transparent;\n",
              "    border-bottom-color: var(--fill-color);\n",
              "    animation:\n",
              "      spin 1s steps(1) infinite;\n",
              "  }\n",
              "\n",
              "  @keyframes spin {\n",
              "    0% {\n",
              "      border-color: transparent;\n",
              "      border-bottom-color: var(--fill-color);\n",
              "      border-left-color: var(--fill-color);\n",
              "    }\n",
              "    20% {\n",
              "      border-color: transparent;\n",
              "      border-left-color: var(--fill-color);\n",
              "      border-top-color: var(--fill-color);\n",
              "    }\n",
              "    30% {\n",
              "      border-color: transparent;\n",
              "      border-left-color: var(--fill-color);\n",
              "      border-top-color: var(--fill-color);\n",
              "      border-right-color: var(--fill-color);\n",
              "    }\n",
              "    40% {\n",
              "      border-color: transparent;\n",
              "      border-right-color: var(--fill-color);\n",
              "      border-top-color: var(--fill-color);\n",
              "    }\n",
              "    60% {\n",
              "      border-color: transparent;\n",
              "      border-right-color: var(--fill-color);\n",
              "    }\n",
              "    80% {\n",
              "      border-color: transparent;\n",
              "      border-right-color: var(--fill-color);\n",
              "      border-bottom-color: var(--fill-color);\n",
              "    }\n",
              "    90% {\n",
              "      border-color: transparent;\n",
              "      border-bottom-color: var(--fill-color);\n",
              "    }\n",
              "  }\n",
              "</style>\n",
              "\n",
              "  <script>\n",
              "    async function quickchart(key) {\n",
              "      const quickchartButtonEl =\n",
              "        document.querySelector('#' + key + ' button');\n",
              "      quickchartButtonEl.disabled = true;  // To prevent multiple clicks.\n",
              "      quickchartButtonEl.classList.add('colab-df-spinner');\n",
              "      try {\n",
              "        const charts = await google.colab.kernel.invokeFunction(\n",
              "            'suggestCharts', [key], {});\n",
              "      } catch (error) {\n",
              "        console.error('Error during call to suggestCharts:', error);\n",
              "      }\n",
              "      quickchartButtonEl.classList.remove('colab-df-spinner');\n",
              "      quickchartButtonEl.classList.add('colab-df-quickchart-complete');\n",
              "    }\n",
              "    (() => {\n",
              "      let quickchartButtonEl =\n",
              "        document.querySelector('#df-385e9011-44d3-49f8-993e-6aacc3eaeead button');\n",
              "      quickchartButtonEl.style.display =\n",
              "        google.colab.kernel.accessAllowed ? 'block' : 'none';\n",
              "    })();\n",
              "  </script>\n",
              "</div>\n",
              "\n",
              "    </div>\n",
              "  </div>\n"
            ],
            "application/vnd.google.colaboratory.intrinsic+json": {
              "type": "dataframe",
              "variable_name": "data",
              "summary": "{\n  \"name\": \"data\",\n  \"rows\": 4999,\n  \"fields\": [\n    {\n      \"column\": \"Unnamed: 0\",\n      \"properties\": {\n        \"dtype\": \"number\",\n        \"std\": 1443,\n        \"min\": 0,\n        \"max\": 4998,\n        \"num_unique_values\": 4999,\n        \"samples\": [\n          84,\n          2470,\n          2804\n        ],\n        \"semantic_type\": \"\",\n        \"description\": \"\"\n      }\n    },\n    {\n      \"column\": \"description\",\n      \"properties\": {\n        \"dtype\": \"category\",\n        \"num_unique_values\": 2348,\n        \"samples\": [\n          \" MRI left shoulder.\",\n          \" Left heart catheterization with left ventriculography and selective coronary angiography.  Percutaneous transluminal coronary angioplasty and stent placement of the right coronary artery.\",\n          \" Iron deficiency anemia.  She underwent a bone marrow biopsy which showed a normal cellular marrow with trilineage hematopoiesis.\"\n        ],\n        \"semantic_type\": \"\",\n        \"description\": \"\"\n      }\n    },\n    {\n      \"column\": \"medical_specialty\",\n      \"properties\": {\n        \"dtype\": \"category\",\n        \"num_unique_values\": 40,\n        \"samples\": [\n          \" Ophthalmology\",\n          \" Pediatrics - Neonatal\",\n          \" Physical Medicine - Rehab\"\n        ],\n        \"semantic_type\": \"\",\n        \"description\": \"\"\n      }\n    },\n    {\n      \"column\": \"sample_name\",\n      \"properties\": {\n        \"dtype\": \"category\",\n        \"num_unique_values\": 2377,\n        \"samples\": [\n          \" Revocation Admission \",\n          \" Bilateral Hip Pain \",\n          \" Inguinal Hernia Repair - 4 \"\n        ],\n        \"semantic_type\": \"\",\n        \"description\": \"\"\n      }\n    },\n    {\n      \"column\": \"transcription\",\n      \"properties\": {\n        \"dtype\": \"category\",\n        \"num_unique_values\": 2357,\n        \"samples\": [\n          \"SUBJECTIVE:,  Patient presents with Mom and Dad for her 5-year 3-month well-child check.  Family has not concerns stating patient has been doing well overall since last visit.  Taking in a well-balanced diet consisting of milk and dairy products, fruits, vegetables, proteins and grains with minimal junk food and snack food.  No behavioral concerns.  Gets along well with peers as well as adults.  Is excited to start kindergarten this upcoming school year.  Does attend daycare.  Normal voiding and stooling pattern.  No concerns with hearing or vision.  Sees the dentist regularly.  Growth and development:  Denver II normal passing all developmental milestones per age in areas of fine motor, gross motor, personal and social interaction and speech and language development.  See Denver II form in the chart.,ALLERGIES:,  None.,MEDICATIONS: , None.,FAMILY SOCIAL HISTORY:,  Unchanged since last checkup.  Lives at home with mother, father and sibling.  No smoking in the home.,REVIEW OF SYSTEMS:,  As per HPI; otherwise negative.,OBJECTIVE:,Vital Signs:  Weight 43 pounds.  Height 42-1/4 inches.  Temperature 97.7.  Blood pressure 90/64.,General:  Well-developed, well-nourished, cooperative, alert and interactive 5-year -3month-old white female in no acute distress.,HEENT:  Atraumatic, normocephalic.  Pupils equal, round and reactive.  Sclerae clear.  Red reflex present bilaterally.  Extraocular muscles intact.  TMs clear bilaterally.  Oropharynx:  Mucous membranes moist and pink.  Good dentition.,Neck:  Supple, no lymphadenopathy.,Chest:  Clear to auscultation bilaterally.  No wheeze or crackles.  Good air exchange.,Cardiovascular:  Regular rate and rhythm.  No murmur.  Good pulses bilaterally.,Abdomen:  Soft, nontender.  Nondistended.  Positive bowel sounds.  No masses or organomegaly.,GU:  Tanner I female genitalia.  Femoral pulses equal bilaterally.  No rash.,Extremities:  Full range of motion.  No cyanosis, clubbing or edema.,Back:  Straight.  No scoliosis.,Integument:  Warm, dry and pink without lesions.,Neurological:  Alert.  Good muscle tone and strength.  Cranial nerves II-XII grossly intact.  DTRs 2+/4+ bilaterally.,ASSESSMENT/PLAN:,1. Well 5-year 3-month-old white female.,2. Anticipatory guidance for growth and diet development and safety issues as well as immunizations.  Will receive MMR, DTaP and IPV today.  Discussed risks and benefits as well as possible side effects and symptomatic treatment.  Gave 5-year well-child check handout to mom.  Completed school pre-participation physical.  Copy in the chart.  Completed vision and hearing screening.  Reviewed results with family.,3. Follow up in one year for next well-child check or as needed for acute care.\",\n          \"PREOPERATIVE DIAGNOSES: , Erythema of the right knee and leg, possible septic knee.,POSTOPERATIVE DIAGNOSES:,  Erythema of the right knee superficial and leg, right septic knee ruled out.,INDICATIONS: , Mr. ABC is a 52-year-old male who has had approximately eight days of erythema over his knee.  He has been to multiple institutions as an outpatient for this complaint.  He has had what appears to be prepatellar bursa aspirated with little to no success.  He has been treated with Kefzol and 1 g of Rocephin one point.  He also reports, in the emergency department today, an attempt was made to aspirate his actual knee joint which was unsuccessful.  Orthopedic Surgery was consulted at this time.  Considering the patient's physical exam, there is a portal that would prove to be outside of the erythema that would be useful for aspiration of the knee.  After discussion of risks and benefits, the patient elected to proceed with aspiration through the anterolateral portal of his knee joint.,PROCEDURE:  ,The patient's right anterolateral knee area was prepped with Betadine times two and a 20-gauge spinal needle was used to approach the knee joint approximately 3 cm anterior and 2 cm lateral to the superolateral pole of the patella.  The 20-gauge spinal needle was inserted and entered the knee joint.  Approximately, 4 cc of clear yellow fluid was aspirated.  The patient tolerated the procedure well.,DISPOSITION: , Based upon the appearance of this synovial fluid, we have a very low clinical suspicion of a septic joint.  We will send this fluid to the lab for cell count, crystal exam, as well as culture and Gram stain.  We will follow these results.  After discussion with the emergency department staff, it appears that they tend to try to treat his erythema which appears to be cellulitis with IV antibiotics.\",\n          \"REASON FOR CONSULT:,  Depression.,HPI:,  The patient is an 87-year-old white female admitted for low back pain status post hip fracture sustained a few days before Thanksgiving in 2006.  The patient was diagnosed and treated for a T9 compression fraction with vertebroplasty.  Soon after discharge, the patient was readmitted with severe mid low back pain and found to have a T8 compression fracture.  This was also treated with vertebroplasty.  The patient is now complaining of back pain that fluctuates at time, acknowledging her pain medication works but not all the time.  Her pain is in her upper back around her shoulder blades.  The patient says lying down with the heated pad lessens the pain and that any physical activity increases it.  MRI on January 29, 2007, was positive for possible meningioma to the left of anterior box.,The patient reports of many depressive symptoms, has lost all interest in things she used to do (playing cards, reading).  Has no energy to do things she likes, but does participate in physical therapy, cries often and what she believes for no reason.  Does not see any future for herself.  Reports not being able to concentrate on anything saying she gets distracted by thoughts of how she does not want to live anymore.  Admits to decreased appetite, feeling depressed, and always wanting to be alone.  Claims that before her initial hospitalization for her hip fracture, she was highly active, enjoyed living independently at Terrace.  Denies suicidal ideations and homicidal ideations, but that she did not mind dying, and denies any manic symptoms including decreased need to sleep, inflated self-worth, and impulsivity.  Denies auditory and visual hallucinations.  No paranoid, delusions, or other abnormalities of thought content.  Denies panic attacks, flashbacks, and other feelings of anxiety.  Does admit to feeling restless at times.  Is concerned with her physical appearance while in the hospital, i.e., her hair looking \\\"awful.\\\",PAST MEDICAL HISTORY:,  Hypertension, cataracts, hysterectomy, MI, osteoporosis, right total knee replacement in April 2004, hip fracture, and newly diagnosed diabetes.  No history of thyroid problems, seizures, strokes, or head injuries.,CURRENT MEDICATIONS:,  Norvasc 10 mg p.o. daily, aspirin 81 mg p.o. daily, Lipitor 20 mg p.o. daily, Klonopin 0.5 mg p.o. b.i.d., digoxin 0.125 mg p.o. daily, Lexapro 10 mg p.o. daily, TriCor 145 mg p.o. each bedtime, Lasix 20 mg p.o. daily, Ismo 20 mg p.o. daily, lidocaine patch, Zestril, Prinivil 40 mg p.o. daily, Lopressor 75 mg p.o. b.i.d., Starlix 120 mg p.o. t.i.d., Pamelor 25 mg p.o. each bedtime, polyethylene glycol 17 g p.o. every other day, potassium chloride 20 mEq p.o. t.i.d., Norco one tablet p.o. q.4h. p.r.n., Zofran 4 mg IV q.6h.,HOME MEDICATIONS:,  Unknown.,ALLERGIES:,  CODEINE (HALLUCINATIONS).,FAMILY MEDICAL HISTORY:,  Unremarkable.,PAST PSYCHIATRIC HISTORY:,  Unremarkable.  Never taken any psychiatric medications or have ever had a family member with psychiatric illness.,SOCIAL/DEVELOPMENTAL HISTORY:,  Unremarkable childhood.  Married for 40 plus years, widowed in 1981.  Worked as administrative assistant in UTMB Hospitals VP's office.  Two children.  Before admission, lived in the Terrace Independent Living Center.  Was happy and very active while living there.  Had friends in the Terrace and would not mind going back there after discharge.  Occasional glass of wine at dinner.  Denies ever using illicit drugs and tobacco.,MENTAL STATUS EXAM:,  The patient is an 87-year-old white female with appropriate appearance, wearing street clothes while lying in bed with her eyes tightly closed.  Slight decrease in motor activity.  Normal eye contact.  Speech, low volume and rate.  Good articulation and inflexion.  Normal concentration.  Mood, labile, tearful at times, depressed, then euthymic.  Affect, mood congruent, full range.  Thought process, logical and goal directed.  Thought content, no delusions, suicidal or homicidal ideations.  Perception, no auditory or visual hallucinations.  Sensorium, alert, and oriented x3.  Memory, fair.  Information and intelligence, average.  Judgment and insight, fair.,MINI MENTAL STATUS EXAM,:  A 28/30.  Could not remember two out of the three recalled words.,ASSESSMENT:,  The patient is an 87-year-old white female with recent history of hip fracture and two thoracic compression fractures.  The patient reports being high functioning prior to admission and says her depression symptoms have occurred while being in the hospital.,Axis I:  Major depression disorder.,Axis II:  Deferred.,Axis III:  Osteoporosis, hypertension, hip fracture, possible diabetes, meningioma, MI, and right total knee replacement.,Axis IV:  Lives independently at Terrace, difficulty walking, hospitalization.,Axis V:  45.,PLAN:,  Continue Lexapro 10 mg daily and Pamelor 25 mg each bedtime monitor for adverse effects of TCA and worsening of depressive symptoms.  Discussed about possible inpatient psychiatric care.,Thank you for the consultation.\"\n        ],\n        \"semantic_type\": \"\",\n        \"description\": \"\"\n      }\n    },\n    {\n      \"column\": \"keywords\",\n      \"properties\": {\n        \"dtype\": \"string\",\n        \"num_unique_values\": 3849,\n        \"samples\": [\n          \"surgery, extensor tendon laceration, bier block, pip joint, extensor tendon, tendon, repair, finger, laceration, extensor,\",\n          \"surgery, scrotal incision, right vas, bleeding, anesthesia, vasectomy\",\n          \"radiology, i-125 implantation, tumor, prostate, prostate brachytherapy, implantationNOTE,: Thesetranscribed medical transcription sample reports and examples are provided by various users andare for reference purpose only. MTHelpLine does not certify accuracy and quality of sample reports.These transcribed medical transcription sample reports may include some uncommon or unusual formats;this would be due to the preference of the dictating physician. All names and dates have beenchanged (or removed) to keep confidentiality. Any resemblance of any type of name or date orplace or anything else to real world is purely incidental.\"\n        ],\n        \"semantic_type\": \"\",\n        \"description\": \"\"\n      }\n    }\n  ]\n}"
            }
          },
          "metadata": {},
          "execution_count": 3
        }
      ],
      "source": [
        "# Load the dataset\n",
        "# YOUR CODE HERE\n",
        "data = pd.read_csv('Medical_transcription_dataset.csv')\n",
        "data.head()"
      ]
    },
    {
      "cell_type": "markdown",
      "metadata": {
        "id": "QvddL7X69NiB"
      },
      "source": [
        "### Pre-processing and EDA"
      ]
    },
    {
      "cell_type": "markdown",
      "metadata": {
        "id": "xgB7KCn88Vmj"
      },
      "source": [
        "**Exercise 2: Perform below operations on the dataset [0.5 Mark]**\n",
        "\n",
        "- Remove unnecessary columns - 'Unnamed: 0'\n",
        "- Handle missing values\n",
        "- Remove rows from data where `keywords` is only single empty space ' $ $ '\n",
        "- Remove duplicates from data considering `transcription` and `keywords` columns\n"
      ]
    },
    {
      "cell_type": "markdown",
      "metadata": {
        "id": "0KpssAWUBiok"
      },
      "source": [
        "- **Remove unnecessary columns - 'Unnamed: 0'**"
      ]
    },
    {
      "cell_type": "code",
      "execution_count": null,
      "metadata": {
        "id": "FNo5NyBhFpmf"
      },
      "outputs": [],
      "source": [
        "# YOUR CODE HERE\n",
        "# Remove 'Unnamed: 0' column\n",
        "data = data.drop(['Unnamed: 0'], axis=1)\n",
        "\n",
        "# Handle missing values. Assuming you want to fill them with \"None\" for demonstration.\n",
        "# To remove rows with any missing value, you would use data.dropna(inplace=True)\n",
        "data = data.dropna()\n",
        "\n",
        "# Remove rows where `keywords` is only single empty space ' $ $ '\n",
        "data = data[data['keywords'] != ' ']\n",
        "\n",
        "# Remove duplicates considering `transcription` and `keywords` columns\n",
        "data.drop_duplicates(subset=['transcription', 'keywords'], keep='first', inplace=True)"
      ]
    },
    {
      "cell_type": "code",
      "execution_count": null,
      "metadata": {
        "colab": {
          "base_uri": "https://localhost:8080/"
        },
        "id": "hWuJ_FXHiecx",
        "outputId": "b2683abe-abae-4b85-edc0-dc6b862f2b36"
      },
      "outputs": [
        {
          "output_type": "stream",
          "name": "stdout",
          "text": [
            "<class 'pandas.core.frame.DataFrame'>\n",
            "Index: 3817 entries, 0 to 4995\n",
            "Data columns (total 5 columns):\n",
            " #   Column             Non-Null Count  Dtype \n",
            "---  ------             --------------  ----- \n",
            " 0   description        3817 non-null   object\n",
            " 1   medical_specialty  3817 non-null   object\n",
            " 2   sample_name        3817 non-null   object\n",
            " 3   transcription      3817 non-null   object\n",
            " 4   keywords           3817 non-null   object\n",
            "dtypes: object(5)\n",
            "memory usage: 178.9+ KB\n"
          ]
        }
      ],
      "source": [
        "data.info()"
      ]
    },
    {
      "cell_type": "markdown",
      "metadata": {
        "id": "EA1d25HrzTGW"
      },
      "source": [
        "**Exercise 3: Display  all the categories of `medical_specialty` and their counts in the dataset [0.5 Mark]**\n",
        "\n"
      ]
    },
    {
      "cell_type": "code",
      "execution_count": null,
      "metadata": {
        "id": "C92ji6ZV9MWs",
        "colab": {
          "base_uri": "https://localhost:8080/"
        },
        "outputId": "c341ef25-3c8f-456a-9cb0-cdeb51b7aa66"
      },
      "outputs": [
        {
          "output_type": "stream",
          "name": "stdout",
          "text": [
            "[' Allergy / Immunology' ' Bariatrics' ' Cardiovascular / Pulmonary'\n",
            " ' Dentistry' ' Urology' ' General Medicine' ' Surgery'\n",
            " ' Speech - Language' ' SOAP / Chart / Progress Notes' ' Sleep Medicine'\n",
            " ' Rheumatology' ' Radiology' ' Psychiatry / Psychology' ' Podiatry'\n",
            " ' Physical Medicine - Rehab' ' Pediatrics - Neonatal' ' Pain Management'\n",
            " ' Orthopedic' ' Ophthalmology' ' Office Notes' ' Obstetrics / Gynecology'\n",
            " ' Neurosurgery' ' Neurology' ' Nephrology' ' Letters'\n",
            " ' Lab Medicine - Pathology' ' IME-QME-Work Comp etc.'\n",
            " ' Hospice - Palliative Care' ' Hematology - Oncology' ' Gastroenterology'\n",
            " ' ENT - Otolaryngology' ' Endocrinology' ' Emergency Room Reports'\n",
            " ' Discharge Summary' ' Diets and Nutritions' ' Dermatology'\n",
            " ' Cosmetic / Plastic Surgery' ' Consult - History and Phy.'\n",
            " ' Chiropractic']\n"
          ]
        }
      ],
      "source": [
        "# Displaying the distinct categories of medical specialty\n",
        "unique_categories = data['medical_specialty'].unique()\n",
        "\n",
        "print(unique_categories)"
      ]
    },
    {
      "cell_type": "code",
      "execution_count": null,
      "metadata": {
        "id": "kRxuMduGSWYB",
        "colab": {
          "base_uri": "https://localhost:8080/"
        },
        "outputId": "9768e26f-6631-4ec9-b291-ba71d0668fef"
      },
      "outputs": [
        {
          "output_type": "stream",
          "name": "stdout",
          "text": [
            "Total categories: 39\n"
          ]
        }
      ],
      "source": [
        "# Total categories\n",
        "total_categories = data['medical_specialty'].nunique()\n",
        "\n",
        "print(\"Total categories:\", total_categories)"
      ]
    },
    {
      "cell_type": "code",
      "execution_count": null,
      "metadata": {
        "id": "YtIjY7ji9va5",
        "colab": {
          "base_uri": "https://localhost:8080/"
        },
        "outputId": "10eb57e4-74cc-448a-da5b-9e0bf0b1578d"
      },
      "outputs": [
        {
          "output_type": "stream",
          "name": "stdout",
          "text": [
            "medical_specialty\n",
            " Surgery                          1008\n",
            " Orthopedic                        296\n",
            " Cardiovascular / Pulmonary        276\n",
            " Radiology                         248\n",
            " Consult - History and Phy.        220\n",
            " Gastroenterology                  193\n",
            " Neurology                         162\n",
            " SOAP / Chart / Progress Notes     140\n",
            " Urology                           139\n",
            " General Medicine                  137\n",
            " Obstetrics / Gynecology           128\n",
            " ENT - Otolaryngology               83\n",
            " Ophthalmology                      79\n",
            " Neurosurgery                       79\n",
            " Discharge Summary                  76\n",
            " Nephrology                         63\n",
            " Hematology - Oncology              60\n",
            " Pain Management                    58\n",
            " Podiatry                           42\n",
            " Office Notes                       40\n",
            " Pediatrics - Neonatal              38\n",
            " Emergency Room Reports             29\n",
            " Cosmetic / Plastic Surgery         25\n",
            " Dentistry                          24\n",
            " Dermatology                        24\n",
            " Letters                            20\n",
            " Psychiatry / Psychology            19\n",
            " Bariatrics                         18\n",
            " Sleep Medicine                     18\n",
            " Endocrinology                      15\n",
            " Physical Medicine - Rehab          11\n",
            " Diets and Nutritions               10\n",
            " Lab Medicine - Pathology            8\n",
            " Speech - Language                   8\n",
            " Rheumatology                        7\n",
            " Hospice - Palliative Care           5\n",
            " Chiropractic                        4\n",
            " IME-QME-Work Comp etc.              4\n",
            " Allergy / Immunology                3\n",
            "Name: count, dtype: int64\n"
          ]
        }
      ],
      "source": [
        "# Displaying the distinct categories of medical specialty and the number of records belonging to each category\n",
        "category_counts = data['medical_specialty'].value_counts()\n",
        "\n",
        "print(category_counts)"
      ]
    },
    {
      "cell_type": "markdown",
      "metadata": {
        "id": "VyXtz0Mr0NVB"
      },
      "source": [
        "**Exercise 4: Create a pie plot depicting the percentage of `medical_specialty` distributions category-wise. [0.5 mark]**\n",
        "\n",
        "**Hint:** Use [plt.pie()](https://matplotlib.org/stable/api/_as_gen/matplotlib.pyplot.pie.html) and [plt.get_cmap](https://matplotlib.org/stable/tutorials/colors/colormaps.html) for color mapping the pie chart."
      ]
    },
    {
      "cell_type": "code",
      "execution_count": null,
      "metadata": {
        "id": "qrpJDoGx-CuF",
        "outputId": "20b536ea-07bf-4aa8-d5a6-def008d84ea9",
        "colab": {
          "base_uri": "https://localhost:8080/",
          "height": 829
        }
      },
      "outputs": [
        {
          "output_type": "display_data",
          "data": {
            "text/plain": [
              "<Figure size 1000x1000 with 1 Axes>"
            ],
            "image/png": "[encoded data removed]"
          },
          "metadata": {}
        }
      ],
      "source": [
        "import matplotlib.pyplot as plt\n",
        "\n",
        "# Calculate percentage\n",
        "percentage = data['medical_specialty'].value_counts(normalize=True)\n",
        "\n",
        "# Create color palette\n",
        "colors = plt.get_cmap('tab20')(np.linspace(0, 1, len(percentage.index)))\n",
        "\n",
        "# Plot\n",
        "plt.figure(figsize=(10,10))\n",
        "plt.pie(percentage, labels = percentage.index, colors = colors, autopct='%1.1f%%')\n",
        "plt.title('Percentage of medical_specialty distributions category-wise')\n",
        "plt.show()"
      ]
    },
    {
      "cell_type": "markdown",
      "metadata": {
        "id": "YxjnEkqScZEJ"
      },
      "source": [
        "### Pre-process `transcription` and `keywords` text\n",
        "\n",
        "**Exercise 5: Create functions to perform below tasks: [0.5 Mark]**\n",
        "\n",
        "- Convert transcription and keywords text to lowercase\n",
        "- Remove quotes from transcription and keywords text\n",
        "- Remove all the special characters/punctuations\n",
        "- Remove digits from transcription and keywords text\n",
        "- Remove extra spaces"
      ]
    },
    {
      "cell_type": "code",
      "execution_count": null,
      "metadata": {
        "id": "Y1OyJG10Wh-B"
      },
      "outputs": [],
      "source": [
        "import re\n",
        "\n",
        "def preprocess_text(s):\n",
        "    # Convert text to lowercase\n",
        "    s = s.lower()\n",
        "\n",
        "    # Remove quotes\n",
        "    s = re.sub(r\"\\'\", \"\", s)\n",
        "    s = re.sub(r\"\\\"\", \"\", s)\n",
        "\n",
        "    # Remove all the special characters/punctuation\n",
        "    s = re.sub(r'\\W', ' ', s)\n",
        "\n",
        "    # Remove digits\n",
        "    s = re.sub(r'\\d', ' ', s)\n",
        "\n",
        "    # Remove extra spaces\n",
        "    s = re.sub(r'\\s+', ' ', s).strip()\n",
        "\n",
        "    return s"
      ]
    },
    {
      "cell_type": "code",
      "execution_count": null,
      "metadata": {
        "id": "iA0-2dbqiec1"
      },
      "outputs": [],
      "source": [
        "data['transcription'] = data['transcription'].apply(preprocess_text)\n",
        "data['keywords'] = data['keywords'].apply(preprocess_text)"
      ]
    },
    {
      "cell_type": "markdown",
      "metadata": {
        "id": "B7-PRe-Lb0mU"
      },
      "source": [
        "**Exercise 6: Remove the stopwords from `transcription` text [0.5 Mark]**"
      ]
    },
    {
      "cell_type": "markdown",
      "metadata": {
        "id": "3p57xUIMi5_r"
      },
      "source": [
        "- **Remove stopwords**"
      ]
    },
    {
      "cell_type": "code",
      "execution_count": null,
      "metadata": {
        "id": "WJrIowuVVmDb"
      },
      "outputs": [],
      "source": [
        "# Function to remove the stopwords\n",
        "from nltk.corpus import stopwords\n",
        "from nltk.tokenize import word_tokenize\n",
        "\n",
        "def remove_stopwords(text):\n",
        "    stop_words = set(stopwords.words('english'))\n",
        "    word_tokens = word_tokenize(text)\n",
        "    filtered_text = [word for word in word_tokens if word not in stop_words]\n",
        "    return \" \".join(filtered_text)"
      ]
    },
    {
      "cell_type": "code",
      "execution_count": null,
      "metadata": {
        "id": "tx1sxCTDNN_w"
      },
      "outputs": [],
      "source": [
        "# Remove stopwords from transcriptions\n",
        "data['transcription'] = data['transcription'].apply(remove_stopwords)"
      ]
    },
    {
      "cell_type": "markdown",
      "metadata": {
        "id": "pZbujV_ZyC7M"
      },
      "source": [
        "**[OPTIONAL]** Visualize the distribution of word counts in both `transcription` and `keywords` text.\n",
        "\n",
        "**Hint:**\n",
        "- Get the text length of each sample\n",
        "- pd.DataFrame().hist() OR sns.histplot()"
      ]
    },
    {
      "cell_type": "code",
      "execution_count": null,
      "metadata": {
        "id": "p65AHp4ZNN_x",
        "colab": {
          "base_uri": "https://localhost:8080/",
          "height": 564
        },
        "outputId": "1964003b-7a70-4779-f6a2-0cbafe036192"
      },
      "outputs": [
        {
          "output_type": "display_data",
          "data": {
            "text/plain": [
              "<Figure size 1000x600 with 1 Axes>"
            ],
            "image/png": "[encoded data removed]"
          },
          "metadata": {}
        }
      ],
      "source": [
        "# Visualize the distribution of word counts\n",
        "# Calculate the word counts\n",
        "data['word_counts'] = data['transcription'].apply(lambda x: len(str(x).split(\" \")))\n",
        "\n",
        "# Plot histogram\n",
        "plt.figure(figsize=(10, 6))\n",
        "plt.hist(data['word_counts'], bins=50, color='skyblue')\n",
        "plt.title('Distribution of Word Counts')\n",
        "plt.xlabel('Word Count')\n",
        "plt.ylabel('Frequency')\n",
        "plt.grid(True)\n",
        "plt.show()"
      ]
    },
    {
      "cell_type": "markdown",
      "metadata": {
        "id": "Z2CklO7-d1tH"
      },
      "source": [
        "### Select the maximum sequence length for both `transcription` and `keywords`"
      ]
    },
    {
      "cell_type": "code",
      "execution_count": null,
      "metadata": {
        "id": "FBvPpAp9KJtO"
      },
      "outputs": [],
      "source": [
        "# Fix the maximum length of the transcript\n",
        "# Fix the maximum keywords length\n",
        "\n",
        "max_len_transcript = 250\n",
        "max_len_keywords = 30"
      ]
    },
    {
      "cell_type": "markdown",
      "metadata": {
        "id": "5zPQnTSE3ftY"
      },
      "source": [
        "**Exercise 7: Add `'start'` and `'end'` to `keywords` text at the beginning and end respectively [0.5 Mark]**\n",
        "\n",
        "- 'start' will represent the beginning of output sequence\n",
        "- 'end' will represent the end of output sequence"
      ]
    },
    {
      "cell_type": "code",
      "execution_count": null,
      "metadata": {
        "id": "W8W-aL32JIlL"
      },
      "outputs": [],
      "source": [
        "\n",
        "# Adding 'start' and 'end' to keywords text\n",
        "data['keywords'] = data['keywords'].apply(lambda x: 'start ' + x + ' end')"
      ]
    },
    {
      "cell_type": "markdown",
      "metadata": {
        "id": "ajaAr2XgeCii"
      },
      "source": [
        "### Split data into training and testing set\n",
        "\n",
        "- test_size=0.1\n",
        "- random_state=0\n",
        "- shuffle=True"
      ]
    },
    {
      "cell_type": "code",
      "execution_count": null,
      "metadata": {
        "id": "Pb-27FbLeCij"
      },
      "outputs": [],
      "source": [
        "from sklearn.model_selection import train_test_split\n",
        "\n",
        "\n",
        "X = data['transcription']\n",
        "y = data['keywords']\n",
        "\n",
        "\n",
        "# Split the data\n",
        "\n",
        "X_train, X_test, y_train, y_test = train_test_split(X, y, test_size=0.1, random_state=0, shuffle=True)\n"
      ]
    },
    {
      "cell_type": "markdown",
      "source": [],
      "metadata": {
        "id": "R0070RhTrH9A"
      }
    },
    {
      "cell_type": "code",
      "source": [
        "data"
      ],
      "metadata": {
        "colab": {
          "base_uri": "https://localhost:8080/",
          "height": 1000
        },
        "id": "V43voQ7CrNop",
        "outputId": "a31c6e6a-2763-4c43-ca73-5d85103714c1"
      },
      "execution_count": null,
      "outputs": [
        {
          "output_type": "execute_result",
          "data": {
            "text/plain": [
              "                                                                                                                                                                                                  description  \\\n",
              "0                                                                                                                                            A 23-year-old white female presents with complaint of allergies.   \n",
              "1                                                                                                                                                                    Consult for laparoscopic gastric bypass.   \n",
              "2                                                                                                                                                                    Consult for laparoscopic gastric bypass.   \n",
              "3                                                                                                                                                                                      2-D M-Mode. Doppler.     \n",
              "4                                                                                                                                                                                          2-D Echocardiogram   \n",
              "...                                                                                                                                                                                                       ...   \n",
              "4984                                                                              Patient suffered from morbid obesity for many years and made multiple attempts at nonsurgical weight loss without success.    \n",
              "4985                                                                                          Patient presented to the Bariatric Surgery Service for consideration of laparoscopic Roux-en-Y gastric bypass.    \n",
              "4989                                                                                                              Evaluation for elective surgical weight loss via the Lap-Band as opposed to gastric bypass.   \n",
              "4993                                                                                Chronic glossitis, xerostomia, probable environmental inhalant allergies, probable food allergies, and history of asthma.   \n",
              "4995   This is a 14-month-old baby boy Caucasian who came in with presumptive diagnosis of Kawasaki with fever for more than 5 days and conjunctivitis, mild arthritis with edema, rash, resolving and wit...   \n",
              "\n",
              "                medical_specialty  \\\n",
              "0            Allergy / Immunology   \n",
              "1                      Bariatrics   \n",
              "2                      Bariatrics   \n",
              "3      Cardiovascular / Pulmonary   \n",
              "4      Cardiovascular / Pulmonary   \n",
              "...                           ...   \n",
              "4984                   Bariatrics   \n",
              "4985                   Bariatrics   \n",
              "4989                   Bariatrics   \n",
              "4993         Allergy / Immunology   \n",
              "4995         Allergy / Immunology   \n",
              "\n",
              "                                         sample_name  \\\n",
              "0                                 Allergic Rhinitis    \n",
              "1           Laparoscopic Gastric Bypass Consult - 2    \n",
              "2           Laparoscopic Gastric Bypass Consult - 1    \n",
              "3                            2-D Echocardiogram - 1    \n",
              "4                            2-D Echocardiogram - 2    \n",
              "...                                              ...   \n",
              "4984             Discharge Summary - Gastric Bypass    \n",
              "4985   Bariatric Consult - Surgical Weight Loss - 4    \n",
              "4989   Bariatric Consult - Surgical Weight Loss - 2    \n",
              "4993                        Evaluation of Allergies    \n",
              "4995           Kawasaki Disease - Discharge Summary    \n",
              "\n",
              "                                                                                                                                                                                                transcription  \\\n",
              "0     subjective year old white female presents complaint allergies used allergies lived seattle thinks worse past tried claritin zyrtec worked short time seemed lose effectiveness used allegra also use...   \n",
              "1     past medical history difficulty climbing stairs difficulty airline seats tying shoes used public seating lifting objects floor exercises three times week home cardio difficulty walking two blocks ...   \n",
              "2     history present illness seen abc today pleasant gentleman years old pounds bmi overweight ten years since age highest pounds lowest pursuing surgical attempts weight loss feel good get healthy beg...   \n",
              "3     mode left atrial enlargement left atrial diameter cm normal size right left ventricle normal lv systolic function left ventricular ejection fraction normal lv diastolic function pericardial effusi...   \n",
              "4     left ventricular cavity size wall thickness appear normal wall motion left ventricular systolic function appears hyperdynamic estimated ejection fraction near cavity obliteration seen also appears...   \n",
              "...                                                                                                                                                                                                       ...   \n",
              "4984  admission diagnosis morbid obesity bmi discharge diagnosis morbid obesity bmi procedure laparoscopic gastric bypass service surgery consult anesthesia pain history present illness ms year old woma...   \n",
              "4985  history present illness ms year old female presented bariatric surgery service consideration laparoscopic roux en gastric bypass patient states overweight approximately years tried multiple weight...   \n",
              "4989  past medical history negative stress test four five years ago gets short breath walking steps non insulin dependent diabetes eight years left knee arthritis history hemorrhoids past surgical histo...   \n",
              "4993  history year old female presents self referred possibility evaluation treatment allergies diminished taste xerostomia gastroesophageal reflux disease possible food allergies chronic gi irritabilit...   \n",
              "4995  admitting diagnosis kawasaki disease discharge diagnosis kawasaki disease resolving hospital course month old baby boy caucasian came presumptive diagnosis kawasaki fever days conjunctivitis mild ...   \n",
              "\n",
              "                                                                                                                                                                                                     keywords  \\\n",
              "0                                                                            start allergy immunology allergic rhinitis allergies asthma nasal sprays rhinitis nasal erythematous allegra sprays allergic end   \n",
              "1     start bariatrics laparoscopic gastric bypass weight loss programs gastric bypass atkins diet weight watchers body weight laparoscopic gastric weight loss pounds months weight laparoscopic band los...   \n",
              "2     start bariatrics laparoscopic gastric bypass heart attacks body weight pulmonary embolism potential complications sleep study weight loss gastric bypass anastomosis loss sleep laparoscopic gastric...   \n",
              "3     start cardiovascular pulmonary d m mode doppler aortic valve atrial enlargement diastolic function ejection fraction mitral mitral valve pericardial effusion pulmonary valve regurgitation systolic...   \n",
              "4     start cardiovascular pulmonary d doppler echocardiogram annular aortic root aortic valve atrial atrium calcification cavity ejection fraction mitral obliteration outflow regurgitation relaxation p...   \n",
              "...                                                                                                                                                                                                       ...   \n",
              "4984                                                                                                 start bariatrics laparoscopic gastric bypass gastric bypass morbid obesity liquid diet bmi discharge end   \n",
              "4985  start bariatrics jenny craig medifast nutrisystem richard simmons slim fast tops weight watchers cabbage diet grape fruit diet roux en y laparoscopic roux en y gastric bypass weight loss modalitie...   \n",
              "4989                 start bariatrics elective surgical weight loss surgical weight loss weight loss lap band gastric bypass loss weight lap band lost gained diabetes gastric bypass overweight surgical end   \n",
              "4993  start allergy immunology chronic glossitis xerostomia probable environmental inhalant allergies probable food allergies environmental inhalant allergies rast allergy testing rast inhalant food all...   \n",
              "4995                                                                                               start allergy immunology mucous membranes conjunctivitis ad lib kawasaki disease vaccine fever aspirin end   \n",
              "\n",
              "      word_counts  \n",
              "0             117  \n",
              "1             239  \n",
              "2             437  \n",
              "3              50  \n",
              "4             157  \n",
              "...           ...  \n",
              "4984          184  \n",
              "4985          416  \n",
              "4989          161  \n",
              "4993          104  \n",
              "4995          142  \n",
              "\n",
              "[3817 rows x 6 columns]"
            ],
            "text/html": [
              "\n",
              "  <div id=\"df-86402845-a510-4550-b823-12b8de95495b\" class=\"colab-df-container\">\n",
              "    <div>\n",
              "<style scoped>\n",
              "    .dataframe tbody tr th:only-of-type {\n",
              "        vertical-align: middle;\n",
              "    }\n",
              "\n",
              "    .dataframe tbody tr th {\n",
              "        vertical-align: top;\n",
              "    }\n",
              "\n",
              "    .dataframe thead th {\n",
              "        text-align: right;\n",
              "    }\n",
              "</style>\n",
              "<table border=\"1\" class=\"dataframe\">\n",
              "  <thead>\n",
              "    <tr style=\"text-align: right;\">\n",
              "      <th></th>\n",
              "      <th>description</th>\n",
              "      <th>medical_specialty</th>\n",
              "      <th>sample_name</th>\n",
              "      <th>transcription</th>\n",
              "      <th>keywords</th>\n",
              "      <th>word_counts</th>\n",
              "    </tr>\n",
              "  </thead>\n",
              "  <tbody>\n",
              "    <tr>\n",
              "      <th>0</th>\n",
              "      <td>A 23-year-old white female presents with complaint of allergies.</td>\n",
              "      <td>Allergy / Immunology</td>\n",
              "      <td>Allergic Rhinitis</td>\n",
              "      <td>subjective year old white female presents complaint allergies used allergies lived seattle thinks worse past tried claritin zyrtec worked short time seemed lose effectiveness used allegra also use...</td>\n",
              "      <td>start allergy immunology allergic rhinitis allergies asthma nasal sprays rhinitis nasal erythematous allegra sprays allergic end</td>\n",
              "      <td>117</td>\n",
              "    </tr>\n",
              "    <tr>\n",
              "      <th>1</th>\n",
              "      <td>Consult for laparoscopic gastric bypass.</td>\n",
              "      <td>Bariatrics</td>\n",
              "      <td>Laparoscopic Gastric Bypass Consult - 2</td>\n",
              "      <td>past medical history difficulty climbing stairs difficulty airline seats tying shoes used public seating lifting objects floor exercises three times week home cardio difficulty walking two blocks ...</td>\n",
              "      <td>start bariatrics laparoscopic gastric bypass weight loss programs gastric bypass atkins diet weight watchers body weight laparoscopic gastric weight loss pounds months weight laparoscopic band los...</td>\n",
              "      <td>239</td>\n",
              "    </tr>\n",
              "    <tr>\n",
              "      <th>2</th>\n",
              "      <td>Consult for laparoscopic gastric bypass.</td>\n",
              "      <td>Bariatrics</td>\n",
              "      <td>Laparoscopic Gastric Bypass Consult - 1</td>\n",
              "      <td>history present illness seen abc today pleasant gentleman years old pounds bmi overweight ten years since age highest pounds lowest pursuing surgical attempts weight loss feel good get healthy beg...</td>\n",
              "      <td>start bariatrics laparoscopic gastric bypass heart attacks body weight pulmonary embolism potential complications sleep study weight loss gastric bypass anastomosis loss sleep laparoscopic gastric...</td>\n",
              "      <td>437</td>\n",
              "    </tr>\n",
              "    <tr>\n",
              "      <th>3</th>\n",
              "      <td>2-D M-Mode. Doppler.</td>\n",
              "      <td>Cardiovascular / Pulmonary</td>\n",
              "      <td>2-D Echocardiogram - 1</td>\n",
              "      <td>mode left atrial enlargement left atrial diameter cm normal size right left ventricle normal lv systolic function left ventricular ejection fraction normal lv diastolic function pericardial effusi...</td>\n",
              "      <td>start cardiovascular pulmonary d m mode doppler aortic valve atrial enlargement diastolic function ejection fraction mitral mitral valve pericardial effusion pulmonary valve regurgitation systolic...</td>\n",
              "      <td>50</td>\n",
              "    </tr>\n",
              "    <tr>\n",
              "      <th>4</th>\n",
              "      <td>2-D Echocardiogram</td>\n",
              "      <td>Cardiovascular / Pulmonary</td>\n",
              "      <td>2-D Echocardiogram - 2</td>\n",
              "      <td>left ventricular cavity size wall thickness appear normal wall motion left ventricular systolic function appears hyperdynamic estimated ejection fraction near cavity obliteration seen also appears...</td>\n",
              "      <td>start cardiovascular pulmonary d doppler echocardiogram annular aortic root aortic valve atrial atrium calcification cavity ejection fraction mitral obliteration outflow regurgitation relaxation p...</td>\n",
              "      <td>157</td>\n",
              "    </tr>\n",
              "    <tr>\n",
              "      <th>...</th>\n",
              "      <td>...</td>\n",
              "      <td>...</td>\n",
              "      <td>...</td>\n",
              "      <td>...</td>\n",
              "      <td>...</td>\n",
              "      <td>...</td>\n",
              "    </tr>\n",
              "    <tr>\n",
              "      <th>4984</th>\n",
              "      <td>Patient suffered from morbid obesity for many years and made multiple attempts at nonsurgical weight loss without success.</td>\n",
              "      <td>Bariatrics</td>\n",
              "      <td>Discharge Summary - Gastric Bypass</td>\n",
              "      <td>admission diagnosis morbid obesity bmi discharge diagnosis morbid obesity bmi procedure laparoscopic gastric bypass service surgery consult anesthesia pain history present illness ms year old woma...</td>\n",
              "      <td>start bariatrics laparoscopic gastric bypass gastric bypass morbid obesity liquid diet bmi discharge end</td>\n",
              "      <td>184</td>\n",
              "    </tr>\n",
              "    <tr>\n",
              "      <th>4985</th>\n",
              "      <td>Patient presented to the Bariatric Surgery Service for consideration of laparoscopic Roux-en-Y gastric bypass.</td>\n",
              "      <td>Bariatrics</td>\n",
              "      <td>Bariatric Consult - Surgical Weight Loss - 4</td>\n",
              "      <td>history present illness ms year old female presented bariatric surgery service consideration laparoscopic roux en gastric bypass patient states overweight approximately years tried multiple weight...</td>\n",
              "      <td>start bariatrics jenny craig medifast nutrisystem richard simmons slim fast tops weight watchers cabbage diet grape fruit diet roux en y laparoscopic roux en y gastric bypass weight loss modalitie...</td>\n",
              "      <td>416</td>\n",
              "    </tr>\n",
              "    <tr>\n",
              "      <th>4989</th>\n",
              "      <td>Evaluation for elective surgical weight loss via the Lap-Band as opposed to gastric bypass.</td>\n",
              "      <td>Bariatrics</td>\n",
              "      <td>Bariatric Consult - Surgical Weight Loss - 2</td>\n",
              "      <td>past medical history negative stress test four five years ago gets short breath walking steps non insulin dependent diabetes eight years left knee arthritis history hemorrhoids past surgical histo...</td>\n",
              "      <td>start bariatrics elective surgical weight loss surgical weight loss weight loss lap band gastric bypass loss weight lap band lost gained diabetes gastric bypass overweight surgical end</td>\n",
              "      <td>161</td>\n",
              "    </tr>\n",
              "    <tr>\n",
              "      <th>4993</th>\n",
              "      <td>Chronic glossitis, xerostomia, probable environmental inhalant allergies, probable food allergies, and history of asthma.</td>\n",
              "      <td>Allergy / Immunology</td>\n",
              "      <td>Evaluation of Allergies</td>\n",
              "      <td>history year old female presents self referred possibility evaluation treatment allergies diminished taste xerostomia gastroesophageal reflux disease possible food allergies chronic gi irritabilit...</td>\n",
              "      <td>start allergy immunology chronic glossitis xerostomia probable environmental inhalant allergies probable food allergies environmental inhalant allergies rast allergy testing rast inhalant food all...</td>\n",
              "      <td>104</td>\n",
              "    </tr>\n",
              "    <tr>\n",
              "      <th>4995</th>\n",
              "      <td>This is a 14-month-old baby boy Caucasian who came in with presumptive diagnosis of Kawasaki with fever for more than 5 days and conjunctivitis, mild arthritis with edema, rash, resolving and wit...</td>\n",
              "      <td>Allergy / Immunology</td>\n",
              "      <td>Kawasaki Disease - Discharge Summary</td>\n",
              "      <td>admitting diagnosis kawasaki disease discharge diagnosis kawasaki disease resolving hospital course month old baby boy caucasian came presumptive diagnosis kawasaki fever days conjunctivitis mild ...</td>\n",
              "      <td>start allergy immunology mucous membranes conjunctivitis ad lib kawasaki disease vaccine fever aspirin end</td>\n",
              "      <td>142</td>\n",
              "    </tr>\n",
              "  </tbody>\n",
              "</table>\n",
              "<p>3817 rows × 6 columns</p>\n",
              "</div>\n",
              "    <div class=\"colab-df-buttons\">\n",
              "\n",
              "  <div class=\"colab-df-container\">\n",
              "    <button class=\"colab-df-convert\" onclick=\"convertToInteractive('df-86402845-a510-4550-b823-12b8de95495b')\"\n",
              "            title=\"Convert this dataframe to an interactive table.\"\n",
              "            style=\"display:none;\">\n",
              "\n",
              "  <svg xmlns=\"http://www.w3.org/2000/svg\" height=\"24px\" viewBox=\"0 -960 960 960\">\n",
              "    <path d=\"M120-120v-720h720v720H120Zm60-500h600v-160H180v160Zm220 220h160v-160H400v160Zm0 220h160v-160H400v160ZM180-400h160v-160H180v160Zm440 0h160v-160H620v160ZM180-180h160v-160H180v160Zm440 0h160v-160H620v160Z\"/>\n",
              "  </svg>\n",
              "    </button>\n",
              "\n",
              "  <style>\n",
              "    .colab-df-container {\n",
              "      display:flex;\n",
              "      gap: 12px;\n",
              "    }\n",
              "\n",
              "    .colab-df-convert {\n",
              "      background-color: #E8F0FE;\n",
              "      border: none;\n",
              "      border-radius: 50%;\n",
              "      cursor: pointer;\n",
              "      display: none;\n",
              "      fill: #1967D2;\n",
              "      height: 32px;\n",
              "      padding: 0 0 0 0;\n",
              "      width: 32px;\n",
              "    }\n",
              "\n",
              "    .colab-df-convert:hover {\n",
              "      background-color: #E2EBFA;\n",
              "      box-shadow: 0px 1px 2px rgba(60, 64, 67, 0.3), 0px 1px 3px 1px rgba(60, 64, 67, 0.15);\n",
              "      fill: #174EA6;\n",
              "    }\n",
              "\n",
              "    .colab-df-buttons div {\n",
              "      margin-bottom: 4px;\n",
              "    }\n",
              "\n",
              "    [theme=dark] .colab-df-convert {\n",
              "      background-color: #3B4455;\n",
              "      fill: #D2E3FC;\n",
              "    }\n",
              "\n",
              "    [theme=dark] .colab-df-convert:hover {\n",
              "      background-color: #434B5C;\n",
              "      box-shadow: 0px 1px 3px 1px rgba(0, 0, 0, 0.15);\n",
              "      filter: drop-shadow(0px 1px 2px rgba(0, 0, 0, 0.3));\n",
              "      fill: #FFFFFF;\n",
              "    }\n",
              "  </style>\n",
              "\n",
              "    <script>\n",
              "      const buttonEl =\n",
              "        document.querySelector('#df-86402845-a510-4550-b823-12b8de95495b button.colab-df-convert');\n",
              "      buttonEl.style.display =\n",
              "        google.colab.kernel.accessAllowed ? 'block' : 'none';\n",
              "\n",
              "      async function convertToInteractive(key) {\n",
              "        const element = document.querySelector('#df-86402845-a510-4550-b823-12b8de95495b');\n",
              "        const dataTable =\n",
              "          await google.colab.kernel.invokeFunction('convertToInteractive',\n",
              "                                                    [key], {});\n",
              "        if (!dataTable) return;\n",
              "\n",
              "        const docLinkHtml = 'Like what you see? Visit the ' +\n",
              "          '<a target=\"_blank\" href=https://colab.research.google.com/notebooks/data_table.ipynb>data table notebook</a>'\n",
              "          + ' to learn more about interactive tables.';\n",
              "        element.innerHTML = '';\n",
              "        dataTable['output_type'] = 'display_data';\n",
              "        await google.colab.output.renderOutput(dataTable, element);\n",
              "        const docLink = document.createElement('div');\n",
              "        docLink.innerHTML = docLinkHtml;\n",
              "        element.appendChild(docLink);\n",
              "      }\n",
              "    </script>\n",
              "  </div>\n",
              "\n",
              "\n",
              "<div id=\"df-fa4efcd6-dfe2-45c5-939c-f4000a4b50d4\">\n",
              "  <button class=\"colab-df-quickchart\" onclick=\"quickchart('df-fa4efcd6-dfe2-45c5-939c-f4000a4b50d4')\"\n",
              "            title=\"Suggest charts\"\n",
              "            style=\"display:none;\">\n",
              "\n",
              "<svg xmlns=\"http://www.w3.org/2000/svg\" height=\"24px\"viewBox=\"0 0 24 24\"\n",
              "     width=\"24px\">\n",
              "    <g>\n",
              "        <path d=\"M19 3H5c-1.1 0-2 .9-2 2v14c0 1.1.9 2 2 2h14c1.1 0 2-.9 2-2V5c0-1.1-.9-2-2-2zM9 17H7v-7h2v7zm4 0h-2V7h2v10zm4 0h-2v-4h2v4z\"/>\n",
              "    </g>\n",
              "</svg>\n",
              "  </button>\n",
              "\n",
              "<style>\n",
              "  .colab-df-quickchart {\n",
              "      --bg-color: #E8F0FE;\n",
              "      --fill-color: #1967D2;\n",
              "      --hover-bg-color: #E2EBFA;\n",
              "      --hover-fill-color: #174EA6;\n",
              "      --disabled-fill-color: #AAA;\n",
              "      --disabled-bg-color: #DDD;\n",
              "  }\n",
              "\n",
              "  [theme=dark] .colab-df-quickchart {\n",
              "      --bg-color: #3B4455;\n",
              "      --fill-color: #D2E3FC;\n",
              "      --hover-bg-color: #434B5C;\n",
              "      --hover-fill-color: #FFFFFF;\n",
              "      --disabled-bg-color: #3B4455;\n",
              "      --disabled-fill-color: #666;\n",
              "  }\n",
              "\n",
              "  .colab-df-quickchart {\n",
              "    background-color: var(--bg-color);\n",
              "    border: none;\n",
              "    border-radius: 50%;\n",
              "    cursor: pointer;\n",
              "    display: none;\n",
              "    fill: var(--fill-color);\n",
              "    height: 32px;\n",
              "    padding: 0;\n",
              "    width: 32px;\n",
              "  }\n",
              "\n",
              "  .colab-df-quickchart:hover {\n",
              "    background-color: var(--hover-bg-color);\n",
              "    box-shadow: 0 1px 2px rgba(60, 64, 67, 0.3), 0 1px 3px 1px rgba(60, 64, 67, 0.15);\n",
              "    fill: var(--button-hover-fill-color);\n",
              "  }\n",
              "\n",
              "  .colab-df-quickchart-complete:disabled,\n",
              "  .colab-df-quickchart-complete:disabled:hover {\n",
              "    background-color: var(--disabled-bg-color);\n",
              "    fill: var(--disabled-fill-color);\n",
              "    box-shadow: none;\n",
              "  }\n",
              "\n",
              "  .colab-df-spinner {\n",
              "    border: 2px solid var(--fill-color);\n",
              "    border-color: transparent;\n",
              "    border-bottom-color: var(--fill-color);\n",
              "    animation:\n",
              "      spin 1s steps(1) infinite;\n",
              "  }\n",
              "\n",
              "  @keyframes spin {\n",
              "    0% {\n",
              "      border-color: transparent;\n",
              "      border-bottom-color: var(--fill-color);\n",
              "      border-left-color: var(--fill-color);\n",
              "    }\n",
              "    20% {\n",
              "      border-color: transparent;\n",
              "      border-left-color: var(--fill-color);\n",
              "      border-top-color: var(--fill-color);\n",
              "    }\n",
              "    30% {\n",
              "      border-color: transparent;\n",
              "      border-left-color: var(--fill-color);\n",
              "      border-top-color: var(--fill-color);\n",
              "      border-right-color: var(--fill-color);\n",
              "    }\n",
              "    40% {\n",
              "      border-color: transparent;\n",
              "      border-right-color: var(--fill-color);\n",
              "      border-top-color: var(--fill-color);\n",
              "    }\n",
              "    60% {\n",
              "      border-color: transparent;\n",
              "      border-right-color: var(--fill-color);\n",
              "    }\n",
              "    80% {\n",
              "      border-color: transparent;\n",
              "      border-right-color: var(--fill-color);\n",
              "      border-bottom-color: var(--fill-color);\n",
              "    }\n",
              "    90% {\n",
              "      border-color: transparent;\n",
              "      border-bottom-color: var(--fill-color);\n",
              "    }\n",
              "  }\n",
              "</style>\n",
              "\n",
              "  <script>\n",
              "    async function quickchart(key) {\n",
              "      const quickchartButtonEl =\n",
              "        document.querySelector('#' + key + ' button');\n",
              "      quickchartButtonEl.disabled = true;  // To prevent multiple clicks.\n",
              "      quickchartButtonEl.classList.add('colab-df-spinner');\n",
              "      try {\n",
              "        const charts = await google.colab.kernel.invokeFunction(\n",
              "            'suggestCharts', [key], {});\n",
              "      } catch (error) {\n",
              "        console.error('Error during call to suggestCharts:', error);\n",
              "      }\n",
              "      quickchartButtonEl.classList.remove('colab-df-spinner');\n",
              "      quickchartButtonEl.classList.add('colab-df-quickchart-complete');\n",
              "    }\n",
              "    (() => {\n",
              "      let quickchartButtonEl =\n",
              "        document.querySelector('#df-fa4efcd6-dfe2-45c5-939c-f4000a4b50d4 button');\n",
              "      quickchartButtonEl.style.display =\n",
              "        google.colab.kernel.accessAllowed ? 'block' : 'none';\n",
              "    })();\n",
              "  </script>\n",
              "</div>\n",
              "\n",
              "  <div id=\"id_78e6cd70-6ed5-418e-833c-e343edc90c2f\">\n",
              "    <style>\n",
              "      .colab-df-generate {\n",
              "        background-color: #E8F0FE;\n",
              "        border: none;\n",
              "        border-radius: 50%;\n",
              "        cursor: pointer;\n",
              "        display: none;\n",
              "        fill: #1967D2;\n",
              "        height: 32px;\n",
              "        padding: 0 0 0 0;\n",
              "        width: 32px;\n",
              "      }\n",
              "\n",
              "      .colab-df-generate:hover {\n",
              "        background-color: #E2EBFA;\n",
              "        box-shadow: 0px 1px 2px rgba(60, 64, 67, 0.3), 0px 1px 3px 1px rgba(60, 64, 67, 0.15);\n",
              "        fill: #174EA6;\n",
              "      }\n",
              "\n",
              "      [theme=dark] .colab-df-generate {\n",
              "        background-color: #3B4455;\n",
              "        fill: #D2E3FC;\n",
              "      }\n",
              "\n",
              "      [theme=dark] .colab-df-generate:hover {\n",
              "        background-color: #434B5C;\n",
              "        box-shadow: 0px 1px 3px 1px rgba(0, 0, 0, 0.15);\n",
              "        filter: drop-shadow(0px 1px 2px rgba(0, 0, 0, 0.3));\n",
              "        fill: #FFFFFF;\n",
              "      }\n",
              "    </style>\n",
              "    <button class=\"colab-df-generate\" onclick=\"generateWithVariable('data')\"\n",
              "            title=\"Generate code using this dataframe.\"\n",
              "            style=\"display:none;\">\n",
              "\n",
              "  <svg xmlns=\"http://www.w3.org/2000/svg\" height=\"24px\"viewBox=\"0 0 24 24\"\n",
              "       width=\"24px\">\n",
              "    <path d=\"M7,19H8.4L18.45,9,17,7.55,7,17.6ZM5,21V16.75L18.45,3.32a2,2,0,0,1,2.83,0l1.4,1.43a1.91,1.91,0,0,1,.58,1.4,1.91,1.91,0,0,1-.58,1.4L9.25,21ZM18.45,9,17,7.55Zm-12,3A5.31,5.31,0,0,0,4.9,8.1,5.31,5.31,0,0,0,1,6.5,5.31,5.31,0,0,0,4.9,4.9,5.31,5.31,0,0,0,6.5,1,5.31,5.31,0,0,0,8.1,4.9,5.31,5.31,0,0,0,12,6.5,5.46,5.46,0,0,0,6.5,12Z\"/>\n",
              "  </svg>\n",
              "    </button>\n",
              "    <script>\n",
              "      (() => {\n",
              "      const buttonEl =\n",
              "        document.querySelector('#id_78e6cd70-6ed5-418e-833c-e343edc90c2f button.colab-df-generate');\n",
              "      buttonEl.style.display =\n",
              "        google.colab.kernel.accessAllowed ? 'block' : 'none';\n",
              "\n",
              "      buttonEl.onclick = () => {\n",
              "        google.colab.notebook.generateWithVariable('data');\n",
              "      }\n",
              "      })();\n",
              "    </script>\n",
              "  </div>\n",
              "\n",
              "    </div>\n",
              "  </div>\n"
            ],
            "application/vnd.google.colaboratory.intrinsic+json": {
              "type": "dataframe",
              "variable_name": "data",
              "summary": "{\n  \"name\": \"data\",\n  \"rows\": 3817,\n  \"fields\": [\n    {\n      \"column\": \"description\",\n      \"properties\": {\n        \"dtype\": \"category\",\n        \"num_unique_values\": 1809,\n        \"samples\": [\n          \" Lower quadrant pain with nausea, vomiting, and diarrhea.  CT abdomen without contrast and CT pelvis without contrast.  Noncontrast axial CT images of the abdomen and pelvis are obtained.\",\n          \" Orchiopexy & inguinal herniorrhaphy.\",\n          \" MRI Brain: Ventriculomegaly of the lateral, 3rd and 4th ventricles secondary to obstruction of the foramen of Magendie secondary to Cryptococcus (unencapsulated) in a non-immune suppressed, HIV negative, individual.\"\n        ],\n        \"semantic_type\": \"\",\n        \"description\": \"\"\n      }\n    },\n    {\n      \"column\": \"medical_specialty\",\n      \"properties\": {\n        \"dtype\": \"category\",\n        \"num_unique_values\": 39,\n        \"samples\": [\n          \" Discharge Summary\",\n          \" Cosmetic / Plastic Surgery\",\n          \" Urology\"\n        ],\n        \"semantic_type\": \"\",\n        \"description\": \"\"\n      }\n    },\n    {\n      \"column\": \"sample_name\",\n      \"properties\": {\n        \"dtype\": \"category\",\n        \"num_unique_values\": 1827,\n        \"samples\": [\n          \" Thoracotomy & Bronchoscopy \",\n          \" MRI Brain - Memory Loss \",\n          \" Ophthalmology - Letter - 2 \"\n        ],\n        \"semantic_type\": \"\",\n        \"description\": \"\"\n      }\n    },\n    {\n      \"column\": \"transcription\",\n      \"properties\": {\n        \"dtype\": \"category\",\n        \"num_unique_values\": 1823,\n        \"samples\": [\n          \"preoperative diagnosis acute appendicitis postoperative diagnosis ruptured appendicitis procedure laparoscopic appendectomy indications procedure patient year old boy less hour history apparent right lower quadrant abdominal pain associated vomiting fevers patient elevated white count exam ct scan consistent acute appendicitis description procedure patient taken operating room placed supine put general endotracheal anesthesia patients abdomen prepped draped usual sterile fashion periumbilical incision made fascia incised peritoneal cavity entered bluntly mm trocar scope passed peritoneal cavity insufflated five mm ports placed left lower hypogastric areas visualization right lower quadrant appendix visualized stuck right anterior abdominal wall obvious site perforation leakage content pus proceeded take mesoappendix base base free placed gia stapler across base fired stapler removed appendix periumbilical port site irrigated suctioned right lower pelvic areas removed ports direct visualization closed periumbilical port site fascia vicryl skin incisions monocryl dressed steri strips patient extubated operating table taken back recovery room patient tolerated procedure well\",\n          \"chief complaint nausea present illness patient year old status post gastric bypass surgery nearly one year ago lost pounds otherwise well yesterday evening around developed nausea right upper quadrant pain apparently wrapped around toward right side back feels like done overall malaise low grade temperature denies prior similar lesser symptoms last normal bowel movement yesterday denies outright chills blood per rectum past medical history significant hypertension morbid obesity resolved past surgical history gastric bypass surgery december medications multivitamins calcium allergies none known family history positive diabetes mellitus father deceased social history denies tobacco alcohol sounds like data entry computer job review systems otherwise negative physical examination temperature blood pressure respirations heart rate drowsy easily arousable appropriate conversation oriented person place situation normocephalic atraumatic sclerae anicteric mucous membranes somewhat tacky neck supple symmetric respirations unlabored clear regular rate rhythm abdomen soft diffuse right upper quadrant tenderness worse focally rebound guarding otherwise organomegaly masses abdominal hernias evident extremities symmetrical edema posterior tibial pulses palpable symmetric grossly nonfocal neurologically studies white blood cell count segs hematocrit electrolytes normal bilirubin ast alt alk phos lipase normal assessment choledocholithiasis cholecystitis plan admitted placed iv antibiotics get ultrasound morning need gallbladder probably intraoperative cholangiogram hopefully stone pass way due anatomy ercp would prove quite difficult impossible unless laparoscopic assisted dr x see later morning discuss plan patient understands\",\n          \"preoperative diagnoses nasopharyngeal mass right upper lid skin lesion postoperative diagnoses nasopharyngeal tube mass right upper lid skin lesion procedures performed functional endoscopic sinus surgery excision nasopharyngeal mass via endoscopic technique excision right upper lid skin lesion cm diameter adjacent tissue transfer closure anesthesia general endotracheal estimated blood loss less cc complications none indications procedure patient year old caucasian female history nasopharyngeal mass discovered patients chief complaint nasal congestion chronic ear disease patient fiberoptic nasopharyngoscopy performed office demonstrated mass confirmed also ct scan patient also right upper lid skin lesion appears cholesterol granuloma numerous months appears growing size irregularly bordered risks complications consequences questions addressed patient written consent obtained procedure procedure patient brought operating suite anesthesia placed operating table supine position patient turned degrees department anesthesia right upper eyelid skin lesion injected lidocaine epinephrine approximately cc total patients bilateral nasal passages packed cocaine soaked cottonoids solution cc total patient prepped draped usual sterile fashion right upper lid skin first cut around skin lesion utilizing superblade skin lesion grasped ________ superior aspect skin lesion cut removed subcutaneous plane utilizing westcott scissors ________ hemostatically controlled monopolar cauterization patients skin reapproximated running prolene suture mastisol along single steri strip place followed maxitrol ointment attention drawn nasopharynx cocaine soaked cottonoids removed nasal passages bilaterally zero degree otoscope placed way patients nasopharynx patient severely deviated nasal septum right left appeared spur left inferior aspect also right posterior aspect nasopharyngeal mass appeared polypoid nature almost lymphoid tissue looking localized lidocaine epinephrine approximately cc total lesion removed right side xps blade torus tubarius noted left side polypoid lymphoid tissue involving area completely area taken xps blade prior taking lesion xps multiple biopsies taken straight biter cocaine soaked cottonoid placed back patients left nasal passage region nasopharynx attention drawn right side zero degree otoscope placed patients right nasal passage way nasopharynx xps utilized take nasopharyngeal mass entirety involvement overlying torus tubarius patient hemostatically controlled suctioned bovie cauterization floseal placed followed bilateral merocels bacitracin coated ointment patients meroceles tied together patients forehead patient turned back anesthesia patient extubated operating room transferred recovery room stable condition patient tolerated procedure well sent home instructions followup approximately one week patient sent home prescription keflex mg one p b tylenol one two p q h pain\"\n        ],\n        \"semantic_type\": \"\",\n        \"description\": \"\"\n      }\n    },\n    {\n      \"column\": \"keywords\",\n      \"properties\": {\n        \"dtype\": \"string\",\n        \"num_unique_values\": 3812,\n        \"samples\": [\n          \"start gastroenterology endoscopy olympus colonoscope snare polypectomy ge junction refractory dyspepsia colonic polyps diverticulosis coli chronic gastritis esophagogastroduodenoscopy snare biopsies dyspepsia gastritis diverticulosis polypectomy colonoscopy hematochezia polyps end\",\n          \"start neurology horners pupil mri brain otolaryngologic cerebral angiogram cerebral angiogram lateral medullary syndrome vertebral artery angiogram syndrome falling narrowing medullary vertebral cerebral end\",\n          \"start surgery pelvic pain hypermenorrhea endometriosis dilatation and curettage d c endometrial implants ablation cul de sac vulsellum tenaculum hank dilators laparoscopic ablation bierman needle pelvic end\"\n        ],\n        \"semantic_type\": \"\",\n        \"description\": \"\"\n      }\n    },\n    {\n      \"column\": \"word_counts\",\n      \"properties\": {\n        \"dtype\": \"number\",\n        \"std\": 145,\n        \"min\": 1,\n        \"max\": 932,\n        \"num_unique_values\": 532,\n        \"samples\": [\n          340,\n          343,\n          149\n        ],\n        \"semantic_type\": \"\",\n        \"description\": \"\"\n      }\n    }\n  ]\n}"
            }
          },
          "metadata": {},
          "execution_count": 18
        }
      ]
    },
    {
      "cell_type": "markdown",
      "metadata": {
        "id": "I1QlCkyn6JKM"
      },
      "source": [
        "### Tokenization and padding"
      ]
    },
    {
      "cell_type": "markdown",
      "metadata": {
        "id": "iSk9rUrxbJky"
      },
      "source": [
        "**Exercise 8: Convert the `transcription` and `keywords` text to sequence of integer values, and make them of uniform length [0.5 Mark]**\n",
        "\n",
        "- Use two tokenizers to tokenize transcription and keywords separately\n",
        "  \n",
        "  **Hint:** [Tokenizer()](https://www.tensorflow.org/api_docs/python/tf/keras/preprocessing/text/Tokenizer), `.fit_on_texts()`, `.texts_to_sequences()`\n",
        "\n",
        "- Pad/Truncate both sequences as per their max sequence length specified in above exercises\n",
        "    - use padding='post', truncating='post'\n",
        "    - for transcription, (use maxlen= max_len_transcript)\n",
        "    - for keywords, (use maxlen= max_len_keywords + 1)\n",
        "\n",
        "  **Hint:** [`pad_sequences(`](https://www.tensorflow.org/api_docs/python/tf/keras/preprocessing/text/Tokenizer)`sequences= , maxlen= , padding='post', truncating='post')`\n",
        "\n",
        "- For long keywords sequences, the 'end' token might get truncated\n",
        "    - replace the last token with the token index of 'end'\n",
        "\n",
        "- save the vocab size for both sequences"
      ]
    },
    {
      "cell_type": "code",
      "execution_count": null,
      "metadata": {
        "id": "L5TPQusbeCil",
        "colab": {
          "base_uri": "https://localhost:8080/"
        },
        "outputId": "fc1dd8c3-ebef-45e8-a9c9-62a4b0fe03d3"
      },
      "outputs": [
        {
          "output_type": "execute_result",
          "data": {
            "text/plain": [
              "17344"
            ]
          },
          "metadata": {},
          "execution_count": 19
        }
      ],
      "source": [
        "# Instantiate tokenizer for transcripts\n",
        "x_tokenizer = Tokenizer()\n",
        "\n",
        "# Fit on training data\n",
        "x_tokenizer.fit_on_texts(list(X_train))\n",
        "\n",
        "# Convert transcript sequences into integer sequences for both train and val set\n",
        "X_train = x_tokenizer.texts_to_sequences(X_train)\n",
        "X_test = x_tokenizer.texts_to_sequences(X_test)\n",
        "\n",
        "# Add zero padding upto maximum length\n",
        "#max_len_transcript = max([len(s.split()) for s in data['transcription']])\n",
        "\n",
        "X_train = pad_sequences(X_train, maxlen=max_len_transcript, padding='post', truncating='post')\n",
        "X_test = pad_sequences(X_test, maxlen=max_len_transcript, padding='post', truncating='post')\n",
        "\n",
        "#X_train = X_train.astype('float64')\n",
        "\n",
        "\n",
        "# x vocab size\n",
        "x_voc_size = len(x_tokenizer.word_index) +1\n",
        "x_voc_size"
      ]
    },
    {
      "cell_type": "code",
      "source": [
        "print(X_train.shape)"
      ],
      "metadata": {
        "colab": {
          "base_uri": "https://localhost:8080/"
        },
        "id": "l7euDwcYMbv_",
        "outputId": "b5f3af56-29b8-4bf7-e6fa-e805f0b1cb1f"
      },
      "execution_count": null,
      "outputs": [
        {
          "output_type": "stream",
          "name": "stdout",
          "text": [
            "(3435, 250)\n"
          ]
        }
      ]
    },
    {
      "cell_type": "code",
      "source": [
        "X_train"
      ],
      "metadata": {
        "colab": {
          "base_uri": "https://localhost:8080/"
        },
        "id": "KTBs2U6OvPrH",
        "outputId": "3cef6491-24d5-42e6-b993-da27e4d5e0a4"
      },
      "execution_count": null,
      "outputs": [
        {
          "output_type": "execute_result",
          "data": {
            "text/plain": [
              "array([[ 921,  372, 2726, ...,    0,    0,    0],\n",
              "       [3307,   86,    3, ...,  907, 1077,   60],\n",
              "       [1074,  825,  100, ...,    0,    0,    0],\n",
              "       ...,\n",
              "       [  94, 1807,  719, ..., 6197,  578,  111],\n",
              "       [  42,   86,  168, ...,    0,    0,    0],\n",
              "       [ 244,  153,   81, ...,    0,    0,    0]], dtype=int32)"
            ]
          },
          "metadata": {},
          "execution_count": 21
        }
      ]
    },
    {
      "cell_type": "code",
      "execution_count": null,
      "metadata": {
        "id": "20Ppbw4XeCim",
        "colab": {
          "base_uri": "https://localhost:8080/"
        },
        "outputId": "91ab5091-7c24-4df8-d838-de9386c4abd5"
      },
      "outputs": [
        {
          "output_type": "execute_result",
          "data": {
            "text/plain": [
              "5812"
            ]
          },
          "metadata": {},
          "execution_count": 22
        }
      ],
      "source": [
        "# Instantiate tokenizer for keywords\n",
        "y_tokenizer = Tokenizer()\n",
        "\n",
        "# Fit on training data\n",
        "y_tokenizer.fit_on_texts(list(y_train))\n",
        "\n",
        "# Convert keywords sequences into integer sequences for train and val set\n",
        "y_train = y_tokenizer.texts_to_sequences(y_train)\n",
        "y_test = y_tokenizer.texts_to_sequences(y_test)\n",
        "\n",
        "# Add zero padding upto maximum length\n",
        "#max_len_keywords = max([len(s.split()) for s in data['keywords']])\n",
        "\n",
        "y_train = pad_sequences(y_train, maxlen=max_len_keywords+1, padding='post', truncating='post')\n",
        "y_test = pad_sequences(y_test, maxlen=max_len_keywords+1, padding='post', truncating='post')\n",
        "\n",
        "#y_train = y_train.astype('float64')\n",
        "\n",
        "\n",
        "# y vocab size\n",
        "y_voc_size = len(y_tokenizer.word_index) +1\n",
        "y_voc_size"
      ]
    },
    {
      "cell_type": "code",
      "execution_count": null,
      "metadata": {
        "id": "3dg9iHmxiedC",
        "colab": {
          "base_uri": "https://localhost:8080/"
        },
        "outputId": "43e4b624-7236-45f6-df1c-1efbeb707cd2"
      },
      "outputs": [
        {
          "output_type": "execute_result",
          "data": {
            "text/plain": [
              "(3435, 31)"
            ]
          },
          "metadata": {},
          "execution_count": 23
        }
      ],
      "source": [
        "y_train.shape"
      ]
    },
    {
      "cell_type": "markdown",
      "metadata": {
        "id": "HNOtw3f-k67g"
      },
      "source": [
        "- **For long keywords sequences, replace the last token with the token index of 'end'**"
      ]
    },
    {
      "cell_type": "code",
      "execution_count": null,
      "metadata": {
        "id": "uPGFUtc85ZgC",
        "colab": {
          "base_uri": "https://localhost:8080/"
        },
        "outputId": "1f8d65cf-57d6-41b1-a057-6e751f04920c"
      },
      "outputs": [
        {
          "output_type": "stream",
          "name": "stdout",
          "text": [
            "1\n"
          ]
        }
      ],
      "source": [
        "print(y_tokenizer.word_index['end'])"
      ]
    },
    {
      "cell_type": "code",
      "execution_count": null,
      "metadata": {
        "id": "LNtAVcci5nY6"
      },
      "outputs": [],
      "source": [
        "# Replace the last token with the token index of 'end' for long sequences\n",
        "\n",
        "# Apply on Train keywords set\n",
        "for seq in y_train:\n",
        "  if seq[-1] != y_tokenizer.word_index['end'] :\n",
        "    seq[-1] = y_tokenizer.word_index['end']\n",
        "\n",
        "# Apply on Validation keywords set\n",
        "for seq in y_test:\n",
        "  if seq[-1] != y_tokenizer.word_index['end'] :\n",
        "    seq[-1] = y_tokenizer.word_index['end']\n"
      ]
    },
    {
      "cell_type": "code",
      "execution_count": null,
      "metadata": {
        "id": "JE2rp30IiedE"
      },
      "outputs": [],
      "source": []
    },
    {
      "cell_type": "markdown",
      "metadata": {
        "id": "z804TTWnnpG5"
      },
      "source": [
        "### Positional Embedding\n",
        "\n",
        "**Exercise 9: Create a class, `PositionalEmbedding` [1 Mark]**\n",
        "\n",
        "- Use `mask_zero=True`, while defining token embeddings layer\n",
        "\n",
        "- Make sure to make this layer a mask-generating layer by adding a method `compute_mask()`"
      ]
    },
    {
      "cell_type": "code",
      "execution_count": null,
      "metadata": {
        "id": "EJFVFHXcnrMv"
      },
      "outputs": [],
      "source": [
        "class PositionalEmbedding(layers.Layer):\n",
        "\n",
        "    def __init__(self, sequence_length, input_dim, output_dim, **kwargs):\n",
        "        super(PositionalEmbedding, self).__init__(**kwargs)\n",
        "        self.sequence_length = sequence_length\n",
        "        self.input_dim = input_dim\n",
        "        self.output_dim = output_dim\n",
        "        self.token_embeddings = layers.Embedding(input_dim=input_dim, output_dim=output_dim,\n",
        "                                                 mask_zero=True)\n",
        "        self.position_embeddings = layers.Embedding(input_dim=sequence_length, output_dim=output_dim)\n",
        "\n",
        "\n",
        "    def call(self, inputs):\n",
        "        length = tf.shape(inputs)[-1]\n",
        "        positions = tf.range(start=0, limit=length, delta=1)\n",
        "        embedded_tokens = tf.reshape(self.token_embeddings(inputs), (-1, length, self.output_dim))\n",
        "        embedded_positions =tf.reshape(self.position_embeddings(positions), (-1, length, self.output_dim))\n",
        "        return layers.Add()([embedded_tokens , embedded_positions])\n",
        "\n",
        "    def compute_mask(self, inputs, mask=None):\n",
        "        if mask is None:\n",
        "          return None\n",
        "        return tf.math.not_equal(inputs, 0)\n",
        "\n",
        "    def get_config(self):\n",
        "        config = super(PositionalEmbedding, self).get_config()\n",
        "        config.update({\n",
        "            'sequence_length': self.sequence_length,\n",
        "            'input_dim': self.input_dim,\n",
        "            'output_dim': self.output_dim,\n",
        "        })\n",
        "        return config\n"
      ]
    },
    {
      "cell_type": "markdown",
      "metadata": {
        "id": "Nv61oM1lrOBa"
      },
      "source": [
        "### Encoder Block\n",
        "\n",
        "**Exercise 10: Create a class, `TransformerEncoder` [1 Mark]**\n",
        "\n",
        "- While calling `attention` layer, do not use `attention_mask` parameter\n",
        "\n",
        "- In Feed forward network, add `Dropout(0.1)` layer after 2 dense layers\n",
        "\n",
        "- For skip connections, use `tf.keras.layers.Add()` instead of `'+'`"
      ]
    },
    {
      "cell_type": "code",
      "execution_count": null,
      "metadata": {
        "id": "Qjs4oJvlrRI1"
      },
      "outputs": [],
      "source": [
        "import tensorflow as tf\n",
        "\n",
        "class TransformerEncoder(layers.Layer):\n",
        "\n",
        "    def __init__(self, embed_dim, dense_dim, num_heads, **kwargs):\n",
        "        super(TransformerEncoder, self).__init__(**kwargs)\n",
        "        self.embed_dim = embed_dim\n",
        "        self.dense_dim = dense_dim\n",
        "        self.num_heads = num_heads\n",
        "        self.attention = layers.MultiHeadAttention(num_heads=num_heads, key_dim=embed_dim)\n",
        "        self.dense_proj = tf.keras.Sequential([\n",
        "            layers.Dense(dense_dim, activation=\"relu\"),\n",
        "            layers.Dense(embed_dim),\n",
        "            layers.Dropout(0.1),\n",
        "        ])\n",
        "        self.layernorm_1 = layers.LayerNormalization()\n",
        "        self.layernorm_2 = layers.LayerNormalization()\n",
        "        self.add = layers.Add()\n",
        "\n",
        "    def call(self, inputs, mask=None):\n",
        "        if mask is not None:\n",
        "            mask = mask[:, tf.newaxis, :]\n",
        "        attention_output = self.attention(inputs, inputs,inputs, attention_mask=mask)  # self attention\n",
        "        proj_input = self.layernorm_1(self.add([inputs , attention_output]))\n",
        "        proj_output = self.dense_proj(proj_input)\n",
        "        return self.layernorm_2(self.add([proj_input , proj_output]))\n",
        "\n",
        "    def get_config(self):\n",
        "        config = super(TransformerEncoder, self).get_config()\n",
        "        config.update({\n",
        "            'embed_dim': self.embed_dim,\n",
        "            'dense_dim': self.dense_dim,\n",
        "            'num_heads': self.num_heads,\n",
        "        })\n",
        "        return config\n"
      ]
    },
    {
      "cell_type": "markdown",
      "metadata": {
        "id": "KbAVK3wyuRf1"
      },
      "source": [
        "### Decoder Block\n",
        "\n",
        "**Exercise 11: Create a class, `TransformerDecoder` [1 Mark]**\n",
        "\n",
        "- Do not create any separate function to get causal attention mask, just pass `use_causal_mask = True` parameter while calling `attention_1` layer\n",
        "\n",
        "- While calling `attention_2` layer, do not use `attention_mask` parameter\n",
        "\n",
        "- In Feed forward network, add `Dropout(0.1)` layer after 2 dense layers\n",
        "\n",
        "- For skip connections, use `tf.keras.layers.Add()` instead of `'+'`"
      ]
    },
    {
      "cell_type": "code",
      "execution_count": null,
      "metadata": {
        "id": "cv3nOvxNiedH"
      },
      "outputs": [],
      "source": [
        "def create_causal_attention_mask(input_shape):\n",
        "    mask = 1 - tf.linalg.band_part(tf.ones(input_shape), -1, 0)\n",
        "    return mask"
      ]
    },
    {
      "cell_type": "code",
      "execution_count": null,
      "metadata": {
        "id": "VYoZa4OniedH"
      },
      "outputs": [],
      "source": [
        "class TransformerDecoder(layers.Layer):\n",
        "\n",
        "    def __init__(self, embed_dim, dense_dim, num_heads, **kwargs):\n",
        "        super(TransformerDecoder, self).__init__(**kwargs)\n",
        "        self.embed_dim = embed_dim\n",
        "        self.dense_dim = dense_dim\n",
        "        self.num_heads = num_heads\n",
        "        self.attention_1 = layers.MultiHeadAttention(num_heads=num_heads, key_dim=embed_dim)\n",
        "        self.attention_2 = layers.MultiHeadAttention(num_heads=num_heads, key_dim=embed_dim)\n",
        "        self.dense_proj = tf.keras.Sequential([\n",
        "            layers.Dense(dense_dim, activation=\"relu\"),\n",
        "            layers.Dense(embed_dim),\n",
        "            layers.Dropout(0.1),\n",
        "        ])\n",
        "        self.layernorm_1 = layers.LayerNormalization()\n",
        "        self.layernorm_2 = layers.LayerNormalization()\n",
        "        self.layernorm_3 = layers.LayerNormalization()\n",
        "        self.add = layers.Add()\n",
        "\n",
        "    def call(self, inputs, encoder_outputs):\n",
        "        #input_shape = tf.shape(inputs)\n",
        "        #attention_mask = create_causal_attention_mask((input_shape[0], input_shape[1], input_shape[1]))\n",
        "        attention_output_1 = self.attention_1(query=inputs, value=inputs, key=inputs, use_causal_mask=True)\n",
        "        out_1 = self.layernorm_1(self.add([inputs , attention_output_1]))\n",
        "        attention_output_2 = self.attention_2(query=out_1, value=encoder_outputs, key=encoder_outputs)\n",
        "        out_2 = self.layernorm_2(self.add([out_1 , attention_output_2]))\n",
        "        proj_output = self.dense_proj(out_2)\n",
        "        return self.layernorm_3(self.add([out_2 , proj_output]))\n",
        "\n",
        "    def get_config(self):\n",
        "        config = super(TransformerDecoder, self).get_config()\n",
        "        config.update({\n",
        "            'embed_dim': self.embed_dim,\n",
        "            'dense_dim': self.dense_dim,\n",
        "            'num_heads': self.num_heads,\n",
        "        })\n",
        "        return config\n"
      ]
    },
    {
      "cell_type": "markdown",
      "metadata": {
        "id": "AiaXYTIpw2k9"
      },
      "source": [
        "### Build Transformer model\n",
        "\n",
        "**Exercise 12: Create a transformer model with below points: [1 Mark]**\n",
        "\n",
        "- Use the respective vocabulary size for PositionalEmbedding of encode and decoder inputs\n",
        "\n",
        "- Add `Dropout(0.1)` layers after both encoder and decoder PositionalEmbedding layers\n",
        "\n",
        "- Do not use `activation=\"softmax\"` for the last dense classification layer (You will be required to create a custom loss, and metric in the next stage.)\n",
        "\n",
        "- Add a stack of 4 encoder blocks and 4 decoder blocks to your transformer"
      ]
    },
    {
      "cell_type": "code",
      "execution_count": null,
      "metadata": {
        "id": "UmHaiKyXw6oK",
        "colab": {
          "base_uri": "https://localhost:8080/",
          "height": 785
        },
        "outputId": "80f5811e-e8f6-4939-e5c1-f0a41dbcbbac"
      },
      "outputs": [
        {
          "output_type": "display_data",
          "data": {
            "text/plain": [
              "\u001b[1mModel: \"functional_8\"\u001b[0m\n"
            ],
            "text/html": [
              "<pre style=\"white-space:pre;overflow-x:auto;line-height:normal;font-family:Menlo,'DejaVu Sans Mono',consolas,'Courier New',monospace\"><span style=\"font-weight: bold\">Model: \"functional_8\"</span>\n",
              "</pre>\n"
            ]
          },
          "metadata": {}
        },
        {
          "output_type": "display_data",
          "data": {
            "text/plain": [
              "┏━━━━━━━━━━━━━━━━━━━━━━━━━━━┳━━━━━━━━━━━━━━━━━━━━━━━━┳━━━━━━━━━━━━━━━━┳━━━━━━━━━━━━━━━━━━━━━━━━┓\n",
              "┃\u001b[1m \u001b[0m\u001b[1mLayer (type)             \u001b[0m\u001b[1m \u001b[0m┃\u001b[1m \u001b[0m\u001b[1mOutput Shape          \u001b[0m\u001b[1m \u001b[0m┃\u001b[1m \u001b[0m\u001b[1m       Param #\u001b[0m\u001b[1m \u001b[0m┃\u001b[1m \u001b[0m\u001b[1mConnected to          \u001b[0m\u001b[1m \u001b[0m┃\n",
              "┡━━━━━━━━━━━━━━━━━━━━━━━━━━━╇━━━━━━━━━━━━━━━━━━━━━━━━╇━━━━━━━━━━━━━━━━╇━━━━━━━━━━━━━━━━━━━━━━━━┩\n",
              "│ input_layer (\u001b[38;5;33mInputLayer\u001b[0m)  │ (\u001b[38;5;45mNone\u001b[0m, \u001b[38;5;45mNone\u001b[0m)           │              \u001b[38;5;34m0\u001b[0m │ -                      │\n",
              "├───────────────────────────┼────────────────────────┼────────────────┼────────────────────────┤\n",
              "│ positional_embedding      │ (\u001b[38;5;45mNone\u001b[0m, \u001b[38;5;45mNone\u001b[0m, \u001b[38;5;34m256\u001b[0m)      │      \u001b[38;5;34m4,504,064\u001b[0m │ input_layer[\u001b[38;5;34m0\u001b[0m][\u001b[38;5;34m0\u001b[0m]      │\n",
              "│ (\u001b[38;5;33mPositionalEmbedding\u001b[0m)     │                        │                │                        │\n",
              "├───────────────────────────┼────────────────────────┼────────────────┼────────────────────────┤\n",
              "│ dropout (\u001b[38;5;33mDropout\u001b[0m)         │ (\u001b[38;5;45mNone\u001b[0m, \u001b[38;5;45mNone\u001b[0m, \u001b[38;5;34m256\u001b[0m)      │              \u001b[38;5;34m0\u001b[0m │ positional_embedding[\u001b[38;5;34m…\u001b[0m │\n",
              "├───────────────────────────┼────────────────────────┼────────────────┼────────────────────────┤\n",
              "│ transformer_encoder       │ (\u001b[38;5;45mNone\u001b[0m, \u001b[38;5;45mNone\u001b[0m, \u001b[38;5;34m256\u001b[0m)      │      \u001b[38;5;34m3,155,456\u001b[0m │ dropout[\u001b[38;5;34m0\u001b[0m][\u001b[38;5;34m0\u001b[0m]          │\n",
              "│ (\u001b[38;5;33mTransformerEncoder\u001b[0m)      │                        │                │                        │\n",
              "├───────────────────────────┼────────────────────────┼────────────────┼────────────────────────┤\n",
              "│ input_layer_5             │ (\u001b[38;5;45mNone\u001b[0m, \u001b[38;5;45mNone\u001b[0m)           │              \u001b[38;5;34m0\u001b[0m │ -                      │\n",
              "│ (\u001b[38;5;33mInputLayer\u001b[0m)              │                        │                │                        │\n",
              "├───────────────────────────┼────────────────────────┼────────────────┼────────────────────────┤\n",
              "│ transformer_encoder_1     │ (\u001b[38;5;45mNone\u001b[0m, \u001b[38;5;45mNone\u001b[0m, \u001b[38;5;34m256\u001b[0m)      │      \u001b[38;5;34m3,155,456\u001b[0m │ transformer_encoder[\u001b[38;5;34m0\u001b[0m… │\n",
              "│ (\u001b[38;5;33mTransformerEncoder\u001b[0m)      │                        │                │                        │\n",
              "├───────────────────────────┼────────────────────────┼────────────────┼────────────────────────┤\n",
              "│ positional_embedding_1    │ (\u001b[38;5;45mNone\u001b[0m, \u001b[38;5;45mNone\u001b[0m, \u001b[38;5;34m256\u001b[0m)      │      \u001b[38;5;34m1,495,808\u001b[0m │ input_layer_5[\u001b[38;5;34m0\u001b[0m][\u001b[38;5;34m0\u001b[0m]    │\n",
              "│ (\u001b[38;5;33mPositionalEmbedding\u001b[0m)     │                        │                │                        │\n",
              "├───────────────────────────┼────────────────────────┼────────────────┼────────────────────────┤\n",
              "│ transformer_encoder_2     │ (\u001b[38;5;45mNone\u001b[0m, \u001b[38;5;45mNone\u001b[0m, \u001b[38;5;34m256\u001b[0m)      │      \u001b[38;5;34m3,155,456\u001b[0m │ transformer_encoder_1… │\n",
              "│ (\u001b[38;5;33mTransformerEncoder\u001b[0m)      │                        │                │                        │\n",
              "├───────────────────────────┼────────────────────────┼────────────────┼────────────────────────┤\n",
              "│ dropout_9 (\u001b[38;5;33mDropout\u001b[0m)       │ (\u001b[38;5;45mNone\u001b[0m, \u001b[38;5;45mNone\u001b[0m, \u001b[38;5;34m256\u001b[0m)      │              \u001b[38;5;34m0\u001b[0m │ positional_embedding_… │\n",
              "├───────────────────────────┼────────────────────────┼────────────────┼────────────────────────┤\n",
              "│ transformer_encoder_3     │ (\u001b[38;5;45mNone\u001b[0m, \u001b[38;5;45mNone\u001b[0m, \u001b[38;5;34m256\u001b[0m)      │      \u001b[38;5;34m3,155,456\u001b[0m │ transformer_encoder_2… │\n",
              "│ (\u001b[38;5;33mTransformerEncoder\u001b[0m)      │                        │                │                        │\n",
              "├───────────────────────────┼────────────────────────┼────────────────┼────────────────────────┤\n",
              "│ transformer_decoder       │ (\u001b[38;5;45mNone\u001b[0m, \u001b[38;5;45mNone\u001b[0m, \u001b[38;5;34m256\u001b[0m)      │      \u001b[38;5;34m5,259,520\u001b[0m │ dropout_9[\u001b[38;5;34m0\u001b[0m][\u001b[38;5;34m0\u001b[0m],       │\n",
              "│ (\u001b[38;5;33mTransformerDecoder\u001b[0m)      │                        │                │ transformer_encoder_3… │\n",
              "├───────────────────────────┼────────────────────────┼────────────────┼────────────────────────┤\n",
              "│ transformer_decoder_1     │ (\u001b[38;5;45mNone\u001b[0m, \u001b[38;5;45mNone\u001b[0m, \u001b[38;5;34m256\u001b[0m)      │      \u001b[38;5;34m5,259,520\u001b[0m │ transformer_decoder[\u001b[38;5;34m0\u001b[0m… │\n",
              "│ (\u001b[38;5;33mTransformerDecoder\u001b[0m)      │                        │                │ transformer_encoder_3… │\n",
              "├───────────────────────────┼────────────────────────┼────────────────┼────────────────────────┤\n",
              "│ transformer_decoder_2     │ (\u001b[38;5;45mNone\u001b[0m, \u001b[38;5;45mNone\u001b[0m, \u001b[38;5;34m256\u001b[0m)      │      \u001b[38;5;34m5,259,520\u001b[0m │ transformer_decoder_1… │\n",
              "│ (\u001b[38;5;33mTransformerDecoder\u001b[0m)      │                        │                │ transformer_encoder_3… │\n",
              "├───────────────────────────┼────────────────────────┼────────────────┼────────────────────────┤\n",
              "│ transformer_decoder_3     │ (\u001b[38;5;45mNone\u001b[0m, \u001b[38;5;45mNone\u001b[0m, \u001b[38;5;34m256\u001b[0m)      │      \u001b[38;5;34m5,259,520\u001b[0m │ transformer_decoder_2… │\n",
              "│ (\u001b[38;5;33mTransformerDecoder\u001b[0m)      │                        │                │ transformer_encoder_3… │\n",
              "├───────────────────────────┼────────────────────────┼────────────────┼────────────────────────┤\n",
              "│ dense_16 (\u001b[38;5;33mDense\u001b[0m)          │ (\u001b[38;5;45mNone\u001b[0m, \u001b[38;5;45mNone\u001b[0m, \u001b[38;5;34m5812\u001b[0m)     │      \u001b[38;5;34m1,493,684\u001b[0m │ transformer_decoder_3… │\n",
              "└───────────────────────────┴────────────────────────┴────────────────┴────────────────────────┘\n"
            ],
            "text/html": [
              "<pre style=\"white-space:pre;overflow-x:auto;line-height:normal;font-family:Menlo,'DejaVu Sans Mono',consolas,'Courier New',monospace\">┏━━━━━━━━━━━━━━━━━━━━━━━━━━━┳━━━━━━━━━━━━━━━━━━━━━━━━┳━━━━━━━━━━━━━━━━┳━━━━━━━━━━━━━━━━━━━━━━━━┓\n",
              "┃<span style=\"font-weight: bold\"> Layer (type)              </span>┃<span style=\"font-weight: bold\"> Output Shape           </span>┃<span style=\"font-weight: bold\">        Param # </span>┃<span style=\"font-weight: bold\"> Connected to           </span>┃\n",
              "┡━━━━━━━━━━━━━━━━━━━━━━━━━━━╇━━━━━━━━━━━━━━━━━━━━━━━━╇━━━━━━━━━━━━━━━━╇━━━━━━━━━━━━━━━━━━━━━━━━┩\n",
              "│ input_layer (<span style=\"color: #0087ff; text-decoration-color: #0087ff\">InputLayer</span>)  │ (<span style=\"color: #00d7ff; text-decoration-color: #00d7ff\">None</span>, <span style=\"color: #00d7ff; text-decoration-color: #00d7ff\">None</span>)           │              <span style=\"color: #00af00; text-decoration-color: #00af00\">0</span> │ -                      │\n",
              "├───────────────────────────┼────────────────────────┼────────────────┼────────────────────────┤\n",
              "│ positional_embedding      │ (<span style=\"color: #00d7ff; text-decoration-color: #00d7ff\">None</span>, <span style=\"color: #00d7ff; text-decoration-color: #00d7ff\">None</span>, <span style=\"color: #00af00; text-decoration-color: #00af00\">256</span>)      │      <span style=\"color: #00af00; text-decoration-color: #00af00\">4,504,064</span> │ input_layer[<span style=\"color: #00af00; text-decoration-color: #00af00\">0</span>][<span style=\"color: #00af00; text-decoration-color: #00af00\">0</span>]      │\n",
              "│ (<span style=\"color: #0087ff; text-decoration-color: #0087ff\">PositionalEmbedding</span>)     │                        │                │                        │\n",
              "├───────────────────────────┼────────────────────────┼────────────────┼────────────────────────┤\n",
              "│ dropout (<span style=\"color: #0087ff; text-decoration-color: #0087ff\">Dropout</span>)         │ (<span style=\"color: #00d7ff; text-decoration-color: #00d7ff\">None</span>, <span style=\"color: #00d7ff; text-decoration-color: #00d7ff\">None</span>, <span style=\"color: #00af00; text-decoration-color: #00af00\">256</span>)      │              <span style=\"color: #00af00; text-decoration-color: #00af00\">0</span> │ positional_embedding[<span style=\"color: #00af00; text-decoration-color: #00af00\">…</span> │\n",
              "├───────────────────────────┼────────────────────────┼────────────────┼────────────────────────┤\n",
              "│ transformer_encoder       │ (<span style=\"color: #00d7ff; text-decoration-color: #00d7ff\">None</span>, <span style=\"color: #00d7ff; text-decoration-color: #00d7ff\">None</span>, <span style=\"color: #00af00; text-decoration-color: #00af00\">256</span>)      │      <span style=\"color: #00af00; text-decoration-color: #00af00\">3,155,456</span> │ dropout[<span style=\"color: #00af00; text-decoration-color: #00af00\">0</span>][<span style=\"color: #00af00; text-decoration-color: #00af00\">0</span>]          │\n",
              "│ (<span style=\"color: #0087ff; text-decoration-color: #0087ff\">TransformerEncoder</span>)      │                        │                │                        │\n",
              "├───────────────────────────┼────────────────────────┼────────────────┼────────────────────────┤\n",
              "│ input_layer_5             │ (<span style=\"color: #00d7ff; text-decoration-color: #00d7ff\">None</span>, <span style=\"color: #00d7ff; text-decoration-color: #00d7ff\">None</span>)           │              <span style=\"color: #00af00; text-decoration-color: #00af00\">0</span> │ -                      │\n",
              "│ (<span style=\"color: #0087ff; text-decoration-color: #0087ff\">InputLayer</span>)              │                        │                │                        │\n",
              "├───────────────────────────┼────────────────────────┼────────────────┼────────────────────────┤\n",
              "│ transformer_encoder_1     │ (<span style=\"color: #00d7ff; text-decoration-color: #00d7ff\">None</span>, <span style=\"color: #00d7ff; text-decoration-color: #00d7ff\">None</span>, <span style=\"color: #00af00; text-decoration-color: #00af00\">256</span>)      │      <span style=\"color: #00af00; text-decoration-color: #00af00\">3,155,456</span> │ transformer_encoder[<span style=\"color: #00af00; text-decoration-color: #00af00\">0</span>… │\n",
              "│ (<span style=\"color: #0087ff; text-decoration-color: #0087ff\">TransformerEncoder</span>)      │                        │                │                        │\n",
              "├───────────────────────────┼────────────────────────┼────────────────┼────────────────────────┤\n",
              "│ positional_embedding_1    │ (<span style=\"color: #00d7ff; text-decoration-color: #00d7ff\">None</span>, <span style=\"color: #00d7ff; text-decoration-color: #00d7ff\">None</span>, <span style=\"color: #00af00; text-decoration-color: #00af00\">256</span>)      │      <span style=\"color: #00af00; text-decoration-color: #00af00\">1,495,808</span> │ input_layer_5[<span style=\"color: #00af00; text-decoration-color: #00af00\">0</span>][<span style=\"color: #00af00; text-decoration-color: #00af00\">0</span>]    │\n",
              "│ (<span style=\"color: #0087ff; text-decoration-color: #0087ff\">PositionalEmbedding</span>)     │                        │                │                        │\n",
              "├───────────────────────────┼────────────────────────┼────────────────┼────────────────────────┤\n",
              "│ transformer_encoder_2     │ (<span style=\"color: #00d7ff; text-decoration-color: #00d7ff\">None</span>, <span style=\"color: #00d7ff; text-decoration-color: #00d7ff\">None</span>, <span style=\"color: #00af00; text-decoration-color: #00af00\">256</span>)      │      <span style=\"color: #00af00; text-decoration-color: #00af00\">3,155,456</span> │ transformer_encoder_1… │\n",
              "│ (<span style=\"color: #0087ff; text-decoration-color: #0087ff\">TransformerEncoder</span>)      │                        │                │                        │\n",
              "├───────────────────────────┼────────────────────────┼────────────────┼────────────────────────┤\n",
              "│ dropout_9 (<span style=\"color: #0087ff; text-decoration-color: #0087ff\">Dropout</span>)       │ (<span style=\"color: #00d7ff; text-decoration-color: #00d7ff\">None</span>, <span style=\"color: #00d7ff; text-decoration-color: #00d7ff\">None</span>, <span style=\"color: #00af00; text-decoration-color: #00af00\">256</span>)      │              <span style=\"color: #00af00; text-decoration-color: #00af00\">0</span> │ positional_embedding_… │\n",
              "├───────────────────────────┼────────────────────────┼────────────────┼────────────────────────┤\n",
              "│ transformer_encoder_3     │ (<span style=\"color: #00d7ff; text-decoration-color: #00d7ff\">None</span>, <span style=\"color: #00d7ff; text-decoration-color: #00d7ff\">None</span>, <span style=\"color: #00af00; text-decoration-color: #00af00\">256</span>)      │      <span style=\"color: #00af00; text-decoration-color: #00af00\">3,155,456</span> │ transformer_encoder_2… │\n",
              "│ (<span style=\"color: #0087ff; text-decoration-color: #0087ff\">TransformerEncoder</span>)      │                        │                │                        │\n",
              "├───────────────────────────┼────────────────────────┼────────────────┼────────────────────────┤\n",
              "│ transformer_decoder       │ (<span style=\"color: #00d7ff; text-decoration-color: #00d7ff\">None</span>, <span style=\"color: #00d7ff; text-decoration-color: #00d7ff\">None</span>, <span style=\"color: #00af00; text-decoration-color: #00af00\">256</span>)      │      <span style=\"color: #00af00; text-decoration-color: #00af00\">5,259,520</span> │ dropout_9[<span style=\"color: #00af00; text-decoration-color: #00af00\">0</span>][<span style=\"color: #00af00; text-decoration-color: #00af00\">0</span>],       │\n",
              "│ (<span style=\"color: #0087ff; text-decoration-color: #0087ff\">TransformerDecoder</span>)      │                        │                │ transformer_encoder_3… │\n",
              "├───────────────────────────┼────────────────────────┼────────────────┼────────────────────────┤\n",
              "│ transformer_decoder_1     │ (<span style=\"color: #00d7ff; text-decoration-color: #00d7ff\">None</span>, <span style=\"color: #00d7ff; text-decoration-color: #00d7ff\">None</span>, <span style=\"color: #00af00; text-decoration-color: #00af00\">256</span>)      │      <span style=\"color: #00af00; text-decoration-color: #00af00\">5,259,520</span> │ transformer_decoder[<span style=\"color: #00af00; text-decoration-color: #00af00\">0</span>… │\n",
              "│ (<span style=\"color: #0087ff; text-decoration-color: #0087ff\">TransformerDecoder</span>)      │                        │                │ transformer_encoder_3… │\n",
              "├───────────────────────────┼────────────────────────┼────────────────┼────────────────────────┤\n",
              "│ transformer_decoder_2     │ (<span style=\"color: #00d7ff; text-decoration-color: #00d7ff\">None</span>, <span style=\"color: #00d7ff; text-decoration-color: #00d7ff\">None</span>, <span style=\"color: #00af00; text-decoration-color: #00af00\">256</span>)      │      <span style=\"color: #00af00; text-decoration-color: #00af00\">5,259,520</span> │ transformer_decoder_1… │\n",
              "│ (<span style=\"color: #0087ff; text-decoration-color: #0087ff\">TransformerDecoder</span>)      │                        │                │ transformer_encoder_3… │\n",
              "├───────────────────────────┼────────────────────────┼────────────────┼────────────────────────┤\n",
              "│ transformer_decoder_3     │ (<span style=\"color: #00d7ff; text-decoration-color: #00d7ff\">None</span>, <span style=\"color: #00d7ff; text-decoration-color: #00d7ff\">None</span>, <span style=\"color: #00af00; text-decoration-color: #00af00\">256</span>)      │      <span style=\"color: #00af00; text-decoration-color: #00af00\">5,259,520</span> │ transformer_decoder_2… │\n",
              "│ (<span style=\"color: #0087ff; text-decoration-color: #0087ff\">TransformerDecoder</span>)      │                        │                │ transformer_encoder_3… │\n",
              "├───────────────────────────┼────────────────────────┼────────────────┼────────────────────────┤\n",
              "│ dense_16 (<span style=\"color: #0087ff; text-decoration-color: #0087ff\">Dense</span>)          │ (<span style=\"color: #00d7ff; text-decoration-color: #00d7ff\">None</span>, <span style=\"color: #00d7ff; text-decoration-color: #00d7ff\">None</span>, <span style=\"color: #00af00; text-decoration-color: #00af00\">5812</span>)     │      <span style=\"color: #00af00; text-decoration-color: #00af00\">1,493,684</span> │ transformer_decoder_3… │\n",
              "└───────────────────────────┴────────────────────────┴────────────────┴────────────────────────┘\n",
              "</pre>\n"
            ]
          },
          "metadata": {}
        },
        {
          "output_type": "display_data",
          "data": {
            "text/plain": [
              "\u001b[1m Total params: \u001b[0m\u001b[38;5;34m41,153,460\u001b[0m (156.99 MB)\n"
            ],
            "text/html": [
              "<pre style=\"white-space:pre;overflow-x:auto;line-height:normal;font-family:Menlo,'DejaVu Sans Mono',consolas,'Courier New',monospace\"><span style=\"font-weight: bold\"> Total params: </span><span style=\"color: #00af00; text-decoration-color: #00af00\">41,153,460</span> (156.99 MB)\n",
              "</pre>\n"
            ]
          },
          "metadata": {}
        },
        {
          "output_type": "display_data",
          "data": {
            "text/plain": [
              "\u001b[1m Trainable params: \u001b[0m\u001b[38;5;34m41,153,460\u001b[0m (156.99 MB)\n"
            ],
            "text/html": [
              "<pre style=\"white-space:pre;overflow-x:auto;line-height:normal;font-family:Menlo,'DejaVu Sans Mono',consolas,'Courier New',monospace\"><span style=\"font-weight: bold\"> Trainable params: </span><span style=\"color: #00af00; text-decoration-color: #00af00\">41,153,460</span> (156.99 MB)\n",
              "</pre>\n"
            ]
          },
          "metadata": {}
        },
        {
          "output_type": "display_data",
          "data": {
            "text/plain": [
              "\u001b[1m Non-trainable params: \u001b[0m\u001b[38;5;34m0\u001b[0m (0.00 B)\n"
            ],
            "text/html": [
              "<pre style=\"white-space:pre;overflow-x:auto;line-height:normal;font-family:Menlo,'DejaVu Sans Mono',consolas,'Courier New',monospace\"><span style=\"font-weight: bold\"> Non-trainable params: </span><span style=\"color: #00af00; text-decoration-color: #00af00\">0</span> (0.00 B)\n",
              "</pre>\n"
            ]
          },
          "metadata": {}
        }
      ],
      "source": [
        "embed_dim = 256\n",
        "dense_dim = 2048\n",
        "num_heads = 8\n",
        "\n",
        "# Encoder input, Embedding, and Positional Embedding\n",
        "encoder_inputs = keras.Input(shape=(None,))\n",
        "encoder_embed = PositionalEmbedding(sequence_length=max_len_transcript, input_dim=x_voc_size,\n",
        "                                    output_dim=embed_dim)(encoder_inputs)\n",
        "encoder_embed = layers.Dropout(0.1)(encoder_embed)\n",
        "\n",
        "# Sequence of multiple Transformer blocks\n",
        "for _ in range(4):\n",
        "    encoder_embed = TransformerEncoder(embed_dim, dense_dim, num_heads)(encoder_embed)\n",
        "\n",
        "# Decoder input, Embedding, and Positional Embedding\n",
        "decoder_inputs = keras.Input(shape=(None,))\n",
        "decoder_embed = PositionalEmbedding(sequence_length=max_len_keywords+1, input_dim=y_voc_size,\n",
        "                                    output_dim=embed_dim)(decoder_inputs)\n",
        "decoder_embed = layers.Dropout(0.1)(decoder_embed)\n",
        "\n",
        "# Sequence of multiple Transformer blocks\n",
        "for _ in range(4):\n",
        "    decoder_embed = TransformerDecoder(embed_dim, dense_dim, num_heads)(decoder_embed, encoder_embed)\n",
        "\n",
        "# Dense layer\n",
        "decoder_outputs = layers.Dense(y_voc_size)(decoder_embed)\n",
        "\n",
        "# Build model\n",
        "transformer = keras.Model([encoder_inputs, decoder_inputs], decoder_outputs)\n",
        "transformer.summary()\n"
      ]
    },
    {
      "cell_type": "markdown",
      "metadata": {
        "id": "DeBvxrOqAohp"
      },
      "source": [
        "## Model Compilation and Training [1 Mark]"
      ]
    },
    {
      "cell_type": "markdown",
      "metadata": {
        "id": "1w-GHPylA0IU"
      },
      "source": [
        "**Exercise 13: Set up the optimizer**\n",
        "\n",
        "Refer [here](https://www.tensorflow.org/text/tutorials/transformer#set_up_the_optimizer) for the following steps:\n",
        "\n",
        "- Use the Adam optimizer with a custom learning rate scheduler\n",
        "\n",
        "- Instantiate the Adam optimizer with custom learning rate"
      ]
    },
    {
      "cell_type": "code",
      "execution_count": null,
      "metadata": {
        "id": "fe7-5dDu1wfz"
      },
      "outputs": [],
      "source": [
        "class CustomSchedule(tf.keras.optimizers.schedules.LearningRateSchedule):\n",
        "    def __init__(self, d_model, warmup_steps=4000):\n",
        "        super(CustomSchedule, self).__init__()\n",
        "\n",
        "        self.d_model = tf.cast(d_model, tf.float32)\n",
        "        self.warmup_steps = warmup_steps\n",
        "\n",
        "    def __call__(self, step):\n",
        "        step = tf.cast(step, tf.float32)\n",
        "        arg1 = tf.math.rsqrt(step)\n",
        "        arg2 = step * (self.warmup_steps ** -1.5)\n",
        "        return tf.math.rsqrt(self.d_model) * tf.math.minimum(arg1, arg2)"
      ]
    },
    {
      "cell_type": "code",
      "execution_count": null,
      "metadata": {
        "id": "x2-tkPW21y-r"
      },
      "outputs": [],
      "source": [
        "# Instantiate the Adam optimizer with custom learning rate\n",
        "learning_rate = CustomSchedule(embed_dim)\n",
        "optimizer = tf.keras.optimizers.Adam(learning_rate,beta_1=0.9, beta_2=0.98, epsilon=1e-9)"
      ]
    },
    {
      "cell_type": "markdown",
      "metadata": {
        "id": "mMQ8zocJBWDj"
      },
      "source": [
        "**Exercise 14: Set up the loss and metrics**\n",
        "\n",
        "- Apply a padding mask while calculating the loss with cross-entropy loss function as demonstrated [here](https://www.tensorflow.org/text/tutorials/transformer#set_up_the_loss_and_metrics).  "
      ]
    },
    {
      "cell_type": "code",
      "execution_count": null,
      "metadata": {
        "id": "ts9shHt718CF"
      },
      "outputs": [],
      "source": [
        "def masked_loss(real, pred):\n",
        "    mask = tf.math.logical_not(tf.math.equal(real, 0))\n",
        "    loss_ = tf.keras.losses.SparseCategoricalCrossentropy(from_logits=True, reduction='none')(real, pred)\n",
        "    mask = tf.cast(mask, dtype=loss_.dtype)\n",
        "    loss_ *= mask\n",
        "    return tf.reduce_sum(loss_)/tf.reduce_sum(mask)\n",
        "\n",
        "\n",
        "def masked_accuracy(real, pred):\n",
        "    real = tf.cast(real, tf.int32)\n",
        "    pred = tf.cast(tf.argmax(pred, axis=2), tf.int32)\n",
        "    mask = tf.math.logical_not(tf.math.equal(real, 0))\n",
        "    accuracies = tf.math.equal(real, pred)\n",
        "    accuracies = tf.math.logical_and(mask, accuracies)\n",
        "    accuracies = tf.cast(accuracies, dtype=tf.float32)\n",
        "    mask = tf.cast(mask, dtype=tf.float32)\n",
        "    return tf.reduce_sum(accuracies)/tf.reduce_sum(mask)\n"
      ]
    },
    {
      "cell_type": "markdown",
      "metadata": {
        "id": "LXPo6NhRB42D"
      },
      "source": [
        "**Exercise 15: Compile transformer model with custom optimizer, loss, and metric & perform training [0.5 Mark]**\n",
        "\n",
        "- Use [*transcription sequences*, and *keywords sequences(shifted right)*] as input to transformer\n",
        "\n",
        "- Train model using colab's GPU runtime with batch_size=32, and epochs=30. (It might take one minute per epoch with GPU)\n",
        "\n",
        "**Hint:** Check if the training code is running without any errors with CPU runtime, later switch to GPU runtime for faster training. Once trained, save the model weights, and download into your system for later use."
      ]
    },
    {
      "cell_type": "code",
      "source": [
        "!pip install tensorflow-gpu"
      ],
      "metadata": {
        "colab": {
          "base_uri": "https://localhost:8080/"
        },
        "id": "sYEHPk9Z3ct3",
        "outputId": "1a1a9757-d150-4a24-b637-a4b7a92815f6"
      },
      "execution_count": null,
      "outputs": [
        {
          "output_type": "stream",
          "name": "stdout",
          "text": [
            "Collecting tensorflow-gpu\n",
            "  Downloading tensorflow-gpu-2.12.0.tar.gz (2.6 kB)\n",
            "  \u001b[1;31merror\u001b[0m: \u001b[1msubprocess-exited-with-error\u001b[0m\n",
            "  \n",
            "  \u001b[31m×\u001b[0m \u001b[32mpython setup.py egg_info\u001b[0m did not run successfully.\n",
            "  \u001b[31m│\u001b[0m exit code: \u001b[1;36m1\u001b[0m\n",
            "  \u001b[31m╰─>\u001b[0m See above for output.\n",
            "  \n",
            "  \u001b[1;35mnote\u001b[0m: This error originates from a subprocess, and is likely not a problem with pip.\n",
            "  Preparing metadata (setup.py) ... \u001b[?25l\u001b[?25herror\n",
            "\u001b[1;31merror\u001b[0m: \u001b[1mmetadata-generation-failed\u001b[0m\n",
            "\n",
            "\u001b[31m×\u001b[0m Encountered error while generating package metadata.\n",
            "\u001b[31m╰─>\u001b[0m See above for output.\n",
            "\n",
            "\u001b[1;35mnote\u001b[0m: This is an issue with the package mentioned above, not pip.\n",
            "\u001b[1;36mhint\u001b[0m: See above for details.\n"
          ]
        }
      ]
    },
    {
      "cell_type": "markdown",
      "source": [],
      "metadata": {
        "id": "1N7FiHQI3cZG"
      }
    },
    {
      "cell_type": "code",
      "execution_count": null,
      "metadata": {
        "id": "9pgKetun1_9U"
      },
      "outputs": [],
      "source": [
        "# Compile the model\n",
        "transformer.compile(\n",
        "    optimizer=optimizer,\n",
        "    loss=masked_loss,\n",
        "    metrics=[masked_accuracy]\n",
        ")\n",
        "\n",
        "from tensorflow.keras.preprocessing.sequence import pad_sequences\n",
        "\n",
        "# Shift the target keyword sequences to the right\n",
        "#y_train_input = pad_sequences(y_train[:, :-1], maxlen=max_len_keywords, padding='post')\n",
        "#y_train_target = pad_sequences(y_train[:, 1:], maxlen=max_len_keywords, padding='post')\n",
        "\n",
        "#y_test_input = pad_sequences(y_test[:, :-1], maxlen=max_len_keywords, padding='post')\n",
        "#y_test_target = pad_sequences(y_test[:, 1:], maxlen=max_len_keywords, padding='post')"
      ]
    },
    {
      "cell_type": "code",
      "source": [
        "X_train.shape"
      ],
      "metadata": {
        "colab": {
          "base_uri": "https://localhost:8080/"
        },
        "id": "8FpXSBYI1w0B",
        "outputId": "312bde20-75ba-4176-f24b-4470e7f2e988"
      },
      "execution_count": null,
      "outputs": [
        {
          "output_type": "execute_result",
          "data": {
            "text/plain": [
              "(3435, 250)"
            ]
          },
          "metadata": {},
          "execution_count": 36
        }
      ]
    },
    {
      "cell_type": "code",
      "source": [
        "X_train"
      ],
      "metadata": {
        "colab": {
          "base_uri": "https://localhost:8080/"
        },
        "id": "HZiWMeYF4CBI",
        "outputId": "f7659de6-8373-49a6-bfbe-ce4b775ec249"
      },
      "execution_count": null,
      "outputs": [
        {
          "output_type": "execute_result",
          "data": {
            "text/plain": [
              "array([[ 921,  372, 2726, ...,    0,    0,    0],\n",
              "       [3307,   86,    3, ...,  907, 1077,   60],\n",
              "       [1074,  825,  100, ...,    0,    0,    0],\n",
              "       ...,\n",
              "       [  94, 1807,  719, ..., 6197,  578,  111],\n",
              "       [  42,   86,  168, ...,    0,    0,    0],\n",
              "       [ 244,  153,   81, ...,    0,    0,    0]], dtype=int32)"
            ]
          },
          "metadata": {},
          "execution_count": 37
        }
      ]
    },
    {
      "cell_type": "code",
      "execution_count": null,
      "metadata": {
        "id": "EIeka1thAUo4",
        "colab": {
          "base_uri": "https://localhost:8080/"
        },
        "outputId": "81e1d2d7-cfcb-4d93-9448-a9e274687a01"
      },
      "outputs": [
        {
          "output_type": "stream",
          "name": "stdout",
          "text": [
            "Epoch 1/15\n",
            "\u001b[1m215/215\u001b[0m \u001b[32m━━━━━━━━━━━━━━━━━━━━\u001b[0m\u001b[37m\u001b[0m \u001b[1m146s\u001b[0m 379ms/step - loss: 8.4159 - masked_accuracy: 0.0523 - val_loss: 7.6345 - val_masked_accuracy: 0.0967\n",
            "Epoch 2/15\n",
            "\u001b[1m215/215\u001b[0m \u001b[32m━━━━━━━━━━━━━━━━━━━━\u001b[0m\u001b[37m\u001b[0m \u001b[1m83s\u001b[0m 220ms/step - loss: 7.3938 - masked_accuracy: 0.1056 - val_loss: 6.7119 - val_masked_accuracy: 0.1354\n",
            "Epoch 3/15\n",
            "\u001b[1m215/215\u001b[0m \u001b[32m━━━━━━━━━━━━━━━━━━━━\u001b[0m\u001b[37m\u001b[0m \u001b[1m82s\u001b[0m 220ms/step - loss: 6.4918 - masked_accuracy: 0.1500 - val_loss: 5.9292 - val_masked_accuracy: 0.1975\n",
            "Epoch 4/15\n",
            "\u001b[1m215/215\u001b[0m \u001b[32m━━━━━━━━━━━━━━━━━━━━\u001b[0m\u001b[37m\u001b[0m \u001b[1m46s\u001b[0m 216ms/step - loss: 5.6522 - masked_accuracy: 0.2068 - val_loss: 5.1958 - val_masked_accuracy: 0.2561\n",
            "Epoch 5/15\n",
            "\u001b[1m215/215\u001b[0m \u001b[32m━━━━━━━━━━━━━━━━━━━━\u001b[0m\u001b[37m\u001b[0m \u001b[1m84s\u001b[0m 223ms/step - loss: 4.8021 - masked_accuracy: 0.2777 - val_loss: 4.5301 - val_masked_accuracy: 0.3057\n",
            "Epoch 6/15\n",
            "\u001b[1m215/215\u001b[0m \u001b[32m━━━━━━━━━━━━━━━━━━━━\u001b[0m\u001b[37m\u001b[0m \u001b[1m82s\u001b[0m 223ms/step - loss: 3.9870 - masked_accuracy: 0.3593 - val_loss: 3.9621 - val_masked_accuracy: 0.3560\n",
            "Epoch 7/15\n",
            "\u001b[1m215/215\u001b[0m \u001b[32m━━━━━━━━━━━━━━━━━━━━\u001b[0m\u001b[37m\u001b[0m \u001b[1m81s\u001b[0m 219ms/step - loss: 3.2378 - masked_accuracy: 0.4462 - val_loss: 3.4179 - val_masked_accuracy: 0.4185\n",
            "Epoch 8/15\n",
            "\u001b[1m215/215\u001b[0m \u001b[32m━━━━━━━━━━━━━━━━━━━━\u001b[0m\u001b[37m\u001b[0m \u001b[1m83s\u001b[0m 223ms/step - loss: 2.5449 - masked_accuracy: 0.5350 - val_loss: 2.9700 - val_masked_accuracy: 0.4687\n",
            "Epoch 9/15\n",
            "\u001b[1m215/215\u001b[0m \u001b[32m━━━━━━━━━━━━━━━━━━━━\u001b[0m\u001b[37m\u001b[0m \u001b[1m81s\u001b[0m 219ms/step - loss: 1.8923 - masked_accuracy: 0.6285 - val_loss: 2.5339 - val_masked_accuracy: 0.5243\n",
            "Epoch 10/15\n",
            "\u001b[1m215/215\u001b[0m \u001b[32m━━━━━━━━━━━━━━━━━━━━\u001b[0m\u001b[37m\u001b[0m \u001b[1m46s\u001b[0m 216ms/step - loss: 1.3468 - masked_accuracy: 0.7186 - val_loss: 2.2004 - val_masked_accuracy: 0.5688\n",
            "Epoch 11/15\n",
            "\u001b[1m215/215\u001b[0m \u001b[32m━━━━━━━━━━━━━━━━━━━━\u001b[0m\u001b[37m\u001b[0m \u001b[1m47s\u001b[0m 218ms/step - loss: 0.9765 - masked_accuracy: 0.7862 - val_loss: 1.9424 - val_masked_accuracy: 0.6272\n",
            "Epoch 12/15\n",
            "\u001b[1m215/215\u001b[0m \u001b[32m━━━━━━━━━━━━━━━━━━━━\u001b[0m\u001b[37m\u001b[0m \u001b[1m47s\u001b[0m 217ms/step - loss: 0.7484 - masked_accuracy: 0.8256 - val_loss: 1.7601 - val_masked_accuracy: 0.6596\n",
            "Epoch 13/15\n",
            "\u001b[1m215/215\u001b[0m \u001b[32m━━━━━━━━━━━━━━━━━━━━\u001b[0m\u001b[37m\u001b[0m \u001b[1m83s\u001b[0m 222ms/step - loss: 0.6170 - masked_accuracy: 0.8486 - val_loss: 1.6574 - val_masked_accuracy: 0.6847\n",
            "Epoch 14/15\n",
            "\u001b[1m122/215\u001b[0m \u001b[32m━━━━━━━━━━━\u001b[0m\u001b[37m━━━━━━━━━\u001b[0m \u001b[1m19s\u001b[0m 207ms/step - loss: 0.5062 - masked_accuracy: 0.8722"
          ]
        }
      ],
      "source": [
        "# Train the model\n",
        "\n",
        "\n",
        "# Fit the model\n",
        "history = transformer.fit(\n",
        "    x=[X_train, y_train[:,:-1]],\n",
        "    y=y_train[:,1:],  # Ensure y_train_target is in the correct format\n",
        "    validation_data=([X_test, y_test[:,:-1]], y_test[:,1:]),  # Ensure y_test_target is in the correct format\n",
        "    batch_size=16,\n",
        "    epochs=15\n",
        ")"
      ]
    },
    {
      "cell_type": "markdown",
      "metadata": {
        "id": "gZkETV7giEuE"
      },
      "source": [
        "### Save model weights"
      ]
    },
    {
      "cell_type": "code",
      "execution_count": null,
      "metadata": {
        "id": "r3DV-yQihsNV"
      },
      "outputs": [],
      "source": [
        "!mkdir my_model_weights"
      ]
    },
    {
      "cell_type": "code",
      "execution_count": null,
      "metadata": {
        "id": "u1Wfb5WJf_GC"
      },
      "outputs": [],
      "source": [
        "# Save model weights\n",
        "# It will create a '.weights.h5' file which can be downloaded into your system from colab\n",
        "\n",
        "transformer.save_weights('my_model_weights/my_weights.weights.h5')"
      ]
    },
    {
      "cell_type": "code",
      "execution_count": null,
      "metadata": {
        "id": "E9-Un2VAh6px"
      },
      "outputs": [],
      "source": [
        "# OR\n",
        "# Make a zip file, which also can be downloaded into your system from colab\n",
        "\n",
        "!zip -r 'my_model_weights.zip' 'my_model_weights'"
      ]
    },
    {
      "cell_type": "markdown",
      "metadata": {
        "id": "z0wjnHjRCU9C"
      },
      "source": [
        "### Load model weights\n",
        "\n",
        "Whenever you need to use this trained model weights:\n",
        "* use the model architecture to create exact same model\n",
        "* then load the trained weights directly using below code"
      ]
    },
    {
      "cell_type": "code",
      "execution_count": null,
      "metadata": {
        "id": "BoKEsIbqhWLi"
      },
      "outputs": [],
      "source": [
        "# To load model weights\n",
        "transformer.load_weights('my_model_weights/my_weights.weights.h5')"
      ]
    },
    {
      "cell_type": "markdown",
      "metadata": {
        "id": "cxKpqCbzSW6z"
      },
      "source": [
        "## Run Inference\n",
        "\n",
        "**Exercise 16: Create a function to extract keywords, given transcription text as input [1 Mark]**\n",
        "\n",
        "- Encode the input sentence using the Transcription tokenizer. This is the encoder input\n",
        "- Initialize decoder input with the 'start' token\n",
        "- The decoder then outputs the predictions by looking at the encoder output and its own output (self-attention).\n",
        "- Concatenate the predicted token to the decoder input and pass it to the decoder repeatedly\n",
        "- Make decoder predict the next token based on the previous tokens it has predicted"
      ]
    },
    {
      "cell_type": "code",
      "execution_count": null,
      "metadata": {
        "id": "lC282zeaCdtx"
      },
      "outputs": [],
      "source": [
        "def extract_keywords(sentence, transformer=transformer):\n",
        "\n",
        "    \"\"\" Takes an input sentence, and transformer. Returns extracted keywords. \"\"\"\n",
        "\n",
        "    # Convert input sentence into integer sequence (Note that tokenizer.texts_to_sequences() take list of text as input)\n",
        "    ip_tokens = x_tokenizer.texts_to_sequences([sentence])\n",
        "\n",
        "    # Add zero padding upto maximum length transcription\n",
        "    ip_tok_seq =  pad_sequences(ip_tokens, maxlen=max_len_transcript, padding='post', truncating='post')\n",
        "\n",
        "    # Create a decoder sequence with 'start' token index\n",
        "    dec_tok_seq = np.array([y_tokenizer.word_index['start']])\n",
        "\n",
        "    # Variable to store the output text string\n",
        "    keyword_sentence = ''\n",
        "\n",
        "    for i in range(max_len_keywords):\n",
        "\n",
        "        # Get output logits from transformer\n",
        "        pred = transformer([ip_tok_seq.reshape(1,-1), dec_tok_seq.reshape(1, -1)], training=False)\n",
        "        pred = pred[:, -1:, :]\n",
        "\n",
        "        # Select the index with max value from 'pred' to get the output token index\n",
        "        max_ind = tf.argmax(pred, axis=-1)\n",
        "        token = max_ind.numpy()[0][0]\n",
        "        print(token)\n",
        "        print(max_ind)\n",
        "        # Convert output token to word\n",
        "        word = y_tokenizer.index_word[token]\n",
        "\n",
        "        # End the loop if word is 'end'\n",
        "        # YOUR CODE HERE\n",
        "\n",
        "        if word == 'end': break\n",
        "        # Append 'token' to dec_tok_seq\n",
        "        dec_tok_seq = np.append(dec_tok_seq, token)\n",
        "\n",
        "        # Append 'word' to keyword sentence\n",
        "        # YOUR CODE HERE\n",
        "        keyword_sentence += ' ' + word\n",
        "\n",
        "    return keyword_sentence.strip()\n"
      ]
    },
    {
      "cell_type": "code",
      "execution_count": null,
      "metadata": {
        "id": "QBf2v9SocE0V"
      },
      "outputs": [],
      "source": [
        "# Predict keywords for a sample input\n",
        "\n",
        "extract_keywords(data.transcription[100])\n"
      ]
    },
    {
      "cell_type": "markdown",
      "metadata": {
        "id": "DXQYvbik134w"
      },
      "source": [
        "## Gradio Implementation [OPTIONAL]"
      ]
    },
    {
      "cell_type": "markdown",
      "metadata": {
        "id": "f9LGFxtQjwxv"
      },
      "source": [
        "Gradio is an open-source python library that allows us to quickly create easy-to-use, customizable UI components for our ML model, any API, or any arbitrary function in just a few lines of code. We can integrate the GUI directly into the Python notebook, or we can share the link with anyone."
      ]
    },
    {
      "cell_type": "code",
      "execution_count": null,
      "metadata": {
        "id": "wl0ngdnKjKHH"
      },
      "outputs": [],
      "source": [
        "!pip -qq install gradio"
      ]
    },
    {
      "cell_type": "code",
      "execution_count": null,
      "metadata": {
        "id": "3XwCJSdDDVVU"
      },
      "outputs": [],
      "source": [
        "import gradio"
      ]
    },
    {
      "cell_type": "code",
      "execution_count": null,
      "metadata": {
        "id": "oy_0yXHI7fs4"
      },
      "outputs": [],
      "source": [
        "# Input from user\n",
        "in_transcript = gradio.Textbox(lines=10, placeholder=None, value=\"transcription\", label='Enter Transcription Text')\n",
        "\n",
        "# Output prediction\n",
        "out_keywords = gradio.Textbox(type=\"text\", label='Extracted Keywords')\n",
        "\n",
        "\n",
        "# Gradio interface to generate UI\n",
        "iface = gradio.Interface(fn = extract_keywords,\n",
        "                         inputs = [in_transcript],\n",
        "                         outputs = [out_keywords],\n",
        "                         title = \"Keywords Extraction\",\n",
        "                         description = \"Using transformer model, trained from scratch\",\n",
        "                         allow_flagging = 'never')\n",
        "\n",
        "iface.launch(share = True)"
      ]
    },
    {
      "cell_type": "markdown",
      "metadata": {
        "id": "j2eQkcvnvntC"
      },
      "source": [
        "Click on the link generated above to see UI."
      ]
    }
  ],
  "metadata": {
    "colab": {
      "provenance": [],
      "gpuType": "T4",
      "include_colab_link": true
    },
    "kernelspec": {
      "display_name": "Python 3",
      "name": "python3"
    },
    "language_info": {
      "codemirror_mode": {
        "name": "ipython",
        "version": 3
      },
      "file_extension": ".py",
      "mimetype": "text/x-python",
      "name": "python",
      "nbconvert_exporter": "python",
      "pygments_lexer": "ipython3",
      "version": "3.6.13"
    },
    "accelerator": "GPU"
  },
  "nbformat": 4,
  "nbformat_minor": 0
}