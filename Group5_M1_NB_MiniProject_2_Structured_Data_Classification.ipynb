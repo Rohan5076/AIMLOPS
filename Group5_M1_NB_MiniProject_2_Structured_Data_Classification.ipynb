{
  "cells": [
    {
      "cell_type": "markdown",
      "metadata": {
        "id": "view-in-github",
        "colab_type": "text"
      },
      "source": [
        "<a href=\"https://colab.research.google.com/github/Rohan5076/AIMLOPS/blob/main/Group5_M1_NB_MiniProject_2_Structured_Data_Classification.ipynb\" target=\"_parent\"><img src=\"https://colab.research.google.com/assets/colab-badge.svg\" alt=\"Open In Colab\"/></a>"
      ]
    },
    {
      "cell_type": "markdown",
      "metadata": {
        "id": "hTplQkOMsKhd"
      },
      "source": [
        "# Advanced Certification Programme in AI and MLOps\n",
        "## A programme by IISc and TalentSprint\n",
        "### Mini-Project Notebook: Structured Data Classification"
      ]
    },
    {
      "cell_type": "markdown",
      "metadata": {
        "id": "SZlu0P9jj_ei"
      },
      "source": [
        "## Problem Statement"
      ]
    },
    {
      "cell_type": "markdown",
      "metadata": {
        "id": "3xaJosu2kfGE"
      },
      "source": [
        "To predict whether a patient has a heart disease."
      ]
    },
    {
      "cell_type": "markdown",
      "metadata": {
        "id": "8N0iS4ipU_XM"
      },
      "source": [
        "## Learning Objectives"
      ]
    },
    {
      "cell_type": "markdown",
      "metadata": {
        "id": "K8OXq65pVDDS"
      },
      "source": [
        "At the end of the experiment, you will be able to\n",
        "\n",
        "* Understand the Cleveland Clinic Foundation Heart Disease dataset\n",
        "* Pre-process this dataset using Keras layers: IntegerLookup, StringLookup & Normalization\n",
        "* Understand and use Keras concatenate layer\n",
        "* Build a neural network model and architecture using Keras functional api\n",
        "* Predict an unseen data"
      ]
    },
    {
      "cell_type": "markdown",
      "source": [
        "## Introduction\n",
        "\n",
        "This example demonstrates how to do structured data classification, starting from a raw\n",
        "CSV file. Our data includes both numerical and categorical features. We will use Keras\n",
        "preprocessing layers to normalize the numerical features and vectorize the categorical\n",
        "ones.\n",
        "\n",
        "Note that this example should be run with TensorFlow 2.5 or higher."
      ],
      "metadata": {
        "id": "5zBPlw87J9cF"
      }
    },
    {
      "cell_type": "markdown",
      "metadata": {
        "id": "bScMHnbIaxsQ"
      },
      "source": [
        "## Dataset\n",
        "\n",
        "[Our dataset](https://archive.ics.uci.edu/ml/datasets/heart+Disease) is provided by the\n",
        "Cleveland Clinic Foundation for Heart Disease.\n",
        "It's a CSV file with 303 rows. Each row contains information about a patient (a\n",
        "**sample**), and each column describes an attribute of the patient (a **feature**). We\n",
        "use the features to predict whether a patient has a heart disease (**binary\n",
        "classification**).\n",
        "\n",
        "Here's the description of each feature:\n",
        "<br><br>\n",
        "\n",
        "Column| Description| Feature Type\n",
        "------------|--------------------|----------------------\n",
        "Age | Age in years | Numerical\n",
        "Sex | (1 = male; 0 = female) | Categorical\n",
        "CP | Chest pain type (0, 1, 2, 3, 4) | Categorical\n",
        "Trestbpd | Resting blood pressure (in mm Hg on admission) | Numerical\n",
        "Chol | Serum cholesterol in mg/dl | Numerical\n",
        "FBS | fasting blood sugar in 120 mg/dl (1 = true; 0 = false) | Categorical\n",
        "RestECG | Resting electrocardiogram results (0, 1, 2) | Categorical\n",
        "Thalach | Maximum heart rate achieved | Numerical\n",
        "Exang | Exercise induced angina (1 = yes; 0 = no) | Categorical\n",
        "Oldpeak | ST depression induced by exercise relative to rest | Numerical\n",
        "Slope | Slope of the peak exercise ST segment | Numerical\n",
        "CA | Number of major vessels (0-3) colored by fluoroscopy | Both numerical & categorical\n",
        "Thal | 3 = normal; 6 = fixed defect; 7 = reversible defect | Categorical\n",
        "Target | Diagnosis of heart disease (1 = true; 0 = false) | Target\n",
        "\n",
        "<br><br>"
      ]
    },
    {
      "cell_type": "code",
      "execution_count": null,
      "metadata": {
        "id": "812a816f",
        "colab": {
          "base_uri": "https://localhost:8080/"
        },
        "outputId": "98e8f828-0238-4050-c305-c24617802ea9"
      },
      "outputs": [
        {
          "output_type": "stream",
          "name": "stdout",
          "text": [
            "Data Downloaded Successfuly!!\n"
          ]
        }
      ],
      "source": [
        "#@title Download the data\n",
        "!wget -qq https://cdn.iisc.talentsprint.com/AIandMLOps/Datasets/heart.csv\n",
        "print(\"Data Downloaded Successfuly!!\")"
      ]
    },
    {
      "cell_type": "markdown",
      "metadata": {
        "id": "operating-latter"
      },
      "source": [
        "## Grading = 10 Points"
      ]
    },
    {
      "cell_type": "markdown",
      "metadata": {
        "id": "1TmXyc2bRFvM"
      },
      "source": [
        "### Import Required Packages"
      ]
    },
    {
      "cell_type": "code",
      "execution_count": null,
      "metadata": {
        "id": "MK4EbY6xaxsR"
      },
      "outputs": [],
      "source": [
        "import tensorflow as tf\n",
        "import numpy as np\n",
        "import pandas as pd\n",
        "from tensorflow import keras\n",
        "from sklearn.preprocessing import LabelEncoder\n",
        "from tensorflow.keras import layers\n",
        "from tensorflow.keras.layers import IntegerLookup     # Used in Feature processing\n",
        "from tensorflow.keras.layers import Normalization     # Used in Feature processing\n",
        "from tensorflow.keras.layers import StringLookup      # Used in Feature processing"
      ]
    },
    {
      "cell_type": "markdown",
      "source": [
        "# Part A"
      ],
      "metadata": {
        "id": "-tBU6ZMlW0My"
      }
    },
    {
      "cell_type": "markdown",
      "metadata": {
        "id": "zWmEGCqDaxsS"
      },
      "source": [
        "## Load the data and create batches [2 Marks]"
      ]
    },
    {
      "cell_type": "markdown",
      "source": [
        "### Load data into a Pandas dataframe\n",
        "\n",
        "Hint:: pd.read_csv"
      ],
      "metadata": {
        "id": "V7IEMgJ8jnGr"
      }
    },
    {
      "cell_type": "code",
      "execution_count": null,
      "metadata": {
        "id": "6N7lrEsZaxsT"
      },
      "outputs": [],
      "source": [
        "file_url = \"/content/heart.csv\"\n",
        "df = pd.read_csv(file_url)"
      ]
    },
    {
      "cell_type": "markdown",
      "metadata": {
        "id": "M-f50aCJaxsT"
      },
      "source": [
        "Check the shape of the dataset:"
      ]
    },
    {
      "cell_type": "code",
      "execution_count": null,
      "metadata": {
        "id": "nrNUOPFVaxsT",
        "colab": {
          "base_uri": "https://localhost:8080/"
        },
        "outputId": "4b12f761-a5e0-421e-d625-ce2a688d86ac"
      },
      "outputs": [
        {
          "output_type": "execute_result",
          "data": {
            "text/plain": [
              "(303, 14)"
            ]
          },
          "metadata": {},
          "execution_count": 4
        }
      ],
      "source": [
        "df.shape"
      ]
    },
    {
      "cell_type": "markdown",
      "metadata": {
        "id": "ptTMb_dsaxsU"
      },
      "source": [
        "Check the preview of a few samples:\n",
        "\n",
        "Hint:: head()"
      ]
    },
    {
      "cell_type": "code",
      "execution_count": null,
      "metadata": {
        "id": "zHjlz0HhaxsU",
        "colab": {
          "base_uri": "https://localhost:8080/",
          "height": 206
        },
        "outputId": "419a5407-8b17-41a3-f1d2-4957f523c771"
      },
      "outputs": [
        {
          "output_type": "execute_result",
          "data": {
            "text/plain": [
              "   age  sex  cp  trestbps  chol  fbs  restecg  thalach  exang  oldpeak  slope  \\\n",
              "0   63    1   1       145   233    1        2      150      0      2.3      3   \n",
              "1   67    1   4       160   286    0        2      108      1      1.5      2   \n",
              "2   67    1   4       120   229    0        2      129      1      2.6      2   \n",
              "3   37    1   3       130   250    0        0      187      0      3.5      3   \n",
              "4   41    0   2       130   204    0        2      172      0      1.4      1   \n",
              "\n",
              "   ca        thal  target  \n",
              "0   0       fixed       0  \n",
              "1   3      normal       1  \n",
              "2   2  reversible       0  \n",
              "3   0      normal       0  \n",
              "4   0      normal       0  "
            ],
            "text/html": [
              "\n",
              "  <div id=\"df-f469d426-519f-4e55-8f32-f40351784db2\" class=\"colab-df-container\">\n",
              "    <div>\n",
              "<style scoped>\n",
              "    .dataframe tbody tr th:only-of-type {\n",
              "        vertical-align: middle;\n",
              "    }\n",
              "\n",
              "    .dataframe tbody tr th {\n",
              "        vertical-align: top;\n",
              "    }\n",
              "\n",
              "    .dataframe thead th {\n",
              "        text-align: right;\n",
              "    }\n",
              "</style>\n",
              "<table border=\"1\" class=\"dataframe\">\n",
              "  <thead>\n",
              "    <tr style=\"text-align: right;\">\n",
              "      <th></th>\n",
              "      <th>age</th>\n",
              "      <th>sex</th>\n",
              "      <th>cp</th>\n",
              "      <th>trestbps</th>\n",
              "      <th>chol</th>\n",
              "      <th>fbs</th>\n",
              "      <th>restecg</th>\n",
              "      <th>thalach</th>\n",
              "      <th>exang</th>\n",
              "      <th>oldpeak</th>\n",
              "      <th>slope</th>\n",
              "      <th>ca</th>\n",
              "      <th>thal</th>\n",
              "      <th>target</th>\n",
              "    </tr>\n",
              "  </thead>\n",
              "  <tbody>\n",
              "    <tr>\n",
              "      <th>0</th>\n",
              "      <td>63</td>\n",
              "      <td>1</td>\n",
              "      <td>1</td>\n",
              "      <td>145</td>\n",
              "      <td>233</td>\n",
              "      <td>1</td>\n",
              "      <td>2</td>\n",
              "      <td>150</td>\n",
              "      <td>0</td>\n",
              "      <td>2.3</td>\n",
              "      <td>3</td>\n",
              "      <td>0</td>\n",
              "      <td>fixed</td>\n",
              "      <td>0</td>\n",
              "    </tr>\n",
              "    <tr>\n",
              "      <th>1</th>\n",
              "      <td>67</td>\n",
              "      <td>1</td>\n",
              "      <td>4</td>\n",
              "      <td>160</td>\n",
              "      <td>286</td>\n",
              "      <td>0</td>\n",
              "      <td>2</td>\n",
              "      <td>108</td>\n",
              "      <td>1</td>\n",
              "      <td>1.5</td>\n",
              "      <td>2</td>\n",
              "      <td>3</td>\n",
              "      <td>normal</td>\n",
              "      <td>1</td>\n",
              "    </tr>\n",
              "    <tr>\n",
              "      <th>2</th>\n",
              "      <td>67</td>\n",
              "      <td>1</td>\n",
              "      <td>4</td>\n",
              "      <td>120</td>\n",
              "      <td>229</td>\n",
              "      <td>0</td>\n",
              "      <td>2</td>\n",
              "      <td>129</td>\n",
              "      <td>1</td>\n",
              "      <td>2.6</td>\n",
              "      <td>2</td>\n",
              "      <td>2</td>\n",
              "      <td>reversible</td>\n",
              "      <td>0</td>\n",
              "    </tr>\n",
              "    <tr>\n",
              "      <th>3</th>\n",
              "      <td>37</td>\n",
              "      <td>1</td>\n",
              "      <td>3</td>\n",
              "      <td>130</td>\n",
              "      <td>250</td>\n",
              "      <td>0</td>\n",
              "      <td>0</td>\n",
              "      <td>187</td>\n",
              "      <td>0</td>\n",
              "      <td>3.5</td>\n",
              "      <td>3</td>\n",
              "      <td>0</td>\n",
              "      <td>normal</td>\n",
              "      <td>0</td>\n",
              "    </tr>\n",
              "    <tr>\n",
              "      <th>4</th>\n",
              "      <td>41</td>\n",
              "      <td>0</td>\n",
              "      <td>2</td>\n",
              "      <td>130</td>\n",
              "      <td>204</td>\n",
              "      <td>0</td>\n",
              "      <td>2</td>\n",
              "      <td>172</td>\n",
              "      <td>0</td>\n",
              "      <td>1.4</td>\n",
              "      <td>1</td>\n",
              "      <td>0</td>\n",
              "      <td>normal</td>\n",
              "      <td>0</td>\n",
              "    </tr>\n",
              "  </tbody>\n",
              "</table>\n",
              "</div>\n",
              "    <div class=\"colab-df-buttons\">\n",
              "\n",
              "  <div class=\"colab-df-container\">\n",
              "    <button class=\"colab-df-convert\" onclick=\"convertToInteractive('df-f469d426-519f-4e55-8f32-f40351784db2')\"\n",
              "            title=\"Convert this dataframe to an interactive table.\"\n",
              "            style=\"display:none;\">\n",
              "\n",
              "  <svg xmlns=\"http://www.w3.org/2000/svg\" height=\"24px\" viewBox=\"0 -960 960 960\">\n",
              "    <path d=\"M120-120v-720h720v720H120Zm60-500h600v-160H180v160Zm220 220h160v-160H400v160Zm0 220h160v-160H400v160ZM180-400h160v-160H180v160Zm440 0h160v-160H620v160ZM180-180h160v-160H180v160Zm440 0h160v-160H620v160Z\"/>\n",
              "  </svg>\n",
              "    </button>\n",
              "\n",
              "  <style>\n",
              "    .colab-df-container {\n",
              "      display:flex;\n",
              "      gap: 12px;\n",
              "    }\n",
              "\n",
              "    .colab-df-convert {\n",
              "      background-color: #E8F0FE;\n",
              "      border: none;\n",
              "      border-radius: 50%;\n",
              "      cursor: pointer;\n",
              "      display: none;\n",
              "      fill: #1967D2;\n",
              "      height: 32px;\n",
              "      padding: 0 0 0 0;\n",
              "      width: 32px;\n",
              "    }\n",
              "\n",
              "    .colab-df-convert:hover {\n",
              "      background-color: #E2EBFA;\n",
              "      box-shadow: 0px 1px 2px rgba(60, 64, 67, 0.3), 0px 1px 3px 1px rgba(60, 64, 67, 0.15);\n",
              "      fill: #174EA6;\n",
              "    }\n",
              "\n",
              "    .colab-df-buttons div {\n",
              "      margin-bottom: 4px;\n",
              "    }\n",
              "\n",
              "    [theme=dark] .colab-df-convert {\n",
              "      background-color: #3B4455;\n",
              "      fill: #D2E3FC;\n",
              "    }\n",
              "\n",
              "    [theme=dark] .colab-df-convert:hover {\n",
              "      background-color: #434B5C;\n",
              "      box-shadow: 0px 1px 3px 1px rgba(0, 0, 0, 0.15);\n",
              "      filter: drop-shadow(0px 1px 2px rgba(0, 0, 0, 0.3));\n",
              "      fill: #FFFFFF;\n",
              "    }\n",
              "  </style>\n",
              "\n",
              "    <script>\n",
              "      const buttonEl =\n",
              "        document.querySelector('#df-f469d426-519f-4e55-8f32-f40351784db2 button.colab-df-convert');\n",
              "      buttonEl.style.display =\n",
              "        google.colab.kernel.accessAllowed ? 'block' : 'none';\n",
              "\n",
              "      async function convertToInteractive(key) {\n",
              "        const element = document.querySelector('#df-f469d426-519f-4e55-8f32-f40351784db2');\n",
              "        const dataTable =\n",
              "          await google.colab.kernel.invokeFunction('convertToInteractive',\n",
              "                                                    [key], {});\n",
              "        if (!dataTable) return;\n",
              "\n",
              "        const docLinkHtml = 'Like what you see? Visit the ' +\n",
              "          '<a target=\"_blank\" href=https://colab.research.google.com/notebooks/data_table.ipynb>data table notebook</a>'\n",
              "          + ' to learn more about interactive tables.';\n",
              "        element.innerHTML = '';\n",
              "        dataTable['output_type'] = 'display_data';\n",
              "        await google.colab.output.renderOutput(dataTable, element);\n",
              "        const docLink = document.createElement('div');\n",
              "        docLink.innerHTML = docLinkHtml;\n",
              "        element.appendChild(docLink);\n",
              "      }\n",
              "    </script>\n",
              "  </div>\n",
              "\n",
              "\n",
              "<div id=\"df-686af707-51c3-4c3b-b8a7-717be58b2124\">\n",
              "  <button class=\"colab-df-quickchart\" onclick=\"quickchart('df-686af707-51c3-4c3b-b8a7-717be58b2124')\"\n",
              "            title=\"Suggest charts\"\n",
              "            style=\"display:none;\">\n",
              "\n",
              "<svg xmlns=\"http://www.w3.org/2000/svg\" height=\"24px\"viewBox=\"0 0 24 24\"\n",
              "     width=\"24px\">\n",
              "    <g>\n",
              "        <path d=\"M19 3H5c-1.1 0-2 .9-2 2v14c0 1.1.9 2 2 2h14c1.1 0 2-.9 2-2V5c0-1.1-.9-2-2-2zM9 17H7v-7h2v7zm4 0h-2V7h2v10zm4 0h-2v-4h2v4z\"/>\n",
              "    </g>\n",
              "</svg>\n",
              "  </button>\n",
              "\n",
              "<style>\n",
              "  .colab-df-quickchart {\n",
              "      --bg-color: #E8F0FE;\n",
              "      --fill-color: #1967D2;\n",
              "      --hover-bg-color: #E2EBFA;\n",
              "      --hover-fill-color: #174EA6;\n",
              "      --disabled-fill-color: #AAA;\n",
              "      --disabled-bg-color: #DDD;\n",
              "  }\n",
              "\n",
              "  [theme=dark] .colab-df-quickchart {\n",
              "      --bg-color: #3B4455;\n",
              "      --fill-color: #D2E3FC;\n",
              "      --hover-bg-color: #434B5C;\n",
              "      --hover-fill-color: #FFFFFF;\n",
              "      --disabled-bg-color: #3B4455;\n",
              "      --disabled-fill-color: #666;\n",
              "  }\n",
              "\n",
              "  .colab-df-quickchart {\n",
              "    background-color: var(--bg-color);\n",
              "    border: none;\n",
              "    border-radius: 50%;\n",
              "    cursor: pointer;\n",
              "    display: none;\n",
              "    fill: var(--fill-color);\n",
              "    height: 32px;\n",
              "    padding: 0;\n",
              "    width: 32px;\n",
              "  }\n",
              "\n",
              "  .colab-df-quickchart:hover {\n",
              "    background-color: var(--hover-bg-color);\n",
              "    box-shadow: 0 1px 2px rgba(60, 64, 67, 0.3), 0 1px 3px 1px rgba(60, 64, 67, 0.15);\n",
              "    fill: var(--button-hover-fill-color);\n",
              "  }\n",
              "\n",
              "  .colab-df-quickchart-complete:disabled,\n",
              "  .colab-df-quickchart-complete:disabled:hover {\n",
              "    background-color: var(--disabled-bg-color);\n",
              "    fill: var(--disabled-fill-color);\n",
              "    box-shadow: none;\n",
              "  }\n",
              "\n",
              "  .colab-df-spinner {\n",
              "    border: 2px solid var(--fill-color);\n",
              "    border-color: transparent;\n",
              "    border-bottom-color: var(--fill-color);\n",
              "    animation:\n",
              "      spin 1s steps(1) infinite;\n",
              "  }\n",
              "\n",
              "  @keyframes spin {\n",
              "    0% {\n",
              "      border-color: transparent;\n",
              "      border-bottom-color: var(--fill-color);\n",
              "      border-left-color: var(--fill-color);\n",
              "    }\n",
              "    20% {\n",
              "      border-color: transparent;\n",
              "      border-left-color: var(--fill-color);\n",
              "      border-top-color: var(--fill-color);\n",
              "    }\n",
              "    30% {\n",
              "      border-color: transparent;\n",
              "      border-left-color: var(--fill-color);\n",
              "      border-top-color: var(--fill-color);\n",
              "      border-right-color: var(--fill-color);\n",
              "    }\n",
              "    40% {\n",
              "      border-color: transparent;\n",
              "      border-right-color: var(--fill-color);\n",
              "      border-top-color: var(--fill-color);\n",
              "    }\n",
              "    60% {\n",
              "      border-color: transparent;\n",
              "      border-right-color: var(--fill-color);\n",
              "    }\n",
              "    80% {\n",
              "      border-color: transparent;\n",
              "      border-right-color: var(--fill-color);\n",
              "      border-bottom-color: var(--fill-color);\n",
              "    }\n",
              "    90% {\n",
              "      border-color: transparent;\n",
              "      border-bottom-color: var(--fill-color);\n",
              "    }\n",
              "  }\n",
              "</style>\n",
              "\n",
              "  <script>\n",
              "    async function quickchart(key) {\n",
              "      const quickchartButtonEl =\n",
              "        document.querySelector('#' + key + ' button');\n",
              "      quickchartButtonEl.disabled = true;  // To prevent multiple clicks.\n",
              "      quickchartButtonEl.classList.add('colab-df-spinner');\n",
              "      try {\n",
              "        const charts = await google.colab.kernel.invokeFunction(\n",
              "            'suggestCharts', [key], {});\n",
              "      } catch (error) {\n",
              "        console.error('Error during call to suggestCharts:', error);\n",
              "      }\n",
              "      quickchartButtonEl.classList.remove('colab-df-spinner');\n",
              "      quickchartButtonEl.classList.add('colab-df-quickchart-complete');\n",
              "    }\n",
              "    (() => {\n",
              "      let quickchartButtonEl =\n",
              "        document.querySelector('#df-686af707-51c3-4c3b-b8a7-717be58b2124 button');\n",
              "      quickchartButtonEl.style.display =\n",
              "        google.colab.kernel.accessAllowed ? 'block' : 'none';\n",
              "    })();\n",
              "  </script>\n",
              "</div>\n",
              "\n",
              "    </div>\n",
              "  </div>\n"
            ],
            "application/vnd.google.colaboratory.intrinsic+json": {
              "type": "dataframe",
              "variable_name": "df",
              "summary": "{\n  \"name\": \"df\",\n  \"rows\": 303,\n  \"fields\": [\n    {\n      \"column\": \"age\",\n      \"properties\": {\n        \"dtype\": \"number\",\n        \"std\": 9,\n        \"min\": 29,\n        \"max\": 77,\n        \"num_unique_values\": 41,\n        \"samples\": [\n          61,\n          64,\n          44\n        ],\n        \"semantic_type\": \"\",\n        \"description\": \"\"\n      }\n    },\n    {\n      \"column\": \"sex\",\n      \"properties\": {\n        \"dtype\": \"number\",\n        \"std\": 0,\n        \"min\": 0,\n        \"max\": 1,\n        \"num_unique_values\": 2,\n        \"samples\": [\n          0,\n          1\n        ],\n        \"semantic_type\": \"\",\n        \"description\": \"\"\n      }\n    },\n    {\n      \"column\": \"cp\",\n      \"properties\": {\n        \"dtype\": \"number\",\n        \"std\": 1,\n        \"min\": 0,\n        \"max\": 4,\n        \"num_unique_values\": 5,\n        \"samples\": [\n          4,\n          0\n        ],\n        \"semantic_type\": \"\",\n        \"description\": \"\"\n      }\n    },\n    {\n      \"column\": \"trestbps\",\n      \"properties\": {\n        \"dtype\": \"number\",\n        \"std\": 17,\n        \"min\": 94,\n        \"max\": 200,\n        \"num_unique_values\": 50,\n        \"samples\": [\n          104,\n          192\n        ],\n        \"semantic_type\": \"\",\n        \"description\": \"\"\n      }\n    },\n    {\n      \"column\": \"chol\",\n      \"properties\": {\n        \"dtype\": \"number\",\n        \"std\": 52,\n        \"min\": 126,\n        \"max\": 564,\n        \"num_unique_values\": 152,\n        \"samples\": [\n          261,\n          182\n        ],\n        \"semantic_type\": \"\",\n        \"description\": \"\"\n      }\n    },\n    {\n      \"column\": \"fbs\",\n      \"properties\": {\n        \"dtype\": \"number\",\n        \"std\": 0,\n        \"min\": 0,\n        \"max\": 1,\n        \"num_unique_values\": 2,\n        \"samples\": [\n          0,\n          1\n        ],\n        \"semantic_type\": \"\",\n        \"description\": \"\"\n      }\n    },\n    {\n      \"column\": \"restecg\",\n      \"properties\": {\n        \"dtype\": \"number\",\n        \"std\": 0,\n        \"min\": 0,\n        \"max\": 2,\n        \"num_unique_values\": 3,\n        \"samples\": [\n          2,\n          0\n        ],\n        \"semantic_type\": \"\",\n        \"description\": \"\"\n      }\n    },\n    {\n      \"column\": \"thalach\",\n      \"properties\": {\n        \"dtype\": \"number\",\n        \"std\": 23,\n        \"min\": 71,\n        \"max\": 202,\n        \"num_unique_values\": 91,\n        \"samples\": [\n          175,\n          114\n        ],\n        \"semantic_type\": \"\",\n        \"description\": \"\"\n      }\n    },\n    {\n      \"column\": \"exang\",\n      \"properties\": {\n        \"dtype\": \"number\",\n        \"std\": 0,\n        \"min\": 0,\n        \"max\": 1,\n        \"num_unique_values\": 2,\n        \"samples\": [\n          1,\n          0\n        ],\n        \"semantic_type\": \"\",\n        \"description\": \"\"\n      }\n    },\n    {\n      \"column\": \"oldpeak\",\n      \"properties\": {\n        \"dtype\": \"number\",\n        \"std\": 1.1650246194814895,\n        \"min\": 0.0,\n        \"max\": 6.2,\n        \"num_unique_values\": 40,\n        \"samples\": [\n          2.4,\n          0.2\n        ],\n        \"semantic_type\": \"\",\n        \"description\": \"\"\n      }\n    },\n    {\n      \"column\": \"slope\",\n      \"properties\": {\n        \"dtype\": \"number\",\n        \"std\": 0,\n        \"min\": 1,\n        \"max\": 3,\n        \"num_unique_values\": 3,\n        \"samples\": [\n          3,\n          2\n        ],\n        \"semantic_type\": \"\",\n        \"description\": \"\"\n      }\n    },\n    {\n      \"column\": \"ca\",\n      \"properties\": {\n        \"dtype\": \"number\",\n        \"std\": 0,\n        \"min\": 0,\n        \"max\": 3,\n        \"num_unique_values\": 4,\n        \"samples\": [\n          3,\n          1\n        ],\n        \"semantic_type\": \"\",\n        \"description\": \"\"\n      }\n    },\n    {\n      \"column\": \"thal\",\n      \"properties\": {\n        \"dtype\": \"category\",\n        \"num_unique_values\": 5,\n        \"samples\": [\n          \"normal\",\n          \"2\"\n        ],\n        \"semantic_type\": \"\",\n        \"description\": \"\"\n      }\n    },\n    {\n      \"column\": \"target\",\n      \"properties\": {\n        \"dtype\": \"number\",\n        \"std\": 0,\n        \"min\": 0,\n        \"max\": 1,\n        \"num_unique_values\": 2,\n        \"samples\": [\n          1,\n          0\n        ],\n        \"semantic_type\": \"\",\n        \"description\": \"\"\n      }\n    }\n  ]\n}"
            }
          },
          "metadata": {},
          "execution_count": 5
        }
      ],
      "source": [
        "df.head()"
      ]
    },
    {
      "cell_type": "code",
      "source": [
        "print(df.target.unique())\n",
        "print(df.target.value_counts())"
      ],
      "metadata": {
        "id": "VUhoqcuK4Hp_",
        "outputId": "aa8a0ac3-549d-4f8a-ec81-d543ebe28bd8",
        "colab": {
          "base_uri": "https://localhost:8080/"
        }
      },
      "execution_count": null,
      "outputs": [
        {
          "output_type": "stream",
          "name": "stdout",
          "text": [
            "[0 1]\n",
            "target\n",
            "0    220\n",
            "1     83\n",
            "Name: count, dtype: int64\n"
          ]
        }
      ]
    },
    {
      "cell_type": "markdown",
      "metadata": {
        "id": "Glx6sm_daxsU"
      },
      "source": [
        "Draw some inference from the data. What does the target column indicate?\n",
        "\n",
        "The last column, \"target\", indicates whether the patient has a heart disease (1) or not\n",
        "(0)."
      ]
    },
    {
      "cell_type": "markdown",
      "source": [
        "### Split the data into a training and validation set\n",
        "\n",
        "Hint:: Use .sample() method from Pandas.\n",
        "\n",
        "Refer to link [here](https://pandas.pydata.org/docs/reference/api/pandas.DataFrame.sample.html)\n",
        "\n",
        "Official reference from pandas for drop method [here](https://pandas.pydata.org/docs/reference/api/pandas.DataFrame.drop.html)"
      ],
      "metadata": {
        "id": "sUsajA0isrL9"
      }
    },
    {
      "cell_type": "code",
      "execution_count": null,
      "metadata": {
        "id": "TyXJ6K9maxsV",
        "colab": {
          "base_uri": "https://localhost:8080/"
        },
        "outputId": "63dba0d9-d96b-4392-d4d3-6df959feb014"
      },
      "outputs": [
        {
          "output_type": "stream",
          "name": "stdout",
          "text": [
            "Using 242 samples for training and 61 for validation\n"
          ]
        }
      ],
      "source": [
        "#train_dataframe = df[df['target'].isin([0, 1])].sample(frac=0.8, random_state=42)\n",
        "#val_dataframe = df[df['target'].isin([0, 1])].drop(train_dataframe.index)\n",
        "\n",
        "val_dataframe = df.sample(frac=0.2, random_state=1)\n",
        "train_dataframe = df.drop(val_dataframe.index)\n",
        "\n",
        "print(\"Using %d samples for training and %d for validation\"% (len(train_dataframe), len(val_dataframe)))"
      ]
    },
    {
      "cell_type": "markdown",
      "source": [
        "### Converting into tensorflow dataset & creating batches"
      ],
      "metadata": {
        "id": "0GzvSLUsr56A"
      }
    },
    {
      "cell_type": "markdown",
      "metadata": {
        "id": "yylt5oWvaxsV"
      },
      "source": [
        "Generate `tf.data.Dataset` objects for each dataframe:\n",
        "\n",
        "Each `Dataset` yields a tuple `(input, target)` where `input` is a dictionary of features\n",
        "and `target` is the value `0` or `1`:\n",
        "\n",
        "Refer [here](https://www.tensorflow.org/api_docs/python/tf/data/Dataset#from_tensor_slices) to create the tuple using tensorflow."
      ]
    },
    {
      "cell_type": "code",
      "execution_count": null,
      "metadata": {
        "id": "ZLwPzHf-axsV"
      },
      "outputs": [],
      "source": [
        "def dataframe_to_dataset(dataframe):\n",
        "    ## YOUR CODE HERE\n",
        "    dataframe = dataframe.copy()\n",
        "    labels = dataframe.pop(\"target\")\n",
        "    ds = tf.data.Dataset.from_tensor_slices((dict(dataframe), labels))\n",
        "    return ds\n",
        "\n",
        "train_ds = dataframe_to_dataset(train_dataframe)\n",
        "val_ds = dataframe_to_dataset(val_dataframe)"
      ]
    },
    {
      "cell_type": "code",
      "source": [
        "# Visualizing one datapoint from the formatted data\n",
        "dsview = train_ds.take(1)\n",
        "list(dsview.as_numpy_iterator())"
      ],
      "metadata": {
        "colab": {
          "base_uri": "https://localhost:8080/"
        },
        "id": "HRGsLQvTJa2k",
        "outputId": "3f18eb09-352b-4223-9856-26f0a248a1c3"
      },
      "execution_count": null,
      "outputs": [
        {
          "output_type": "execute_result",
          "data": {
            "text/plain": [
              "[({'age': 67,\n",
              "   'sex': 1,\n",
              "   'cp': 4,\n",
              "   'trestbps': 160,\n",
              "   'chol': 286,\n",
              "   'fbs': 0,\n",
              "   'restecg': 2,\n",
              "   'thalach': 108,\n",
              "   'exang': 1,\n",
              "   'oldpeak': 1.5,\n",
              "   'slope': 2,\n",
              "   'ca': 3,\n",
              "   'thal': b'normal'},\n",
              "  1)]"
            ]
          },
          "metadata": {},
          "execution_count": 9
        }
      ]
    },
    {
      "cell_type": "code",
      "source": [
        "for features, target in train_ds.take(1):\n",
        "    for key, value in features.items():\n",
        "        print(f\"{key}, type: {value.dtype.name}, Values: {value.numpy()}\")\n",
        "    print(f\"{target.shape}, type: {target.dtype.name}, Values: {target.numpy()}\")"
      ],
      "metadata": {
        "colab": {
          "base_uri": "https://localhost:8080/"
        },
        "id": "fDjPsMXicryn",
        "outputId": "f973a09f-35c3-4084-d337-7a9cbe47cedc"
      },
      "execution_count": null,
      "outputs": [
        {
          "output_type": "stream",
          "name": "stdout",
          "text": [
            "age, type: int64, Values: 67\n",
            "sex, type: int64, Values: 1\n",
            "cp, type: int64, Values: 4\n",
            "trestbps, type: int64, Values: 160\n",
            "chol, type: int64, Values: 286\n",
            "fbs, type: int64, Values: 0\n",
            "restecg, type: int64, Values: 2\n",
            "thalach, type: int64, Values: 108\n",
            "exang, type: int64, Values: 1\n",
            "oldpeak, type: float64, Values: 1.5\n",
            "slope, type: int64, Values: 2\n",
            "ca, type: int64, Values: 3\n",
            "thal, type: string, Values: b'normal'\n",
            "(), type: int64, Values: 1\n"
          ]
        }
      ]
    },
    {
      "cell_type": "code",
      "source": [
        "for data in train_ds.as_numpy_iterator():\n",
        "  print(data)\n",
        "  break"
      ],
      "metadata": {
        "colab": {
          "base_uri": "https://localhost:8080/"
        },
        "id": "QegHha60Tma_",
        "outputId": "e4024815-a6c6-4694-d168-578c59827d68"
      },
      "execution_count": null,
      "outputs": [
        {
          "output_type": "stream",
          "name": "stdout",
          "text": [
            "({'age': 67, 'sex': 1, 'cp': 4, 'trestbps': 160, 'chol': 286, 'fbs': 0, 'restecg': 2, 'thalach': 108, 'exang': 1, 'oldpeak': 1.5, 'slope': 2, 'ca': 3, 'thal': b'normal'}, 1)\n"
          ]
        }
      ]
    },
    {
      "cell_type": "markdown",
      "metadata": {
        "id": "_JNHU2qQaxsW"
      },
      "source": [
        "#### Create the batch of the datasets:"
      ]
    },
    {
      "cell_type": "markdown",
      "source": [
        "Refer [here](https://www.tensorflow.org/api_docs/python/tf/data/Dataset#batch) to create a batch using tensorflow."
      ],
      "metadata": {
        "id": "06SkbqOG4egU"
      }
    },
    {
      "cell_type": "code",
      "execution_count": null,
      "metadata": {
        "id": "Rb11lwxDaxsW"
      },
      "outputs": [],
      "source": [
        "## YOUR CODE HERE  ## For val\n",
        "train_ds = train_ds.batch(8)\n",
        "val_ds = val_ds.batch(8)"
      ]
    },
    {
      "cell_type": "markdown",
      "source": [
        "## Feature preprocessing with Keras layers [3 Marks]"
      ],
      "metadata": {
        "id": "DgY1sXyn43g3"
      }
    },
    {
      "cell_type": "markdown",
      "source": [
        "### Categorical Features Encoding"
      ],
      "metadata": {
        "id": "kDHb-mam8Aw-"
      }
    },
    {
      "cell_type": "markdown",
      "source": [
        "The following features are categorical features encoded as integers:\n",
        "\n",
        "- `sex`\n",
        "- `cp`\n",
        "- `fbs`\n",
        "- `restecg`\n",
        "- `exang`\n",
        "- `ca`"
      ],
      "metadata": {
        "id": "PYQu-1Gl46a1"
      }
    },
    {
      "cell_type": "markdown",
      "source": [
        "We will encode these features using **one-hot encoding**. We have two options\n",
        "here:\n",
        "\n",
        " - Use `CategoryEncoding()`, which requires knowing the range of input values\n",
        " and will throw an error on input outside the range.\n",
        " - Use `IntegerLookup()` which will build a lookup table for inputs and **reserve\n",
        " an output index for unkown input values**.\n",
        "\n",
        "For this example, we want a simple solution that will handle out of range inputs\n",
        "at inference, so we will use `IntegerLookup()`.\n",
        "\n",
        "We also have a categorical feature encoded as a string: `thal`. We will create an\n",
        "index of all possible features and encode output using the `StringLookup()` layer."
      ],
      "metadata": {
        "id": "FC9vOfeA796e"
      }
    },
    {
      "cell_type": "markdown",
      "source": [
        "Create a function `encode_categorical_feature`, this function takes four parameters.\n",
        "1. Feature to be encoded.\n",
        "2. Name of the feature in the dataset.\n",
        "3. Dataset containing the feature.\n",
        "4. A boolean value wether the feature is string or not."
      ],
      "metadata": {
        "id": "LBPnzKnA_F1g"
      }
    },
    {
      "cell_type": "markdown",
      "source": [
        "**Refer :** StringLookup [here](https://www.tensorflow.org/api_docs/python/tf/keras/layers/StringLookup) and IntegerLookup [here](https://www.tensorflow.org/api_docs/python/tf/keras/layers/IntegerLookup)."
      ],
      "metadata": {
        "id": "5c71RPyG-oMf"
      }
    },
    {
      "cell_type": "code",
      "source": [
        "def encode_categorical_feature(feature, name, dataset, is_string):\n",
        "    ## YOUR CODE HERE\n",
        "\n",
        "    lookup_class = layers.StringLookup if is_string else layers.IntegerLookup\n",
        "    lookup = lookup_class(output_mode=\"binary\")\n",
        "\n",
        "    # Prepare a Dataset that only yields our feature\n",
        "    ## YOUR CODE HERE\n",
        "    feature_ds = dataset.map(lambda x, y: x[name])\n",
        "    feature_ds = feature_ds.map(lambda x: tf.expand_dims(x, -1))\n",
        "\n",
        "    # Learn the statistics of the data\n",
        "    lookup.adapt(feature_ds)\n",
        "\n",
        "    # Normalize the input feature\n",
        "    encoded_feature = lookup(feature)\n",
        "    return encoded_feature"
      ],
      "metadata": {
        "id": "drcy1lla5G9n"
      },
      "execution_count": null,
      "outputs": []
    },
    {
      "cell_type": "markdown",
      "metadata": {
        "id": "sTNTvYjfaxsW"
      },
      "source": [
        "### Numerical features Normalization\n",
        "The following feature are continuous numerical features:\n",
        "\n",
        "- `age`\n",
        "- `trestbps`\n",
        "- `chol`\n",
        "- `thalach`\n",
        "- `oldpeak`\n",
        "- `slope`\n",
        "\n",
        "For each of these features, we will use a `Normalization()` layer to make sure the mean\n",
        "of each feature is 0 and its standard deviation is 1.\n",
        "\n",
        "\n",
        "- Define a function `encode_numerical_feature` to apply featurewise normalization to numerical features.\n"
      ]
    },
    {
      "cell_type": "markdown",
      "source": [
        "Refer Normalization [here](https://www.tensorflow.org/api_docs/python/tf/keras/layers/Normalization)"
      ],
      "metadata": {
        "id": "SQ0TCXUOAXgE"
      }
    },
    {
      "cell_type": "code",
      "execution_count": null,
      "metadata": {
        "id": "g1Zl8AYgaxsW"
      },
      "outputs": [],
      "source": [
        "def encode_numerical_feature(feature, name, dataset):\n",
        "    # Create a Normalization layer for our feature\n",
        "    ## YOUR CODE HERE\n",
        "    normalizer = layers.Normalization()\n",
        "\n",
        "    # Prepare a Dataset that only yields our feature\n",
        "    ## YOUR CODE HERE\n",
        "    feature_ds = dataset.map(lambda x, y: x[name])\n",
        "    feature_ds = feature_ds.map(lambda x: tf.expand_dims(x, -1))\n",
        "\n",
        "    # Learn the statistics of the data\n",
        "    ## YOUR CODE HERE\n",
        "    normalizer.adapt(feature_ds)\n",
        "\n",
        "    # Normalize the input feature\n",
        "    ## YOUR CODE HERE\n",
        "    encoded_feature = normalizer(feature)\n",
        "    return encoded_feature\n"
      ]
    },
    {
      "cell_type": "markdown",
      "source": [
        "# Part B"
      ],
      "metadata": {
        "id": "xY9mCVZ8W604"
      }
    },
    {
      "cell_type": "markdown",
      "metadata": {
        "id": "zQlt1xCbaxsX"
      },
      "source": [
        "## Building the model [4 Marks]"
      ]
    },
    {
      "cell_type": "markdown",
      "source": [
        "#### Need to instantiate a Keras tensor for all features\n",
        " Use keras Input() [method](https://keras.io/api/layers/core_layers/input/).\n",
        "* Create a list of inputs to be fed to the model.\n",
        "* This list consists of the features output from keras Input() method.\n",
        "* These inputs include all the features.\n"
      ],
      "metadata": {
        "id": "zBhmQ_q5oLIq"
      }
    },
    {
      "cell_type": "code",
      "source": [
        "# Categorical features encoded as integers\n",
        "## YOUR CODE HERE\n",
        "sex = keras.Input(shape=(1), name=\"sex\", dtype=\"int64\")\n",
        "cp = keras.Input(shape=(1), name=\"cp\", dtype=\"int64\")\n",
        "fbs = keras.Input(shape=(1), name=\"fbs\", dtype=\"int64\")\n",
        "restecg = keras.Input(shape=(1), name=\"restecg\", dtype=\"int64\")\n",
        "exang = keras.Input(shape=(1), name=\"exang\", dtype=\"int64\")\n",
        "ca = keras.Input(shape=(1), name=\"ca\", dtype=\"int64\")\n",
        "\n",
        "# Categorical feature encoded as string\n",
        "## YOUR CODE HERE\n",
        "thal= keras.Input(shape=(1), name=\"thal\", dtype=\"string\")\n",
        "\n",
        "# Numerical features\n",
        "## YOUR CODE HERE\n",
        "age = keras.Input(shape=(1), name=\"age\")\n",
        "trestbps = keras.Input(shape=(1), name=\"trestbps\")\n",
        "chol = keras.Input(shape=(1), name=\"chol\")\n",
        "thalach = keras.Input(shape=(1), name=\"thalach\")\n",
        "oldpeak = keras.Input(shape=(1), name=\"oldpeak\")\n",
        "slope = keras.Input(shape=(1), name=\"slope\")\n"
      ],
      "metadata": {
        "id": "7DWkHm9-ymp6"
      },
      "execution_count": null,
      "outputs": []
    },
    {
      "cell_type": "markdown",
      "source": [
        "### Encoding above features\n",
        "Use  \"encode_categorical_feature\" & \"encode_numerical_feature\" function on respective features that we defined above."
      ],
      "metadata": {
        "id": "L9QJ4k6tzKcl"
      }
    },
    {
      "cell_type": "code",
      "execution_count": null,
      "metadata": {
        "id": "q3ISoSGRaxsX"
      },
      "outputs": [],
      "source": [
        "# Integer categorical features\n",
        "sex_encoded = encode_categorical_feature(sex, \"sex\", train_ds, False) ## YOUR CODE HERE\n",
        "cp_encoded = encode_categorical_feature(cp, \"cp\", train_ds, False) ## YOUR CODE HERE\n",
        "fbs_encoded = encode_categorical_feature(fbs, \"fbs\", train_ds, False) ## YOUR CODE HERE\n",
        "restecg_encoded = encode_categorical_feature(restecg, \"restecg\", train_ds, False) ## YOUR CODE HERE\n",
        "exang_encoded = encode_categorical_feature(exang, \"exang\", train_ds, False) ## YOUR CODE HERE\n",
        "ca_encoded = encode_categorical_feature(ca, \"ca\", train_ds, False) ## YOUR CODE HERE\n",
        "\n",
        "# String categorical features\n",
        "thal_encoded = encode_categorical_feature(thal, \"thal\", train_ds, True) ## YOUR CODE HERE\n",
        "\n",
        "# Numerical features\n",
        "age_encoded = encode_numerical_feature(age, \"age\", train_ds) ## YOUR CODE HERE\n",
        "trestbps_encoded = encode_numerical_feature(trestbps, \"trestbps\", train_ds) ## YOUR CODE HERE ## YOUR CODE HERE\n",
        "chol_encoded = encode_numerical_feature(chol, \"chol\", train_ds) ## YOUR CODE HERE## YOUR CODE HERE\n",
        "thalach_encoded = encode_numerical_feature(thalach, \"thalach\", train_ds) ## YOUR CODE HERE ## YOUR CODE HERE\n",
        "oldpeak_encoded = encode_numerical_feature(oldpeak, \"oldpeak\", train_ds) ## YOUR CODE HERE ## YOUR CODE HERE\n",
        "slope_encoded = encode_numerical_feature(slope, \"slope\", train_ds) ## YOUR CODE HERE ## YOUR CODE HERE"
      ]
    },
    {
      "cell_type": "markdown",
      "source": [
        "##### Understanding the result of  encoder functions"
      ],
      "metadata": {
        "id": "4GImpVSz8Mh-"
      }
    },
    {
      "cell_type": "markdown",
      "source": [
        "### Using Functional API for building model\n",
        "Build the three model architectures with 1, 2, and 3 hidden layers having different numbers of neurons. Train for each architecture and compare the train and the validation accuracy.\n",
        "\n",
        "* These inputs will be passed to keras.model.\n",
        "* Concatenate the encoded features using layers.concatenate()\n",
        "* Add the Dense layers and compile the model."
      ],
      "metadata": {
        "id": "XgCGkr5Y1CqB"
      }
    },
    {
      "cell_type": "code",
      "source": [
        "all_inputs = [sex, cp, fbs, restecg, exang, ca, thal, age, trestbps, chol, thalach, oldpeak, slope]\n",
        "\n",
        "all_inputs_encoded = [sex_encoded, cp_encoded, fbs_encoded, restecg_encoded, exang_encoded, ca_encoded,\n",
        "                     thal_encoded, age_encoded, trestbps_encoded, chol_encoded, thalach_encoded, oldpeak_encoded, slope_encoded]\n",
        "\n",
        "all_features = layers.concatenate(all_inputs_encoded, name=\"input_layer\")## YOUR CODE HERE\n",
        "\n",
        "## In Functional API for creating a Neural Network model.\n",
        "## Different layers are connected as layers.method(previous layer object)\n",
        "## For eg: x = layers.Dense(32, activation=\"relu\")(all_features), similarly\n",
        "## layers.concatenate is connected to Input or Initialization of keras tensors.\n",
        "## layers.concatenate([encoded_feature_object1, encoded_feature_object2, .....]), where\n",
        "## encoded_feature_objects contains the return values from encode_categorical and encode_numerical features.\n",
        "\n",
        "## YOUR CODE HERE     # Dense Layer\n",
        "features = keras.layers.Dense(32, activation = \"relu\", name=\"middle_layer\")(all_features)\n",
        "\n",
        "## YOUR CODE HERE     # Dropout\n",
        "output = keras.layers.Dense(1, activation = \"sigmoid\", name=\"output_layer\")(features) ## YOUR CODE HERE\n",
        "\n",
        "#print(f\"Input shape: {all_features.shape}\")\n",
        "#print(f\"Output shape: {output.shape}\")\n",
        "\n",
        "model = keras.Model(all_inputs, output) ## YOUR CODE HERE\n",
        "model.summary()\n",
        "model.compile(optimizer = keras.optimizers.Adam(),\n",
        "              loss = keras.losses.BinaryCrossentropy(),\n",
        "              metrics = [\"accuracy\"]) ## YOUR CODE HERE"
      ],
      "metadata": {
        "id": "WEDvPj0o1GJR",
        "colab": {
          "base_uri": "https://localhost:8080/"
        },
        "outputId": "213917ac-d863-4d38-80f3-27f7fc35a53d"
      },
      "execution_count": null,
      "outputs": [
        {
          "output_type": "stream",
          "name": "stdout",
          "text": [
            "Model: \"model\"\n",
            "__________________________________________________________________________________________________\n",
            " Layer (type)                Output Shape                 Param #   Connected to                  \n",
            "==================================================================================================\n",
            " sex (InputLayer)            [(None, 1)]                  0         []                            \n",
            "                                                                                                  \n",
            " cp (InputLayer)             [(None, 1)]                  0         []                            \n",
            "                                                                                                  \n",
            " fbs (InputLayer)            [(None, 1)]                  0         []                            \n",
            "                                                                                                  \n",
            " restecg (InputLayer)        [(None, 1)]                  0         []                            \n",
            "                                                                                                  \n",
            " exang (InputLayer)          [(None, 1)]                  0         []                            \n",
            "                                                                                                  \n",
            " ca (InputLayer)             [(None, 1)]                  0         []                            \n",
            "                                                                                                  \n",
            " thal (InputLayer)           [(None, 1)]                  0         []                            \n",
            "                                                                                                  \n",
            " age (InputLayer)            [(None, 1)]                  0         []                            \n",
            "                                                                                                  \n",
            " trestbps (InputLayer)       [(None, 1)]                  0         []                            \n",
            "                                                                                                  \n",
            " chol (InputLayer)           [(None, 1)]                  0         []                            \n",
            "                                                                                                  \n",
            " thalach (InputLayer)        [(None, 1)]                  0         []                            \n",
            "                                                                                                  \n",
            " oldpeak (InputLayer)        [(None, 1)]                  0         []                            \n",
            "                                                                                                  \n",
            " slope (InputLayer)          [(None, 1)]                  0         []                            \n",
            "                                                                                                  \n",
            " integer_lookup (IntegerLoo  (None, 3)                    0         ['sex[0][0]']                 \n",
            " kup)                                                                                             \n",
            "                                                                                                  \n",
            " integer_lookup_1 (IntegerL  (None, 6)                    0         ['cp[0][0]']                  \n",
            " ookup)                                                                                           \n",
            "                                                                                                  \n",
            " integer_lookup_2 (IntegerL  (None, 3)                    0         ['fbs[0][0]']                 \n",
            " ookup)                                                                                           \n",
            "                                                                                                  \n",
            " integer_lookup_3 (IntegerL  (None, 4)                    0         ['restecg[0][0]']             \n",
            " ookup)                                                                                           \n",
            "                                                                                                  \n",
            " integer_lookup_4 (IntegerL  (None, 3)                    0         ['exang[0][0]']               \n",
            " ookup)                                                                                           \n",
            "                                                                                                  \n",
            " integer_lookup_5 (IntegerL  (None, 5)                    0         ['ca[0][0]']                  \n",
            " ookup)                                                                                           \n",
            "                                                                                                  \n",
            " string_lookup (StringLooku  (None, 6)                    0         ['thal[0][0]']                \n",
            " p)                                                                                               \n",
            "                                                                                                  \n",
            " normalization (Normalizati  (None, 1)                    3         ['age[0][0]']                 \n",
            " on)                                                                                              \n",
            "                                                                                                  \n",
            " normalization_1 (Normaliza  (None, 1)                    3         ['trestbps[0][0]']            \n",
            " tion)                                                                                            \n",
            "                                                                                                  \n",
            " normalization_2 (Normaliza  (None, 1)                    3         ['chol[0][0]']                \n",
            " tion)                                                                                            \n",
            "                                                                                                  \n",
            " normalization_3 (Normaliza  (None, 1)                    3         ['thalach[0][0]']             \n",
            " tion)                                                                                            \n",
            "                                                                                                  \n",
            " normalization_4 (Normaliza  (None, 1)                    3         ['oldpeak[0][0]']             \n",
            " tion)                                                                                            \n",
            "                                                                                                  \n",
            " normalization_5 (Normaliza  (None, 1)                    3         ['slope[0][0]']               \n",
            " tion)                                                                                            \n",
            "                                                                                                  \n",
            " input_layer (Concatenate)   (None, 36)                   0         ['integer_lookup[0][0]',      \n",
            "                                                                     'integer_lookup_1[0][0]',    \n",
            "                                                                     'integer_lookup_2[0][0]',    \n",
            "                                                                     'integer_lookup_3[0][0]',    \n",
            "                                                                     'integer_lookup_4[0][0]',    \n",
            "                                                                     'integer_lookup_5[0][0]',    \n",
            "                                                                     'string_lookup[0][0]',       \n",
            "                                                                     'normalization[0][0]',       \n",
            "                                                                     'normalization_1[0][0]',     \n",
            "                                                                     'normalization_2[0][0]',     \n",
            "                                                                     'normalization_3[0][0]',     \n",
            "                                                                     'normalization_4[0][0]',     \n",
            "                                                                     'normalization_5[0][0]']     \n",
            "                                                                                                  \n",
            " middle_layer (Dense)        (None, 32)                   1184      ['input_layer[0][0]']         \n",
            "                                                                                                  \n",
            " output_layer (Dense)        (None, 1)                    33        ['middle_layer[0][0]']        \n",
            "                                                                                                  \n",
            "==================================================================================================\n",
            "Total params: 1235 (4.85 KB)\n",
            "Trainable params: 1217 (4.75 KB)\n",
            "Non-trainable params: 18 (96.00 Byte)\n",
            "__________________________________________________________________________________________________\n"
          ]
        }
      ]
    },
    {
      "cell_type": "markdown",
      "metadata": {
        "id": "6n8nNJl8axsX"
      },
      "source": [
        "### Visualize the connectivity graph using `keras.utils.plot_model`:"
      ]
    },
    {
      "cell_type": "code",
      "execution_count": null,
      "metadata": {
        "id": "HHIJkQVTaxsX",
        "colab": {
          "base_uri": "https://localhost:8080/",
          "height": 1000
        },
        "outputId": "aca093d4-11d4-4f2a-fe15-a578188e821f"
      },
      "outputs": [
        {
          "output_type": "execute_result",
          "data": {
            "image/png": "[encoded data removed]",
            "text/plain": [
              "<IPython.core.display.Image object>"
            ]
          },
          "metadata": {},
          "execution_count": 26
        }
      ],
      "source": [
        "# `rankdir='LR'` is to make the graph horizontal.\n",
        "## YOUR CODE HERE\n",
        "from tensorflow.keras.utils import plot_model\n",
        "\n",
        "#plot_model(model, show_shapes=True, rankdir='LR')\n",
        "#plot_model(model, rankdir='LR')\n",
        "plot_model(model, show_shapes=False, rankdir='LR')"
      ]
    },
    {
      "cell_type": "markdown",
      "metadata": {
        "id": "5vnGOiMuaxsX"
      },
      "source": [
        "### Train the model\n",
        "\n",
        "(Change the Colab notebook's runtime to GPU for faster training)"
      ]
    },
    {
      "cell_type": "code",
      "execution_count": null,
      "metadata": {
        "id": "GflUtJDTaxsX",
        "colab": {
          "base_uri": "https://localhost:8080/"
        },
        "outputId": "b35b115d-0b08-4500-88de-699632caeba5"
      },
      "outputs": [
        {
          "output_type": "execute_result",
          "data": {
            "text/plain": [
              "[({'age': array([67, 67, 37, 56, 62, 57, 63, 53]),\n",
              "   'sex': array([1, 1, 1, 1, 0, 0, 1, 1]),\n",
              "   'cp': array([4, 4, 3, 2, 4, 4, 4, 4]),\n",
              "   'trestbps': array([160, 120, 130, 120, 140, 120, 130, 140]),\n",
              "   'chol': array([286, 229, 250, 236, 268, 354, 254, 203]),\n",
              "   'fbs': array([0, 0, 0, 0, 0, 0, 0, 1]),\n",
              "   'restecg': array([2, 2, 0, 0, 2, 0, 2, 2]),\n",
              "   'thalach': array([108, 129, 187, 178, 160, 163, 147, 155]),\n",
              "   'exang': array([1, 1, 0, 0, 0, 1, 0, 1]),\n",
              "   'oldpeak': array([1.5, 2.6, 3.5, 0.8, 3.6, 0.6, 1.4, 3.1]),\n",
              "   'slope': array([2, 2, 3, 1, 3, 1, 2, 3]),\n",
              "   'ca': array([3, 2, 0, 0, 2, 0, 1, 0]),\n",
              "   'thal': array([b'normal', b'reversible', b'normal', b'normal', b'normal',\n",
              "          b'normal', b'reversible', b'reversible'], dtype=object)},\n",
              "  array([1, 0, 0, 0, 1, 0, 1, 0]))]"
            ]
          },
          "metadata": {},
          "execution_count": 19
        }
      ],
      "source": [
        "dsview = train_ds.take(1)\n",
        "list(dsview.as_numpy_iterator())"
      ]
    },
    {
      "cell_type": "code",
      "source": [
        "## YOUR CODE HERE\n",
        "model.fit(train_ds, epochs=10, validation_data=val_ds)"
      ],
      "metadata": {
        "colab": {
          "base_uri": "https://localhost:8080/"
        },
        "id": "nKBD-t-6XbqZ",
        "outputId": "fd3498fa-6552-465e-a785-3558486f46d5"
      },
      "execution_count": null,
      "outputs": [
        {
          "output_type": "stream",
          "name": "stdout",
          "text": [
            "Epoch 1/10\n",
            "31/31 [==============================] - 2s 15ms/step - loss: 0.6327 - accuracy: 0.6736 - val_loss: 0.6046 - val_accuracy: 0.6066\n",
            "Epoch 2/10\n",
            "31/31 [==============================] - 0s 4ms/step - loss: 0.4822 - accuracy: 0.7851 - val_loss: 0.5424 - val_accuracy: 0.6393\n",
            "Epoch 3/10\n",
            "31/31 [==============================] - 0s 3ms/step - loss: 0.4118 - accuracy: 0.7934 - val_loss: 0.5072 - val_accuracy: 0.6721\n",
            "Epoch 4/10\n",
            "31/31 [==============================] - 0s 3ms/step - loss: 0.3721 - accuracy: 0.8223 - val_loss: 0.4849 - val_accuracy: 0.7213\n",
            "Epoch 5/10\n",
            "31/31 [==============================] - 0s 3ms/step - loss: 0.3474 - accuracy: 0.8264 - val_loss: 0.4694 - val_accuracy: 0.7705\n",
            "Epoch 6/10\n",
            "31/31 [==============================] - 0s 3ms/step - loss: 0.3314 - accuracy: 0.8347 - val_loss: 0.4574 - val_accuracy: 0.7869\n",
            "Epoch 7/10\n",
            "31/31 [==============================] - 0s 3ms/step - loss: 0.3201 - accuracy: 0.8430 - val_loss: 0.4480 - val_accuracy: 0.7705\n",
            "Epoch 8/10\n",
            "31/31 [==============================] - 0s 3ms/step - loss: 0.3118 - accuracy: 0.8554 - val_loss: 0.4397 - val_accuracy: 0.7705\n",
            "Epoch 9/10\n",
            "31/31 [==============================] - 0s 4ms/step - loss: 0.3051 - accuracy: 0.8554 - val_loss: 0.4324 - val_accuracy: 0.7869\n",
            "Epoch 10/10\n",
            "31/31 [==============================] - 0s 3ms/step - loss: 0.2995 - accuracy: 0.8636 - val_loss: 0.4257 - val_accuracy: 0.8033\n"
          ]
        },
        {
          "output_type": "execute_result",
          "data": {
            "text/plain": [
              "<keras.src.callbacks.History at 0x7dae481fc4c0>"
            ]
          },
          "metadata": {},
          "execution_count": 20
        }
      ]
    },
    {
      "cell_type": "markdown",
      "metadata": {
        "id": "ZDrBzU1jaxsY"
      },
      "source": [
        "## Inference on new data [1 Mark]\n",
        "\n",
        "To get a prediction for a new sample, you can simply call `model.predict()`. There are\n",
        "just two things you need to do:\n",
        "\n",
        "1. wrap scalars into a list so as to have a batch dimension (models only process batches\n",
        "of data, not single samples)\n",
        "2. Call `convert_to_tensor` on each feature\n",
        "\n",
        "Note : The predicted output should be either 0  or 1 based on a threshold value of probability 0.5."
      ]
    },
    {
      "cell_type": "code",
      "execution_count": null,
      "metadata": {
        "id": "9OHghLcbaxsY",
        "colab": {
          "base_uri": "https://localhost:8080/"
        },
        "outputId": "9d443d87-1174-48c0-f035-4cbac64c7365"
      },
      "outputs": [
        {
          "output_type": "stream",
          "name": "stdout",
          "text": [
            "1/1 [==============================] - 0s 302ms/step\n",
            "0.08895165\n"
          ]
        }
      ],
      "source": [
        "## YOUR CODE HERE\n",
        "#sample = { #should be 1\n",
        "#    \"age\": 67, \"sex\": 1, \"cp\": 4, \"trestbps\": 160, \"chol\": 286, \"fbs\": 0, \"restecg\": 2, \"thalach\": 108, \"exang\": 1, \"oldpeak\": 1.5, \"slope\": 2, \"ca\": 3,  \"thal\": \"normal\"}\n",
        "\n",
        "#sample = { #should be 0\n",
        "#    \"age\": 63, \"sex\": 1, \"cp\": 1, \"trestbps\": 145, \"chol\": 233, \"fbs\": 1, \"restecg\": 2, \"thalach\": 150, \"exang\": 0, \"oldpeak\": 2.3, \"slope\": 3, \"ca\": 0,  \"thal\": \"fixed\"}\n",
        "\n",
        "sample = {\n",
        "    \"age\": 53, \"sex\": 1, \"cp\": 1, \"trestbps\": 175, \"chol\": 163, \"fbs\": 1, \"restecg\": 2, \"thalach\": 110, \"exang\": 0, \"oldpeak\": 1.7, \"slope\": 1, \"ca\": 0,  \"thal\": \"normal\"}\n",
        "\n",
        "input_dict = {name: tf.convert_to_tensor([value]) for name, value in sample.items()}\n",
        "predictions = model.predict(input_dict)\n",
        "\n",
        "## YOUR CODE HERE\n",
        "print(predictions[0][0])"
      ]
    }
  ],
  "metadata": {
    "colab": {
      "provenance": [],
      "include_colab_link": true
    },
    "kernelspec": {
      "display_name": "Python 3",
      "name": "python3"
    },
    "language_info": {
      "codemirror_mode": {
        "name": "ipython",
        "version": 3
      },
      "file_extension": ".py",
      "mimetype": "text/x-python",
      "name": "python",
      "nbconvert_exporter": "python",
      "pygments_lexer": "ipython3",
      "version": "3.7.0"
    }
  },
  "nbformat": 4,
  "nbformat_minor": 0
}