{
  "nbformat": 4,
  "nbformat_minor": 0,
  "metadata": {
    "colab": {
      "provenance": [],
      "collapsed_sections": [
        "ZcgsEYJlKbR0",
        "6GxwVdGLKgPe",
        "mr0xI6QwFN-Q"
      ],
      "gpuType": "T4",
      "include_colab_link": true
    },
    "kernelspec": {
      "name": "python3",
      "display_name": "Python 3"
    },
    "language_info": {
      "name": "python"
    },
    "accelerator": "GPU",
    "widgets": {
      "application/vnd.jupyter.widget-state+json": {
        "1919f8ba51944ee6b1bd229e46efc85c": {
          "model_module": "@jupyter-widgets/controls",
          "model_name": "HBoxModel",
          "model_module_version": "1.5.0",
          "state": {
            "_dom_classes": [],
            "_model_module": "@jupyter-widgets/controls",
            "_model_module_version": "1.5.0",
            "_model_name": "HBoxModel",
            "_view_count": null,
            "_view_module": "@jupyter-widgets/controls",
            "_view_module_version": "1.5.0",
            "_view_name": "HBoxView",
            "box_style": "",
            "children": [
              "IPY_MODEL_7bc8eed7c9d14fc79509c95ee3854cc3",
              "IPY_MODEL_77effcb6cab94716a381c7508670e977",
              "IPY_MODEL_f75325a9adac41c99f66d5800b780a77"
            ],
            "layout": "IPY_MODEL_bc61a59719964076a4732658cb94535c"
          }
        },
        "7bc8eed7c9d14fc79509c95ee3854cc3": {
          "model_module": "@jupyter-widgets/controls",
          "model_name": "HTMLModel",
          "model_module_version": "1.5.0",
          "state": {
            "_dom_classes": [],
            "_model_module": "@jupyter-widgets/controls",
            "_model_module_version": "1.5.0",
            "_model_name": "HTMLModel",
            "_view_count": null,
            "_view_module": "@jupyter-widgets/controls",
            "_view_module_version": "1.5.0",
            "_view_name": "HTMLView",
            "description": "",
            "description_tooltip": null,
            "layout": "IPY_MODEL_8b9859b6ccdd49f6b1fcef41b80768db",
            "placeholder": "​",
            "style": "IPY_MODEL_bfe16b51cfbc4eb8858de16b74a8d4e6",
            "value": "tokenizer_config.json: 100%"
          }
        },
        "77effcb6cab94716a381c7508670e977": {
          "model_module": "@jupyter-widgets/controls",
          "model_name": "FloatProgressModel",
          "model_module_version": "1.5.0",
          "state": {
            "_dom_classes": [],
            "_model_module": "@jupyter-widgets/controls",
            "_model_module_version": "1.5.0",
            "_model_name": "FloatProgressModel",
            "_view_count": null,
            "_view_module": "@jupyter-widgets/controls",
            "_view_module_version": "1.5.0",
            "_view_name": "ProgressView",
            "bar_style": "success",
            "description": "",
            "description_tooltip": null,
            "layout": "IPY_MODEL_7ac44e2036214db1b07d5c9423f2631a",
            "max": 48,
            "min": 0,
            "orientation": "horizontal",
            "style": "IPY_MODEL_9705de0df7ce4c0fa740cd5a620a9cc7",
            "value": 48
          }
        },
        "f75325a9adac41c99f66d5800b780a77": {
          "model_module": "@jupyter-widgets/controls",
          "model_name": "HTMLModel",
          "model_module_version": "1.5.0",
          "state": {
            "_dom_classes": [],
            "_model_module": "@jupyter-widgets/controls",
            "_model_module_version": "1.5.0",
            "_model_name": "HTMLModel",
            "_view_count": null,
            "_view_module": "@jupyter-widgets/controls",
            "_view_module_version": "1.5.0",
            "_view_name": "HTMLView",
            "description": "",
            "description_tooltip": null,
            "layout": "IPY_MODEL_d494c202f2cf463db926c5469165a5e3",
            "placeholder": "​",
            "style": "IPY_MODEL_6a73f2d03bf048eba7ab25a318b20f87",
            "value": " 48.0/48.0 [00:00&lt;00:00, 3.15kB/s]"
          }
        },
        "bc61a59719964076a4732658cb94535c": {
          "model_module": "@jupyter-widgets/base",
          "model_name": "LayoutModel",
          "model_module_version": "1.2.0",
          "state": {
            "_model_module": "@jupyter-widgets/base",
            "_model_module_version": "1.2.0",
            "_model_name": "LayoutModel",
            "_view_count": null,
            "_view_module": "@jupyter-widgets/base",
            "_view_module_version": "1.2.0",
            "_view_name": "LayoutView",
            "align_content": null,
            "align_items": null,
            "align_self": null,
            "border": null,
            "bottom": null,
            "display": null,
            "flex": null,
            "flex_flow": null,
            "grid_area": null,
            "grid_auto_columns": null,
            "grid_auto_flow": null,
            "grid_auto_rows": null,
            "grid_column": null,
            "grid_gap": null,
            "grid_row": null,
            "grid_template_areas": null,
            "grid_template_columns": null,
            "grid_template_rows": null,
            "height": null,
            "justify_content": null,
            "justify_items": null,
            "left": null,
            "margin": null,
            "max_height": null,
            "max_width": null,
            "min_height": null,
            "min_width": null,
            "object_fit": null,
            "object_position": null,
            "order": null,
            "overflow": null,
            "overflow_x": null,
            "overflow_y": null,
            "padding": null,
            "right": null,
            "top": null,
            "visibility": null,
            "width": null
          }
        },
        "8b9859b6ccdd49f6b1fcef41b80768db": {
          "model_module": "@jupyter-widgets/base",
          "model_name": "LayoutModel",
          "model_module_version": "1.2.0",
          "state": {
            "_model_module": "@jupyter-widgets/base",
            "_model_module_version": "1.2.0",
            "_model_name": "LayoutModel",
            "_view_count": null,
            "_view_module": "@jupyter-widgets/base",
            "_view_module_version": "1.2.0",
            "_view_name": "LayoutView",
            "align_content": null,
            "align_items": null,
            "align_self": null,
            "border": null,
            "bottom": null,
            "display": null,
            "flex": null,
            "flex_flow": null,
            "grid_area": null,
            "grid_auto_columns": null,
            "grid_auto_flow": null,
            "grid_auto_rows": null,
            "grid_column": null,
            "grid_gap": null,
            "grid_row": null,
            "grid_template_areas": null,
            "grid_template_columns": null,
            "grid_template_rows": null,
            "height": null,
            "justify_content": null,
            "justify_items": null,
            "left": null,
            "margin": null,
            "max_height": null,
            "max_width": null,
            "min_height": null,
            "min_width": null,
            "object_fit": null,
            "object_position": null,
            "order": null,
            "overflow": null,
            "overflow_x": null,
            "overflow_y": null,
            "padding": null,
            "right": null,
            "top": null,
            "visibility": null,
            "width": null
          }
        },
        "bfe16b51cfbc4eb8858de16b74a8d4e6": {
          "model_module": "@jupyter-widgets/controls",
          "model_name": "DescriptionStyleModel",
          "model_module_version": "1.5.0",
          "state": {
            "_model_module": "@jupyter-widgets/controls",
            "_model_module_version": "1.5.0",
            "_model_name": "DescriptionStyleModel",
            "_view_count": null,
            "_view_module": "@jupyter-widgets/base",
            "_view_module_version": "1.2.0",
            "_view_name": "StyleView",
            "description_width": ""
          }
        },
        "7ac44e2036214db1b07d5c9423f2631a": {
          "model_module": "@jupyter-widgets/base",
          "model_name": "LayoutModel",
          "model_module_version": "1.2.0",
          "state": {
            "_model_module": "@jupyter-widgets/base",
            "_model_module_version": "1.2.0",
            "_model_name": "LayoutModel",
            "_view_count": null,
            "_view_module": "@jupyter-widgets/base",
            "_view_module_version": "1.2.0",
            "_view_name": "LayoutView",
            "align_content": null,
            "align_items": null,
            "align_self": null,
            "border": null,
            "bottom": null,
            "display": null,
            "flex": null,
            "flex_flow": null,
            "grid_area": null,
            "grid_auto_columns": null,
            "grid_auto_flow": null,
            "grid_auto_rows": null,
            "grid_column": null,
            "grid_gap": null,
            "grid_row": null,
            "grid_template_areas": null,
            "grid_template_columns": null,
            "grid_template_rows": null,
            "height": null,
            "justify_content": null,
            "justify_items": null,
            "left": null,
            "margin": null,
            "max_height": null,
            "max_width": null,
            "min_height": null,
            "min_width": null,
            "object_fit": null,
            "object_position": null,
            "order": null,
            "overflow": null,
            "overflow_x": null,
            "overflow_y": null,
            "padding": null,
            "right": null,
            "top": null,
            "visibility": null,
            "width": null
          }
        },
        "9705de0df7ce4c0fa740cd5a620a9cc7": {
          "model_module": "@jupyter-widgets/controls",
          "model_name": "ProgressStyleModel",
          "model_module_version": "1.5.0",
          "state": {
            "_model_module": "@jupyter-widgets/controls",
            "_model_module_version": "1.5.0",
            "_model_name": "ProgressStyleModel",
            "_view_count": null,
            "_view_module": "@jupyter-widgets/base",
            "_view_module_version": "1.2.0",
            "_view_name": "StyleView",
            "bar_color": null,
            "description_width": ""
          }
        },
        "d494c202f2cf463db926c5469165a5e3": {
          "model_module": "@jupyter-widgets/base",
          "model_name": "LayoutModel",
          "model_module_version": "1.2.0",
          "state": {
            "_model_module": "@jupyter-widgets/base",
            "_model_module_version": "1.2.0",
            "_model_name": "LayoutModel",
            "_view_count": null,
            "_view_module": "@jupyter-widgets/base",
            "_view_module_version": "1.2.0",
            "_view_name": "LayoutView",
            "align_content": null,
            "align_items": null,
            "align_self": null,
            "border": null,
            "bottom": null,
            "display": null,
            "flex": null,
            "flex_flow": null,
            "grid_area": null,
            "grid_auto_columns": null,
            "grid_auto_flow": null,
            "grid_auto_rows": null,
            "grid_column": null,
            "grid_gap": null,
            "grid_row": null,
            "grid_template_areas": null,
            "grid_template_columns": null,
            "grid_template_rows": null,
            "height": null,
            "justify_content": null,
            "justify_items": null,
            "left": null,
            "margin": null,
            "max_height": null,
            "max_width": null,
            "min_height": null,
            "min_width": null,
            "object_fit": null,
            "object_position": null,
            "order": null,
            "overflow": null,
            "overflow_x": null,
            "overflow_y": null,
            "padding": null,
            "right": null,
            "top": null,
            "visibility": null,
            "width": null
          }
        },
        "6a73f2d03bf048eba7ab25a318b20f87": {
          "model_module": "@jupyter-widgets/controls",
          "model_name": "DescriptionStyleModel",
          "model_module_version": "1.5.0",
          "state": {
            "_model_module": "@jupyter-widgets/controls",
            "_model_module_version": "1.5.0",
            "_model_name": "DescriptionStyleModel",
            "_view_count": null,
            "_view_module": "@jupyter-widgets/base",
            "_view_module_version": "1.2.0",
            "_view_name": "StyleView",
            "description_width": ""
          }
        },
        "e5954e9f21184cf8a15d94c6cc96548a": {
          "model_module": "@jupyter-widgets/controls",
          "model_name": "HBoxModel",
          "model_module_version": "1.5.0",
          "state": {
            "_dom_classes": [],
            "_model_module": "@jupyter-widgets/controls",
            "_model_module_version": "1.5.0",
            "_model_name": "HBoxModel",
            "_view_count": null,
            "_view_module": "@jupyter-widgets/controls",
            "_view_module_version": "1.5.0",
            "_view_name": "HBoxView",
            "box_style": "",
            "children": [
              "IPY_MODEL_405ddb2ef9574d30a9eacb0122cc9cf2",
              "IPY_MODEL_0255d46721994ad2b53f69eecbb125e8",
              "IPY_MODEL_25a641517239437290ec313aaed17e12"
            ],
            "layout": "IPY_MODEL_ac751810715949b0a77097784fa4aafa"
          }
        },
        "405ddb2ef9574d30a9eacb0122cc9cf2": {
          "model_module": "@jupyter-widgets/controls",
          "model_name": "HTMLModel",
          "model_module_version": "1.5.0",
          "state": {
            "_dom_classes": [],
            "_model_module": "@jupyter-widgets/controls",
            "_model_module_version": "1.5.0",
            "_model_name": "HTMLModel",
            "_view_count": null,
            "_view_module": "@jupyter-widgets/controls",
            "_view_module_version": "1.5.0",
            "_view_name": "HTMLView",
            "description": "",
            "description_tooltip": null,
            "layout": "IPY_MODEL_1af3fb4b93fb46ecae774f1691efaf47",
            "placeholder": "​",
            "style": "IPY_MODEL_0c21c589e3d0406e878573f2fa663b20",
            "value": "config.json: 100%"
          }
        },
        "0255d46721994ad2b53f69eecbb125e8": {
          "model_module": "@jupyter-widgets/controls",
          "model_name": "FloatProgressModel",
          "model_module_version": "1.5.0",
          "state": {
            "_dom_classes": [],
            "_model_module": "@jupyter-widgets/controls",
            "_model_module_version": "1.5.0",
            "_model_name": "FloatProgressModel",
            "_view_count": null,
            "_view_module": "@jupyter-widgets/controls",
            "_view_module_version": "1.5.0",
            "_view_name": "ProgressView",
            "bar_style": "success",
            "description": "",
            "description_tooltip": null,
            "layout": "IPY_MODEL_b470d802d72f47dc910577a92869ca49",
            "max": 483,
            "min": 0,
            "orientation": "horizontal",
            "style": "IPY_MODEL_8772970383344115a7e2741e1bab22cb",
            "value": 483
          }
        },
        "25a641517239437290ec313aaed17e12": {
          "model_module": "@jupyter-widgets/controls",
          "model_name": "HTMLModel",
          "model_module_version": "1.5.0",
          "state": {
            "_dom_classes": [],
            "_model_module": "@jupyter-widgets/controls",
            "_model_module_version": "1.5.0",
            "_model_name": "HTMLModel",
            "_view_count": null,
            "_view_module": "@jupyter-widgets/controls",
            "_view_module_version": "1.5.0",
            "_view_name": "HTMLView",
            "description": "",
            "description_tooltip": null,
            "layout": "IPY_MODEL_74ac2a7881de4b01949ad655a674e8c1",
            "placeholder": "​",
            "style": "IPY_MODEL_63fce027a9104dea8586830d8dd9c6be",
            "value": " 483/483 [00:00&lt;00:00, 26.4kB/s]"
          }
        },
        "ac751810715949b0a77097784fa4aafa": {
          "model_module": "@jupyter-widgets/base",
          "model_name": "LayoutModel",
          "model_module_version": "1.2.0",
          "state": {
            "_model_module": "@jupyter-widgets/base",
            "_model_module_version": "1.2.0",
            "_model_name": "LayoutModel",
            "_view_count": null,
            "_view_module": "@jupyter-widgets/base",
            "_view_module_version": "1.2.0",
            "_view_name": "LayoutView",
            "align_content": null,
            "align_items": null,
            "align_self": null,
            "border": null,
            "bottom": null,
            "display": null,
            "flex": null,
            "flex_flow": null,
            "grid_area": null,
            "grid_auto_columns": null,
            "grid_auto_flow": null,
            "grid_auto_rows": null,
            "grid_column": null,
            "grid_gap": null,
            "grid_row": null,
            "grid_template_areas": null,
            "grid_template_columns": null,
            "grid_template_rows": null,
            "height": null,
            "justify_content": null,
            "justify_items": null,
            "left": null,
            "margin": null,
            "max_height": null,
            "max_width": null,
            "min_height": null,
            "min_width": null,
            "object_fit": null,
            "object_position": null,
            "order": null,
            "overflow": null,
            "overflow_x": null,
            "overflow_y": null,
            "padding": null,
            "right": null,
            "top": null,
            "visibility": null,
            "width": null
          }
        },
        "1af3fb4b93fb46ecae774f1691efaf47": {
          "model_module": "@jupyter-widgets/base",
          "model_name": "LayoutModel",
          "model_module_version": "1.2.0",
          "state": {
            "_model_module": "@jupyter-widgets/base",
            "_model_module_version": "1.2.0",
            "_model_name": "LayoutModel",
            "_view_count": null,
            "_view_module": "@jupyter-widgets/base",
            "_view_module_version": "1.2.0",
            "_view_name": "LayoutView",
            "align_content": null,
            "align_items": null,
            "align_self": null,
            "border": null,
            "bottom": null,
            "display": null,
            "flex": null,
            "flex_flow": null,
            "grid_area": null,
            "grid_auto_columns": null,
            "grid_auto_flow": null,
            "grid_auto_rows": null,
            "grid_column": null,
            "grid_gap": null,
            "grid_row": null,
            "grid_template_areas": null,
            "grid_template_columns": null,
            "grid_template_rows": null,
            "height": null,
            "justify_content": null,
            "justify_items": null,
            "left": null,
            "margin": null,
            "max_height": null,
            "max_width": null,
            "min_height": null,
            "min_width": null,
            "object_fit": null,
            "object_position": null,
            "order": null,
            "overflow": null,
            "overflow_x": null,
            "overflow_y": null,
            "padding": null,
            "right": null,
            "top": null,
            "visibility": null,
            "width": null
          }
        },
        "0c21c589e3d0406e878573f2fa663b20": {
          "model_module": "@jupyter-widgets/controls",
          "model_name": "DescriptionStyleModel",
          "model_module_version": "1.5.0",
          "state": {
            "_model_module": "@jupyter-widgets/controls",
            "_model_module_version": "1.5.0",
            "_model_name": "DescriptionStyleModel",
            "_view_count": null,
            "_view_module": "@jupyter-widgets/base",
            "_view_module_version": "1.2.0",
            "_view_name": "StyleView",
            "description_width": ""
          }
        },
        "b470d802d72f47dc910577a92869ca49": {
          "model_module": "@jupyter-widgets/base",
          "model_name": "LayoutModel",
          "model_module_version": "1.2.0",
          "state": {
            "_model_module": "@jupyter-widgets/base",
            "_model_module_version": "1.2.0",
            "_model_name": "LayoutModel",
            "_view_count": null,
            "_view_module": "@jupyter-widgets/base",
            "_view_module_version": "1.2.0",
            "_view_name": "LayoutView",
            "align_content": null,
            "align_items": null,
            "align_self": null,
            "border": null,
            "bottom": null,
            "display": null,
            "flex": null,
            "flex_flow": null,
            "grid_area": null,
            "grid_auto_columns": null,
            "grid_auto_flow": null,
            "grid_auto_rows": null,
            "grid_column": null,
            "grid_gap": null,
            "grid_row": null,
            "grid_template_areas": null,
            "grid_template_columns": null,
            "grid_template_rows": null,
            "height": null,
            "justify_content": null,
            "justify_items": null,
            "left": null,
            "margin": null,
            "max_height": null,
            "max_width": null,
            "min_height": null,
            "min_width": null,
            "object_fit": null,
            "object_position": null,
            "order": null,
            "overflow": null,
            "overflow_x": null,
            "overflow_y": null,
            "padding": null,
            "right": null,
            "top": null,
            "visibility": null,
            "width": null
          }
        },
        "8772970383344115a7e2741e1bab22cb": {
          "model_module": "@jupyter-widgets/controls",
          "model_name": "ProgressStyleModel",
          "model_module_version": "1.5.0",
          "state": {
            "_model_module": "@jupyter-widgets/controls",
            "_model_module_version": "1.5.0",
            "_model_name": "ProgressStyleModel",
            "_view_count": null,
            "_view_module": "@jupyter-widgets/base",
            "_view_module_version": "1.2.0",
            "_view_name": "StyleView",
            "bar_color": null,
            "description_width": ""
          }
        },
        "74ac2a7881de4b01949ad655a674e8c1": {
          "model_module": "@jupyter-widgets/base",
          "model_name": "LayoutModel",
          "model_module_version": "1.2.0",
          "state": {
            "_model_module": "@jupyter-widgets/base",
            "_model_module_version": "1.2.0",
            "_model_name": "LayoutModel",
            "_view_count": null,
            "_view_module": "@jupyter-widgets/base",
            "_view_module_version": "1.2.0",
            "_view_name": "LayoutView",
            "align_content": null,
            "align_items": null,
            "align_self": null,
            "border": null,
            "bottom": null,
            "display": null,
            "flex": null,
            "flex_flow": null,
            "grid_area": null,
            "grid_auto_columns": null,
            "grid_auto_flow": null,
            "grid_auto_rows": null,
            "grid_column": null,
            "grid_gap": null,
            "grid_row": null,
            "grid_template_areas": null,
            "grid_template_columns": null,
            "grid_template_rows": null,
            "height": null,
            "justify_content": null,
            "justify_items": null,
            "left": null,
            "margin": null,
            "max_height": null,
            "max_width": null,
            "min_height": null,
            "min_width": null,
            "object_fit": null,
            "object_position": null,
            "order": null,
            "overflow": null,
            "overflow_x": null,
            "overflow_y": null,
            "padding": null,
            "right": null,
            "top": null,
            "visibility": null,
            "width": null
          }
        },
        "63fce027a9104dea8586830d8dd9c6be": {
          "model_module": "@jupyter-widgets/controls",
          "model_name": "DescriptionStyleModel",
          "model_module_version": "1.5.0",
          "state": {
            "_model_module": "@jupyter-widgets/controls",
            "_model_module_version": "1.5.0",
            "_model_name": "DescriptionStyleModel",
            "_view_count": null,
            "_view_module": "@jupyter-widgets/base",
            "_view_module_version": "1.2.0",
            "_view_name": "StyleView",
            "description_width": ""
          }
        },
        "b9f47727858d4698a587701984688235": {
          "model_module": "@jupyter-widgets/controls",
          "model_name": "HBoxModel",
          "model_module_version": "1.5.0",
          "state": {
            "_dom_classes": [],
            "_model_module": "@jupyter-widgets/controls",
            "_model_module_version": "1.5.0",
            "_model_name": "HBoxModel",
            "_view_count": null,
            "_view_module": "@jupyter-widgets/controls",
            "_view_module_version": "1.5.0",
            "_view_name": "HBoxView",
            "box_style": "",
            "children": [
              "IPY_MODEL_ab3c70d6d7d748e5bbc0ebc7fd2951ce",
              "IPY_MODEL_a9c303414fca41d89a4cf5ec632e1c50",
              "IPY_MODEL_a4be8b6b7dc94a9fa8da5f5b5b53f5c4"
            ],
            "layout": "IPY_MODEL_4f381608d9c84a76ad036bc1c5f75e19"
          }
        },
        "ab3c70d6d7d748e5bbc0ebc7fd2951ce": {
          "model_module": "@jupyter-widgets/controls",
          "model_name": "HTMLModel",
          "model_module_version": "1.5.0",
          "state": {
            "_dom_classes": [],
            "_model_module": "@jupyter-widgets/controls",
            "_model_module_version": "1.5.0",
            "_model_name": "HTMLModel",
            "_view_count": null,
            "_view_module": "@jupyter-widgets/controls",
            "_view_module_version": "1.5.0",
            "_view_name": "HTMLView",
            "description": "",
            "description_tooltip": null,
            "layout": "IPY_MODEL_b11f0bade6b9483192d9d4150c35aa6f",
            "placeholder": "​",
            "style": "IPY_MODEL_697f398acc0f47709ab3e13b200b9438",
            "value": "vocab.txt: 100%"
          }
        },
        "a9c303414fca41d89a4cf5ec632e1c50": {
          "model_module": "@jupyter-widgets/controls",
          "model_name": "FloatProgressModel",
          "model_module_version": "1.5.0",
          "state": {
            "_dom_classes": [],
            "_model_module": "@jupyter-widgets/controls",
            "_model_module_version": "1.5.0",
            "_model_name": "FloatProgressModel",
            "_view_count": null,
            "_view_module": "@jupyter-widgets/controls",
            "_view_module_version": "1.5.0",
            "_view_name": "ProgressView",
            "bar_style": "success",
            "description": "",
            "description_tooltip": null,
            "layout": "IPY_MODEL_7c9ca8ace8a64e62bcdff0a53a7fe181",
            "max": 231508,
            "min": 0,
            "orientation": "horizontal",
            "style": "IPY_MODEL_028b44d6ab1e4fef94ce78d665aa229f",
            "value": 231508
          }
        },
        "a4be8b6b7dc94a9fa8da5f5b5b53f5c4": {
          "model_module": "@jupyter-widgets/controls",
          "model_name": "HTMLModel",
          "model_module_version": "1.5.0",
          "state": {
            "_dom_classes": [],
            "_model_module": "@jupyter-widgets/controls",
            "_model_module_version": "1.5.0",
            "_model_name": "HTMLModel",
            "_view_count": null,
            "_view_module": "@jupyter-widgets/controls",
            "_view_module_version": "1.5.0",
            "_view_name": "HTMLView",
            "description": "",
            "description_tooltip": null,
            "layout": "IPY_MODEL_1b498e9d3f4c43c592ae9ee5321cd0da",
            "placeholder": "​",
            "style": "IPY_MODEL_2c96578861db48eeaee19a35334d01e4",
            "value": " 232k/232k [00:00&lt;00:00, 3.43MB/s]"
          }
        },
        "4f381608d9c84a76ad036bc1c5f75e19": {
          "model_module": "@jupyter-widgets/base",
          "model_name": "LayoutModel",
          "model_module_version": "1.2.0",
          "state": {
            "_model_module": "@jupyter-widgets/base",
            "_model_module_version": "1.2.0",
            "_model_name": "LayoutModel",
            "_view_count": null,
            "_view_module": "@jupyter-widgets/base",
            "_view_module_version": "1.2.0",
            "_view_name": "LayoutView",
            "align_content": null,
            "align_items": null,
            "align_self": null,
            "border": null,
            "bottom": null,
            "display": null,
            "flex": null,
            "flex_flow": null,
            "grid_area": null,
            "grid_auto_columns": null,
            "grid_auto_flow": null,
            "grid_auto_rows": null,
            "grid_column": null,
            "grid_gap": null,
            "grid_row": null,
            "grid_template_areas": null,
            "grid_template_columns": null,
            "grid_template_rows": null,
            "height": null,
            "justify_content": null,
            "justify_items": null,
            "left": null,
            "margin": null,
            "max_height": null,
            "max_width": null,
            "min_height": null,
            "min_width": null,
            "object_fit": null,
            "object_position": null,
            "order": null,
            "overflow": null,
            "overflow_x": null,
            "overflow_y": null,
            "padding": null,
            "right": null,
            "top": null,
            "visibility": null,
            "width": null
          }
        },
        "b11f0bade6b9483192d9d4150c35aa6f": {
          "model_module": "@jupyter-widgets/base",
          "model_name": "LayoutModel",
          "model_module_version": "1.2.0",
          "state": {
            "_model_module": "@jupyter-widgets/base",
            "_model_module_version": "1.2.0",
            "_model_name": "LayoutModel",
            "_view_count": null,
            "_view_module": "@jupyter-widgets/base",
            "_view_module_version": "1.2.0",
            "_view_name": "LayoutView",
            "align_content": null,
            "align_items": null,
            "align_self": null,
            "border": null,
            "bottom": null,
            "display": null,
            "flex": null,
            "flex_flow": null,
            "grid_area": null,
            "grid_auto_columns": null,
            "grid_auto_flow": null,
            "grid_auto_rows": null,
            "grid_column": null,
            "grid_gap": null,
            "grid_row": null,
            "grid_template_areas": null,
            "grid_template_columns": null,
            "grid_template_rows": null,
            "height": null,
            "justify_content": null,
            "justify_items": null,
            "left": null,
            "margin": null,
            "max_height": null,
            "max_width": null,
            "min_height": null,
            "min_width": null,
            "object_fit": null,
            "object_position": null,
            "order": null,
            "overflow": null,
            "overflow_x": null,
            "overflow_y": null,
            "padding": null,
            "right": null,
            "top": null,
            "visibility": null,
            "width": null
          }
        },
        "697f398acc0f47709ab3e13b200b9438": {
          "model_module": "@jupyter-widgets/controls",
          "model_name": "DescriptionStyleModel",
          "model_module_version": "1.5.0",
          "state": {
            "_model_module": "@jupyter-widgets/controls",
            "_model_module_version": "1.5.0",
            "_model_name": "DescriptionStyleModel",
            "_view_count": null,
            "_view_module": "@jupyter-widgets/base",
            "_view_module_version": "1.2.0",
            "_view_name": "StyleView",
            "description_width": ""
          }
        },
        "7c9ca8ace8a64e62bcdff0a53a7fe181": {
          "model_module": "@jupyter-widgets/base",
          "model_name": "LayoutModel",
          "model_module_version": "1.2.0",
          "state": {
            "_model_module": "@jupyter-widgets/base",
            "_model_module_version": "1.2.0",
            "_model_name": "LayoutModel",
            "_view_count": null,
            "_view_module": "@jupyter-widgets/base",
            "_view_module_version": "1.2.0",
            "_view_name": "LayoutView",
            "align_content": null,
            "align_items": null,
            "align_self": null,
            "border": null,
            "bottom": null,
            "display": null,
            "flex": null,
            "flex_flow": null,
            "grid_area": null,
            "grid_auto_columns": null,
            "grid_auto_flow": null,
            "grid_auto_rows": null,
            "grid_column": null,
            "grid_gap": null,
            "grid_row": null,
            "grid_template_areas": null,
            "grid_template_columns": null,
            "grid_template_rows": null,
            "height": null,
            "justify_content": null,
            "justify_items": null,
            "left": null,
            "margin": null,
            "max_height": null,
            "max_width": null,
            "min_height": null,
            "min_width": null,
            "object_fit": null,
            "object_position": null,
            "order": null,
            "overflow": null,
            "overflow_x": null,
            "overflow_y": null,
            "padding": null,
            "right": null,
            "top": null,
            "visibility": null,
            "width": null
          }
        },
        "028b44d6ab1e4fef94ce78d665aa229f": {
          "model_module": "@jupyter-widgets/controls",
          "model_name": "ProgressStyleModel",
          "model_module_version": "1.5.0",
          "state": {
            "_model_module": "@jupyter-widgets/controls",
            "_model_module_version": "1.5.0",
            "_model_name": "ProgressStyleModel",
            "_view_count": null,
            "_view_module": "@jupyter-widgets/base",
            "_view_module_version": "1.2.0",
            "_view_name": "StyleView",
            "bar_color": null,
            "description_width": ""
          }
        },
        "1b498e9d3f4c43c592ae9ee5321cd0da": {
          "model_module": "@jupyter-widgets/base",
          "model_name": "LayoutModel",
          "model_module_version": "1.2.0",
          "state": {
            "_model_module": "@jupyter-widgets/base",
            "_model_module_version": "1.2.0",
            "_model_name": "LayoutModel",
            "_view_count": null,
            "_view_module": "@jupyter-widgets/base",
            "_view_module_version": "1.2.0",
            "_view_name": "LayoutView",
            "align_content": null,
            "align_items": null,
            "align_self": null,
            "border": null,
            "bottom": null,
            "display": null,
            "flex": null,
            "flex_flow": null,
            "grid_area": null,
            "grid_auto_columns": null,
            "grid_auto_flow": null,
            "grid_auto_rows": null,
            "grid_column": null,
            "grid_gap": null,
            "grid_row": null,
            "grid_template_areas": null,
            "grid_template_columns": null,
            "grid_template_rows": null,
            "height": null,
            "justify_content": null,
            "justify_items": null,
            "left": null,
            "margin": null,
            "max_height": null,
            "max_width": null,
            "min_height": null,
            "min_width": null,
            "object_fit": null,
            "object_position": null,
            "order": null,
            "overflow": null,
            "overflow_x": null,
            "overflow_y": null,
            "padding": null,
            "right": null,
            "top": null,
            "visibility": null,
            "width": null
          }
        },
        "2c96578861db48eeaee19a35334d01e4": {
          "model_module": "@jupyter-widgets/controls",
          "model_name": "DescriptionStyleModel",
          "model_module_version": "1.5.0",
          "state": {
            "_model_module": "@jupyter-widgets/controls",
            "_model_module_version": "1.5.0",
            "_model_name": "DescriptionStyleModel",
            "_view_count": null,
            "_view_module": "@jupyter-widgets/base",
            "_view_module_version": "1.2.0",
            "_view_name": "StyleView",
            "description_width": ""
          }
        },
        "9ac9d4f09fe44c709491fb0207e60cff": {
          "model_module": "@jupyter-widgets/controls",
          "model_name": "HBoxModel",
          "model_module_version": "1.5.0",
          "state": {
            "_dom_classes": [],
            "_model_module": "@jupyter-widgets/controls",
            "_model_module_version": "1.5.0",
            "_model_name": "HBoxModel",
            "_view_count": null,
            "_view_module": "@jupyter-widgets/controls",
            "_view_module_version": "1.5.0",
            "_view_name": "HBoxView",
            "box_style": "",
            "children": [
              "IPY_MODEL_dbd26f3116ea4ed297774d3f38f12261",
              "IPY_MODEL_21e8cd4eb67e4c9cbddc67f0a58186f5",
              "IPY_MODEL_bd6b0b480d354e309d003db9103be76d"
            ],
            "layout": "IPY_MODEL_ecadf121acd6447e8c2daf867fb58210"
          }
        },
        "dbd26f3116ea4ed297774d3f38f12261": {
          "model_module": "@jupyter-widgets/controls",
          "model_name": "HTMLModel",
          "model_module_version": "1.5.0",
          "state": {
            "_dom_classes": [],
            "_model_module": "@jupyter-widgets/controls",
            "_model_module_version": "1.5.0",
            "_model_name": "HTMLModel",
            "_view_count": null,
            "_view_module": "@jupyter-widgets/controls",
            "_view_module_version": "1.5.0",
            "_view_name": "HTMLView",
            "description": "",
            "description_tooltip": null,
            "layout": "IPY_MODEL_eb161c222a604bf891c9f64dd3d39c3c",
            "placeholder": "​",
            "style": "IPY_MODEL_dfe63f7a51894c24af0605ca6f5d13d5",
            "value": "tokenizer.json: 100%"
          }
        },
        "21e8cd4eb67e4c9cbddc67f0a58186f5": {
          "model_module": "@jupyter-widgets/controls",
          "model_name": "FloatProgressModel",
          "model_module_version": "1.5.0",
          "state": {
            "_dom_classes": [],
            "_model_module": "@jupyter-widgets/controls",
            "_model_module_version": "1.5.0",
            "_model_name": "FloatProgressModel",
            "_view_count": null,
            "_view_module": "@jupyter-widgets/controls",
            "_view_module_version": "1.5.0",
            "_view_name": "ProgressView",
            "bar_style": "success",
            "description": "",
            "description_tooltip": null,
            "layout": "IPY_MODEL_a7968e903a394b5a972f89bbb753a009",
            "max": 466062,
            "min": 0,
            "orientation": "horizontal",
            "style": "IPY_MODEL_3b02cc58b6b444649ee4d8052bf5bce8",
            "value": 466062
          }
        },
        "bd6b0b480d354e309d003db9103be76d": {
          "model_module": "@jupyter-widgets/controls",
          "model_name": "HTMLModel",
          "model_module_version": "1.5.0",
          "state": {
            "_dom_classes": [],
            "_model_module": "@jupyter-widgets/controls",
            "_model_module_version": "1.5.0",
            "_model_name": "HTMLModel",
            "_view_count": null,
            "_view_module": "@jupyter-widgets/controls",
            "_view_module_version": "1.5.0",
            "_view_name": "HTMLView",
            "description": "",
            "description_tooltip": null,
            "layout": "IPY_MODEL_1b8d3884e05c4c19a483226a79f37b1f",
            "placeholder": "​",
            "style": "IPY_MODEL_cad186bfa87c4fcebf19532f9d75f2ad",
            "value": " 466k/466k [00:00&lt;00:00, 3.73MB/s]"
          }
        },
        "ecadf121acd6447e8c2daf867fb58210": {
          "model_module": "@jupyter-widgets/base",
          "model_name": "LayoutModel",
          "model_module_version": "1.2.0",
          "state": {
            "_model_module": "@jupyter-widgets/base",
            "_model_module_version": "1.2.0",
            "_model_name": "LayoutModel",
            "_view_count": null,
            "_view_module": "@jupyter-widgets/base",
            "_view_module_version": "1.2.0",
            "_view_name": "LayoutView",
            "align_content": null,
            "align_items": null,
            "align_self": null,
            "border": null,
            "bottom": null,
            "display": null,
            "flex": null,
            "flex_flow": null,
            "grid_area": null,
            "grid_auto_columns": null,
            "grid_auto_flow": null,
            "grid_auto_rows": null,
            "grid_column": null,
            "grid_gap": null,
            "grid_row": null,
            "grid_template_areas": null,
            "grid_template_columns": null,
            "grid_template_rows": null,
            "height": null,
            "justify_content": null,
            "justify_items": null,
            "left": null,
            "margin": null,
            "max_height": null,
            "max_width": null,
            "min_height": null,
            "min_width": null,
            "object_fit": null,
            "object_position": null,
            "order": null,
            "overflow": null,
            "overflow_x": null,
            "overflow_y": null,
            "padding": null,
            "right": null,
            "top": null,
            "visibility": null,
            "width": null
          }
        },
        "eb161c222a604bf891c9f64dd3d39c3c": {
          "model_module": "@jupyter-widgets/base",
          "model_name": "LayoutModel",
          "model_module_version": "1.2.0",
          "state": {
            "_model_module": "@jupyter-widgets/base",
            "_model_module_version": "1.2.0",
            "_model_name": "LayoutModel",
            "_view_count": null,
            "_view_module": "@jupyter-widgets/base",
            "_view_module_version": "1.2.0",
            "_view_name": "LayoutView",
            "align_content": null,
            "align_items": null,
            "align_self": null,
            "border": null,
            "bottom": null,
            "display": null,
            "flex": null,
            "flex_flow": null,
            "grid_area": null,
            "grid_auto_columns": null,
            "grid_auto_flow": null,
            "grid_auto_rows": null,
            "grid_column": null,
            "grid_gap": null,
            "grid_row": null,
            "grid_template_areas": null,
            "grid_template_columns": null,
            "grid_template_rows": null,
            "height": null,
            "justify_content": null,
            "justify_items": null,
            "left": null,
            "margin": null,
            "max_height": null,
            "max_width": null,
            "min_height": null,
            "min_width": null,
            "object_fit": null,
            "object_position": null,
            "order": null,
            "overflow": null,
            "overflow_x": null,
            "overflow_y": null,
            "padding": null,
            "right": null,
            "top": null,
            "visibility": null,
            "width": null
          }
        },
        "dfe63f7a51894c24af0605ca6f5d13d5": {
          "model_module": "@jupyter-widgets/controls",
          "model_name": "DescriptionStyleModel",
          "model_module_version": "1.5.0",
          "state": {
            "_model_module": "@jupyter-widgets/controls",
            "_model_module_version": "1.5.0",
            "_model_name": "DescriptionStyleModel",
            "_view_count": null,
            "_view_module": "@jupyter-widgets/base",
            "_view_module_version": "1.2.0",
            "_view_name": "StyleView",
            "description_width": ""
          }
        },
        "a7968e903a394b5a972f89bbb753a009": {
          "model_module": "@jupyter-widgets/base",
          "model_name": "LayoutModel",
          "model_module_version": "1.2.0",
          "state": {
            "_model_module": "@jupyter-widgets/base",
            "_model_module_version": "1.2.0",
            "_model_name": "LayoutModel",
            "_view_count": null,
            "_view_module": "@jupyter-widgets/base",
            "_view_module_version": "1.2.0",
            "_view_name": "LayoutView",
            "align_content": null,
            "align_items": null,
            "align_self": null,
            "border": null,
            "bottom": null,
            "display": null,
            "flex": null,
            "flex_flow": null,
            "grid_area": null,
            "grid_auto_columns": null,
            "grid_auto_flow": null,
            "grid_auto_rows": null,
            "grid_column": null,
            "grid_gap": null,
            "grid_row": null,
            "grid_template_areas": null,
            "grid_template_columns": null,
            "grid_template_rows": null,
            "height": null,
            "justify_content": null,
            "justify_items": null,
            "left": null,
            "margin": null,
            "max_height": null,
            "max_width": null,
            "min_height": null,
            "min_width": null,
            "object_fit": null,
            "object_position": null,
            "order": null,
            "overflow": null,
            "overflow_x": null,
            "overflow_y": null,
            "padding": null,
            "right": null,
            "top": null,
            "visibility": null,
            "width": null
          }
        },
        "3b02cc58b6b444649ee4d8052bf5bce8": {
          "model_module": "@jupyter-widgets/controls",
          "model_name": "ProgressStyleModel",
          "model_module_version": "1.5.0",
          "state": {
            "_model_module": "@jupyter-widgets/controls",
            "_model_module_version": "1.5.0",
            "_model_name": "ProgressStyleModel",
            "_view_count": null,
            "_view_module": "@jupyter-widgets/base",
            "_view_module_version": "1.2.0",
            "_view_name": "StyleView",
            "bar_color": null,
            "description_width": ""
          }
        },
        "1b8d3884e05c4c19a483226a79f37b1f": {
          "model_module": "@jupyter-widgets/base",
          "model_name": "LayoutModel",
          "model_module_version": "1.2.0",
          "state": {
            "_model_module": "@jupyter-widgets/base",
            "_model_module_version": "1.2.0",
            "_model_name": "LayoutModel",
            "_view_count": null,
            "_view_module": "@jupyter-widgets/base",
            "_view_module_version": "1.2.0",
            "_view_name": "LayoutView",
            "align_content": null,
            "align_items": null,
            "align_self": null,
            "border": null,
            "bottom": null,
            "display": null,
            "flex": null,
            "flex_flow": null,
            "grid_area": null,
            "grid_auto_columns": null,
            "grid_auto_flow": null,
            "grid_auto_rows": null,
            "grid_column": null,
            "grid_gap": null,
            "grid_row": null,
            "grid_template_areas": null,
            "grid_template_columns": null,
            "grid_template_rows": null,
            "height": null,
            "justify_content": null,
            "justify_items": null,
            "left": null,
            "margin": null,
            "max_height": null,
            "max_width": null,
            "min_height": null,
            "min_width": null,
            "object_fit": null,
            "object_position": null,
            "order": null,
            "overflow": null,
            "overflow_x": null,
            "overflow_y": null,
            "padding": null,
            "right": null,
            "top": null,
            "visibility": null,
            "width": null
          }
        },
        "cad186bfa87c4fcebf19532f9d75f2ad": {
          "model_module": "@jupyter-widgets/controls",
          "model_name": "DescriptionStyleModel",
          "model_module_version": "1.5.0",
          "state": {
            "_model_module": "@jupyter-widgets/controls",
            "_model_module_version": "1.5.0",
            "_model_name": "DescriptionStyleModel",
            "_view_count": null,
            "_view_module": "@jupyter-widgets/base",
            "_view_module_version": "1.2.0",
            "_view_name": "StyleView",
            "description_width": ""
          }
        },
        "1a3ce26771c9437485e513ff7f84f267": {
          "model_module": "@jupyter-widgets/controls",
          "model_name": "HBoxModel",
          "model_module_version": "1.5.0",
          "state": {
            "_dom_classes": [],
            "_model_module": "@jupyter-widgets/controls",
            "_model_module_version": "1.5.0",
            "_model_name": "HBoxModel",
            "_view_count": null,
            "_view_module": "@jupyter-widgets/controls",
            "_view_module_version": "1.5.0",
            "_view_name": "HBoxView",
            "box_style": "",
            "children": [
              "IPY_MODEL_889b6a3200ac472fabda3538e4ee5573",
              "IPY_MODEL_75aa8499db384fd49a2f75f84ddf94cc",
              "IPY_MODEL_66ca7dc97422424aad3062ebfe01cf22"
            ],
            "layout": "IPY_MODEL_43715f44a4164c91bbe04c2edd778ce0"
          }
        },
        "889b6a3200ac472fabda3538e4ee5573": {
          "model_module": "@jupyter-widgets/controls",
          "model_name": "HTMLModel",
          "model_module_version": "1.5.0",
          "state": {
            "_dom_classes": [],
            "_model_module": "@jupyter-widgets/controls",
            "_model_module_version": "1.5.0",
            "_model_name": "HTMLModel",
            "_view_count": null,
            "_view_module": "@jupyter-widgets/controls",
            "_view_module_version": "1.5.0",
            "_view_name": "HTMLView",
            "description": "",
            "description_tooltip": null,
            "layout": "IPY_MODEL_f1389c47478c43bf8442178dec128c3f",
            "placeholder": "​",
            "style": "IPY_MODEL_5e2cb7a8a4d64e7bbb129dde2635d6f3",
            "value": "Map: 100%"
          }
        },
        "75aa8499db384fd49a2f75f84ddf94cc": {
          "model_module": "@jupyter-widgets/controls",
          "model_name": "FloatProgressModel",
          "model_module_version": "1.5.0",
          "state": {
            "_dom_classes": [],
            "_model_module": "@jupyter-widgets/controls",
            "_model_module_version": "1.5.0",
            "_model_name": "FloatProgressModel",
            "_view_count": null,
            "_view_module": "@jupyter-widgets/controls",
            "_view_module_version": "1.5.0",
            "_view_name": "ProgressView",
            "bar_style": "success",
            "description": "",
            "description_tooltip": null,
            "layout": "IPY_MODEL_ddd54591f7564bb992da9bca75565c65",
            "max": 576,
            "min": 0,
            "orientation": "horizontal",
            "style": "IPY_MODEL_22a8725294814cde88c6a175b2fa1741",
            "value": 576
          }
        },
        "66ca7dc97422424aad3062ebfe01cf22": {
          "model_module": "@jupyter-widgets/controls",
          "model_name": "HTMLModel",
          "model_module_version": "1.5.0",
          "state": {
            "_dom_classes": [],
            "_model_module": "@jupyter-widgets/controls",
            "_model_module_version": "1.5.0",
            "_model_name": "HTMLModel",
            "_view_count": null,
            "_view_module": "@jupyter-widgets/controls",
            "_view_module_version": "1.5.0",
            "_view_name": "HTMLView",
            "description": "",
            "description_tooltip": null,
            "layout": "IPY_MODEL_69f823814f754809a60947d9fccd7ed8",
            "placeholder": "​",
            "style": "IPY_MODEL_9efbfc058b664ba0a88d65cf36ab30f5",
            "value": " 576/576 [00:01&lt;00:00, 402.54 examples/s]"
          }
        },
        "43715f44a4164c91bbe04c2edd778ce0": {
          "model_module": "@jupyter-widgets/base",
          "model_name": "LayoutModel",
          "model_module_version": "1.2.0",
          "state": {
            "_model_module": "@jupyter-widgets/base",
            "_model_module_version": "1.2.0",
            "_model_name": "LayoutModel",
            "_view_count": null,
            "_view_module": "@jupyter-widgets/base",
            "_view_module_version": "1.2.0",
            "_view_name": "LayoutView",
            "align_content": null,
            "align_items": null,
            "align_self": null,
            "border": null,
            "bottom": null,
            "display": null,
            "flex": null,
            "flex_flow": null,
            "grid_area": null,
            "grid_auto_columns": null,
            "grid_auto_flow": null,
            "grid_auto_rows": null,
            "grid_column": null,
            "grid_gap": null,
            "grid_row": null,
            "grid_template_areas": null,
            "grid_template_columns": null,
            "grid_template_rows": null,
            "height": null,
            "justify_content": null,
            "justify_items": null,
            "left": null,
            "margin": null,
            "max_height": null,
            "max_width": null,
            "min_height": null,
            "min_width": null,
            "object_fit": null,
            "object_position": null,
            "order": null,
            "overflow": null,
            "overflow_x": null,
            "overflow_y": null,
            "padding": null,
            "right": null,
            "top": null,
            "visibility": null,
            "width": null
          }
        },
        "f1389c47478c43bf8442178dec128c3f": {
          "model_module": "@jupyter-widgets/base",
          "model_name": "LayoutModel",
          "model_module_version": "1.2.0",
          "state": {
            "_model_module": "@jupyter-widgets/base",
            "_model_module_version": "1.2.0",
            "_model_name": "LayoutModel",
            "_view_count": null,
            "_view_module": "@jupyter-widgets/base",
            "_view_module_version": "1.2.0",
            "_view_name": "LayoutView",
            "align_content": null,
            "align_items": null,
            "align_self": null,
            "border": null,
            "bottom": null,
            "display": null,
            "flex": null,
            "flex_flow": null,
            "grid_area": null,
            "grid_auto_columns": null,
            "grid_auto_flow": null,
            "grid_auto_rows": null,
            "grid_column": null,
            "grid_gap": null,
            "grid_row": null,
            "grid_template_areas": null,
            "grid_template_columns": null,
            "grid_template_rows": null,
            "height": null,
            "justify_content": null,
            "justify_items": null,
            "left": null,
            "margin": null,
            "max_height": null,
            "max_width": null,
            "min_height": null,
            "min_width": null,
            "object_fit": null,
            "object_position": null,
            "order": null,
            "overflow": null,
            "overflow_x": null,
            "overflow_y": null,
            "padding": null,
            "right": null,
            "top": null,
            "visibility": null,
            "width": null
          }
        },
        "5e2cb7a8a4d64e7bbb129dde2635d6f3": {
          "model_module": "@jupyter-widgets/controls",
          "model_name": "DescriptionStyleModel",
          "model_module_version": "1.5.0",
          "state": {
            "_model_module": "@jupyter-widgets/controls",
            "_model_module_version": "1.5.0",
            "_model_name": "DescriptionStyleModel",
            "_view_count": null,
            "_view_module": "@jupyter-widgets/base",
            "_view_module_version": "1.2.0",
            "_view_name": "StyleView",
            "description_width": ""
          }
        },
        "ddd54591f7564bb992da9bca75565c65": {
          "model_module": "@jupyter-widgets/base",
          "model_name": "LayoutModel",
          "model_module_version": "1.2.0",
          "state": {
            "_model_module": "@jupyter-widgets/base",
            "_model_module_version": "1.2.0",
            "_model_name": "LayoutModel",
            "_view_count": null,
            "_view_module": "@jupyter-widgets/base",
            "_view_module_version": "1.2.0",
            "_view_name": "LayoutView",
            "align_content": null,
            "align_items": null,
            "align_self": null,
            "border": null,
            "bottom": null,
            "display": null,
            "flex": null,
            "flex_flow": null,
            "grid_area": null,
            "grid_auto_columns": null,
            "grid_auto_flow": null,
            "grid_auto_rows": null,
            "grid_column": null,
            "grid_gap": null,
            "grid_row": null,
            "grid_template_areas": null,
            "grid_template_columns": null,
            "grid_template_rows": null,
            "height": null,
            "justify_content": null,
            "justify_items": null,
            "left": null,
            "margin": null,
            "max_height": null,
            "max_width": null,
            "min_height": null,
            "min_width": null,
            "object_fit": null,
            "object_position": null,
            "order": null,
            "overflow": null,
            "overflow_x": null,
            "overflow_y": null,
            "padding": null,
            "right": null,
            "top": null,
            "visibility": null,
            "width": null
          }
        },
        "22a8725294814cde88c6a175b2fa1741": {
          "model_module": "@jupyter-widgets/controls",
          "model_name": "ProgressStyleModel",
          "model_module_version": "1.5.0",
          "state": {
            "_model_module": "@jupyter-widgets/controls",
            "_model_module_version": "1.5.0",
            "_model_name": "ProgressStyleModel",
            "_view_count": null,
            "_view_module": "@jupyter-widgets/base",
            "_view_module_version": "1.2.0",
            "_view_name": "StyleView",
            "bar_color": null,
            "description_width": ""
          }
        },
        "69f823814f754809a60947d9fccd7ed8": {
          "model_module": "@jupyter-widgets/base",
          "model_name": "LayoutModel",
          "model_module_version": "1.2.0",
          "state": {
            "_model_module": "@jupyter-widgets/base",
            "_model_module_version": "1.2.0",
            "_model_name": "LayoutModel",
            "_view_count": null,
            "_view_module": "@jupyter-widgets/base",
            "_view_module_version": "1.2.0",
            "_view_name": "LayoutView",
            "align_content": null,
            "align_items": null,
            "align_self": null,
            "border": null,
            "bottom": null,
            "display": null,
            "flex": null,
            "flex_flow": null,
            "grid_area": null,
            "grid_auto_columns": null,
            "grid_auto_flow": null,
            "grid_auto_rows": null,
            "grid_column": null,
            "grid_gap": null,
            "grid_row": null,
            "grid_template_areas": null,
            "grid_template_columns": null,
            "grid_template_rows": null,
            "height": null,
            "justify_content": null,
            "justify_items": null,
            "left": null,
            "margin": null,
            "max_height": null,
            "max_width": null,
            "min_height": null,
            "min_width": null,
            "object_fit": null,
            "object_position": null,
            "order": null,
            "overflow": null,
            "overflow_x": null,
            "overflow_y": null,
            "padding": null,
            "right": null,
            "top": null,
            "visibility": null,
            "width": null
          }
        },
        "9efbfc058b664ba0a88d65cf36ab30f5": {
          "model_module": "@jupyter-widgets/controls",
          "model_name": "DescriptionStyleModel",
          "model_module_version": "1.5.0",
          "state": {
            "_model_module": "@jupyter-widgets/controls",
            "_model_module_version": "1.5.0",
            "_model_name": "DescriptionStyleModel",
            "_view_count": null,
            "_view_module": "@jupyter-widgets/base",
            "_view_module_version": "1.2.0",
            "_view_name": "StyleView",
            "description_width": ""
          }
        },
        "def8947b2db24bc5afa6a527c82e9c72": {
          "model_module": "@jupyter-widgets/controls",
          "model_name": "HBoxModel",
          "model_module_version": "1.5.0",
          "state": {
            "_dom_classes": [],
            "_model_module": "@jupyter-widgets/controls",
            "_model_module_version": "1.5.0",
            "_model_name": "HBoxModel",
            "_view_count": null,
            "_view_module": "@jupyter-widgets/controls",
            "_view_module_version": "1.5.0",
            "_view_name": "HBoxView",
            "box_style": "",
            "children": [
              "IPY_MODEL_e391b91e05d2407abcf80ca2228753b0",
              "IPY_MODEL_594770e0a95146858116456d41977f6a",
              "IPY_MODEL_40db345a1a754772869b5f8e3bd5f2ab"
            ],
            "layout": "IPY_MODEL_a1ec9910a18b4ac19e3f8af62f4119e0"
          }
        },
        "e391b91e05d2407abcf80ca2228753b0": {
          "model_module": "@jupyter-widgets/controls",
          "model_name": "HTMLModel",
          "model_module_version": "1.5.0",
          "state": {
            "_dom_classes": [],
            "_model_module": "@jupyter-widgets/controls",
            "_model_module_version": "1.5.0",
            "_model_name": "HTMLModel",
            "_view_count": null,
            "_view_module": "@jupyter-widgets/controls",
            "_view_module_version": "1.5.0",
            "_view_name": "HTMLView",
            "description": "",
            "description_tooltip": null,
            "layout": "IPY_MODEL_79db3d9691d7484a8a9a7d30347e50cf",
            "placeholder": "​",
            "style": "IPY_MODEL_256f7c1d1ecd42bd96fca458a216aed7",
            "value": "Map: 100%"
          }
        },
        "594770e0a95146858116456d41977f6a": {
          "model_module": "@jupyter-widgets/controls",
          "model_name": "FloatProgressModel",
          "model_module_version": "1.5.0",
          "state": {
            "_dom_classes": [],
            "_model_module": "@jupyter-widgets/controls",
            "_model_module_version": "1.5.0",
            "_model_name": "FloatProgressModel",
            "_view_count": null,
            "_view_module": "@jupyter-widgets/controls",
            "_view_module_version": "1.5.0",
            "_view_name": "ProgressView",
            "bar_style": "success",
            "description": "",
            "description_tooltip": null,
            "layout": "IPY_MODEL_89719273eca246b2bca02fcabcbbd587",
            "max": 193,
            "min": 0,
            "orientation": "horizontal",
            "style": "IPY_MODEL_8ddf347ae7d6461eaa40de0b29a6239c",
            "value": 193
          }
        },
        "40db345a1a754772869b5f8e3bd5f2ab": {
          "model_module": "@jupyter-widgets/controls",
          "model_name": "HTMLModel",
          "model_module_version": "1.5.0",
          "state": {
            "_dom_classes": [],
            "_model_module": "@jupyter-widgets/controls",
            "_model_module_version": "1.5.0",
            "_model_name": "HTMLModel",
            "_view_count": null,
            "_view_module": "@jupyter-widgets/controls",
            "_view_module_version": "1.5.0",
            "_view_name": "HTMLView",
            "description": "",
            "description_tooltip": null,
            "layout": "IPY_MODEL_fc7833f8b0ef42b29f2d0e6cf7b485a6",
            "placeholder": "​",
            "style": "IPY_MODEL_d615a8346f3f45b48365a07667dac6ca",
            "value": " 193/193 [00:00&lt;00:00, 456.73 examples/s]"
          }
        },
        "a1ec9910a18b4ac19e3f8af62f4119e0": {
          "model_module": "@jupyter-widgets/base",
          "model_name": "LayoutModel",
          "model_module_version": "1.2.0",
          "state": {
            "_model_module": "@jupyter-widgets/base",
            "_model_module_version": "1.2.0",
            "_model_name": "LayoutModel",
            "_view_count": null,
            "_view_module": "@jupyter-widgets/base",
            "_view_module_version": "1.2.0",
            "_view_name": "LayoutView",
            "align_content": null,
            "align_items": null,
            "align_self": null,
            "border": null,
            "bottom": null,
            "display": null,
            "flex": null,
            "flex_flow": null,
            "grid_area": null,
            "grid_auto_columns": null,
            "grid_auto_flow": null,
            "grid_auto_rows": null,
            "grid_column": null,
            "grid_gap": null,
            "grid_row": null,
            "grid_template_areas": null,
            "grid_template_columns": null,
            "grid_template_rows": null,
            "height": null,
            "justify_content": null,
            "justify_items": null,
            "left": null,
            "margin": null,
            "max_height": null,
            "max_width": null,
            "min_height": null,
            "min_width": null,
            "object_fit": null,
            "object_position": null,
            "order": null,
            "overflow": null,
            "overflow_x": null,
            "overflow_y": null,
            "padding": null,
            "right": null,
            "top": null,
            "visibility": null,
            "width": null
          }
        },
        "79db3d9691d7484a8a9a7d30347e50cf": {
          "model_module": "@jupyter-widgets/base",
          "model_name": "LayoutModel",
          "model_module_version": "1.2.0",
          "state": {
            "_model_module": "@jupyter-widgets/base",
            "_model_module_version": "1.2.0",
            "_model_name": "LayoutModel",
            "_view_count": null,
            "_view_module": "@jupyter-widgets/base",
            "_view_module_version": "1.2.0",
            "_view_name": "LayoutView",
            "align_content": null,
            "align_items": null,
            "align_self": null,
            "border": null,
            "bottom": null,
            "display": null,
            "flex": null,
            "flex_flow": null,
            "grid_area": null,
            "grid_auto_columns": null,
            "grid_auto_flow": null,
            "grid_auto_rows": null,
            "grid_column": null,
            "grid_gap": null,
            "grid_row": null,
            "grid_template_areas": null,
            "grid_template_columns": null,
            "grid_template_rows": null,
            "height": null,
            "justify_content": null,
            "justify_items": null,
            "left": null,
            "margin": null,
            "max_height": null,
            "max_width": null,
            "min_height": null,
            "min_width": null,
            "object_fit": null,
            "object_position": null,
            "order": null,
            "overflow": null,
            "overflow_x": null,
            "overflow_y": null,
            "padding": null,
            "right": null,
            "top": null,
            "visibility": null,
            "width": null
          }
        },
        "256f7c1d1ecd42bd96fca458a216aed7": {
          "model_module": "@jupyter-widgets/controls",
          "model_name": "DescriptionStyleModel",
          "model_module_version": "1.5.0",
          "state": {
            "_model_module": "@jupyter-widgets/controls",
            "_model_module_version": "1.5.0",
            "_model_name": "DescriptionStyleModel",
            "_view_count": null,
            "_view_module": "@jupyter-widgets/base",
            "_view_module_version": "1.2.0",
            "_view_name": "StyleView",
            "description_width": ""
          }
        },
        "89719273eca246b2bca02fcabcbbd587": {
          "model_module": "@jupyter-widgets/base",
          "model_name": "LayoutModel",
          "model_module_version": "1.2.0",
          "state": {
            "_model_module": "@jupyter-widgets/base",
            "_model_module_version": "1.2.0",
            "_model_name": "LayoutModel",
            "_view_count": null,
            "_view_module": "@jupyter-widgets/base",
            "_view_module_version": "1.2.0",
            "_view_name": "LayoutView",
            "align_content": null,
            "align_items": null,
            "align_self": null,
            "border": null,
            "bottom": null,
            "display": null,
            "flex": null,
            "flex_flow": null,
            "grid_area": null,
            "grid_auto_columns": null,
            "grid_auto_flow": null,
            "grid_auto_rows": null,
            "grid_column": null,
            "grid_gap": null,
            "grid_row": null,
            "grid_template_areas": null,
            "grid_template_columns": null,
            "grid_template_rows": null,
            "height": null,
            "justify_content": null,
            "justify_items": null,
            "left": null,
            "margin": null,
            "max_height": null,
            "max_width": null,
            "min_height": null,
            "min_width": null,
            "object_fit": null,
            "object_position": null,
            "order": null,
            "overflow": null,
            "overflow_x": null,
            "overflow_y": null,
            "padding": null,
            "right": null,
            "top": null,
            "visibility": null,
            "width": null
          }
        },
        "8ddf347ae7d6461eaa40de0b29a6239c": {
          "model_module": "@jupyter-widgets/controls",
          "model_name": "ProgressStyleModel",
          "model_module_version": "1.5.0",
          "state": {
            "_model_module": "@jupyter-widgets/controls",
            "_model_module_version": "1.5.0",
            "_model_name": "ProgressStyleModel",
            "_view_count": null,
            "_view_module": "@jupyter-widgets/base",
            "_view_module_version": "1.2.0",
            "_view_name": "StyleView",
            "bar_color": null,
            "description_width": ""
          }
        },
        "fc7833f8b0ef42b29f2d0e6cf7b485a6": {
          "model_module": "@jupyter-widgets/base",
          "model_name": "LayoutModel",
          "model_module_version": "1.2.0",
          "state": {
            "_model_module": "@jupyter-widgets/base",
            "_model_module_version": "1.2.0",
            "_model_name": "LayoutModel",
            "_view_count": null,
            "_view_module": "@jupyter-widgets/base",
            "_view_module_version": "1.2.0",
            "_view_name": "LayoutView",
            "align_content": null,
            "align_items": null,
            "align_self": null,
            "border": null,
            "bottom": null,
            "display": null,
            "flex": null,
            "flex_flow": null,
            "grid_area": null,
            "grid_auto_columns": null,
            "grid_auto_flow": null,
            "grid_auto_rows": null,
            "grid_column": null,
            "grid_gap": null,
            "grid_row": null,
            "grid_template_areas": null,
            "grid_template_columns": null,
            "grid_template_rows": null,
            "height": null,
            "justify_content": null,
            "justify_items": null,
            "left": null,
            "margin": null,
            "max_height": null,
            "max_width": null,
            "min_height": null,
            "min_width": null,
            "object_fit": null,
            "object_position": null,
            "order": null,
            "overflow": null,
            "overflow_x": null,
            "overflow_y": null,
            "padding": null,
            "right": null,
            "top": null,
            "visibility": null,
            "width": null
          }
        },
        "d615a8346f3f45b48365a07667dac6ca": {
          "model_module": "@jupyter-widgets/controls",
          "model_name": "DescriptionStyleModel",
          "model_module_version": "1.5.0",
          "state": {
            "_model_module": "@jupyter-widgets/controls",
            "_model_module_version": "1.5.0",
            "_model_name": "DescriptionStyleModel",
            "_view_count": null,
            "_view_module": "@jupyter-widgets/base",
            "_view_module_version": "1.2.0",
            "_view_name": "StyleView",
            "description_width": ""
          }
        },
        "63637ed34d0e4aa5a6257a1b288eac20": {
          "model_module": "@jupyter-widgets/controls",
          "model_name": "HBoxModel",
          "model_module_version": "1.5.0",
          "state": {
            "_dom_classes": [],
            "_model_module": "@jupyter-widgets/controls",
            "_model_module_version": "1.5.0",
            "_model_name": "HBoxModel",
            "_view_count": null,
            "_view_module": "@jupyter-widgets/controls",
            "_view_module_version": "1.5.0",
            "_view_name": "HBoxView",
            "box_style": "",
            "children": [
              "IPY_MODEL_5f310a771ecd4eec9ed5aec533fb45d7",
              "IPY_MODEL_ea975f6ae7c64d33a2f2d05705c6a1eb",
              "IPY_MODEL_c3258d1a37a34fe4b7b87feaa99a2bb1"
            ],
            "layout": "IPY_MODEL_0fab733cf8d24b25a91bf1c797270b02"
          }
        },
        "5f310a771ecd4eec9ed5aec533fb45d7": {
          "model_module": "@jupyter-widgets/controls",
          "model_name": "HTMLModel",
          "model_module_version": "1.5.0",
          "state": {
            "_dom_classes": [],
            "_model_module": "@jupyter-widgets/controls",
            "_model_module_version": "1.5.0",
            "_model_name": "HTMLModel",
            "_view_count": null,
            "_view_module": "@jupyter-widgets/controls",
            "_view_module_version": "1.5.0",
            "_view_name": "HTMLView",
            "description": "",
            "description_tooltip": null,
            "layout": "IPY_MODEL_6b81a553ccf543ddaae5a74ab3ab7be6",
            "placeholder": "​",
            "style": "IPY_MODEL_876451b4d7fe4d9aa21f22a7db55f56d",
            "value": "Map: 100%"
          }
        },
        "ea975f6ae7c64d33a2f2d05705c6a1eb": {
          "model_module": "@jupyter-widgets/controls",
          "model_name": "FloatProgressModel",
          "model_module_version": "1.5.0",
          "state": {
            "_dom_classes": [],
            "_model_module": "@jupyter-widgets/controls",
            "_model_module_version": "1.5.0",
            "_model_name": "FloatProgressModel",
            "_view_count": null,
            "_view_module": "@jupyter-widgets/controls",
            "_view_module_version": "1.5.0",
            "_view_name": "ProgressView",
            "bar_style": "success",
            "description": "",
            "description_tooltip": null,
            "layout": "IPY_MODEL_81d2f03cdba1466694d663a85ab85b46",
            "max": 193,
            "min": 0,
            "orientation": "horizontal",
            "style": "IPY_MODEL_889f0179feb5481781fd34acef7737c1",
            "value": 193
          }
        },
        "c3258d1a37a34fe4b7b87feaa99a2bb1": {
          "model_module": "@jupyter-widgets/controls",
          "model_name": "HTMLModel",
          "model_module_version": "1.5.0",
          "state": {
            "_dom_classes": [],
            "_model_module": "@jupyter-widgets/controls",
            "_model_module_version": "1.5.0",
            "_model_name": "HTMLModel",
            "_view_count": null,
            "_view_module": "@jupyter-widgets/controls",
            "_view_module_version": "1.5.0",
            "_view_name": "HTMLView",
            "description": "",
            "description_tooltip": null,
            "layout": "IPY_MODEL_0fe869648c1244d1b3f0ae36805b99ed",
            "placeholder": "​",
            "style": "IPY_MODEL_cc9e32143ad942ebafdba7654ecbfed8",
            "value": " 193/193 [00:00&lt;00:00, 574.82 examples/s]"
          }
        },
        "0fab733cf8d24b25a91bf1c797270b02": {
          "model_module": "@jupyter-widgets/base",
          "model_name": "LayoutModel",
          "model_module_version": "1.2.0",
          "state": {
            "_model_module": "@jupyter-widgets/base",
            "_model_module_version": "1.2.0",
            "_model_name": "LayoutModel",
            "_view_count": null,
            "_view_module": "@jupyter-widgets/base",
            "_view_module_version": "1.2.0",
            "_view_name": "LayoutView",
            "align_content": null,
            "align_items": null,
            "align_self": null,
            "border": null,
            "bottom": null,
            "display": null,
            "flex": null,
            "flex_flow": null,
            "grid_area": null,
            "grid_auto_columns": null,
            "grid_auto_flow": null,
            "grid_auto_rows": null,
            "grid_column": null,
            "grid_gap": null,
            "grid_row": null,
            "grid_template_areas": null,
            "grid_template_columns": null,
            "grid_template_rows": null,
            "height": null,
            "justify_content": null,
            "justify_items": null,
            "left": null,
            "margin": null,
            "max_height": null,
            "max_width": null,
            "min_height": null,
            "min_width": null,
            "object_fit": null,
            "object_position": null,
            "order": null,
            "overflow": null,
            "overflow_x": null,
            "overflow_y": null,
            "padding": null,
            "right": null,
            "top": null,
            "visibility": null,
            "width": null
          }
        },
        "6b81a553ccf543ddaae5a74ab3ab7be6": {
          "model_module": "@jupyter-widgets/base",
          "model_name": "LayoutModel",
          "model_module_version": "1.2.0",
          "state": {
            "_model_module": "@jupyter-widgets/base",
            "_model_module_version": "1.2.0",
            "_model_name": "LayoutModel",
            "_view_count": null,
            "_view_module": "@jupyter-widgets/base",
            "_view_module_version": "1.2.0",
            "_view_name": "LayoutView",
            "align_content": null,
            "align_items": null,
            "align_self": null,
            "border": null,
            "bottom": null,
            "display": null,
            "flex": null,
            "flex_flow": null,
            "grid_area": null,
            "grid_auto_columns": null,
            "grid_auto_flow": null,
            "grid_auto_rows": null,
            "grid_column": null,
            "grid_gap": null,
            "grid_row": null,
            "grid_template_areas": null,
            "grid_template_columns": null,
            "grid_template_rows": null,
            "height": null,
            "justify_content": null,
            "justify_items": null,
            "left": null,
            "margin": null,
            "max_height": null,
            "max_width": null,
            "min_height": null,
            "min_width": null,
            "object_fit": null,
            "object_position": null,
            "order": null,
            "overflow": null,
            "overflow_x": null,
            "overflow_y": null,
            "padding": null,
            "right": null,
            "top": null,
            "visibility": null,
            "width": null
          }
        },
        "876451b4d7fe4d9aa21f22a7db55f56d": {
          "model_module": "@jupyter-widgets/controls",
          "model_name": "DescriptionStyleModel",
          "model_module_version": "1.5.0",
          "state": {
            "_model_module": "@jupyter-widgets/controls",
            "_model_module_version": "1.5.0",
            "_model_name": "DescriptionStyleModel",
            "_view_count": null,
            "_view_module": "@jupyter-widgets/base",
            "_view_module_version": "1.2.0",
            "_view_name": "StyleView",
            "description_width": ""
          }
        },
        "81d2f03cdba1466694d663a85ab85b46": {
          "model_module": "@jupyter-widgets/base",
          "model_name": "LayoutModel",
          "model_module_version": "1.2.0",
          "state": {
            "_model_module": "@jupyter-widgets/base",
            "_model_module_version": "1.2.0",
            "_model_name": "LayoutModel",
            "_view_count": null,
            "_view_module": "@jupyter-widgets/base",
            "_view_module_version": "1.2.0",
            "_view_name": "LayoutView",
            "align_content": null,
            "align_items": null,
            "align_self": null,
            "border": null,
            "bottom": null,
            "display": null,
            "flex": null,
            "flex_flow": null,
            "grid_area": null,
            "grid_auto_columns": null,
            "grid_auto_flow": null,
            "grid_auto_rows": null,
            "grid_column": null,
            "grid_gap": null,
            "grid_row": null,
            "grid_template_areas": null,
            "grid_template_columns": null,
            "grid_template_rows": null,
            "height": null,
            "justify_content": null,
            "justify_items": null,
            "left": null,
            "margin": null,
            "max_height": null,
            "max_width": null,
            "min_height": null,
            "min_width": null,
            "object_fit": null,
            "object_position": null,
            "order": null,
            "overflow": null,
            "overflow_x": null,
            "overflow_y": null,
            "padding": null,
            "right": null,
            "top": null,
            "visibility": null,
            "width": null
          }
        },
        "889f0179feb5481781fd34acef7737c1": {
          "model_module": "@jupyter-widgets/controls",
          "model_name": "ProgressStyleModel",
          "model_module_version": "1.5.0",
          "state": {
            "_model_module": "@jupyter-widgets/controls",
            "_model_module_version": "1.5.0",
            "_model_name": "ProgressStyleModel",
            "_view_count": null,
            "_view_module": "@jupyter-widgets/base",
            "_view_module_version": "1.2.0",
            "_view_name": "StyleView",
            "bar_color": null,
            "description_width": ""
          }
        },
        "0fe869648c1244d1b3f0ae36805b99ed": {
          "model_module": "@jupyter-widgets/base",
          "model_name": "LayoutModel",
          "model_module_version": "1.2.0",
          "state": {
            "_model_module": "@jupyter-widgets/base",
            "_model_module_version": "1.2.0",
            "_model_name": "LayoutModel",
            "_view_count": null,
            "_view_module": "@jupyter-widgets/base",
            "_view_module_version": "1.2.0",
            "_view_name": "LayoutView",
            "align_content": null,
            "align_items": null,
            "align_self": null,
            "border": null,
            "bottom": null,
            "display": null,
            "flex": null,
            "flex_flow": null,
            "grid_area": null,
            "grid_auto_columns": null,
            "grid_auto_flow": null,
            "grid_auto_rows": null,
            "grid_column": null,
            "grid_gap": null,
            "grid_row": null,
            "grid_template_areas": null,
            "grid_template_columns": null,
            "grid_template_rows": null,
            "height": null,
            "justify_content": null,
            "justify_items": null,
            "left": null,
            "margin": null,
            "max_height": null,
            "max_width": null,
            "min_height": null,
            "min_width": null,
            "object_fit": null,
            "object_position": null,
            "order": null,
            "overflow": null,
            "overflow_x": null,
            "overflow_y": null,
            "padding": null,
            "right": null,
            "top": null,
            "visibility": null,
            "width": null
          }
        },
        "cc9e32143ad942ebafdba7654ecbfed8": {
          "model_module": "@jupyter-widgets/controls",
          "model_name": "DescriptionStyleModel",
          "model_module_version": "1.5.0",
          "state": {
            "_model_module": "@jupyter-widgets/controls",
            "_model_module_version": "1.5.0",
            "_model_name": "DescriptionStyleModel",
            "_view_count": null,
            "_view_module": "@jupyter-widgets/base",
            "_view_module_version": "1.2.0",
            "_view_name": "StyleView",
            "description_width": ""
          }
        },
        "3a7482da6b10415f97f460d8872ee040": {
          "model_module": "@jupyter-widgets/controls",
          "model_name": "HBoxModel",
          "model_module_version": "1.5.0",
          "state": {
            "_dom_classes": [],
            "_model_module": "@jupyter-widgets/controls",
            "_model_module_version": "1.5.0",
            "_model_name": "HBoxModel",
            "_view_count": null,
            "_view_module": "@jupyter-widgets/controls",
            "_view_module_version": "1.5.0",
            "_view_name": "HBoxView",
            "box_style": "",
            "children": [
              "IPY_MODEL_a489f06a99a846269c4963b1da8e85aa",
              "IPY_MODEL_be426d0f88b74d8eb6ef41e011e52073",
              "IPY_MODEL_e3463a456efd4dcda6050580e4d8cb8d"
            ],
            "layout": "IPY_MODEL_99ebf9e5bdfc4b26b26dd4b34048f75c"
          }
        },
        "a489f06a99a846269c4963b1da8e85aa": {
          "model_module": "@jupyter-widgets/controls",
          "model_name": "HTMLModel",
          "model_module_version": "1.5.0",
          "state": {
            "_dom_classes": [],
            "_model_module": "@jupyter-widgets/controls",
            "_model_module_version": "1.5.0",
            "_model_name": "HTMLModel",
            "_view_count": null,
            "_view_module": "@jupyter-widgets/controls",
            "_view_module_version": "1.5.0",
            "_view_name": "HTMLView",
            "description": "",
            "description_tooltip": null,
            "layout": "IPY_MODEL_5a0e4e85bb5344c390fc0d99427d5fe6",
            "placeholder": "​",
            "style": "IPY_MODEL_159a791767f242cba399b94ac5045164",
            "value": "model.safetensors: 100%"
          }
        },
        "be426d0f88b74d8eb6ef41e011e52073": {
          "model_module": "@jupyter-widgets/controls",
          "model_name": "FloatProgressModel",
          "model_module_version": "1.5.0",
          "state": {
            "_dom_classes": [],
            "_model_module": "@jupyter-widgets/controls",
            "_model_module_version": "1.5.0",
            "_model_name": "FloatProgressModel",
            "_view_count": null,
            "_view_module": "@jupyter-widgets/controls",
            "_view_module_version": "1.5.0",
            "_view_name": "ProgressView",
            "bar_style": "success",
            "description": "",
            "description_tooltip": null,
            "layout": "IPY_MODEL_d7746cab8a6746c3a7933ff618af0a1f",
            "max": 267954768,
            "min": 0,
            "orientation": "horizontal",
            "style": "IPY_MODEL_3c4eee307c064564a75874ac5b8045d7",
            "value": 267954768
          }
        },
        "e3463a456efd4dcda6050580e4d8cb8d": {
          "model_module": "@jupyter-widgets/controls",
          "model_name": "HTMLModel",
          "model_module_version": "1.5.0",
          "state": {
            "_dom_classes": [],
            "_model_module": "@jupyter-widgets/controls",
            "_model_module_version": "1.5.0",
            "_model_name": "HTMLModel",
            "_view_count": null,
            "_view_module": "@jupyter-widgets/controls",
            "_view_module_version": "1.5.0",
            "_view_name": "HTMLView",
            "description": "",
            "description_tooltip": null,
            "layout": "IPY_MODEL_e66a644fa2924be995e04f069e49abe4",
            "placeholder": "​",
            "style": "IPY_MODEL_dbaf60df69ab4e599afa98dc81939899",
            "value": " 268M/268M [00:01&lt;00:00, 211MB/s]"
          }
        },
        "99ebf9e5bdfc4b26b26dd4b34048f75c": {
          "model_module": "@jupyter-widgets/base",
          "model_name": "LayoutModel",
          "model_module_version": "1.2.0",
          "state": {
            "_model_module": "@jupyter-widgets/base",
            "_model_module_version": "1.2.0",
            "_model_name": "LayoutModel",
            "_view_count": null,
            "_view_module": "@jupyter-widgets/base",
            "_view_module_version": "1.2.0",
            "_view_name": "LayoutView",
            "align_content": null,
            "align_items": null,
            "align_self": null,
            "border": null,
            "bottom": null,
            "display": null,
            "flex": null,
            "flex_flow": null,
            "grid_area": null,
            "grid_auto_columns": null,
            "grid_auto_flow": null,
            "grid_auto_rows": null,
            "grid_column": null,
            "grid_gap": null,
            "grid_row": null,
            "grid_template_areas": null,
            "grid_template_columns": null,
            "grid_template_rows": null,
            "height": null,
            "justify_content": null,
            "justify_items": null,
            "left": null,
            "margin": null,
            "max_height": null,
            "max_width": null,
            "min_height": null,
            "min_width": null,
            "object_fit": null,
            "object_position": null,
            "order": null,
            "overflow": null,
            "overflow_x": null,
            "overflow_y": null,
            "padding": null,
            "right": null,
            "top": null,
            "visibility": null,
            "width": null
          }
        },
        "5a0e4e85bb5344c390fc0d99427d5fe6": {
          "model_module": "@jupyter-widgets/base",
          "model_name": "LayoutModel",
          "model_module_version": "1.2.0",
          "state": {
            "_model_module": "@jupyter-widgets/base",
            "_model_module_version": "1.2.0",
            "_model_name": "LayoutModel",
            "_view_count": null,
            "_view_module": "@jupyter-widgets/base",
            "_view_module_version": "1.2.0",
            "_view_name": "LayoutView",
            "align_content": null,
            "align_items": null,
            "align_self": null,
            "border": null,
            "bottom": null,
            "display": null,
            "flex": null,
            "flex_flow": null,
            "grid_area": null,
            "grid_auto_columns": null,
            "grid_auto_flow": null,
            "grid_auto_rows": null,
            "grid_column": null,
            "grid_gap": null,
            "grid_row": null,
            "grid_template_areas": null,
            "grid_template_columns": null,
            "grid_template_rows": null,
            "height": null,
            "justify_content": null,
            "justify_items": null,
            "left": null,
            "margin": null,
            "max_height": null,
            "max_width": null,
            "min_height": null,
            "min_width": null,
            "object_fit": null,
            "object_position": null,
            "order": null,
            "overflow": null,
            "overflow_x": null,
            "overflow_y": null,
            "padding": null,
            "right": null,
            "top": null,
            "visibility": null,
            "width": null
          }
        },
        "159a791767f242cba399b94ac5045164": {
          "model_module": "@jupyter-widgets/controls",
          "model_name": "DescriptionStyleModel",
          "model_module_version": "1.5.0",
          "state": {
            "_model_module": "@jupyter-widgets/controls",
            "_model_module_version": "1.5.0",
            "_model_name": "DescriptionStyleModel",
            "_view_count": null,
            "_view_module": "@jupyter-widgets/base",
            "_view_module_version": "1.2.0",
            "_view_name": "StyleView",
            "description_width": ""
          }
        },
        "d7746cab8a6746c3a7933ff618af0a1f": {
          "model_module": "@jupyter-widgets/base",
          "model_name": "LayoutModel",
          "model_module_version": "1.2.0",
          "state": {
            "_model_module": "@jupyter-widgets/base",
            "_model_module_version": "1.2.0",
            "_model_name": "LayoutModel",
            "_view_count": null,
            "_view_module": "@jupyter-widgets/base",
            "_view_module_version": "1.2.0",
            "_view_name": "LayoutView",
            "align_content": null,
            "align_items": null,
            "align_self": null,
            "border": null,
            "bottom": null,
            "display": null,
            "flex": null,
            "flex_flow": null,
            "grid_area": null,
            "grid_auto_columns": null,
            "grid_auto_flow": null,
            "grid_auto_rows": null,
            "grid_column": null,
            "grid_gap": null,
            "grid_row": null,
            "grid_template_areas": null,
            "grid_template_columns": null,
            "grid_template_rows": null,
            "height": null,
            "justify_content": null,
            "justify_items": null,
            "left": null,
            "margin": null,
            "max_height": null,
            "max_width": null,
            "min_height": null,
            "min_width": null,
            "object_fit": null,
            "object_position": null,
            "order": null,
            "overflow": null,
            "overflow_x": null,
            "overflow_y": null,
            "padding": null,
            "right": null,
            "top": null,
            "visibility": null,
            "width": null
          }
        },
        "3c4eee307c064564a75874ac5b8045d7": {
          "model_module": "@jupyter-widgets/controls",
          "model_name": "ProgressStyleModel",
          "model_module_version": "1.5.0",
          "state": {
            "_model_module": "@jupyter-widgets/controls",
            "_model_module_version": "1.5.0",
            "_model_name": "ProgressStyleModel",
            "_view_count": null,
            "_view_module": "@jupyter-widgets/base",
            "_view_module_version": "1.2.0",
            "_view_name": "StyleView",
            "bar_color": null,
            "description_width": ""
          }
        },
        "e66a644fa2924be995e04f069e49abe4": {
          "model_module": "@jupyter-widgets/base",
          "model_name": "LayoutModel",
          "model_module_version": "1.2.0",
          "state": {
            "_model_module": "@jupyter-widgets/base",
            "_model_module_version": "1.2.0",
            "_model_name": "LayoutModel",
            "_view_count": null,
            "_view_module": "@jupyter-widgets/base",
            "_view_module_version": "1.2.0",
            "_view_name": "LayoutView",
            "align_content": null,
            "align_items": null,
            "align_self": null,
            "border": null,
            "bottom": null,
            "display": null,
            "flex": null,
            "flex_flow": null,
            "grid_area": null,
            "grid_auto_columns": null,
            "grid_auto_flow": null,
            "grid_auto_rows": null,
            "grid_column": null,
            "grid_gap": null,
            "grid_row": null,
            "grid_template_areas": null,
            "grid_template_columns": null,
            "grid_template_rows": null,
            "height": null,
            "justify_content": null,
            "justify_items": null,
            "left": null,
            "margin": null,
            "max_height": null,
            "max_width": null,
            "min_height": null,
            "min_width": null,
            "object_fit": null,
            "object_position": null,
            "order": null,
            "overflow": null,
            "overflow_x": null,
            "overflow_y": null,
            "padding": null,
            "right": null,
            "top": null,
            "visibility": null,
            "width": null
          }
        },
        "dbaf60df69ab4e599afa98dc81939899": {
          "model_module": "@jupyter-widgets/controls",
          "model_name": "DescriptionStyleModel",
          "model_module_version": "1.5.0",
          "state": {
            "_model_module": "@jupyter-widgets/controls",
            "_model_module_version": "1.5.0",
            "_model_name": "DescriptionStyleModel",
            "_view_count": null,
            "_view_module": "@jupyter-widgets/base",
            "_view_module_version": "1.2.0",
            "_view_name": "StyleView",
            "description_width": ""
          }
        },
        "68edf82feb604f2eb79bf1007fba6b7f": {
          "model_module": "@jupyter-widgets/controls",
          "model_name": "HBoxModel",
          "model_module_version": "1.5.0",
          "state": {
            "_dom_classes": [],
            "_model_module": "@jupyter-widgets/controls",
            "_model_module_version": "1.5.0",
            "_model_name": "HBoxModel",
            "_view_count": null,
            "_view_module": "@jupyter-widgets/controls",
            "_view_module_version": "1.5.0",
            "_view_name": "HBoxView",
            "box_style": "",
            "children": [
              "IPY_MODEL_c36011e7edf2414a8f85779d2979f246",
              "IPY_MODEL_60e74b03bd064d22953ae86c29bcdbb5",
              "IPY_MODEL_c8b2a9ccd64d404399750582efbee11c"
            ],
            "layout": "IPY_MODEL_744b37c166f94b4793238eafde44f482"
          }
        },
        "c36011e7edf2414a8f85779d2979f246": {
          "model_module": "@jupyter-widgets/controls",
          "model_name": "HTMLModel",
          "model_module_version": "1.5.0",
          "state": {
            "_dom_classes": [],
            "_model_module": "@jupyter-widgets/controls",
            "_model_module_version": "1.5.0",
            "_model_name": "HTMLModel",
            "_view_count": null,
            "_view_module": "@jupyter-widgets/controls",
            "_view_module_version": "1.5.0",
            "_view_name": "HTMLView",
            "description": "",
            "description_tooltip": null,
            "layout": "IPY_MODEL_067117a7eed546a69694bb948bb5aa2d",
            "placeholder": "​",
            "style": "IPY_MODEL_efecfe6f685e4df98980438389775086",
            "value": "Downloading builder script: "
          }
        },
        "60e74b03bd064d22953ae86c29bcdbb5": {
          "model_module": "@jupyter-widgets/controls",
          "model_name": "FloatProgressModel",
          "model_module_version": "1.5.0",
          "state": {
            "_dom_classes": [],
            "_model_module": "@jupyter-widgets/controls",
            "_model_module_version": "1.5.0",
            "_model_name": "FloatProgressModel",
            "_view_count": null,
            "_view_module": "@jupyter-widgets/controls",
            "_view_module_version": "1.5.0",
            "_view_name": "ProgressView",
            "bar_style": "success",
            "description": "",
            "description_tooltip": null,
            "layout": "IPY_MODEL_696612aa354946baa9ae1347b0059b8b",
            "max": 1844,
            "min": 0,
            "orientation": "horizontal",
            "style": "IPY_MODEL_571feb541fc14e538223044c5df180e1",
            "value": 1844
          }
        },
        "c8b2a9ccd64d404399750582efbee11c": {
          "model_module": "@jupyter-widgets/controls",
          "model_name": "HTMLModel",
          "model_module_version": "1.5.0",
          "state": {
            "_dom_classes": [],
            "_model_module": "@jupyter-widgets/controls",
            "_model_module_version": "1.5.0",
            "_model_name": "HTMLModel",
            "_view_count": null,
            "_view_module": "@jupyter-widgets/controls",
            "_view_module_version": "1.5.0",
            "_view_name": "HTMLView",
            "description": "",
            "description_tooltip": null,
            "layout": "IPY_MODEL_317343a35ddf492d8f0f3c80b532563f",
            "placeholder": "​",
            "style": "IPY_MODEL_c7d920b499cf48a7b6dcb89dce448ced",
            "value": " 5.76k/? [00:00&lt;00:00, 320kB/s]"
          }
        },
        "744b37c166f94b4793238eafde44f482": {
          "model_module": "@jupyter-widgets/base",
          "model_name": "LayoutModel",
          "model_module_version": "1.2.0",
          "state": {
            "_model_module": "@jupyter-widgets/base",
            "_model_module_version": "1.2.0",
            "_model_name": "LayoutModel",
            "_view_count": null,
            "_view_module": "@jupyter-widgets/base",
            "_view_module_version": "1.2.0",
            "_view_name": "LayoutView",
            "align_content": null,
            "align_items": null,
            "align_self": null,
            "border": null,
            "bottom": null,
            "display": null,
            "flex": null,
            "flex_flow": null,
            "grid_area": null,
            "grid_auto_columns": null,
            "grid_auto_flow": null,
            "grid_auto_rows": null,
            "grid_column": null,
            "grid_gap": null,
            "grid_row": null,
            "grid_template_areas": null,
            "grid_template_columns": null,
            "grid_template_rows": null,
            "height": null,
            "justify_content": null,
            "justify_items": null,
            "left": null,
            "margin": null,
            "max_height": null,
            "max_width": null,
            "min_height": null,
            "min_width": null,
            "object_fit": null,
            "object_position": null,
            "order": null,
            "overflow": null,
            "overflow_x": null,
            "overflow_y": null,
            "padding": null,
            "right": null,
            "top": null,
            "visibility": null,
            "width": null
          }
        },
        "067117a7eed546a69694bb948bb5aa2d": {
          "model_module": "@jupyter-widgets/base",
          "model_name": "LayoutModel",
          "model_module_version": "1.2.0",
          "state": {
            "_model_module": "@jupyter-widgets/base",
            "_model_module_version": "1.2.0",
            "_model_name": "LayoutModel",
            "_view_count": null,
            "_view_module": "@jupyter-widgets/base",
            "_view_module_version": "1.2.0",
            "_view_name": "LayoutView",
            "align_content": null,
            "align_items": null,
            "align_self": null,
            "border": null,
            "bottom": null,
            "display": null,
            "flex": null,
            "flex_flow": null,
            "grid_area": null,
            "grid_auto_columns": null,
            "grid_auto_flow": null,
            "grid_auto_rows": null,
            "grid_column": null,
            "grid_gap": null,
            "grid_row": null,
            "grid_template_areas": null,
            "grid_template_columns": null,
            "grid_template_rows": null,
            "height": null,
            "justify_content": null,
            "justify_items": null,
            "left": null,
            "margin": null,
            "max_height": null,
            "max_width": null,
            "min_height": null,
            "min_width": null,
            "object_fit": null,
            "object_position": null,
            "order": null,
            "overflow": null,
            "overflow_x": null,
            "overflow_y": null,
            "padding": null,
            "right": null,
            "top": null,
            "visibility": null,
            "width": null
          }
        },
        "efecfe6f685e4df98980438389775086": {
          "model_module": "@jupyter-widgets/controls",
          "model_name": "DescriptionStyleModel",
          "model_module_version": "1.5.0",
          "state": {
            "_model_module": "@jupyter-widgets/controls",
            "_model_module_version": "1.5.0",
            "_model_name": "DescriptionStyleModel",
            "_view_count": null,
            "_view_module": "@jupyter-widgets/base",
            "_view_module_version": "1.2.0",
            "_view_name": "StyleView",
            "description_width": ""
          }
        },
        "696612aa354946baa9ae1347b0059b8b": {
          "model_module": "@jupyter-widgets/base",
          "model_name": "LayoutModel",
          "model_module_version": "1.2.0",
          "state": {
            "_model_module": "@jupyter-widgets/base",
            "_model_module_version": "1.2.0",
            "_model_name": "LayoutModel",
            "_view_count": null,
            "_view_module": "@jupyter-widgets/base",
            "_view_module_version": "1.2.0",
            "_view_name": "LayoutView",
            "align_content": null,
            "align_items": null,
            "align_self": null,
            "border": null,
            "bottom": null,
            "display": null,
            "flex": null,
            "flex_flow": null,
            "grid_area": null,
            "grid_auto_columns": null,
            "grid_auto_flow": null,
            "grid_auto_rows": null,
            "grid_column": null,
            "grid_gap": null,
            "grid_row": null,
            "grid_template_areas": null,
            "grid_template_columns": null,
            "grid_template_rows": null,
            "height": null,
            "justify_content": null,
            "justify_items": null,
            "left": null,
            "margin": null,
            "max_height": null,
            "max_width": null,
            "min_height": null,
            "min_width": null,
            "object_fit": null,
            "object_position": null,
            "order": null,
            "overflow": null,
            "overflow_x": null,
            "overflow_y": null,
            "padding": null,
            "right": null,
            "top": null,
            "visibility": null,
            "width": null
          }
        },
        "571feb541fc14e538223044c5df180e1": {
          "model_module": "@jupyter-widgets/controls",
          "model_name": "ProgressStyleModel",
          "model_module_version": "1.5.0",
          "state": {
            "_model_module": "@jupyter-widgets/controls",
            "_model_module_version": "1.5.0",
            "_model_name": "ProgressStyleModel",
            "_view_count": null,
            "_view_module": "@jupyter-widgets/base",
            "_view_module_version": "1.2.0",
            "_view_name": "StyleView",
            "bar_color": null,
            "description_width": ""
          }
        },
        "317343a35ddf492d8f0f3c80b532563f": {
          "model_module": "@jupyter-widgets/base",
          "model_name": "LayoutModel",
          "model_module_version": "1.2.0",
          "state": {
            "_model_module": "@jupyter-widgets/base",
            "_model_module_version": "1.2.0",
            "_model_name": "LayoutModel",
            "_view_count": null,
            "_view_module": "@jupyter-widgets/base",
            "_view_module_version": "1.2.0",
            "_view_name": "LayoutView",
            "align_content": null,
            "align_items": null,
            "align_self": null,
            "border": null,
            "bottom": null,
            "display": null,
            "flex": null,
            "flex_flow": null,
            "grid_area": null,
            "grid_auto_columns": null,
            "grid_auto_flow": null,
            "grid_auto_rows": null,
            "grid_column": null,
            "grid_gap": null,
            "grid_row": null,
            "grid_template_areas": null,
            "grid_template_columns": null,
            "grid_template_rows": null,
            "height": null,
            "justify_content": null,
            "justify_items": null,
            "left": null,
            "margin": null,
            "max_height": null,
            "max_width": null,
            "min_height": null,
            "min_width": null,
            "object_fit": null,
            "object_position": null,
            "order": null,
            "overflow": null,
            "overflow_x": null,
            "overflow_y": null,
            "padding": null,
            "right": null,
            "top": null,
            "visibility": null,
            "width": null
          }
        },
        "c7d920b499cf48a7b6dcb89dce448ced": {
          "model_module": "@jupyter-widgets/controls",
          "model_name": "DescriptionStyleModel",
          "model_module_version": "1.5.0",
          "state": {
            "_model_module": "@jupyter-widgets/controls",
            "_model_module_version": "1.5.0",
            "_model_name": "DescriptionStyleModel",
            "_view_count": null,
            "_view_module": "@jupyter-widgets/base",
            "_view_module_version": "1.2.0",
            "_view_name": "StyleView",
            "description_width": ""
          }
        },
        "6f3f239211874e0bb8d9e246a15ab8dd": {
          "model_module": "@jupyter-widgets/controls",
          "model_name": "HBoxModel",
          "model_module_version": "1.5.0",
          "state": {
            "_dom_classes": [],
            "_model_module": "@jupyter-widgets/controls",
            "_model_module_version": "1.5.0",
            "_model_name": "HBoxModel",
            "_view_count": null,
            "_view_module": "@jupyter-widgets/controls",
            "_view_module_version": "1.5.0",
            "_view_name": "HBoxView",
            "box_style": "",
            "children": [
              "IPY_MODEL_b76b52b6a1ac4c308c9a119b4d778b07",
              "IPY_MODEL_52236d74661c41d9b66602fffd8c6f5f",
              "IPY_MODEL_34041e75380d45b39d2bad818dc0ee79"
            ],
            "layout": "IPY_MODEL_a6538d83cb4849fdbfc3236a3d064d0b"
          }
        },
        "b76b52b6a1ac4c308c9a119b4d778b07": {
          "model_module": "@jupyter-widgets/controls",
          "model_name": "HTMLModel",
          "model_module_version": "1.5.0",
          "state": {
            "_dom_classes": [],
            "_model_module": "@jupyter-widgets/controls",
            "_model_module_version": "1.5.0",
            "_model_name": "HTMLModel",
            "_view_count": null,
            "_view_module": "@jupyter-widgets/controls",
            "_view_module_version": "1.5.0",
            "_view_name": "HTMLView",
            "description": "",
            "description_tooltip": null,
            "layout": "IPY_MODEL_a0f175db42d84e6d8200fe7a08dfc8f1",
            "placeholder": "​",
            "style": "IPY_MODEL_b37621df97904cfa95b3397725552c37",
            "value": "config.json: 100%"
          }
        },
        "52236d74661c41d9b66602fffd8c6f5f": {
          "model_module": "@jupyter-widgets/controls",
          "model_name": "FloatProgressModel",
          "model_module_version": "1.5.0",
          "state": {
            "_dom_classes": [],
            "_model_module": "@jupyter-widgets/controls",
            "_model_module_version": "1.5.0",
            "_model_name": "FloatProgressModel",
            "_view_count": null,
            "_view_module": "@jupyter-widgets/controls",
            "_view_module_version": "1.5.0",
            "_view_name": "ProgressView",
            "bar_style": "success",
            "description": "",
            "description_tooltip": null,
            "layout": "IPY_MODEL_832d9563f2b542ab9d679a61e91a5479",
            "max": 570,
            "min": 0,
            "orientation": "horizontal",
            "style": "IPY_MODEL_1286f8e8ca424c2a95399f7ea9825f5d",
            "value": 570
          }
        },
        "34041e75380d45b39d2bad818dc0ee79": {
          "model_module": "@jupyter-widgets/controls",
          "model_name": "HTMLModel",
          "model_module_version": "1.5.0",
          "state": {
            "_dom_classes": [],
            "_model_module": "@jupyter-widgets/controls",
            "_model_module_version": "1.5.0",
            "_model_name": "HTMLModel",
            "_view_count": null,
            "_view_module": "@jupyter-widgets/controls",
            "_view_module_version": "1.5.0",
            "_view_name": "HTMLView",
            "description": "",
            "description_tooltip": null,
            "layout": "IPY_MODEL_f296c92bdb724e5fab1212a5e490b9b2",
            "placeholder": "​",
            "style": "IPY_MODEL_09967e42f4694db78e2537b80cd589cd",
            "value": " 570/570 [00:00&lt;00:00, 12.2kB/s]"
          }
        },
        "a6538d83cb4849fdbfc3236a3d064d0b": {
          "model_module": "@jupyter-widgets/base",
          "model_name": "LayoutModel",
          "model_module_version": "1.2.0",
          "state": {
            "_model_module": "@jupyter-widgets/base",
            "_model_module_version": "1.2.0",
            "_model_name": "LayoutModel",
            "_view_count": null,
            "_view_module": "@jupyter-widgets/base",
            "_view_module_version": "1.2.0",
            "_view_name": "LayoutView",
            "align_content": null,
            "align_items": null,
            "align_self": null,
            "border": null,
            "bottom": null,
            "display": null,
            "flex": null,
            "flex_flow": null,
            "grid_area": null,
            "grid_auto_columns": null,
            "grid_auto_flow": null,
            "grid_auto_rows": null,
            "grid_column": null,
            "grid_gap": null,
            "grid_row": null,
            "grid_template_areas": null,
            "grid_template_columns": null,
            "grid_template_rows": null,
            "height": null,
            "justify_content": null,
            "justify_items": null,
            "left": null,
            "margin": null,
            "max_height": null,
            "max_width": null,
            "min_height": null,
            "min_width": null,
            "object_fit": null,
            "object_position": null,
            "order": null,
            "overflow": null,
            "overflow_x": null,
            "overflow_y": null,
            "padding": null,
            "right": null,
            "top": null,
            "visibility": null,
            "width": null
          }
        },
        "a0f175db42d84e6d8200fe7a08dfc8f1": {
          "model_module": "@jupyter-widgets/base",
          "model_name": "LayoutModel",
          "model_module_version": "1.2.0",
          "state": {
            "_model_module": "@jupyter-widgets/base",
            "_model_module_version": "1.2.0",
            "_model_name": "LayoutModel",
            "_view_count": null,
            "_view_module": "@jupyter-widgets/base",
            "_view_module_version": "1.2.0",
            "_view_name": "LayoutView",
            "align_content": null,
            "align_items": null,
            "align_self": null,
            "border": null,
            "bottom": null,
            "display": null,
            "flex": null,
            "flex_flow": null,
            "grid_area": null,
            "grid_auto_columns": null,
            "grid_auto_flow": null,
            "grid_auto_rows": null,
            "grid_column": null,
            "grid_gap": null,
            "grid_row": null,
            "grid_template_areas": null,
            "grid_template_columns": null,
            "grid_template_rows": null,
            "height": null,
            "justify_content": null,
            "justify_items": null,
            "left": null,
            "margin": null,
            "max_height": null,
            "max_width": null,
            "min_height": null,
            "min_width": null,
            "object_fit": null,
            "object_position": null,
            "order": null,
            "overflow": null,
            "overflow_x": null,
            "overflow_y": null,
            "padding": null,
            "right": null,
            "top": null,
            "visibility": null,
            "width": null
          }
        },
        "b37621df97904cfa95b3397725552c37": {
          "model_module": "@jupyter-widgets/controls",
          "model_name": "DescriptionStyleModel",
          "model_module_version": "1.5.0",
          "state": {
            "_model_module": "@jupyter-widgets/controls",
            "_model_module_version": "1.5.0",
            "_model_name": "DescriptionStyleModel",
            "_view_count": null,
            "_view_module": "@jupyter-widgets/base",
            "_view_module_version": "1.2.0",
            "_view_name": "StyleView",
            "description_width": ""
          }
        },
        "832d9563f2b542ab9d679a61e91a5479": {
          "model_module": "@jupyter-widgets/base",
          "model_name": "LayoutModel",
          "model_module_version": "1.2.0",
          "state": {
            "_model_module": "@jupyter-widgets/base",
            "_model_module_version": "1.2.0",
            "_model_name": "LayoutModel",
            "_view_count": null,
            "_view_module": "@jupyter-widgets/base",
            "_view_module_version": "1.2.0",
            "_view_name": "LayoutView",
            "align_content": null,
            "align_items": null,
            "align_self": null,
            "border": null,
            "bottom": null,
            "display": null,
            "flex": null,
            "flex_flow": null,
            "grid_area": null,
            "grid_auto_columns": null,
            "grid_auto_flow": null,
            "grid_auto_rows": null,
            "grid_column": null,
            "grid_gap": null,
            "grid_row": null,
            "grid_template_areas": null,
            "grid_template_columns": null,
            "grid_template_rows": null,
            "height": null,
            "justify_content": null,
            "justify_items": null,
            "left": null,
            "margin": null,
            "max_height": null,
            "max_width": null,
            "min_height": null,
            "min_width": null,
            "object_fit": null,
            "object_position": null,
            "order": null,
            "overflow": null,
            "overflow_x": null,
            "overflow_y": null,
            "padding": null,
            "right": null,
            "top": null,
            "visibility": null,
            "width": null
          }
        },
        "1286f8e8ca424c2a95399f7ea9825f5d": {
          "model_module": "@jupyter-widgets/controls",
          "model_name": "ProgressStyleModel",
          "model_module_version": "1.5.0",
          "state": {
            "_model_module": "@jupyter-widgets/controls",
            "_model_module_version": "1.5.0",
            "_model_name": "ProgressStyleModel",
            "_view_count": null,
            "_view_module": "@jupyter-widgets/base",
            "_view_module_version": "1.2.0",
            "_view_name": "StyleView",
            "bar_color": null,
            "description_width": ""
          }
        },
        "f296c92bdb724e5fab1212a5e490b9b2": {
          "model_module": "@jupyter-widgets/base",
          "model_name": "LayoutModel",
          "model_module_version": "1.2.0",
          "state": {
            "_model_module": "@jupyter-widgets/base",
            "_model_module_version": "1.2.0",
            "_model_name": "LayoutModel",
            "_view_count": null,
            "_view_module": "@jupyter-widgets/base",
            "_view_module_version": "1.2.0",
            "_view_name": "LayoutView",
            "align_content": null,
            "align_items": null,
            "align_self": null,
            "border": null,
            "bottom": null,
            "display": null,
            "flex": null,
            "flex_flow": null,
            "grid_area": null,
            "grid_auto_columns": null,
            "grid_auto_flow": null,
            "grid_auto_rows": null,
            "grid_column": null,
            "grid_gap": null,
            "grid_row": null,
            "grid_template_areas": null,
            "grid_template_columns": null,
            "grid_template_rows": null,
            "height": null,
            "justify_content": null,
            "justify_items": null,
            "left": null,
            "margin": null,
            "max_height": null,
            "max_width": null,
            "min_height": null,
            "min_width": null,
            "object_fit": null,
            "object_position": null,
            "order": null,
            "overflow": null,
            "overflow_x": null,
            "overflow_y": null,
            "padding": null,
            "right": null,
            "top": null,
            "visibility": null,
            "width": null
          }
        },
        "09967e42f4694db78e2537b80cd589cd": {
          "model_module": "@jupyter-widgets/controls",
          "model_name": "DescriptionStyleModel",
          "model_module_version": "1.5.0",
          "state": {
            "_model_module": "@jupyter-widgets/controls",
            "_model_module_version": "1.5.0",
            "_model_name": "DescriptionStyleModel",
            "_view_count": null,
            "_view_module": "@jupyter-widgets/base",
            "_view_module_version": "1.2.0",
            "_view_name": "StyleView",
            "description_width": ""
          }
        }
      }
    }
  },
  "cells": [
    {
      "cell_type": "markdown",
      "metadata": {
        "id": "view-in-github",
        "colab_type": "text"
      },
      "source": [
        "<a href=\"https://colab.research.google.com/github/Rohan5076/AIMLOPS/blob/main/M5_NB_MiniProject_1_ResumeClassification_Using_Bert.ipynb\" target=\"_parent\"><img src=\"https://colab.research.google.com/assets/colab-badge.svg\" alt=\"Open In Colab\"/></a>"
      ]
    },
    {
      "cell_type": "markdown",
      "metadata": {
        "id": "gOQv69UdcrIK"
      },
      "source": [
        "# Advanced Certification Programme in AI and MLOps\n",
        "## A programme by IISc and TalentSprint\n",
        "### Mini-Project 1: Resume Classification"
      ]
    },
    {
      "cell_type": "markdown",
      "metadata": {
        "id": "sNCzT95pcrIN"
      },
      "source": [
        "## Learning Objectives"
      ]
    },
    {
      "cell_type": "markdown",
      "metadata": {
        "id": "IMBrLtAtcrIO"
      },
      "source": [
        "At the end of the mini-project, you will be able to :\n",
        "\n",
        "* perform data preprocessing, EDA on the resume dataset\n",
        "* fine-tune Bert model for resume classification"
      ]
    },
    {
      "cell_type": "markdown",
      "metadata": {
        "id": "v6Xda9CM9el9"
      },
      "source": [
        "## Dataset Description"
      ]
    },
    {
      "cell_type": "markdown",
      "metadata": {
        "id": "VeRfk4Sb9h0r"
      },
      "source": [
        "The data is in CSV format, with two features: Category, and Resume.\n",
        "\n",
        "**Category** -  Industry sector to which the resume belongs to, and\n",
        "\n",
        "**Resume** - The complete CV (text) of the candidate."
      ]
    },
    {
      "cell_type": "markdown",
      "metadata": {
        "id": "R7ZV5ryMP07f"
      },
      "source": [
        "##  Grading = 10 Points"
      ]
    },
    {
      "cell_type": "markdown",
      "metadata": {
        "id": "4Pped-3NPaDV"
      },
      "source": [
        "## Information"
      ]
    },
    {
      "cell_type": "markdown",
      "metadata": {
        "id": "QuxYf07d62Oo"
      },
      "source": [
        "Companies often receive thousands of resumes for each job posting and employ dedicated screening officers to screen qualified candidates. Finding suitable candidates for an open role from a database of 1000s of resumes can be a tough task. Automated resume categorization can speeden the candidate selection process. Such automation can really ease the tedious process of fair screening and shortlisting the right candidates and aid quick decisionmaking.\n",
        "\n",
        "To learn more about this, click [here](https://www.sciencedirect.com/science/article/pii/S187705092030750X)."
      ]
    },
    {
      "cell_type": "markdown",
      "source": [
        "**Problem Statement:** Fine-tune a pre-trained Bert model for resume classification.\n",
        "\n",
        "*For fine-tuning Bert, refer to the demo session on 'HuggingFace platform' held on 17 Aug.*"
      ],
      "metadata": {
        "id": "uvvyWAPhkvm8"
      }
    },
    {
      "cell_type": "markdown",
      "source": [
        "### Install dependencies\n",
        "\n",
        "After installing the below dependencies ***Restart the session/runtime***."
      ],
      "metadata": {
        "id": "lNKEGvMEIK5f"
      }
    },
    {
      "cell_type": "code",
      "source": [
        "!pip -q uninstall pyarrow -y\n",
        "!pip -q install pyarrow==15.0.2\n",
        "!pip -q install datasets\n",
        "!pip -q install accelerate\n",
        "!pip -q install transformers"
      ],
      "metadata": {
        "id": "ejNC4T4_A0GN",
        "colab": {
          "base_uri": "https://localhost:8080/"
        },
        "outputId": "21c792af-2604-4a08-8d8a-8a7e54ee3f30"
      },
      "execution_count": 1,
      "outputs": [
        {
          "output_type": "stream",
          "name": "stdout",
          "text": [
            "\u001b[2K   \u001b[90m━━━━━━━━━━━━━━━━━━━━━━━━━━━━━━━━━━━━━━━━\u001b[0m \u001b[32m38.3/38.3 MB\u001b[0m \u001b[31m17.1 MB/s\u001b[0m eta \u001b[36m0:00:00\u001b[0m\n",
            "\u001b[?25h\u001b[31mERROR: pip's dependency resolver does not currently take into account all the packages that are installed. This behaviour is the source of the following dependency conflicts.\n",
            "cudf-cu12 24.4.1 requires pyarrow<15.0.0a0,>=14.0.1, but you have pyarrow 15.0.2 which is incompatible.\u001b[0m\u001b[31m\n",
            "\u001b[2K   \u001b[90m━━━━━━━━━━━━━━━━━━━━━━━━━━━━━━━━━━━━━━━━\u001b[0m \u001b[32m527.3/527.3 kB\u001b[0m \u001b[31m15.0 MB/s\u001b[0m eta \u001b[36m0:00:00\u001b[0m\n",
            "\u001b[2K   \u001b[90m━━━━━━━━━━━━━━━━━━━━━━━━━━━━━━━━━━━━━━━━\u001b[0m \u001b[32m116.3/116.3 kB\u001b[0m \u001b[31m9.3 MB/s\u001b[0m eta \u001b[36m0:00:00\u001b[0m\n",
            "\u001b[2K   \u001b[90m━━━━━━━━━━━━━━━━━━━━━━━━━━━━━━━━━━━━━━━━\u001b[0m \u001b[32m134.8/134.8 kB\u001b[0m \u001b[31m5.9 MB/s\u001b[0m eta \u001b[36m0:00:00\u001b[0m\n",
            "\u001b[2K   \u001b[90m━━━━━━━━━━━━━━━━━━━━━━━━━━━━━━━━━━━━━━━━\u001b[0m \u001b[32m194.1/194.1 kB\u001b[0m \u001b[31m9.2 MB/s\u001b[0m eta \u001b[36m0:00:00\u001b[0m\n",
            "\u001b[?25h"
          ]
        }
      ]
    },
    {
      "cell_type": "markdown",
      "source": [
        "### <font color=\"#990000\">Restart Session/Runtime</font>"
      ],
      "metadata": {
        "id": "sTBUGx6zfgsJ"
      }
    },
    {
      "cell_type": "markdown",
      "source": [
        "### Import required packages"
      ],
      "metadata": {
        "id": "HdoX5Go6IhCE"
      }
    },
    {
      "cell_type": "code",
      "metadata": {
        "id": "5t0FQjPs8o4s",
        "colab": {
          "base_uri": "https://localhost:8080/"
        },
        "outputId": "0a2a9095-5877-4bb0-feb2-0dbe1e1ae4a1"
      },
      "source": [
        "from datasets import Dataset, DatasetDict\n",
        "\n",
        "from transformers import AutoTokenizer\n",
        "from transformers import AutoModelForSequenceClassification\n",
        "from transformers import TrainingArguments\n",
        "from transformers import Trainer\n",
        "from transformers import pipeline\n",
        "\n",
        "import numpy as np\n",
        "import pandas as pd\n",
        "import seaborn as sns\n",
        "import matplotlib.pyplot as plt\n",
        "from matplotlib.gridspec import GridSpec\n",
        "\n",
        "from sklearn.model_selection import train_test_split\n",
        "from sklearn.preprocessing import LabelEncoder\n",
        "\n",
        "import nltk\n",
        "nltk.download('stopwords')\n",
        "nltk.download('punkt')\n",
        "from nltk.corpus import stopwords\n",
        "\n",
        "import warnings\n",
        "warnings.filterwarnings('ignore')"
      ],
      "execution_count": 1,
      "outputs": [
        {
          "output_type": "stream",
          "name": "stderr",
          "text": [
            "[nltk_data] Downloading package stopwords to /root/nltk_data...\n",
            "[nltk_data]   Unzipping corpora/stopwords.zip.\n",
            "[nltk_data] Downloading package punkt to /root/nltk_data...\n",
            "[nltk_data]   Unzipping tokenizers/punkt.zip.\n"
          ]
        }
      ]
    },
    {
      "cell_type": "markdown",
      "metadata": {
        "id": "standing-zimbabwe"
      },
      "source": [
        "### Downloading the data"
      ]
    },
    {
      "cell_type": "code",
      "metadata": {
        "id": "universal-jonathan",
        "scrolled": true,
        "colab": {
          "base_uri": "https://localhost:8080/"
        },
        "outputId": "b5e79677-4e8e-4626-c189-7b0941244fc8"
      },
      "source": [
        "#@title Download the data\n",
        "!wget -qq https://cdn.iisc.talentsprint.com/CDS/Datasets/UpdatedResumeDataSet.csv\n",
        "!ls | grep '.csv'"
      ],
      "execution_count": 2,
      "outputs": [
        {
          "output_type": "stream",
          "name": "stdout",
          "text": [
            "UpdatedResumeDataSet.csv\n"
          ]
        }
      ]
    },
    {
      "cell_type": "markdown",
      "metadata": {
        "id": "T3FkLI6wcaat"
      },
      "source": [
        "**Exercise 1: Read the UpdatedResumeDataset.csv dataset [0.5 Mark]**\n",
        "\n",
        "**Hint:** pd.read_csv( , encoding='utf-8')"
      ]
    },
    {
      "cell_type": "code",
      "metadata": {
        "id": "eIu-AOsB9GfD"
      },
      "source": [
        "# Read the dataset\n",
        "df = pd.read_csv('UpdatedResumeDataSet.csv', encoding='utf-8')"
      ],
      "execution_count": 3,
      "outputs": []
    },
    {
      "cell_type": "code",
      "source": [
        "df.columns"
      ],
      "metadata": {
        "colab": {
          "base_uri": "https://localhost:8080/"
        },
        "id": "JFD2-Y8dcZrs",
        "outputId": "f34dbdab-2c01-4f95-cd84-816db4d6e50e"
      },
      "execution_count": 4,
      "outputs": [
        {
          "output_type": "execute_result",
          "data": {
            "text/plain": [
              "Index(['Category', 'Resume'], dtype='object')"
            ]
          },
          "metadata": {},
          "execution_count": 4
        }
      ]
    },
    {
      "cell_type": "markdown",
      "metadata": {
        "id": "QvddL7X69NiB"
      },
      "source": [
        "### Pre-processing and EDA"
      ]
    },
    {
      "cell_type": "markdown",
      "metadata": {
        "id": "EA1d25HrzTGW"
      },
      "source": [
        "**Exercise 2: Display  all the categories of resumes and their counts in the dataset [0.5 Mark]**\n",
        "\n"
      ]
    },
    {
      "cell_type": "code",
      "metadata": {
        "id": "C92ji6ZV9MWs",
        "colab": {
          "base_uri": "https://localhost:8080/"
        },
        "outputId": "8802c757-96ce-4445-bf85-0986badab541"
      },
      "source": [
        "# Display the distinct categories of resume\n",
        "df['Category'].unique()"
      ],
      "execution_count": 82,
      "outputs": [
        {
          "output_type": "execute_result",
          "data": {
            "text/plain": [
              "array(['Data Science', 'HR', 'Advocate', 'Arts', 'Web Designing',\n",
              "       'Mechanical Engineer', 'Sales', 'Health and fitness',\n",
              "       'Civil Engineer', 'Java Developer', 'Business Analyst',\n",
              "       'SAP Developer', 'Automation Testing', 'Electrical Engineering',\n",
              "       'Operations Manager', 'Python Developer', 'DevOps Engineer',\n",
              "       'Network Security Engineer', 'PMO', 'Database', 'Hadoop',\n",
              "       'ETL Developer', 'DotNet Developer', 'Blockchain', 'Testing'],\n",
              "      dtype=object)"
            ]
          },
          "metadata": {},
          "execution_count": 82
        }
      ]
    },
    {
      "cell_type": "code",
      "source": [
        "# Displaying the number of distinct categories of resume\n",
        "df['Category'].nunique()"
      ],
      "metadata": {
        "id": "hcvr3-nQn1PN",
        "colab": {
          "base_uri": "https://localhost:8080/"
        },
        "outputId": "9b5e1f01-400c-4db1-cf35-aa7046d658a3"
      },
      "execution_count": 83,
      "outputs": [
        {
          "output_type": "execute_result",
          "data": {
            "text/plain": [
              "25"
            ]
          },
          "metadata": {},
          "execution_count": 83
        }
      ]
    },
    {
      "cell_type": "code",
      "metadata": {
        "id": "YtIjY7ji9va5",
        "colab": {
          "base_uri": "https://localhost:8080/",
          "height": 899
        },
        "outputId": "b8c58884-749c-4d4e-ab22-5a5fdd8bd5ed"
      },
      "source": [
        "# Display the distinct categories of resume and the number of records belonging to each category\n",
        "df['Category'].value_counts()"
      ],
      "execution_count": 84,
      "outputs": [
        {
          "output_type": "execute_result",
          "data": {
            "text/plain": [
              "Category\n",
              "Java Developer               84\n",
              "Testing                      70\n",
              "DevOps Engineer              55\n",
              "Python Developer             48\n",
              "Web Designing                45\n",
              "HR                           44\n",
              "Hadoop                       42\n",
              "Blockchain                   40\n",
              "ETL Developer                40\n",
              "Operations Manager           40\n",
              "Data Science                 40\n",
              "Sales                        40\n",
              "Mechanical Engineer          40\n",
              "Arts                         36\n",
              "Database                     33\n",
              "Electrical Engineering       30\n",
              "Health and fitness           30\n",
              "PMO                          30\n",
              "Business Analyst             28\n",
              "DotNet Developer             28\n",
              "Automation Testing           26\n",
              "Network Security Engineer    25\n",
              "SAP Developer                24\n",
              "Civil Engineer               24\n",
              "Advocate                     20\n",
              "Name: count, dtype: int64"
            ],
            "text/html": [
              "<div>\n",
              "<style scoped>\n",
              "    .dataframe tbody tr th:only-of-type {\n",
              "        vertical-align: middle;\n",
              "    }\n",
              "\n",
              "    .dataframe tbody tr th {\n",
              "        vertical-align: top;\n",
              "    }\n",
              "\n",
              "    .dataframe thead th {\n",
              "        text-align: right;\n",
              "    }\n",
              "</style>\n",
              "<table border=\"1\" class=\"dataframe\">\n",
              "  <thead>\n",
              "    <tr style=\"text-align: right;\">\n",
              "      <th></th>\n",
              "      <th>count</th>\n",
              "    </tr>\n",
              "    <tr>\n",
              "      <th>Category</th>\n",
              "      <th></th>\n",
              "    </tr>\n",
              "  </thead>\n",
              "  <tbody>\n",
              "    <tr>\n",
              "      <th>Java Developer</th>\n",
              "      <td>84</td>\n",
              "    </tr>\n",
              "    <tr>\n",
              "      <th>Testing</th>\n",
              "      <td>70</td>\n",
              "    </tr>\n",
              "    <tr>\n",
              "      <th>DevOps Engineer</th>\n",
              "      <td>55</td>\n",
              "    </tr>\n",
              "    <tr>\n",
              "      <th>Python Developer</th>\n",
              "      <td>48</td>\n",
              "    </tr>\n",
              "    <tr>\n",
              "      <th>Web Designing</th>\n",
              "      <td>45</td>\n",
              "    </tr>\n",
              "    <tr>\n",
              "      <th>HR</th>\n",
              "      <td>44</td>\n",
              "    </tr>\n",
              "    <tr>\n",
              "      <th>Hadoop</th>\n",
              "      <td>42</td>\n",
              "    </tr>\n",
              "    <tr>\n",
              "      <th>Blockchain</th>\n",
              "      <td>40</td>\n",
              "    </tr>\n",
              "    <tr>\n",
              "      <th>ETL Developer</th>\n",
              "      <td>40</td>\n",
              "    </tr>\n",
              "    <tr>\n",
              "      <th>Operations Manager</th>\n",
              "      <td>40</td>\n",
              "    </tr>\n",
              "    <tr>\n",
              "      <th>Data Science</th>\n",
              "      <td>40</td>\n",
              "    </tr>\n",
              "    <tr>\n",
              "      <th>Sales</th>\n",
              "      <td>40</td>\n",
              "    </tr>\n",
              "    <tr>\n",
              "      <th>Mechanical Engineer</th>\n",
              "      <td>40</td>\n",
              "    </tr>\n",
              "    <tr>\n",
              "      <th>Arts</th>\n",
              "      <td>36</td>\n",
              "    </tr>\n",
              "    <tr>\n",
              "      <th>Database</th>\n",
              "      <td>33</td>\n",
              "    </tr>\n",
              "    <tr>\n",
              "      <th>Electrical Engineering</th>\n",
              "      <td>30</td>\n",
              "    </tr>\n",
              "    <tr>\n",
              "      <th>Health and fitness</th>\n",
              "      <td>30</td>\n",
              "    </tr>\n",
              "    <tr>\n",
              "      <th>PMO</th>\n",
              "      <td>30</td>\n",
              "    </tr>\n",
              "    <tr>\n",
              "      <th>Business Analyst</th>\n",
              "      <td>28</td>\n",
              "    </tr>\n",
              "    <tr>\n",
              "      <th>DotNet Developer</th>\n",
              "      <td>28</td>\n",
              "    </tr>\n",
              "    <tr>\n",
              "      <th>Automation Testing</th>\n",
              "      <td>26</td>\n",
              "    </tr>\n",
              "    <tr>\n",
              "      <th>Network Security Engineer</th>\n",
              "      <td>25</td>\n",
              "    </tr>\n",
              "    <tr>\n",
              "      <th>SAP Developer</th>\n",
              "      <td>24</td>\n",
              "    </tr>\n",
              "    <tr>\n",
              "      <th>Civil Engineer</th>\n",
              "      <td>24</td>\n",
              "    </tr>\n",
              "    <tr>\n",
              "      <th>Advocate</th>\n",
              "      <td>20</td>\n",
              "    </tr>\n",
              "  </tbody>\n",
              "</table>\n",
              "</div><br><label><b>dtype:</b> int64</label>"
            ]
          },
          "metadata": {},
          "execution_count": 84
        }
      ]
    },
    {
      "cell_type": "markdown",
      "metadata": {
        "id": "kpHv50ojzvO5"
      },
      "source": [
        "**Exercise 3: Create the count plot of different categories [0.5 Mark]**\n",
        "\n",
        "**Hint:** Use `sns.countplot()`"
      ]
    },
    {
      "cell_type": "code",
      "metadata": {
        "id": "zYwrK_5f93gP",
        "colab": {
          "base_uri": "https://localhost:8080/",
          "height": 643
        },
        "outputId": "3981f362-1a66-4117-b05a-2df829526c5c"
      },
      "source": [
        "ax = sns.countplot(x='Category', data=df)\n",
        "plt.title('Count of Different Categories')\n",
        "plt.xlabel('Category')\n",
        "plt.ylabel('Count')\n",
        "plt.xticks(rotation=90)\n",
        "categories = df['Category'].value_counts().index\n",
        "palette = sns.color_palette(\"husl\", len(categories))\n",
        "for i, category in enumerate(categories):\n",
        "    ax.patches[i].set_facecolor(palette[i])\n",
        "plt.show()"
      ],
      "execution_count": 85,
      "outputs": [
        {
          "output_type": "display_data",
          "data": {
            "text/plain": [
              "<Figure size 640x480 with 1 Axes>"
            ],
            "image/png": "[encoded data removed]"
          },
          "metadata": {}
        }
      ]
    },
    {
      "cell_type": "markdown",
      "metadata": {
        "id": "VyXtz0Mr0NVB"
      },
      "source": [
        "**Exercise 4: Create a pie plot depicting the percentage of resume distributions category-wise. [0.5 mark]**\n",
        "\n",
        "**Hint:** Use [plt.pie()](https://matplotlib.org/stable/api/_as_gen/matplotlib.pyplot.pie.html) and [plt.get_cmap](https://matplotlib.org/stable/tutorials/colors/colormaps.html) for color mapping the pie chart."
      ]
    },
    {
      "cell_type": "code",
      "metadata": {
        "id": "qrpJDoGx-CuF",
        "colab": {
          "base_uri": "https://localhost:8080/",
          "height": 934
        },
        "outputId": "820ae9bd-4bd6-40f6-fd78-8917dd9f5db4"
      },
      "source": [
        "targetCounts = df['Category'].value_counts()\n",
        "targetLabels  = targetCounts.index\n",
        "# Make square figures and axes\n",
        "plt.figure(1, figsize=(25,25))\n",
        "the_grid = GridSpec(2, 2)\n",
        "\n",
        "#colors = plt.get_cmap('coolwarm')(range(len(targetCounts)))\n",
        "\n",
        "colors = plt.get_cmap('tab20')(range(len(targetCounts)))  # 'tab20' colormap can handle up to 20 distinct colors\n",
        "\n",
        "# If there are more than 20 categories, you might want to use a larger colormap or create your own list\n",
        "if len(targetCounts) > 20:\n",
        "    colors = plt.get_cmap('tab20b')(range(len(targetCounts)))  # 'tab20b' provides more colors\n",
        "\n",
        "# Create a pie chart with different colors\n",
        "plt.subplot(the_grid[0, 0])  # Create a subplot for the pie chart\n",
        "plt.pie(targetCounts, labels=targetLabels, colors=colors, autopct='%1.1f%%', startangle=140)\n",
        "\n",
        "# Add title\n",
        "plt.title('Resume Distribution by Category')\n",
        "\n",
        "# Display the plot\n",
        "plt.show()"
      ],
      "execution_count": 86,
      "outputs": [
        {
          "output_type": "display_data",
          "data": {
            "text/plain": [
              "<Figure size 2500x2500 with 1 Axes>"
            ],
            "image/png": "[encoded data removed]"
          },
          "metadata": {}
        }
      ]
    },
    {
      "cell_type": "markdown",
      "metadata": {
        "id": "KJaznteJ1xr4"
      },
      "source": [
        "**Exercise 5: Convert all the `Resume` text to lower case and remove trailing spaces [0.5 Mark]**\n",
        "\n",
        "\n"
      ]
    },
    {
      "cell_type": "code",
      "metadata": {
        "id": "tf1wNRqb-Om2"
      },
      "source": [
        "# Convert all characters to lowercase and remove trailing spaces\n",
        "#df['Category'] = df['Category'].str.lower().str.strip()\n",
        "df['Resume'] = df['Resume'].str.lower().str.strip()"
      ],
      "execution_count": 5,
      "outputs": []
    },
    {
      "cell_type": "markdown",
      "metadata": {
        "id": "8cBXmdXpDIQJ"
      },
      "source": [
        "### Cleaning Resume"
      ]
    },
    {
      "cell_type": "markdown",
      "metadata": {
        "id": "yvkRbRnM3ap7"
      },
      "source": [
        "**Exercise 6: Define a function to clean the resume text [2 Mark]**\n",
        "\n",
        "In the text there are special characters, urls, hashtags, mentions, etc. You need to remove for the following:  \n",
        "\n",
        "* URLs: For reference click [here](https://stackoverflow.com/questions/11331982/how-to-remove-any-url-within-a-string-in-python)\n",
        "* RT | cc: For reference click [here](https://www.machinelearningplus.com/python/python-regex-tutorial-examples/)\n",
        "* Hashtags, # and Mentions, @\n",
        "* punctuations\n",
        "* extra whitespace\n",
        "\n",
        "PS: Use the provided reference similarly for removing any other such elements.\n",
        "\n",
        "After cleaning as above, store the Resume Text in a separate column (New Feature say `Cleaned_Resume`).\n"
      ]
    },
    {
      "cell_type": "code",
      "metadata": {
        "id": "k9Z-Oois_LWE"
      },
      "source": [
        "import re\n",
        "import string\n",
        "def cleanResume(resumeText):\n",
        "    text = re.sub(r'http\\S+', '', resumeText) # Remove URLs\n",
        "    text = re.sub(r'\\bRT\\b|\\bcc\\b', '', resumeText) # Remove RT | cc\n",
        "    text = re.sub(r'#\\S+|@\\S+', '', resumeText) # Remove hashtags (#) and mentions (@)\n",
        "    text = resumeText.translate(str.maketrans('', '', string.punctuation)) # Remove punctuation\n",
        "    text = ' '.join(resumeText.split())     # Remove extra whitespace\n",
        "    return resumeText\n",
        "\n"
      ],
      "execution_count": 6,
      "outputs": []
    },
    {
      "cell_type": "code",
      "metadata": {
        "id": "0O2tR_IjDNWr"
      },
      "source": [
        "# Apply the function defined above and save the\n",
        "df['Cleaned_Resume'] =  df['Resume'].apply(cleanResume)"
      ],
      "execution_count": 7,
      "outputs": []
    },
    {
      "cell_type": "markdown",
      "metadata": {
        "id": "2pBLoWMxAf64"
      },
      "source": [
        "**Exercise 7: Convert the categorical variable `Category` to a numerical feature and make a different column <font color=\"#990000\">`label`</font>, which can be treated as the target variable [0.5 Mark]**\n",
        "\n",
        "**Hint:** Use [`sklearn.preprocessing.LabelEncoder()`](https://scikit-learn.org/stable/modules/generated/sklearn.preprocessing.LabelEncoder.html) method"
      ]
    },
    {
      "cell_type": "code",
      "metadata": {
        "id": "kg4QNr7DYSJ5"
      },
      "source": [
        "from sklearn.preprocessing import LabelEncoder\n",
        "label_encoder = LabelEncoder()\n",
        "df[\"label\"] = label_encoder.fit_transform(df['Category'])"
      ],
      "execution_count": 8,
      "outputs": []
    },
    {
      "cell_type": "markdown",
      "source": [
        "**Exercise 8: Plot the histogram of words count of `Cleaned_Resume` text [0.5 Mark]**\n",
        "\n",
        "**Hint:** Use sns.distplot()"
      ],
      "metadata": {
        "id": "UWKiazN5mdyQ"
      }
    },
    {
      "cell_type": "code",
      "source": [
        "df['Count'] = df['Cleaned_Resume'].apply(lambda x: len(x.split()))"
      ],
      "metadata": {
        "id": "mieV5cpRlUAq"
      },
      "execution_count": 9,
      "outputs": []
    },
    {
      "cell_type": "code",
      "source": [
        "plt.figure(figsize= (8, 8))\n",
        "sns.histplot(df['Count'], kde=False, bins=10, color='blue')\n",
        "plt.title('Histogram of Word Counts in Cleaned Resume Text')\n",
        "plt.xlabel('Word Count')\n",
        "plt.ylabel('Frequency')\n",
        "plt.show()"
      ],
      "metadata": {
        "id": "4tK8VZkyldQx",
        "colab": {
          "base_uri": "https://localhost:8080/",
          "height": 718
        },
        "outputId": "bb1b0e80-4c81-47ec-b3c3-13a9423f4d15"
      },
      "execution_count": 10,
      "outputs": [
        {
          "output_type": "display_data",
          "data": {
            "text/plain": [
              "<Figure size 800x800 with 1 Axes>"
            ],
            "image/png": "[encoded data removed]"
          },
          "metadata": {}
        }
      ]
    },
    {
      "cell_type": "markdown",
      "metadata": {
        "id": "zK2N4kjkSEjF"
      },
      "source": [
        "### Train Test Split"
      ]
    },
    {
      "cell_type": "markdown",
      "source": [
        "**Exercise 9: Split the dataset into training, validation, and testing set [0.5 Mark]**\n",
        "\n",
        "* Do stratified splitting using `label` column"
      ],
      "metadata": {
        "id": "y6MTKhUomkzU"
      }
    },
    {
      "cell_type": "code",
      "source": [
        "train_test_df, val_df = train_test_split(df, test_size=0.2, stratify=df['label'], random_state=42)\n",
        "train_df, test_df = train_test_split(train_test_df, test_size=0.25, stratify=train_test_df['label'], random_state=42)\n",
        "\n",
        "len(train_df), len(val_df), len(test_df)"
      ],
      "metadata": {
        "id": "mP2Ay3GdFU7b",
        "colab": {
          "base_uri": "https://localhost:8080/"
        },
        "outputId": "ecdba961-b8ba-4eaa-c46e-0ddaff47932d"
      },
      "execution_count": 11,
      "outputs": [
        {
          "output_type": "execute_result",
          "data": {
            "text/plain": [
              "(576, 193, 193)"
            ]
          },
          "metadata": {},
          "execution_count": 11
        }
      ]
    },
    {
      "cell_type": "code",
      "source": [
        "train_df.head(2)"
      ],
      "metadata": {
        "id": "IHuVoyE6F6ef",
        "colab": {
          "base_uri": "https://localhost:8080/",
          "height": 112
        },
        "outputId": "20fbaeea-1bd8-4298-ae42-e1c5d3f4d77e"
      },
      "execution_count": 12,
      "outputs": [
        {
          "output_type": "execute_result",
          "data": {
            "text/plain": [
              "          Category                                             Resume  \\\n",
              "821  ETL Developer  education details \\r\\njanuary 2015 bachelor of...   \n",
              "238          Sales  it skills: ms office. photoshop. sql server.ed...   \n",
              "\n",
              "                                        Cleaned_Resume  label  Count  \n",
              "821  education details \\r\\njanuary 2015 bachelor of...     10    284  \n",
              "238  it skills: ms office. photoshop. sql server.ed...     22    249  "
            ],
            "text/html": [
              "\n",
              "  <div id=\"df-67f70f30-c00a-4dac-8d1d-d18b39b5b04f\" class=\"colab-df-container\">\n",
              "    <div>\n",
              "<style scoped>\n",
              "    .dataframe tbody tr th:only-of-type {\n",
              "        vertical-align: middle;\n",
              "    }\n",
              "\n",
              "    .dataframe tbody tr th {\n",
              "        vertical-align: top;\n",
              "    }\n",
              "\n",
              "    .dataframe thead th {\n",
              "        text-align: right;\n",
              "    }\n",
              "</style>\n",
              "<table border=\"1\" class=\"dataframe\">\n",
              "  <thead>\n",
              "    <tr style=\"text-align: right;\">\n",
              "      <th></th>\n",
              "      <th>Category</th>\n",
              "      <th>Resume</th>\n",
              "      <th>Cleaned_Resume</th>\n",
              "      <th>label</th>\n",
              "      <th>Count</th>\n",
              "    </tr>\n",
              "  </thead>\n",
              "  <tbody>\n",
              "    <tr>\n",
              "      <th>821</th>\n",
              "      <td>ETL Developer</td>\n",
              "      <td>education details \\r\\njanuary 2015 bachelor of...</td>\n",
              "      <td>education details \\r\\njanuary 2015 bachelor of...</td>\n",
              "      <td>10</td>\n",
              "      <td>284</td>\n",
              "    </tr>\n",
              "    <tr>\n",
              "      <th>238</th>\n",
              "      <td>Sales</td>\n",
              "      <td>it skills: ms office. photoshop. sql server.ed...</td>\n",
              "      <td>it skills: ms office. photoshop. sql server.ed...</td>\n",
              "      <td>22</td>\n",
              "      <td>249</td>\n",
              "    </tr>\n",
              "  </tbody>\n",
              "</table>\n",
              "</div>\n",
              "    <div class=\"colab-df-buttons\">\n",
              "\n",
              "  <div class=\"colab-df-container\">\n",
              "    <button class=\"colab-df-convert\" onclick=\"convertToInteractive('df-67f70f30-c00a-4dac-8d1d-d18b39b5b04f')\"\n",
              "            title=\"Convert this dataframe to an interactive table.\"\n",
              "            style=\"display:none;\">\n",
              "\n",
              "  <svg xmlns=\"http://www.w3.org/2000/svg\" height=\"24px\" viewBox=\"0 -960 960 960\">\n",
              "    <path d=\"M120-120v-720h720v720H120Zm60-500h600v-160H180v160Zm220 220h160v-160H400v160Zm0 220h160v-160H400v160ZM180-400h160v-160H180v160Zm440 0h160v-160H620v160ZM180-180h160v-160H180v160Zm440 0h160v-160H620v160Z\"/>\n",
              "  </svg>\n",
              "    </button>\n",
              "\n",
              "  <style>\n",
              "    .colab-df-container {\n",
              "      display:flex;\n",
              "      gap: 12px;\n",
              "    }\n",
              "\n",
              "    .colab-df-convert {\n",
              "      background-color: #E8F0FE;\n",
              "      border: none;\n",
              "      border-radius: 50%;\n",
              "      cursor: pointer;\n",
              "      display: none;\n",
              "      fill: #1967D2;\n",
              "      height: 32px;\n",
              "      padding: 0 0 0 0;\n",
              "      width: 32px;\n",
              "    }\n",
              "\n",
              "    .colab-df-convert:hover {\n",
              "      background-color: #E2EBFA;\n",
              "      box-shadow: 0px 1px 2px rgba(60, 64, 67, 0.3), 0px 1px 3px 1px rgba(60, 64, 67, 0.15);\n",
              "      fill: #174EA6;\n",
              "    }\n",
              "\n",
              "    .colab-df-buttons div {\n",
              "      margin-bottom: 4px;\n",
              "    }\n",
              "\n",
              "    [theme=dark] .colab-df-convert {\n",
              "      background-color: #3B4455;\n",
              "      fill: #D2E3FC;\n",
              "    }\n",
              "\n",
              "    [theme=dark] .colab-df-convert:hover {\n",
              "      background-color: #434B5C;\n",
              "      box-shadow: 0px 1px 3px 1px rgba(0, 0, 0, 0.15);\n",
              "      filter: drop-shadow(0px 1px 2px rgba(0, 0, 0, 0.3));\n",
              "      fill: #FFFFFF;\n",
              "    }\n",
              "  </style>\n",
              "\n",
              "    <script>\n",
              "      const buttonEl =\n",
              "        document.querySelector('#df-67f70f30-c00a-4dac-8d1d-d18b39b5b04f button.colab-df-convert');\n",
              "      buttonEl.style.display =\n",
              "        google.colab.kernel.accessAllowed ? 'block' : 'none';\n",
              "\n",
              "      async function convertToInteractive(key) {\n",
              "        const element = document.querySelector('#df-67f70f30-c00a-4dac-8d1d-d18b39b5b04f');\n",
              "        const dataTable =\n",
              "          await google.colab.kernel.invokeFunction('convertToInteractive',\n",
              "                                                    [key], {});\n",
              "        if (!dataTable) return;\n",
              "\n",
              "        const docLinkHtml = 'Like what you see? Visit the ' +\n",
              "          '<a target=\"_blank\" href=https://colab.research.google.com/notebooks/data_table.ipynb>data table notebook</a>'\n",
              "          + ' to learn more about interactive tables.';\n",
              "        element.innerHTML = '';\n",
              "        dataTable['output_type'] = 'display_data';\n",
              "        await google.colab.output.renderOutput(dataTable, element);\n",
              "        const docLink = document.createElement('div');\n",
              "        docLink.innerHTML = docLinkHtml;\n",
              "        element.appendChild(docLink);\n",
              "      }\n",
              "    </script>\n",
              "  </div>\n",
              "\n",
              "\n",
              "<div id=\"df-e5306d82-07bc-4f52-a676-4d02de918a46\">\n",
              "  <button class=\"colab-df-quickchart\" onclick=\"quickchart('df-e5306d82-07bc-4f52-a676-4d02de918a46')\"\n",
              "            title=\"Suggest charts\"\n",
              "            style=\"display:none;\">\n",
              "\n",
              "<svg xmlns=\"http://www.w3.org/2000/svg\" height=\"24px\"viewBox=\"0 0 24 24\"\n",
              "     width=\"24px\">\n",
              "    <g>\n",
              "        <path d=\"M19 3H5c-1.1 0-2 .9-2 2v14c0 1.1.9 2 2 2h14c1.1 0 2-.9 2-2V5c0-1.1-.9-2-2-2zM9 17H7v-7h2v7zm4 0h-2V7h2v10zm4 0h-2v-4h2v4z\"/>\n",
              "    </g>\n",
              "</svg>\n",
              "  </button>\n",
              "\n",
              "<style>\n",
              "  .colab-df-quickchart {\n",
              "      --bg-color: #E8F0FE;\n",
              "      --fill-color: #1967D2;\n",
              "      --hover-bg-color: #E2EBFA;\n",
              "      --hover-fill-color: #174EA6;\n",
              "      --disabled-fill-color: #AAA;\n",
              "      --disabled-bg-color: #DDD;\n",
              "  }\n",
              "\n",
              "  [theme=dark] .colab-df-quickchart {\n",
              "      --bg-color: #3B4455;\n",
              "      --fill-color: #D2E3FC;\n",
              "      --hover-bg-color: #434B5C;\n",
              "      --hover-fill-color: #FFFFFF;\n",
              "      --disabled-bg-color: #3B4455;\n",
              "      --disabled-fill-color: #666;\n",
              "  }\n",
              "\n",
              "  .colab-df-quickchart {\n",
              "    background-color: var(--bg-color);\n",
              "    border: none;\n",
              "    border-radius: 50%;\n",
              "    cursor: pointer;\n",
              "    display: none;\n",
              "    fill: var(--fill-color);\n",
              "    height: 32px;\n",
              "    padding: 0;\n",
              "    width: 32px;\n",
              "  }\n",
              "\n",
              "  .colab-df-quickchart:hover {\n",
              "    background-color: var(--hover-bg-color);\n",
              "    box-shadow: 0 1px 2px rgba(60, 64, 67, 0.3), 0 1px 3px 1px rgba(60, 64, 67, 0.15);\n",
              "    fill: var(--button-hover-fill-color);\n",
              "  }\n",
              "\n",
              "  .colab-df-quickchart-complete:disabled,\n",
              "  .colab-df-quickchart-complete:disabled:hover {\n",
              "    background-color: var(--disabled-bg-color);\n",
              "    fill: var(--disabled-fill-color);\n",
              "    box-shadow: none;\n",
              "  }\n",
              "\n",
              "  .colab-df-spinner {\n",
              "    border: 2px solid var(--fill-color);\n",
              "    border-color: transparent;\n",
              "    border-bottom-color: var(--fill-color);\n",
              "    animation:\n",
              "      spin 1s steps(1) infinite;\n",
              "  }\n",
              "\n",
              "  @keyframes spin {\n",
              "    0% {\n",
              "      border-color: transparent;\n",
              "      border-bottom-color: var(--fill-color);\n",
              "      border-left-color: var(--fill-color);\n",
              "    }\n",
              "    20% {\n",
              "      border-color: transparent;\n",
              "      border-left-color: var(--fill-color);\n",
              "      border-top-color: var(--fill-color);\n",
              "    }\n",
              "    30% {\n",
              "      border-color: transparent;\n",
              "      border-left-color: var(--fill-color);\n",
              "      border-top-color: var(--fill-color);\n",
              "      border-right-color: var(--fill-color);\n",
              "    }\n",
              "    40% {\n",
              "      border-color: transparent;\n",
              "      border-right-color: var(--fill-color);\n",
              "      border-top-color: var(--fill-color);\n",
              "    }\n",
              "    60% {\n",
              "      border-color: transparent;\n",
              "      border-right-color: var(--fill-color);\n",
              "    }\n",
              "    80% {\n",
              "      border-color: transparent;\n",
              "      border-right-color: var(--fill-color);\n",
              "      border-bottom-color: var(--fill-color);\n",
              "    }\n",
              "    90% {\n",
              "      border-color: transparent;\n",
              "      border-bottom-color: var(--fill-color);\n",
              "    }\n",
              "  }\n",
              "</style>\n",
              "\n",
              "  <script>\n",
              "    async function quickchart(key) {\n",
              "      const quickchartButtonEl =\n",
              "        document.querySelector('#' + key + ' button');\n",
              "      quickchartButtonEl.disabled = true;  // To prevent multiple clicks.\n",
              "      quickchartButtonEl.classList.add('colab-df-spinner');\n",
              "      try {\n",
              "        const charts = await google.colab.kernel.invokeFunction(\n",
              "            'suggestCharts', [key], {});\n",
              "      } catch (error) {\n",
              "        console.error('Error during call to suggestCharts:', error);\n",
              "      }\n",
              "      quickchartButtonEl.classList.remove('colab-df-spinner');\n",
              "      quickchartButtonEl.classList.add('colab-df-quickchart-complete');\n",
              "    }\n",
              "    (() => {\n",
              "      let quickchartButtonEl =\n",
              "        document.querySelector('#df-e5306d82-07bc-4f52-a676-4d02de918a46 button');\n",
              "      quickchartButtonEl.style.display =\n",
              "        google.colab.kernel.accessAllowed ? 'block' : 'none';\n",
              "    })();\n",
              "  </script>\n",
              "</div>\n",
              "\n",
              "    </div>\n",
              "  </div>\n"
            ],
            "application/vnd.google.colaboratory.intrinsic+json": {
              "type": "dataframe",
              "variable_name": "train_df",
              "summary": "{\n  \"name\": \"train_df\",\n  \"rows\": 576,\n  \"fields\": [\n    {\n      \"column\": \"Category\",\n      \"properties\": {\n        \"dtype\": \"category\",\n        \"num_unique_values\": 25,\n        \"samples\": [\n          \"Web Designing\",\n          \"Automation Testing\",\n          \"ETL Developer\"\n        ],\n        \"semantic_type\": \"\",\n        \"description\": \"\"\n      }\n    },\n    {\n      \"column\": \"Resume\",\n      \"properties\": {\n        \"dtype\": \"category\",\n        \"num_unique_values\": 165,\n        \"samples\": [\n          \"education details \\r\\nfebruary 2006 to february 2006 tybcom commerce  mumbai\\r\\nbusiness analyst \\r\\n\\r\\nbusiness analyst\\r\\nskill details \\r\\ncompany details \\r\\ncompany - motilal oswal\\r\\ndescription - business analyst\\r\\nhandling it operation for institutional equities \\r\\nmaintain daily mis in excel for cag, research, derivative, sales team preparing auto dashboard for research, sales, trading team working on excel macro to create innovative report \\r\\nworking on block related data working on bd fund from different geo working on investors corporate meeting to track corporate block & fund interest in sector\\r\\ncompany - fss\\r\\ndescription - project description:\\r\\nmaintain and prepare cash indent, cash report, cash position, and cash planning\\r\\nresponsibilities:\\r\\n\\r\\n\\u00e2\\u0080\\u00a2 maintain daily mis in excel.\\r\\n\\u00e2\\u0080\\u00a2 provide complete information about mis & atm.\\r\\n\\u00e2\\u0080\\u00a2 maintain and prepare cash indent, cash report, cash position., cash planning\\r\\n\\u00e2\\u0080\\u00a2 co-ordinate with bank cash department.\\r\\n\\u00e2\\u0080\\u00a2 co-ordinate with custodians\\r\\n\\r\\n.\\r\\ndegree/ course          year of passing   grade          institute                              university/ board   percentage\\r\\ncompany - angel broking\\r\\ndescription - reporting: assistant manager /   sr. manger\\r\\nresponsibilities:\\r\\n\\r\\n\\u00e2\\u0080\\u00a2 handling team of 14 quality assurance team members\\r\\n\\u00e2\\u0080\\u00a2 maintain daily mis in excel of team productivity\\r\\n\\u00e2\\u0080\\u00a2 maintain and prepare repots, adding comments on remark\\r\\n\\u00e2\\u0080\\u00a2 mailing client  for modification of given number\\r\\n\\u00e2\\u0080\\u00a2 mailing reports to different branches\\r\\n\\u00e2\\u0080\\u00a2 coordinating with rm\\r\\n\\u00e2\\u0080\\u00a2 provide complete information about script to client\",\n          \"competencies: sap business intelligence version sap bo 4.2 bo tools design studio, idt, webi, udt, cmc activities backend db hana, bw, bex queries, sqleducation details \\r\\n\\r\\nsap bo developer and sap hana developer \\r\\n\\r\\nsap bo developer - credit suisse\\r\\nskill details \\r\\nsap bi- exprience - 72 months\\r\\ncmc- exprience - 72 months\\r\\nhana- exprience - 36 months\\r\\nbusiness intelligence- exprience - 72 months\\r\\nsql- exprience - 72 months\\r\\nsap bo- exprience - 72 monthscompany details \\r\\ncompany - accenture\\r\\ndescription - company accenture, pune\\r\\nenvironment sap bo 4.2, idt, hana views\\r\\nrole sap bo developer and hana developer\\r\\n\\r\\ndescription:\\r\\nthis project aims to provide reporting solution for swiss business users.the universe supports analyzing customer funds purchase order patterns and order lifecycle reporting.\\r\\nthe purpose of reports is to provide an end-to-end view of the entire sales order transaction, and to track the investment orders in various funds, including the status of orders, order types along with the gross value and net value to be generated from these orders.\\r\\n\\r\\nroles & responsibilities:\\r\\n\\u00e2\\u0080\\u00a2 analyzed user requirements and sorted the best possible ways of optimizing performance of universe.\\r\\n\\u00e2\\u0080\\u00a2 cv and generated views development in hana studio\\r\\n\\u00e2\\u0080\\u00a2 handling day to day activities involved in development of business objects as per the client requirements.\\r\\n\\u00e2\\u0080\\u00a2 worked as a team member with backend counterpart to understand the business requirements.\\r\\n\\u00e2\\u0080\\u00a2 developing and maintaining universes.\\r\\n\\u00e2\\u0080\\u00a2 raised oss tickets to sap for issues and implemented suggestion/workaround in development.\\r\\n\\u00e2\\u0080\\u00a2 fixed webi issues reported by users.\\r\\n\\u00e2\\u0080\\u00a2 created biar file and promoted to higher environments by change request.\\r\\n\\u00e2\\u0080\\u00a2 project handover to team and documentation for reference.\\r\\n\\r\\nproject 2:\\r\\n\\r\\nproject name nestle\\r\\nclient nestle globe\\r\\ncompany tech mahindra pvt. ltd. bangalore\\r\\nenvironment sap bo 4.2, idt, hana views\\r\\nrole sap bo developer and hana developer\\r\\n\\r\\ndescription:\\r\\nthis project aims to provide reporting solution for global business users. the globe integrated order (io), billing detail and order detail universes combines orders, deliveries, shipment and billing documents at the order item level.\\r\\nthe universe supports analyzing customer order patterns and order lifecycle reporting.\\r\\nthe purpose of reports on this universe is to provide an end-to-end view of the entire sales order transaction, and to track the sales orders in various ways, including the status of orders, order types along with the gross value and net value to be generated from these orders.\\r\\n\\r\\nroles & responsibilities:\\r\\n\\u00e2\\u0080\\u00a2 analyzed user requirements and sorted the best possible ways of optimizing performance of universe.\\r\\n\\u00e2\\u0080\\u00a2 cv and generated views development in hana studio\\r\\n\\u00e2\\u0080\\u00a2 handling day to day activities involved in development of business objects as per the client requirements.\\r\\n\\u00e2\\u0080\\u00a2 worked as a team member with backend counterpart to understand the business requirements.\\r\\n\\u00e2\\u0080\\u00a2 developing and maintaining universes.\\r\\n\\u00e2\\u0080\\u00a2 raised oss tickets to sap for issues and implemented suggestion/workaround in development.\\r\\n\\u00e2\\u0080\\u00a2 implemented union pruning in concept in universe to optimize performance by partition selection in hana views by passing value to prompt.\\r\\n\\u00e2\\u0080\\u00a2 fixed webi issues reported by users.\\r\\n\\u00e2\\u0080\\u00a2 created biar file and promoted to higher environments by change request.\\r\\n\\u00e2\\u0080\\u00a2 project handover to team and documentation for reference.\\r\\n\\r\\nproject 3:\\r\\n\\r\\nproject name nestle\\r\\nclient nestle tct\\r\\ncompany tech mahindra pvt. ltd. bangalore\\r\\nenvironment sap bo xi 4.2, design studio 1.6 sp6 & bex queries\\r\\nrole sap bo developer\\r\\n\\r\\ndescription:\\r\\nthe project was developed to show delay in nestle freight orders by hours on cross tab, bar chart, geo map due to weather conditions.\\r\\n\\r\\nbasic source for the data was bw bex queries and the top of these queries dashboard was designed.\\r\\n\\r\\nthis main user audience was transport control tower members to analyze and take decision to send consignments via other modes of transport due to weather conditions to avoid delay and reduce expenditure.\\r\\n\\r\\nroles & responsibilities:\\r\\n\\u00e2\\u0080\\u00a2 involved with users to understand the business requirements and implement feature in a generic way.\\r\\n\\u00e2\\u0080\\u00a2 suggested best visualization components in dashboard to use.\\r\\n\\u00e2\\u0080\\u00a2 analyzing user requirements and finding the best possible ways of representing the data.\\r\\n\\u00e2\\u0080\\u00a2 bug fixes and feature enhancement in application.\\r\\n\\r\\nproject 4:\\r\\n\\r\\nproject name nestle\\r\\nclient nestle ba\\r\\ncompany tech mahindra pvt. ltd. bangalore\\r\\nenvironment sap bo 4.2, design studio 1.6 & bex queries\\r\\nrole sap bo developer\\r\\n\\r\\ndescription:\\r\\nthe project \\\"nestle ba catalogue reporting\\\" for nestle is basically to provide dashboard in design studio with the information of all the reports used within nestle.\\r\\nand this dashboard is been used by all the users of nestle within different region of globe.\\r\\nbasic source for the data was bw bex queries and the top of these queries dashboard was designed.\\r\\nthis main purpose of the project was to help users to understand about usage of different reports on portal and to help them to take decision for decommissioning of a report.\\r\\n\\r\\nroles & responsibilities:\\r\\n\\u00e2\\u0080\\u00a2 involved with customer to understand the business requirements in order to present the data in a meaningful manner and suggested component selection to visualize data in most effectively.\\r\\n\\u00e2\\u0080\\u00a2 analyzing user requirements and finding the best possible ways of representing the data.\\r\\n\\u00e2\\u0080\\u00a2 changes in bw query according to requirement\\r\\n\\u00e2\\u0080\\u00a2 interacting with client team for requirement gathering and analysis.\\r\\n\\u00e2\\u0080\\u00a2 implemented ideas in bex and design studio app to optimize performance with help of successful poc.\\r\\n\\r\\nproject 5:\\r\\n\\r\\nproject name warner bros\\r\\nclient marvin pictures, us\\r\\ncompany capgemini pvt. ltd. bangalore\\r\\ntools teradata db, sap bo 4.1 webi, idt, cmc, query builder, hpsm ticketing tool\\r\\nrole sap bo developer\\r\\n\\r\\ndescription:\\r\\nthe purpose of the project is tracking of dvd and comic sale worldwide. the application will be used by end users to analyze their sales information and to help them in taking decision for their business growth.\\r\\n\\r\\nsales reports in webi were based on universe. teradata tables were source to universe.\\r\\n\\r\\nworked as shared resource for cmc activities and webi/universe issues tickets.\\r\\n\\r\\nroles & responsibilities:\\r\\n\\u00e2\\u0080\\u00a2 working as a team member to understand the business requirements.\\r\\n\\u00e2\\u0080\\u00a2 performed cmc activities like user & user group creation, providing access to objects and folders. created folders for reports, connection, universes and provided user security, connection pointing to universe.\\r\\n\\u00e2\\u0080\\u00a2 worked on issue related to connection, universe objects and webi reports enhancements.\\r\\n\\u00e2\\u0080\\u00a2 raised oss messages to sap to seek solution related to bo tool and limitations.\\r\\n\\u00e2\\u0080\\u00a2 worked on webi report, universe defects and enhancements.\\r\\n\\u00e2\\u0080\\u00a2 meeting with users to understand issue, suggest best solution and eta.\\r\\n\\u00e2\\u0080\\u00a2 worked on query builder to find bo objects metadata for investigation.\\r\\n\\u00e2\\u0080\\u00a2 created of biar format using promotion management.\\r\\n\\r\\nproject 6:\\r\\n\\r\\nproject name nordea\\r\\nclient nordea bank, sweden\\r\\ncompany capgemini pvt. ltd. bangalore\\r\\nenvironment sap bo 4.1, idt, webi, teradata\\r\\nrole sap bo developer\\r\\n\\r\\ndescription:\\r\\nthe project report analytics for nordea aims to provide clear analysis of personal, company accounts in bank around the world. in all regions reports have data related to users and their account type.\\r\\n\\r\\nwebi reports based on universe based on teradata db financial tables.\\r\\n\\r\\nthis project mainly tracks firm's sales with respect to different criteria's like customer wise sales for different categories. it helps various end users to analyze their sales related information and to help in their business growth and make precise decisions.\\r\\n\\r\\nroles & responsibilities:\\r\\n\\u00e2\\u0080\\u00a2 involved in activities to understand the business requirements.\\r\\n\\u00e2\\u0080\\u00a2 analyzing user requirements and finding the best possible ways of representing the data.\\r\\n\\u00e2\\u0080\\u00a2 designing and developing interactive webi reports as per client's dynamic requirements.\\r\\n\\u00e2\\u0080\\u00a2 developed webi reports having blocks, graphs and linked report with summary report.\\r\\n\\u00e2\\u0080\\u00a2 after development performing unit test activities and presentation to users.\\r\\n\\u00e2\\u0080\\u00a2 implementation of business object i.e. webi from one environment to another using biar file.\\r\\n\\u00e2\\u0080\\u00a2 fixed issues in webi reports related to data and report formatting and made changes in report requested by users in mat.\\r\\n\\u00e2\\u0080\\u00a2 prepared rdd for reports and performed unit testing.\\r\\n\\u00e2\\u0080\\u00a2 provided kt to users and supports teams.\\r\\ncompany - tech mahindra\\r\\ndescription - \\r\\ncompany - capgemini\\r\\ndescription -\",\n          \"technical skills programming languages: java (servlet, jsp, spring boot). web technology: html5, css3, bootstrap, javascript, jquery, ajax, angularjs. database: mysql. ide and tool: eclipse, spring tool suit, net beans, sublime text, atom. operating system: windows xp, 7, 8, 10. achievement \\u00e2\\u0080\\u00a2 java developer certificate from unanth technical institute. \\u00e2\\u0080\\u00a2 java certificate from solo learn. \\u00e2\\u0080\\u00a2 command line crash course certificate from udemy. job details education details \\r\\njanuary 2018 m.c.a  pune, maharashtra pune university\\r\\njanuary 2015 b.c.a  amravati, maharashtra amravati university\\r\\njanuary 2012 h.s.c  amravati, maharashtra amravati university\\r\\njanuary 2010 s.s.c  amravati, maharashtra amravati university\\r\\njava developer \\r\\n\\r\\nfull stack java developer\\r\\nskill details \\r\\ncss- exprience - less than 1 year months\\r\\najax- exprience - less than 1 year months\\r\\nservlet- exprience - less than 1 year months\\r\\nhtml5- exprience - less than 1 year months\\r\\nspring- exprience - less than 1 year months\\r\\njava- exprience - less than 1 year months\\r\\njquery- exprience - less than 1 year months\\r\\njsp- exprience - less than 1 year months\\r\\njavascript- exprience - less than 1 year months\\r\\nbootstrap- exprience - less than 1 year months\\r\\nspring boot- exprience - less than 1 year monthscompany details \\r\\ncompany - salcluster technologies\\r\\ndescription - worked as java developer. developed 3 projects using java servlet jsp ajax and web technologies.\\r\\ncompany - salcluster technologies llp.\\r\\ndescription - technology: core java, servlet and jsp, html5, css3, bootstrap, javascript, jquery\\r\\najax and bootstrap.\\r\\n\\r\\nproject details\\r\\n#1 title: gst and sales billing softwares\\r\\n\\u00e2\\u0080\\u00a2 status: completed\\r\\n\\u00e2\\u0080\\u00a2 duration: 1.5 months.\\r\\n\\u00e2\\u0080\\u00a2 abstract: this is a web application made by using java (servlet and jsp), javascript, jquery, ajax, and mysql on back end. it is a client's website which is used for billing. it includes gst billing, generate and print invoice. it has five master pages and four common pages. masters include customer master, item master, uom master, setup master, reason master and common pages like sales order, payments, sales return and invoice.\\r\\n\\r\\n#2 title: dinman news website\\r\\n\\u00e2\\u0080\\u00a2 status: completed\\r\\n\\u00e2\\u0080\\u00a2 duration: 1 months.\\r\\n\\u00e2\\u0080\\u00a2 abstract: this is a website project by using java (servlet and jsp), javascript, jquery, ajax, and mysql on back end. it is a clients website. it is used for displaying online video and text news.\\r\\n\\r\\n#2 title: agri management website\\r\\n\\u00e2\\u0080\\u00a2 status: completed\\r\\n\\u00e2\\u0080\\u00a2 duration: 1.5 months.\\r\\n\\u00e2\\u0080\\u00a2 abstract: this is a website project by using java (servlet and jsp), javascript, jquery, ajax, and mysql on back end. it is used for purchasing and selling vegetables all over india.\\r\\ncompany - omegasoft technologies pvt.ltd\\r\\ndescription - company name: omegasoft technologies pvt.ltd. an  iso certified company.\\r\\nduration: 5 months.\\r\\ntechnology: java spring hibernate, angularjs, ajax, kendoui and bootstrap.\\r\\narchitecture: mvc architecture and service based programming.\\r\\nproject module: login registration and role assignment, payments.\\r\\n\\r\\ninternship project details\\r\\n#1 title: employment times\\r\\n\\u00e2\\u0080\\u00a2 status: completed\\r\\n\\u00e2\\u0080\\u00a2 duration: 4 months.\\r\\n\\u00e2\\u0080\\u00a2 abstract: this is a website project using java, spring, hibernate. angular js, ajax and mysql on back end. it is a client's website which is used for posting of newspapers all over india. it has 12 modules. in which it has admin panel, e-paper posting, subscriptions, and many more. it is a very light weight website built by using mvc architecture and service based architecture. we can also post advertisements on website and share the news on facebook or any other social media directly. it has payment module and users are able to make payments online through debit or credit card or e-wallet.\"\n        ],\n        \"semantic_type\": \"\",\n        \"description\": \"\"\n      }\n    },\n    {\n      \"column\": \"Cleaned_Resume\",\n      \"properties\": {\n        \"dtype\": \"category\",\n        \"num_unique_values\": 165,\n        \"samples\": [\n          \"education details \\r\\nfebruary 2006 to february 2006 tybcom commerce  mumbai\\r\\nbusiness analyst \\r\\n\\r\\nbusiness analyst\\r\\nskill details \\r\\ncompany details \\r\\ncompany - motilal oswal\\r\\ndescription - business analyst\\r\\nhandling it operation for institutional equities \\r\\nmaintain daily mis in excel for cag, research, derivative, sales team preparing auto dashboard for research, sales, trading team working on excel macro to create innovative report \\r\\nworking on block related data working on bd fund from different geo working on investors corporate meeting to track corporate block & fund interest in sector\\r\\ncompany - fss\\r\\ndescription - project description:\\r\\nmaintain and prepare cash indent, cash report, cash position, and cash planning\\r\\nresponsibilities:\\r\\n\\r\\n\\u00e2\\u0080\\u00a2 maintain daily mis in excel.\\r\\n\\u00e2\\u0080\\u00a2 provide complete information about mis & atm.\\r\\n\\u00e2\\u0080\\u00a2 maintain and prepare cash indent, cash report, cash position., cash planning\\r\\n\\u00e2\\u0080\\u00a2 co-ordinate with bank cash department.\\r\\n\\u00e2\\u0080\\u00a2 co-ordinate with custodians\\r\\n\\r\\n.\\r\\ndegree/ course          year of passing   grade          institute                              university/ board   percentage\\r\\ncompany - angel broking\\r\\ndescription - reporting: assistant manager /   sr. manger\\r\\nresponsibilities:\\r\\n\\r\\n\\u00e2\\u0080\\u00a2 handling team of 14 quality assurance team members\\r\\n\\u00e2\\u0080\\u00a2 maintain daily mis in excel of team productivity\\r\\n\\u00e2\\u0080\\u00a2 maintain and prepare repots, adding comments on remark\\r\\n\\u00e2\\u0080\\u00a2 mailing client  for modification of given number\\r\\n\\u00e2\\u0080\\u00a2 mailing reports to different branches\\r\\n\\u00e2\\u0080\\u00a2 coordinating with rm\\r\\n\\u00e2\\u0080\\u00a2 provide complete information about script to client\",\n          \"competencies: sap business intelligence version sap bo 4.2 bo tools design studio, idt, webi, udt, cmc activities backend db hana, bw, bex queries, sqleducation details \\r\\n\\r\\nsap bo developer and sap hana developer \\r\\n\\r\\nsap bo developer - credit suisse\\r\\nskill details \\r\\nsap bi- exprience - 72 months\\r\\ncmc- exprience - 72 months\\r\\nhana- exprience - 36 months\\r\\nbusiness intelligence- exprience - 72 months\\r\\nsql- exprience - 72 months\\r\\nsap bo- exprience - 72 monthscompany details \\r\\ncompany - accenture\\r\\ndescription - company accenture, pune\\r\\nenvironment sap bo 4.2, idt, hana views\\r\\nrole sap bo developer and hana developer\\r\\n\\r\\ndescription:\\r\\nthis project aims to provide reporting solution for swiss business users.the universe supports analyzing customer funds purchase order patterns and order lifecycle reporting.\\r\\nthe purpose of reports is to provide an end-to-end view of the entire sales order transaction, and to track the investment orders in various funds, including the status of orders, order types along with the gross value and net value to be generated from these orders.\\r\\n\\r\\nroles & responsibilities:\\r\\n\\u00e2\\u0080\\u00a2 analyzed user requirements and sorted the best possible ways of optimizing performance of universe.\\r\\n\\u00e2\\u0080\\u00a2 cv and generated views development in hana studio\\r\\n\\u00e2\\u0080\\u00a2 handling day to day activities involved in development of business objects as per the client requirements.\\r\\n\\u00e2\\u0080\\u00a2 worked as a team member with backend counterpart to understand the business requirements.\\r\\n\\u00e2\\u0080\\u00a2 developing and maintaining universes.\\r\\n\\u00e2\\u0080\\u00a2 raised oss tickets to sap for issues and implemented suggestion/workaround in development.\\r\\n\\u00e2\\u0080\\u00a2 fixed webi issues reported by users.\\r\\n\\u00e2\\u0080\\u00a2 created biar file and promoted to higher environments by change request.\\r\\n\\u00e2\\u0080\\u00a2 project handover to team and documentation for reference.\\r\\n\\r\\nproject 2:\\r\\n\\r\\nproject name nestle\\r\\nclient nestle globe\\r\\ncompany tech mahindra pvt. ltd. bangalore\\r\\nenvironment sap bo 4.2, idt, hana views\\r\\nrole sap bo developer and hana developer\\r\\n\\r\\ndescription:\\r\\nthis project aims to provide reporting solution for global business users. the globe integrated order (io), billing detail and order detail universes combines orders, deliveries, shipment and billing documents at the order item level.\\r\\nthe universe supports analyzing customer order patterns and order lifecycle reporting.\\r\\nthe purpose of reports on this universe is to provide an end-to-end view of the entire sales order transaction, and to track the sales orders in various ways, including the status of orders, order types along with the gross value and net value to be generated from these orders.\\r\\n\\r\\nroles & responsibilities:\\r\\n\\u00e2\\u0080\\u00a2 analyzed user requirements and sorted the best possible ways of optimizing performance of universe.\\r\\n\\u00e2\\u0080\\u00a2 cv and generated views development in hana studio\\r\\n\\u00e2\\u0080\\u00a2 handling day to day activities involved in development of business objects as per the client requirements.\\r\\n\\u00e2\\u0080\\u00a2 worked as a team member with backend counterpart to understand the business requirements.\\r\\n\\u00e2\\u0080\\u00a2 developing and maintaining universes.\\r\\n\\u00e2\\u0080\\u00a2 raised oss tickets to sap for issues and implemented suggestion/workaround in development.\\r\\n\\u00e2\\u0080\\u00a2 implemented union pruning in concept in universe to optimize performance by partition selection in hana views by passing value to prompt.\\r\\n\\u00e2\\u0080\\u00a2 fixed webi issues reported by users.\\r\\n\\u00e2\\u0080\\u00a2 created biar file and promoted to higher environments by change request.\\r\\n\\u00e2\\u0080\\u00a2 project handover to team and documentation for reference.\\r\\n\\r\\nproject 3:\\r\\n\\r\\nproject name nestle\\r\\nclient nestle tct\\r\\ncompany tech mahindra pvt. ltd. bangalore\\r\\nenvironment sap bo xi 4.2, design studio 1.6 sp6 & bex queries\\r\\nrole sap bo developer\\r\\n\\r\\ndescription:\\r\\nthe project was developed to show delay in nestle freight orders by hours on cross tab, bar chart, geo map due to weather conditions.\\r\\n\\r\\nbasic source for the data was bw bex queries and the top of these queries dashboard was designed.\\r\\n\\r\\nthis main user audience was transport control tower members to analyze and take decision to send consignments via other modes of transport due to weather conditions to avoid delay and reduce expenditure.\\r\\n\\r\\nroles & responsibilities:\\r\\n\\u00e2\\u0080\\u00a2 involved with users to understand the business requirements and implement feature in a generic way.\\r\\n\\u00e2\\u0080\\u00a2 suggested best visualization components in dashboard to use.\\r\\n\\u00e2\\u0080\\u00a2 analyzing user requirements and finding the best possible ways of representing the data.\\r\\n\\u00e2\\u0080\\u00a2 bug fixes and feature enhancement in application.\\r\\n\\r\\nproject 4:\\r\\n\\r\\nproject name nestle\\r\\nclient nestle ba\\r\\ncompany tech mahindra pvt. ltd. bangalore\\r\\nenvironment sap bo 4.2, design studio 1.6 & bex queries\\r\\nrole sap bo developer\\r\\n\\r\\ndescription:\\r\\nthe project \\\"nestle ba catalogue reporting\\\" for nestle is basically to provide dashboard in design studio with the information of all the reports used within nestle.\\r\\nand this dashboard is been used by all the users of nestle within different region of globe.\\r\\nbasic source for the data was bw bex queries and the top of these queries dashboard was designed.\\r\\nthis main purpose of the project was to help users to understand about usage of different reports on portal and to help them to take decision for decommissioning of a report.\\r\\n\\r\\nroles & responsibilities:\\r\\n\\u00e2\\u0080\\u00a2 involved with customer to understand the business requirements in order to present the data in a meaningful manner and suggested component selection to visualize data in most effectively.\\r\\n\\u00e2\\u0080\\u00a2 analyzing user requirements and finding the best possible ways of representing the data.\\r\\n\\u00e2\\u0080\\u00a2 changes in bw query according to requirement\\r\\n\\u00e2\\u0080\\u00a2 interacting with client team for requirement gathering and analysis.\\r\\n\\u00e2\\u0080\\u00a2 implemented ideas in bex and design studio app to optimize performance with help of successful poc.\\r\\n\\r\\nproject 5:\\r\\n\\r\\nproject name warner bros\\r\\nclient marvin pictures, us\\r\\ncompany capgemini pvt. ltd. bangalore\\r\\ntools teradata db, sap bo 4.1 webi, idt, cmc, query builder, hpsm ticketing tool\\r\\nrole sap bo developer\\r\\n\\r\\ndescription:\\r\\nthe purpose of the project is tracking of dvd and comic sale worldwide. the application will be used by end users to analyze their sales information and to help them in taking decision for their business growth.\\r\\n\\r\\nsales reports in webi were based on universe. teradata tables were source to universe.\\r\\n\\r\\nworked as shared resource for cmc activities and webi/universe issues tickets.\\r\\n\\r\\nroles & responsibilities:\\r\\n\\u00e2\\u0080\\u00a2 working as a team member to understand the business requirements.\\r\\n\\u00e2\\u0080\\u00a2 performed cmc activities like user & user group creation, providing access to objects and folders. created folders for reports, connection, universes and provided user security, connection pointing to universe.\\r\\n\\u00e2\\u0080\\u00a2 worked on issue related to connection, universe objects and webi reports enhancements.\\r\\n\\u00e2\\u0080\\u00a2 raised oss messages to sap to seek solution related to bo tool and limitations.\\r\\n\\u00e2\\u0080\\u00a2 worked on webi report, universe defects and enhancements.\\r\\n\\u00e2\\u0080\\u00a2 meeting with users to understand issue, suggest best solution and eta.\\r\\n\\u00e2\\u0080\\u00a2 worked on query builder to find bo objects metadata for investigation.\\r\\n\\u00e2\\u0080\\u00a2 created of biar format using promotion management.\\r\\n\\r\\nproject 6:\\r\\n\\r\\nproject name nordea\\r\\nclient nordea bank, sweden\\r\\ncompany capgemini pvt. ltd. bangalore\\r\\nenvironment sap bo 4.1, idt, webi, teradata\\r\\nrole sap bo developer\\r\\n\\r\\ndescription:\\r\\nthe project report analytics for nordea aims to provide clear analysis of personal, company accounts in bank around the world. in all regions reports have data related to users and their account type.\\r\\n\\r\\nwebi reports based on universe based on teradata db financial tables.\\r\\n\\r\\nthis project mainly tracks firm's sales with respect to different criteria's like customer wise sales for different categories. it helps various end users to analyze their sales related information and to help in their business growth and make precise decisions.\\r\\n\\r\\nroles & responsibilities:\\r\\n\\u00e2\\u0080\\u00a2 involved in activities to understand the business requirements.\\r\\n\\u00e2\\u0080\\u00a2 analyzing user requirements and finding the best possible ways of representing the data.\\r\\n\\u00e2\\u0080\\u00a2 designing and developing interactive webi reports as per client's dynamic requirements.\\r\\n\\u00e2\\u0080\\u00a2 developed webi reports having blocks, graphs and linked report with summary report.\\r\\n\\u00e2\\u0080\\u00a2 after development performing unit test activities and presentation to users.\\r\\n\\u00e2\\u0080\\u00a2 implementation of business object i.e. webi from one environment to another using biar file.\\r\\n\\u00e2\\u0080\\u00a2 fixed issues in webi reports related to data and report formatting and made changes in report requested by users in mat.\\r\\n\\u00e2\\u0080\\u00a2 prepared rdd for reports and performed unit testing.\\r\\n\\u00e2\\u0080\\u00a2 provided kt to users and supports teams.\\r\\ncompany - tech mahindra\\r\\ndescription - \\r\\ncompany - capgemini\\r\\ndescription -\",\n          \"technical skills programming languages: java (servlet, jsp, spring boot). web technology: html5, css3, bootstrap, javascript, jquery, ajax, angularjs. database: mysql. ide and tool: eclipse, spring tool suit, net beans, sublime text, atom. operating system: windows xp, 7, 8, 10. achievement \\u00e2\\u0080\\u00a2 java developer certificate from unanth technical institute. \\u00e2\\u0080\\u00a2 java certificate from solo learn. \\u00e2\\u0080\\u00a2 command line crash course certificate from udemy. job details education details \\r\\njanuary 2018 m.c.a  pune, maharashtra pune university\\r\\njanuary 2015 b.c.a  amravati, maharashtra amravati university\\r\\njanuary 2012 h.s.c  amravati, maharashtra amravati university\\r\\njanuary 2010 s.s.c  amravati, maharashtra amravati university\\r\\njava developer \\r\\n\\r\\nfull stack java developer\\r\\nskill details \\r\\ncss- exprience - less than 1 year months\\r\\najax- exprience - less than 1 year months\\r\\nservlet- exprience - less than 1 year months\\r\\nhtml5- exprience - less than 1 year months\\r\\nspring- exprience - less than 1 year months\\r\\njava- exprience - less than 1 year months\\r\\njquery- exprience - less than 1 year months\\r\\njsp- exprience - less than 1 year months\\r\\njavascript- exprience - less than 1 year months\\r\\nbootstrap- exprience - less than 1 year months\\r\\nspring boot- exprience - less than 1 year monthscompany details \\r\\ncompany - salcluster technologies\\r\\ndescription - worked as java developer. developed 3 projects using java servlet jsp ajax and web technologies.\\r\\ncompany - salcluster technologies llp.\\r\\ndescription - technology: core java, servlet and jsp, html5, css3, bootstrap, javascript, jquery\\r\\najax and bootstrap.\\r\\n\\r\\nproject details\\r\\n#1 title: gst and sales billing softwares\\r\\n\\u00e2\\u0080\\u00a2 status: completed\\r\\n\\u00e2\\u0080\\u00a2 duration: 1.5 months.\\r\\n\\u00e2\\u0080\\u00a2 abstract: this is a web application made by using java (servlet and jsp), javascript, jquery, ajax, and mysql on back end. it is a client's website which is used for billing. it includes gst billing, generate and print invoice. it has five master pages and four common pages. masters include customer master, item master, uom master, setup master, reason master and common pages like sales order, payments, sales return and invoice.\\r\\n\\r\\n#2 title: dinman news website\\r\\n\\u00e2\\u0080\\u00a2 status: completed\\r\\n\\u00e2\\u0080\\u00a2 duration: 1 months.\\r\\n\\u00e2\\u0080\\u00a2 abstract: this is a website project by using java (servlet and jsp), javascript, jquery, ajax, and mysql on back end. it is a clients website. it is used for displaying online video and text news.\\r\\n\\r\\n#2 title: agri management website\\r\\n\\u00e2\\u0080\\u00a2 status: completed\\r\\n\\u00e2\\u0080\\u00a2 duration: 1.5 months.\\r\\n\\u00e2\\u0080\\u00a2 abstract: this is a website project by using java (servlet and jsp), javascript, jquery, ajax, and mysql on back end. it is used for purchasing and selling vegetables all over india.\\r\\ncompany - omegasoft technologies pvt.ltd\\r\\ndescription - company name: omegasoft technologies pvt.ltd. an  iso certified company.\\r\\nduration: 5 months.\\r\\ntechnology: java spring hibernate, angularjs, ajax, kendoui and bootstrap.\\r\\narchitecture: mvc architecture and service based programming.\\r\\nproject module: login registration and role assignment, payments.\\r\\n\\r\\ninternship project details\\r\\n#1 title: employment times\\r\\n\\u00e2\\u0080\\u00a2 status: completed\\r\\n\\u00e2\\u0080\\u00a2 duration: 4 months.\\r\\n\\u00e2\\u0080\\u00a2 abstract: this is a website project using java, spring, hibernate. angular js, ajax and mysql on back end. it is a client's website which is used for posting of newspapers all over india. it has 12 modules. in which it has admin panel, e-paper posting, subscriptions, and many more. it is a very light weight website built by using mvc architecture and service based architecture. we can also post advertisements on website and share the news on facebook or any other social media directly. it has payment module and users are able to make payments online through debit or credit card or e-wallet.\"\n        ],\n        \"semantic_type\": \"\",\n        \"description\": \"\"\n      }\n    },\n    {\n      \"column\": \"label\",\n      \"properties\": {\n        \"dtype\": \"number\",\n        \"std\": 7,\n        \"min\": 0,\n        \"max\": 24,\n        \"num_unique_values\": 25,\n        \"samples\": [\n          24,\n          2,\n          10\n        ],\n        \"semantic_type\": \"\",\n        \"description\": \"\"\n      }\n    },\n    {\n      \"column\": \"Count\",\n      \"properties\": {\n        \"dtype\": \"number\",\n        \"std\": 412,\n        \"min\": 19,\n        \"max\": 2209,\n        \"num_unique_values\": 145,\n        \"samples\": [\n          507,\n          265,\n          454\n        ],\n        \"semantic_type\": \"\",\n        \"description\": \"\"\n      }\n    }\n  ]\n}"
            }
          },
          "metadata": {},
          "execution_count": 12
        }
      ]
    },
    {
      "cell_type": "markdown",
      "source": [
        "### Convert to HuggingFace Dataset"
      ],
      "metadata": {
        "id": "vQNG09lz2VG6"
      }
    },
    {
      "cell_type": "markdown",
      "source": [
        "**Exercise 10: Convert Pandas dataframe to HuggingFace Dataset [1 Mark]**\n",
        "\n",
        "**Hint:**\n",
        "\n",
        "    import pandas as pd\n",
        "    from datasets import Dataset, DatasetDict\n",
        "\n",
        "    tdf = pd.DataFrame({\"a\": [1, 2, 3], \"b\": ['hello', 'ola', 'thammi']})\n",
        "    vdf = pd.DataFrame({\"a\": [4, 5, 6], \"b\": ['four', 'five', 'six']})\n",
        "    tds = Dataset.from_pandas(tdf)\n",
        "    vds = Dataset.from_pandas(vdf)\n",
        "\n",
        "    ds = DatasetDict()\n",
        "\n",
        "    ds['train'] = tds\n",
        "    ds['validation'] = vds\n",
        "\n",
        "    print(ds)"
      ],
      "metadata": {
        "id": "qEpf_GllUIbt"
      }
    },
    {
      "cell_type": "code",
      "source": [
        "from datasets import Dataset, DatasetDict\n",
        "\n",
        "train_ds = Dataset.from_pandas(train_df)\n",
        "val_ds = Dataset.from_pandas(val_df)\n",
        "test_ds = Dataset.from_pandas(test_df)\n",
        "\n",
        "ds = DatasetDict()\n",
        "\n",
        "ds['train'] = train_ds\n",
        "ds['validation'] = val_ds\n",
        "ds['test'] = test_ds"
      ],
      "metadata": {
        "id": "z_89zi9XF5J0"
      },
      "execution_count": 13,
      "outputs": []
    },
    {
      "cell_type": "markdown",
      "source": [
        "### Tokenizer"
      ],
      "metadata": {
        "id": "IXsHhNqcVyUb"
      }
    },
    {
      "cell_type": "markdown",
      "source": [
        "**Exercise 11: Load tokenizer for checkpoint `distilbert-base-uncased` [0.5 Mark]**\n",
        "\n",
        "**Hint:** `AutoTokenizer`"
      ],
      "metadata": {
        "id": "EqmNgMaQVNdp"
      }
    },
    {
      "cell_type": "code",
      "source": [
        "# Load tokenizer\n",
        "tokenizer = AutoTokenizer.from_pretrained('distilbert-base-uncased')"
      ],
      "metadata": {
        "id": "iKAaBbGhq3cP",
        "colab": {
          "base_uri": "https://localhost:8080/",
          "height": 145,
          "referenced_widgets": [
            "1919f8ba51944ee6b1bd229e46efc85c",
            "7bc8eed7c9d14fc79509c95ee3854cc3",
            "77effcb6cab94716a381c7508670e977",
            "f75325a9adac41c99f66d5800b780a77",
            "bc61a59719964076a4732658cb94535c",
            "8b9859b6ccdd49f6b1fcef41b80768db",
            "bfe16b51cfbc4eb8858de16b74a8d4e6",
            "7ac44e2036214db1b07d5c9423f2631a",
            "9705de0df7ce4c0fa740cd5a620a9cc7",
            "d494c202f2cf463db926c5469165a5e3",
            "6a73f2d03bf048eba7ab25a318b20f87",
            "e5954e9f21184cf8a15d94c6cc96548a",
            "405ddb2ef9574d30a9eacb0122cc9cf2",
            "0255d46721994ad2b53f69eecbb125e8",
            "25a641517239437290ec313aaed17e12",
            "ac751810715949b0a77097784fa4aafa",
            "1af3fb4b93fb46ecae774f1691efaf47",
            "0c21c589e3d0406e878573f2fa663b20",
            "b470d802d72f47dc910577a92869ca49",
            "8772970383344115a7e2741e1bab22cb",
            "74ac2a7881de4b01949ad655a674e8c1",
            "63fce027a9104dea8586830d8dd9c6be",
            "b9f47727858d4698a587701984688235",
            "ab3c70d6d7d748e5bbc0ebc7fd2951ce",
            "a9c303414fca41d89a4cf5ec632e1c50",
            "a4be8b6b7dc94a9fa8da5f5b5b53f5c4",
            "4f381608d9c84a76ad036bc1c5f75e19",
            "b11f0bade6b9483192d9d4150c35aa6f",
            "697f398acc0f47709ab3e13b200b9438",
            "7c9ca8ace8a64e62bcdff0a53a7fe181",
            "028b44d6ab1e4fef94ce78d665aa229f",
            "1b498e9d3f4c43c592ae9ee5321cd0da",
            "2c96578861db48eeaee19a35334d01e4",
            "9ac9d4f09fe44c709491fb0207e60cff",
            "dbd26f3116ea4ed297774d3f38f12261",
            "21e8cd4eb67e4c9cbddc67f0a58186f5",
            "bd6b0b480d354e309d003db9103be76d",
            "ecadf121acd6447e8c2daf867fb58210",
            "eb161c222a604bf891c9f64dd3d39c3c",
            "dfe63f7a51894c24af0605ca6f5d13d5",
            "a7968e903a394b5a972f89bbb753a009",
            "3b02cc58b6b444649ee4d8052bf5bce8",
            "1b8d3884e05c4c19a483226a79f37b1f",
            "cad186bfa87c4fcebf19532f9d75f2ad"
          ]
        },
        "outputId": "16983d87-7c01-4587-f4cc-be58ed6ca289"
      },
      "execution_count": 14,
      "outputs": [
        {
          "output_type": "display_data",
          "data": {
            "text/plain": [
              "tokenizer_config.json:   0%|          | 0.00/48.0 [00:00<?, ?B/s]"
            ],
            "application/vnd.jupyter.widget-view+json": {
              "version_major": 2,
              "version_minor": 0,
              "model_id": "1919f8ba51944ee6b1bd229e46efc85c"
            }
          },
          "metadata": {}
        },
        {
          "output_type": "display_data",
          "data": {
            "text/plain": [
              "config.json:   0%|          | 0.00/483 [00:00<?, ?B/s]"
            ],
            "application/vnd.jupyter.widget-view+json": {
              "version_major": 2,
              "version_minor": 0,
              "model_id": "e5954e9f21184cf8a15d94c6cc96548a"
            }
          },
          "metadata": {}
        },
        {
          "output_type": "display_data",
          "data": {
            "text/plain": [
              "vocab.txt:   0%|          | 0.00/232k [00:00<?, ?B/s]"
            ],
            "application/vnd.jupyter.widget-view+json": {
              "version_major": 2,
              "version_minor": 0,
              "model_id": "b9f47727858d4698a587701984688235"
            }
          },
          "metadata": {}
        },
        {
          "output_type": "display_data",
          "data": {
            "text/plain": [
              "tokenizer.json:   0%|          | 0.00/466k [00:00<?, ?B/s]"
            ],
            "application/vnd.jupyter.widget-view+json": {
              "version_major": 2,
              "version_minor": 0,
              "model_id": "9ac9d4f09fe44c709491fb0207e60cff"
            }
          },
          "metadata": {}
        }
      ]
    },
    {
      "cell_type": "code",
      "source": [
        "def tokenize_fn(batch):\n",
        "     return tokenizer(batch['Cleaned_Resume'], padding='max_length', truncation=True)\n"
      ],
      "metadata": {
        "id": "89dlcyQkIL-Q"
      },
      "execution_count": 15,
      "outputs": []
    },
    {
      "cell_type": "code",
      "source": [
        "tokenized_datasets = ds.map(tokenize_fn, batched=True)\n",
        "tokenized_datasets"
      ],
      "metadata": {
        "id": "Z_c7_2tYI7Nt",
        "colab": {
          "base_uri": "https://localhost:8080/",
          "height": 371,
          "referenced_widgets": [
            "1a3ce26771c9437485e513ff7f84f267",
            "889b6a3200ac472fabda3538e4ee5573",
            "75aa8499db384fd49a2f75f84ddf94cc",
            "66ca7dc97422424aad3062ebfe01cf22",
            "43715f44a4164c91bbe04c2edd778ce0",
            "f1389c47478c43bf8442178dec128c3f",
            "5e2cb7a8a4d64e7bbb129dde2635d6f3",
            "ddd54591f7564bb992da9bca75565c65",
            "22a8725294814cde88c6a175b2fa1741",
            "69f823814f754809a60947d9fccd7ed8",
            "9efbfc058b664ba0a88d65cf36ab30f5",
            "def8947b2db24bc5afa6a527c82e9c72",
            "e391b91e05d2407abcf80ca2228753b0",
            "594770e0a95146858116456d41977f6a",
            "40db345a1a754772869b5f8e3bd5f2ab",
            "a1ec9910a18b4ac19e3f8af62f4119e0",
            "79db3d9691d7484a8a9a7d30347e50cf",
            "256f7c1d1ecd42bd96fca458a216aed7",
            "89719273eca246b2bca02fcabcbbd587",
            "8ddf347ae7d6461eaa40de0b29a6239c",
            "fc7833f8b0ef42b29f2d0e6cf7b485a6",
            "d615a8346f3f45b48365a07667dac6ca",
            "63637ed34d0e4aa5a6257a1b288eac20",
            "5f310a771ecd4eec9ed5aec533fb45d7",
            "ea975f6ae7c64d33a2f2d05705c6a1eb",
            "c3258d1a37a34fe4b7b87feaa99a2bb1",
            "0fab733cf8d24b25a91bf1c797270b02",
            "6b81a553ccf543ddaae5a74ab3ab7be6",
            "876451b4d7fe4d9aa21f22a7db55f56d",
            "81d2f03cdba1466694d663a85ab85b46",
            "889f0179feb5481781fd34acef7737c1",
            "0fe869648c1244d1b3f0ae36805b99ed",
            "cc9e32143ad942ebafdba7654ecbfed8"
          ]
        },
        "outputId": "06916f0b-1325-46ed-c728-61d4b4d0fe4a"
      },
      "execution_count": 16,
      "outputs": [
        {
          "output_type": "display_data",
          "data": {
            "text/plain": [
              "Map:   0%|          | 0/576 [00:00<?, ? examples/s]"
            ],
            "application/vnd.jupyter.widget-view+json": {
              "version_major": 2,
              "version_minor": 0,
              "model_id": "1a3ce26771c9437485e513ff7f84f267"
            }
          },
          "metadata": {}
        },
        {
          "output_type": "display_data",
          "data": {
            "text/plain": [
              "Map:   0%|          | 0/193 [00:00<?, ? examples/s]"
            ],
            "application/vnd.jupyter.widget-view+json": {
              "version_major": 2,
              "version_minor": 0,
              "model_id": "def8947b2db24bc5afa6a527c82e9c72"
            }
          },
          "metadata": {}
        },
        {
          "output_type": "display_data",
          "data": {
            "text/plain": [
              "Map:   0%|          | 0/193 [00:00<?, ? examples/s]"
            ],
            "application/vnd.jupyter.widget-view+json": {
              "version_major": 2,
              "version_minor": 0,
              "model_id": "63637ed34d0e4aa5a6257a1b288eac20"
            }
          },
          "metadata": {}
        },
        {
          "output_type": "execute_result",
          "data": {
            "text/plain": [
              "DatasetDict({\n",
              "    train: Dataset({\n",
              "        features: ['Category', 'Resume', 'Cleaned_Resume', 'label', 'Count', '__index_level_0__', 'input_ids', 'attention_mask'],\n",
              "        num_rows: 576\n",
              "    })\n",
              "    validation: Dataset({\n",
              "        features: ['Category', 'Resume', 'Cleaned_Resume', 'label', 'Count', '__index_level_0__', 'input_ids', 'attention_mask'],\n",
              "        num_rows: 193\n",
              "    })\n",
              "    test: Dataset({\n",
              "        features: ['Category', 'Resume', 'Cleaned_Resume', 'label', 'Count', '__index_level_0__', 'input_ids', 'attention_mask'],\n",
              "        num_rows: 193\n",
              "    })\n",
              "})"
            ]
          },
          "metadata": {},
          "execution_count": 16
        }
      ]
    },
    {
      "cell_type": "markdown",
      "source": [
        "### Load Pre-Trained Model"
      ],
      "metadata": {
        "id": "TPXfBiYpElKx"
      }
    },
    {
      "cell_type": "markdown",
      "source": [
        "**Exercise 12: Load pre-trained Bert model with checkpoint `distilbert-base-uncased` and show model summary [0.5 Mark]**\n",
        "\n",
        "**Hint:** `AutoModelForSequenceClassification`"
      ],
      "metadata": {
        "id": "Z_14j98LV2Tg"
      }
    },
    {
      "cell_type": "code",
      "source": [
        "from transformers import AutoModelForSequenceClassification\n",
        "\n",
        "model = AutoModelForSequenceClassification.from_pretrained('distilbert-base-uncased', num_labels=25)"
      ],
      "metadata": {
        "id": "tHeD1YZu-iA9",
        "colab": {
          "base_uri": "https://localhost:8080/",
          "height": 106,
          "referenced_widgets": [
            "3a7482da6b10415f97f460d8872ee040",
            "a489f06a99a846269c4963b1da8e85aa",
            "be426d0f88b74d8eb6ef41e011e52073",
            "e3463a456efd4dcda6050580e4d8cb8d",
            "99ebf9e5bdfc4b26b26dd4b34048f75c",
            "5a0e4e85bb5344c390fc0d99427d5fe6",
            "159a791767f242cba399b94ac5045164",
            "d7746cab8a6746c3a7933ff618af0a1f",
            "3c4eee307c064564a75874ac5b8045d7",
            "e66a644fa2924be995e04f069e49abe4",
            "dbaf60df69ab4e599afa98dc81939899"
          ]
        },
        "outputId": "174b2403-bcd3-4241-f783-4016dfb19e46"
      },
      "execution_count": 17,
      "outputs": [
        {
          "output_type": "display_data",
          "data": {
            "text/plain": [
              "model.safetensors:   0%|          | 0.00/268M [00:00<?, ?B/s]"
            ],
            "application/vnd.jupyter.widget-view+json": {
              "version_major": 2,
              "version_minor": 0,
              "model_id": "3a7482da6b10415f97f460d8872ee040"
            }
          },
          "metadata": {}
        },
        {
          "output_type": "stream",
          "name": "stderr",
          "text": [
            "Some weights of DistilBertForSequenceClassification were not initialized from the model checkpoint at distilbert-base-uncased and are newly initialized: ['classifier.bias', 'classifier.weight', 'pre_classifier.bias', 'pre_classifier.weight']\n",
            "You should probably TRAIN this model on a down-stream task to be able to use it for predictions and inference.\n"
          ]
        }
      ]
    },
    {
      "cell_type": "markdown",
      "source": [
        "**Exercise 13: Freeze/Un-Freeze different layers  [0.5 Mark]**\n",
        "\n",
        "**Hint:** Freeze layers starting with name *distilbert*\n"
      ],
      "metadata": {
        "id": "OEaFCpYAFLzC"
      }
    },
    {
      "cell_type": "code",
      "source": [
        "# Display layers name\n",
        "\n",
        "print(\"Layer names:\")\n",
        "for name, param in model.named_parameters():\n",
        "    print(name)"
      ],
      "metadata": {
        "id": "XrMTbGJaf0fz",
        "colab": {
          "base_uri": "https://localhost:8080/"
        },
        "outputId": "c2b06222-8e56-4446-a15e-98c87a075a9a"
      },
      "execution_count": 18,
      "outputs": [
        {
          "output_type": "stream",
          "name": "stdout",
          "text": [
            "Layer names:\n",
            "distilbert.embeddings.word_embeddings.weight\n",
            "distilbert.embeddings.position_embeddings.weight\n",
            "distilbert.embeddings.LayerNorm.weight\n",
            "distilbert.embeddings.LayerNorm.bias\n",
            "distilbert.transformer.layer.0.attention.q_lin.weight\n",
            "distilbert.transformer.layer.0.attention.q_lin.bias\n",
            "distilbert.transformer.layer.0.attention.k_lin.weight\n",
            "distilbert.transformer.layer.0.attention.k_lin.bias\n",
            "distilbert.transformer.layer.0.attention.v_lin.weight\n",
            "distilbert.transformer.layer.0.attention.v_lin.bias\n",
            "distilbert.transformer.layer.0.attention.out_lin.weight\n",
            "distilbert.transformer.layer.0.attention.out_lin.bias\n",
            "distilbert.transformer.layer.0.sa_layer_norm.weight\n",
            "distilbert.transformer.layer.0.sa_layer_norm.bias\n",
            "distilbert.transformer.layer.0.ffn.lin1.weight\n",
            "distilbert.transformer.layer.0.ffn.lin1.bias\n",
            "distilbert.transformer.layer.0.ffn.lin2.weight\n",
            "distilbert.transformer.layer.0.ffn.lin2.bias\n",
            "distilbert.transformer.layer.0.output_layer_norm.weight\n",
            "distilbert.transformer.layer.0.output_layer_norm.bias\n",
            "distilbert.transformer.layer.1.attention.q_lin.weight\n",
            "distilbert.transformer.layer.1.attention.q_lin.bias\n",
            "distilbert.transformer.layer.1.attention.k_lin.weight\n",
            "distilbert.transformer.layer.1.attention.k_lin.bias\n",
            "distilbert.transformer.layer.1.attention.v_lin.weight\n",
            "distilbert.transformer.layer.1.attention.v_lin.bias\n",
            "distilbert.transformer.layer.1.attention.out_lin.weight\n",
            "distilbert.transformer.layer.1.attention.out_lin.bias\n",
            "distilbert.transformer.layer.1.sa_layer_norm.weight\n",
            "distilbert.transformer.layer.1.sa_layer_norm.bias\n",
            "distilbert.transformer.layer.1.ffn.lin1.weight\n",
            "distilbert.transformer.layer.1.ffn.lin1.bias\n",
            "distilbert.transformer.layer.1.ffn.lin2.weight\n",
            "distilbert.transformer.layer.1.ffn.lin2.bias\n",
            "distilbert.transformer.layer.1.output_layer_norm.weight\n",
            "distilbert.transformer.layer.1.output_layer_norm.bias\n",
            "distilbert.transformer.layer.2.attention.q_lin.weight\n",
            "distilbert.transformer.layer.2.attention.q_lin.bias\n",
            "distilbert.transformer.layer.2.attention.k_lin.weight\n",
            "distilbert.transformer.layer.2.attention.k_lin.bias\n",
            "distilbert.transformer.layer.2.attention.v_lin.weight\n",
            "distilbert.transformer.layer.2.attention.v_lin.bias\n",
            "distilbert.transformer.layer.2.attention.out_lin.weight\n",
            "distilbert.transformer.layer.2.attention.out_lin.bias\n",
            "distilbert.transformer.layer.2.sa_layer_norm.weight\n",
            "distilbert.transformer.layer.2.sa_layer_norm.bias\n",
            "distilbert.transformer.layer.2.ffn.lin1.weight\n",
            "distilbert.transformer.layer.2.ffn.lin1.bias\n",
            "distilbert.transformer.layer.2.ffn.lin2.weight\n",
            "distilbert.transformer.layer.2.ffn.lin2.bias\n",
            "distilbert.transformer.layer.2.output_layer_norm.weight\n",
            "distilbert.transformer.layer.2.output_layer_norm.bias\n",
            "distilbert.transformer.layer.3.attention.q_lin.weight\n",
            "distilbert.transformer.layer.3.attention.q_lin.bias\n",
            "distilbert.transformer.layer.3.attention.k_lin.weight\n",
            "distilbert.transformer.layer.3.attention.k_lin.bias\n",
            "distilbert.transformer.layer.3.attention.v_lin.weight\n",
            "distilbert.transformer.layer.3.attention.v_lin.bias\n",
            "distilbert.transformer.layer.3.attention.out_lin.weight\n",
            "distilbert.transformer.layer.3.attention.out_lin.bias\n",
            "distilbert.transformer.layer.3.sa_layer_norm.weight\n",
            "distilbert.transformer.layer.3.sa_layer_norm.bias\n",
            "distilbert.transformer.layer.3.ffn.lin1.weight\n",
            "distilbert.transformer.layer.3.ffn.lin1.bias\n",
            "distilbert.transformer.layer.3.ffn.lin2.weight\n",
            "distilbert.transformer.layer.3.ffn.lin2.bias\n",
            "distilbert.transformer.layer.3.output_layer_norm.weight\n",
            "distilbert.transformer.layer.3.output_layer_norm.bias\n",
            "distilbert.transformer.layer.4.attention.q_lin.weight\n",
            "distilbert.transformer.layer.4.attention.q_lin.bias\n",
            "distilbert.transformer.layer.4.attention.k_lin.weight\n",
            "distilbert.transformer.layer.4.attention.k_lin.bias\n",
            "distilbert.transformer.layer.4.attention.v_lin.weight\n",
            "distilbert.transformer.layer.4.attention.v_lin.bias\n",
            "distilbert.transformer.layer.4.attention.out_lin.weight\n",
            "distilbert.transformer.layer.4.attention.out_lin.bias\n",
            "distilbert.transformer.layer.4.sa_layer_norm.weight\n",
            "distilbert.transformer.layer.4.sa_layer_norm.bias\n",
            "distilbert.transformer.layer.4.ffn.lin1.weight\n",
            "distilbert.transformer.layer.4.ffn.lin1.bias\n",
            "distilbert.transformer.layer.4.ffn.lin2.weight\n",
            "distilbert.transformer.layer.4.ffn.lin2.bias\n",
            "distilbert.transformer.layer.4.output_layer_norm.weight\n",
            "distilbert.transformer.layer.4.output_layer_norm.bias\n",
            "distilbert.transformer.layer.5.attention.q_lin.weight\n",
            "distilbert.transformer.layer.5.attention.q_lin.bias\n",
            "distilbert.transformer.layer.5.attention.k_lin.weight\n",
            "distilbert.transformer.layer.5.attention.k_lin.bias\n",
            "distilbert.transformer.layer.5.attention.v_lin.weight\n",
            "distilbert.transformer.layer.5.attention.v_lin.bias\n",
            "distilbert.transformer.layer.5.attention.out_lin.weight\n",
            "distilbert.transformer.layer.5.attention.out_lin.bias\n",
            "distilbert.transformer.layer.5.sa_layer_norm.weight\n",
            "distilbert.transformer.layer.5.sa_layer_norm.bias\n",
            "distilbert.transformer.layer.5.ffn.lin1.weight\n",
            "distilbert.transformer.layer.5.ffn.lin1.bias\n",
            "distilbert.transformer.layer.5.ffn.lin2.weight\n",
            "distilbert.transformer.layer.5.ffn.lin2.bias\n",
            "distilbert.transformer.layer.5.output_layer_norm.weight\n",
            "distilbert.transformer.layer.5.output_layer_norm.bias\n",
            "pre_classifier.weight\n",
            "pre_classifier.bias\n",
            "classifier.weight\n",
            "classifier.bias\n"
          ]
        }
      ]
    },
    {
      "cell_type": "code",
      "source": [
        "# Freezing\n",
        "def freeze_layers(model):\n",
        "    for name, param in model.named_parameters():\n",
        "        if name.startswith('distilbert'):\n",
        "            param.requires_grad = False\n",
        "\n",
        "def unfreeze_layers(model):\n",
        "    for name, param in model.named_parameters():\n",
        "        if name.startswith('distilbert'):\n",
        "            param.requires_grad = True\n",
        "\n",
        "# Freeze layers starting with 'distilbert'\n",
        "freeze_layers(model)"
      ],
      "metadata": {
        "id": "Vl9qw4l2IPIA"
      },
      "execution_count": 19,
      "outputs": []
    },
    {
      "cell_type": "code",
      "source": [
        "# Display layers gradient\n",
        "print(\"\\nLayer gradient status after freezing:\")\n",
        "for name, param in model.named_parameters():\n",
        "    if name.startswith('distilbert'):\n",
        "        print(f\"{name}: requires_grad={param.requires_grad}\")\n",
        "\n",
        "\n",
        "# Unfreeze layers starting with 'distilbert'\n",
        "unfreeze_layers(model)\n",
        "\n",
        "# Display the gradient status of layers after unfreezing\n",
        "print(\"\\nLayer gradient status after unfreezing:\")\n",
        "for name, param in model.named_parameters():\n",
        "    if name.startswith('distilbert'):\n",
        "        print(f\"{name}: requires_grad={param.requires_grad}\")"
      ],
      "metadata": {
        "id": "-rpzN_c6HRTR",
        "collapsed": true,
        "colab": {
          "base_uri": "https://localhost:8080/"
        },
        "outputId": "c1b1722b-dc37-493a-8662-9edac99c7b07"
      },
      "execution_count": 20,
      "outputs": [
        {
          "output_type": "stream",
          "name": "stdout",
          "text": [
            "\n",
            "Layer gradient status after freezing:\n",
            "distilbert.embeddings.word_embeddings.weight: requires_grad=False\n",
            "distilbert.embeddings.position_embeddings.weight: requires_grad=False\n",
            "distilbert.embeddings.LayerNorm.weight: requires_grad=False\n",
            "distilbert.embeddings.LayerNorm.bias: requires_grad=False\n",
            "distilbert.transformer.layer.0.attention.q_lin.weight: requires_grad=False\n",
            "distilbert.transformer.layer.0.attention.q_lin.bias: requires_grad=False\n",
            "distilbert.transformer.layer.0.attention.k_lin.weight: requires_grad=False\n",
            "distilbert.transformer.layer.0.attention.k_lin.bias: requires_grad=False\n",
            "distilbert.transformer.layer.0.attention.v_lin.weight: requires_grad=False\n",
            "distilbert.transformer.layer.0.attention.v_lin.bias: requires_grad=False\n",
            "distilbert.transformer.layer.0.attention.out_lin.weight: requires_grad=False\n",
            "distilbert.transformer.layer.0.attention.out_lin.bias: requires_grad=False\n",
            "distilbert.transformer.layer.0.sa_layer_norm.weight: requires_grad=False\n",
            "distilbert.transformer.layer.0.sa_layer_norm.bias: requires_grad=False\n",
            "distilbert.transformer.layer.0.ffn.lin1.weight: requires_grad=False\n",
            "distilbert.transformer.layer.0.ffn.lin1.bias: requires_grad=False\n",
            "distilbert.transformer.layer.0.ffn.lin2.weight: requires_grad=False\n",
            "distilbert.transformer.layer.0.ffn.lin2.bias: requires_grad=False\n",
            "distilbert.transformer.layer.0.output_layer_norm.weight: requires_grad=False\n",
            "distilbert.transformer.layer.0.output_layer_norm.bias: requires_grad=False\n",
            "distilbert.transformer.layer.1.attention.q_lin.weight: requires_grad=False\n",
            "distilbert.transformer.layer.1.attention.q_lin.bias: requires_grad=False\n",
            "distilbert.transformer.layer.1.attention.k_lin.weight: requires_grad=False\n",
            "distilbert.transformer.layer.1.attention.k_lin.bias: requires_grad=False\n",
            "distilbert.transformer.layer.1.attention.v_lin.weight: requires_grad=False\n",
            "distilbert.transformer.layer.1.attention.v_lin.bias: requires_grad=False\n",
            "distilbert.transformer.layer.1.attention.out_lin.weight: requires_grad=False\n",
            "distilbert.transformer.layer.1.attention.out_lin.bias: requires_grad=False\n",
            "distilbert.transformer.layer.1.sa_layer_norm.weight: requires_grad=False\n",
            "distilbert.transformer.layer.1.sa_layer_norm.bias: requires_grad=False\n",
            "distilbert.transformer.layer.1.ffn.lin1.weight: requires_grad=False\n",
            "distilbert.transformer.layer.1.ffn.lin1.bias: requires_grad=False\n",
            "distilbert.transformer.layer.1.ffn.lin2.weight: requires_grad=False\n",
            "distilbert.transformer.layer.1.ffn.lin2.bias: requires_grad=False\n",
            "distilbert.transformer.layer.1.output_layer_norm.weight: requires_grad=False\n",
            "distilbert.transformer.layer.1.output_layer_norm.bias: requires_grad=False\n",
            "distilbert.transformer.layer.2.attention.q_lin.weight: requires_grad=False\n",
            "distilbert.transformer.layer.2.attention.q_lin.bias: requires_grad=False\n",
            "distilbert.transformer.layer.2.attention.k_lin.weight: requires_grad=False\n",
            "distilbert.transformer.layer.2.attention.k_lin.bias: requires_grad=False\n",
            "distilbert.transformer.layer.2.attention.v_lin.weight: requires_grad=False\n",
            "distilbert.transformer.layer.2.attention.v_lin.bias: requires_grad=False\n",
            "distilbert.transformer.layer.2.attention.out_lin.weight: requires_grad=False\n",
            "distilbert.transformer.layer.2.attention.out_lin.bias: requires_grad=False\n",
            "distilbert.transformer.layer.2.sa_layer_norm.weight: requires_grad=False\n",
            "distilbert.transformer.layer.2.sa_layer_norm.bias: requires_grad=False\n",
            "distilbert.transformer.layer.2.ffn.lin1.weight: requires_grad=False\n",
            "distilbert.transformer.layer.2.ffn.lin1.bias: requires_grad=False\n",
            "distilbert.transformer.layer.2.ffn.lin2.weight: requires_grad=False\n",
            "distilbert.transformer.layer.2.ffn.lin2.bias: requires_grad=False\n",
            "distilbert.transformer.layer.2.output_layer_norm.weight: requires_grad=False\n",
            "distilbert.transformer.layer.2.output_layer_norm.bias: requires_grad=False\n",
            "distilbert.transformer.layer.3.attention.q_lin.weight: requires_grad=False\n",
            "distilbert.transformer.layer.3.attention.q_lin.bias: requires_grad=False\n",
            "distilbert.transformer.layer.3.attention.k_lin.weight: requires_grad=False\n",
            "distilbert.transformer.layer.3.attention.k_lin.bias: requires_grad=False\n",
            "distilbert.transformer.layer.3.attention.v_lin.weight: requires_grad=False\n",
            "distilbert.transformer.layer.3.attention.v_lin.bias: requires_grad=False\n",
            "distilbert.transformer.layer.3.attention.out_lin.weight: requires_grad=False\n",
            "distilbert.transformer.layer.3.attention.out_lin.bias: requires_grad=False\n",
            "distilbert.transformer.layer.3.sa_layer_norm.weight: requires_grad=False\n",
            "distilbert.transformer.layer.3.sa_layer_norm.bias: requires_grad=False\n",
            "distilbert.transformer.layer.3.ffn.lin1.weight: requires_grad=False\n",
            "distilbert.transformer.layer.3.ffn.lin1.bias: requires_grad=False\n",
            "distilbert.transformer.layer.3.ffn.lin2.weight: requires_grad=False\n",
            "distilbert.transformer.layer.3.ffn.lin2.bias: requires_grad=False\n",
            "distilbert.transformer.layer.3.output_layer_norm.weight: requires_grad=False\n",
            "distilbert.transformer.layer.3.output_layer_norm.bias: requires_grad=False\n",
            "distilbert.transformer.layer.4.attention.q_lin.weight: requires_grad=False\n",
            "distilbert.transformer.layer.4.attention.q_lin.bias: requires_grad=False\n",
            "distilbert.transformer.layer.4.attention.k_lin.weight: requires_grad=False\n",
            "distilbert.transformer.layer.4.attention.k_lin.bias: requires_grad=False\n",
            "distilbert.transformer.layer.4.attention.v_lin.weight: requires_grad=False\n",
            "distilbert.transformer.layer.4.attention.v_lin.bias: requires_grad=False\n",
            "distilbert.transformer.layer.4.attention.out_lin.weight: requires_grad=False\n",
            "distilbert.transformer.layer.4.attention.out_lin.bias: requires_grad=False\n",
            "distilbert.transformer.layer.4.sa_layer_norm.weight: requires_grad=False\n",
            "distilbert.transformer.layer.4.sa_layer_norm.bias: requires_grad=False\n",
            "distilbert.transformer.layer.4.ffn.lin1.weight: requires_grad=False\n",
            "distilbert.transformer.layer.4.ffn.lin1.bias: requires_grad=False\n",
            "distilbert.transformer.layer.4.ffn.lin2.weight: requires_grad=False\n",
            "distilbert.transformer.layer.4.ffn.lin2.bias: requires_grad=False\n",
            "distilbert.transformer.layer.4.output_layer_norm.weight: requires_grad=False\n",
            "distilbert.transformer.layer.4.output_layer_norm.bias: requires_grad=False\n",
            "distilbert.transformer.layer.5.attention.q_lin.weight: requires_grad=False\n",
            "distilbert.transformer.layer.5.attention.q_lin.bias: requires_grad=False\n",
            "distilbert.transformer.layer.5.attention.k_lin.weight: requires_grad=False\n",
            "distilbert.transformer.layer.5.attention.k_lin.bias: requires_grad=False\n",
            "distilbert.transformer.layer.5.attention.v_lin.weight: requires_grad=False\n",
            "distilbert.transformer.layer.5.attention.v_lin.bias: requires_grad=False\n",
            "distilbert.transformer.layer.5.attention.out_lin.weight: requires_grad=False\n",
            "distilbert.transformer.layer.5.attention.out_lin.bias: requires_grad=False\n",
            "distilbert.transformer.layer.5.sa_layer_norm.weight: requires_grad=False\n",
            "distilbert.transformer.layer.5.sa_layer_norm.bias: requires_grad=False\n",
            "distilbert.transformer.layer.5.ffn.lin1.weight: requires_grad=False\n",
            "distilbert.transformer.layer.5.ffn.lin1.bias: requires_grad=False\n",
            "distilbert.transformer.layer.5.ffn.lin2.weight: requires_grad=False\n",
            "distilbert.transformer.layer.5.ffn.lin2.bias: requires_grad=False\n",
            "distilbert.transformer.layer.5.output_layer_norm.weight: requires_grad=False\n",
            "distilbert.transformer.layer.5.output_layer_norm.bias: requires_grad=False\n",
            "\n",
            "Layer gradient status after unfreezing:\n",
            "distilbert.embeddings.word_embeddings.weight: requires_grad=True\n",
            "distilbert.embeddings.position_embeddings.weight: requires_grad=True\n",
            "distilbert.embeddings.LayerNorm.weight: requires_grad=True\n",
            "distilbert.embeddings.LayerNorm.bias: requires_grad=True\n",
            "distilbert.transformer.layer.0.attention.q_lin.weight: requires_grad=True\n",
            "distilbert.transformer.layer.0.attention.q_lin.bias: requires_grad=True\n",
            "distilbert.transformer.layer.0.attention.k_lin.weight: requires_grad=True\n",
            "distilbert.transformer.layer.0.attention.k_lin.bias: requires_grad=True\n",
            "distilbert.transformer.layer.0.attention.v_lin.weight: requires_grad=True\n",
            "distilbert.transformer.layer.0.attention.v_lin.bias: requires_grad=True\n",
            "distilbert.transformer.layer.0.attention.out_lin.weight: requires_grad=True\n",
            "distilbert.transformer.layer.0.attention.out_lin.bias: requires_grad=True\n",
            "distilbert.transformer.layer.0.sa_layer_norm.weight: requires_grad=True\n",
            "distilbert.transformer.layer.0.sa_layer_norm.bias: requires_grad=True\n",
            "distilbert.transformer.layer.0.ffn.lin1.weight: requires_grad=True\n",
            "distilbert.transformer.layer.0.ffn.lin1.bias: requires_grad=True\n",
            "distilbert.transformer.layer.0.ffn.lin2.weight: requires_grad=True\n",
            "distilbert.transformer.layer.0.ffn.lin2.bias: requires_grad=True\n",
            "distilbert.transformer.layer.0.output_layer_norm.weight: requires_grad=True\n",
            "distilbert.transformer.layer.0.output_layer_norm.bias: requires_grad=True\n",
            "distilbert.transformer.layer.1.attention.q_lin.weight: requires_grad=True\n",
            "distilbert.transformer.layer.1.attention.q_lin.bias: requires_grad=True\n",
            "distilbert.transformer.layer.1.attention.k_lin.weight: requires_grad=True\n",
            "distilbert.transformer.layer.1.attention.k_lin.bias: requires_grad=True\n",
            "distilbert.transformer.layer.1.attention.v_lin.weight: requires_grad=True\n",
            "distilbert.transformer.layer.1.attention.v_lin.bias: requires_grad=True\n",
            "distilbert.transformer.layer.1.attention.out_lin.weight: requires_grad=True\n",
            "distilbert.transformer.layer.1.attention.out_lin.bias: requires_grad=True\n",
            "distilbert.transformer.layer.1.sa_layer_norm.weight: requires_grad=True\n",
            "distilbert.transformer.layer.1.sa_layer_norm.bias: requires_grad=True\n",
            "distilbert.transformer.layer.1.ffn.lin1.weight: requires_grad=True\n",
            "distilbert.transformer.layer.1.ffn.lin1.bias: requires_grad=True\n",
            "distilbert.transformer.layer.1.ffn.lin2.weight: requires_grad=True\n",
            "distilbert.transformer.layer.1.ffn.lin2.bias: requires_grad=True\n",
            "distilbert.transformer.layer.1.output_layer_norm.weight: requires_grad=True\n",
            "distilbert.transformer.layer.1.output_layer_norm.bias: requires_grad=True\n",
            "distilbert.transformer.layer.2.attention.q_lin.weight: requires_grad=True\n",
            "distilbert.transformer.layer.2.attention.q_lin.bias: requires_grad=True\n",
            "distilbert.transformer.layer.2.attention.k_lin.weight: requires_grad=True\n",
            "distilbert.transformer.layer.2.attention.k_lin.bias: requires_grad=True\n",
            "distilbert.transformer.layer.2.attention.v_lin.weight: requires_grad=True\n",
            "distilbert.transformer.layer.2.attention.v_lin.bias: requires_grad=True\n",
            "distilbert.transformer.layer.2.attention.out_lin.weight: requires_grad=True\n",
            "distilbert.transformer.layer.2.attention.out_lin.bias: requires_grad=True\n",
            "distilbert.transformer.layer.2.sa_layer_norm.weight: requires_grad=True\n",
            "distilbert.transformer.layer.2.sa_layer_norm.bias: requires_grad=True\n",
            "distilbert.transformer.layer.2.ffn.lin1.weight: requires_grad=True\n",
            "distilbert.transformer.layer.2.ffn.lin1.bias: requires_grad=True\n",
            "distilbert.transformer.layer.2.ffn.lin2.weight: requires_grad=True\n",
            "distilbert.transformer.layer.2.ffn.lin2.bias: requires_grad=True\n",
            "distilbert.transformer.layer.2.output_layer_norm.weight: requires_grad=True\n",
            "distilbert.transformer.layer.2.output_layer_norm.bias: requires_grad=True\n",
            "distilbert.transformer.layer.3.attention.q_lin.weight: requires_grad=True\n",
            "distilbert.transformer.layer.3.attention.q_lin.bias: requires_grad=True\n",
            "distilbert.transformer.layer.3.attention.k_lin.weight: requires_grad=True\n",
            "distilbert.transformer.layer.3.attention.k_lin.bias: requires_grad=True\n",
            "distilbert.transformer.layer.3.attention.v_lin.weight: requires_grad=True\n",
            "distilbert.transformer.layer.3.attention.v_lin.bias: requires_grad=True\n",
            "distilbert.transformer.layer.3.attention.out_lin.weight: requires_grad=True\n",
            "distilbert.transformer.layer.3.attention.out_lin.bias: requires_grad=True\n",
            "distilbert.transformer.layer.3.sa_layer_norm.weight: requires_grad=True\n",
            "distilbert.transformer.layer.3.sa_layer_norm.bias: requires_grad=True\n",
            "distilbert.transformer.layer.3.ffn.lin1.weight: requires_grad=True\n",
            "distilbert.transformer.layer.3.ffn.lin1.bias: requires_grad=True\n",
            "distilbert.transformer.layer.3.ffn.lin2.weight: requires_grad=True\n",
            "distilbert.transformer.layer.3.ffn.lin2.bias: requires_grad=True\n",
            "distilbert.transformer.layer.3.output_layer_norm.weight: requires_grad=True\n",
            "distilbert.transformer.layer.3.output_layer_norm.bias: requires_grad=True\n",
            "distilbert.transformer.layer.4.attention.q_lin.weight: requires_grad=True\n",
            "distilbert.transformer.layer.4.attention.q_lin.bias: requires_grad=True\n",
            "distilbert.transformer.layer.4.attention.k_lin.weight: requires_grad=True\n",
            "distilbert.transformer.layer.4.attention.k_lin.bias: requires_grad=True\n",
            "distilbert.transformer.layer.4.attention.v_lin.weight: requires_grad=True\n",
            "distilbert.transformer.layer.4.attention.v_lin.bias: requires_grad=True\n",
            "distilbert.transformer.layer.4.attention.out_lin.weight: requires_grad=True\n",
            "distilbert.transformer.layer.4.attention.out_lin.bias: requires_grad=True\n",
            "distilbert.transformer.layer.4.sa_layer_norm.weight: requires_grad=True\n",
            "distilbert.transformer.layer.4.sa_layer_norm.bias: requires_grad=True\n",
            "distilbert.transformer.layer.4.ffn.lin1.weight: requires_grad=True\n",
            "distilbert.transformer.layer.4.ffn.lin1.bias: requires_grad=True\n",
            "distilbert.transformer.layer.4.ffn.lin2.weight: requires_grad=True\n",
            "distilbert.transformer.layer.4.ffn.lin2.bias: requires_grad=True\n",
            "distilbert.transformer.layer.4.output_layer_norm.weight: requires_grad=True\n",
            "distilbert.transformer.layer.4.output_layer_norm.bias: requires_grad=True\n",
            "distilbert.transformer.layer.5.attention.q_lin.weight: requires_grad=True\n",
            "distilbert.transformer.layer.5.attention.q_lin.bias: requires_grad=True\n",
            "distilbert.transformer.layer.5.attention.k_lin.weight: requires_grad=True\n",
            "distilbert.transformer.layer.5.attention.k_lin.bias: requires_grad=True\n",
            "distilbert.transformer.layer.5.attention.v_lin.weight: requires_grad=True\n",
            "distilbert.transformer.layer.5.attention.v_lin.bias: requires_grad=True\n",
            "distilbert.transformer.layer.5.attention.out_lin.weight: requires_grad=True\n",
            "distilbert.transformer.layer.5.attention.out_lin.bias: requires_grad=True\n",
            "distilbert.transformer.layer.5.sa_layer_norm.weight: requires_grad=True\n",
            "distilbert.transformer.layer.5.sa_layer_norm.bias: requires_grad=True\n",
            "distilbert.transformer.layer.5.ffn.lin1.weight: requires_grad=True\n",
            "distilbert.transformer.layer.5.ffn.lin1.bias: requires_grad=True\n",
            "distilbert.transformer.layer.5.ffn.lin2.weight: requires_grad=True\n",
            "distilbert.transformer.layer.5.ffn.lin2.bias: requires_grad=True\n",
            "distilbert.transformer.layer.5.output_layer_norm.weight: requires_grad=True\n",
            "distilbert.transformer.layer.5.output_layer_norm.bias: requires_grad=True\n"
          ]
        }
      ]
    },
    {
      "cell_type": "markdown",
      "source": [
        "### Metrics"
      ],
      "metadata": {
        "id": "_1fnp2FMLAbA"
      }
    },
    {
      "cell_type": "code",
      "source": [
        "from datasets import load_metric\n",
        "metric = load_metric(\"glue\", \"sst2\")         # Type 'Y' when prompted"
      ],
      "metadata": {
        "id": "zEwgnS9xJrfI",
        "colab": {
          "base_uri": "https://localhost:8080/",
          "height": 123,
          "referenced_widgets": [
            "68edf82feb604f2eb79bf1007fba6b7f",
            "c36011e7edf2414a8f85779d2979f246",
            "60e74b03bd064d22953ae86c29bcdbb5",
            "c8b2a9ccd64d404399750582efbee11c",
            "744b37c166f94b4793238eafde44f482",
            "067117a7eed546a69694bb948bb5aa2d",
            "efecfe6f685e4df98980438389775086",
            "696612aa354946baa9ae1347b0059b8b",
            "571feb541fc14e538223044c5df180e1",
            "317343a35ddf492d8f0f3c80b532563f",
            "c7d920b499cf48a7b6dcb89dce448ced"
          ]
        },
        "outputId": "0d693945-5f42-46c9-8407-49b609fce2af"
      },
      "execution_count": 21,
      "outputs": [
        {
          "output_type": "display_data",
          "data": {
            "text/plain": [
              "Downloading builder script:   0%|          | 0.00/1.84k [00:00<?, ?B/s]"
            ],
            "application/vnd.jupyter.widget-view+json": {
              "version_major": 2,
              "version_minor": 0,
              "model_id": "68edf82feb604f2eb79bf1007fba6b7f"
            }
          },
          "metadata": {}
        },
        {
          "name": "stdout",
          "output_type": "stream",
          "text": [
            "The repository for glue contains custom code which must be executed to correctly load the dataset. You can inspect the repository content at https://hf.co/datasets/glue.\n",
            "You can avoid this prompt in future by passing the argument `trust_remote_code=True`.\n",
            "\n",
            "Do you wish to run the custom code? [y/N] y\n"
          ]
        }
      ]
    },
    {
      "cell_type": "code",
      "source": [
        "metric.compute(predictions=[1,0,1], references=[1,0,0])"
      ],
      "metadata": {
        "id": "7NYqJuPcLKIF",
        "colab": {
          "base_uri": "https://localhost:8080/"
        },
        "outputId": "c801af08-b1f5-416f-a492-1fe363f709f3"
      },
      "execution_count": 22,
      "outputs": [
        {
          "output_type": "execute_result",
          "data": {
            "text/plain": [
              "{'accuracy': 0.6666666666666666}"
            ]
          },
          "metadata": {},
          "execution_count": 22
        }
      ]
    },
    {
      "cell_type": "code",
      "source": [
        "def compute_metrics(logits_and_labels):\n",
        "    logits, labels = logits_and_labels\n",
        "    predictions = np.argmax(logits,axis=-1)\n",
        "    return metric.compute(predictions=predictions,references=labels)\n"
      ],
      "metadata": {
        "id": "Dm-TelhsJrcT"
      },
      "execution_count": 23,
      "outputs": []
    },
    {
      "cell_type": "markdown",
      "source": [
        "**Exercise 14: Fine-tune model on train dataset  [0.5 Mark]**\n",
        " * Create `TrainingArguments` class object\n",
        " * Create `Trainer` class  object\n",
        " * Train it for higher number of epochs say 40 or 50\n",
        " * Switch to GPU runtime if needed\n",
        "\n",
        "**Hint:** Check if the training code is running without any error with CPU runtime, later switch to GPU runtime for faster training. Once trained, save the model, create its zip file, and download into your system."
      ],
      "metadata": {
        "id": "lRCoqRSWLSu9"
      }
    },
    {
      "cell_type": "code",
      "source": [
        "from transformers import TrainingArguments\n",
        "from transformers import Trainer\n",
        "from transformers import Trainer, TrainingArguments, AutoConfig, AutoModelForSequenceClassification, AutoTokenizer, pipeline"
      ],
      "metadata": {
        "id": "p9mRRxP41j13"
      },
      "execution_count": 24,
      "outputs": []
    },
    {
      "cell_type": "code",
      "source": [
        "# Set up the training arguments\n",
        "\n",
        "model_output_path = \"/content/bert_model\"\n",
        "\n",
        "training_args = TrainingArguments(\n",
        "    output_dir= model_output_path,              # Directory to save the model\n",
        "    evaluation_strategy=\"epoch\",                # Evaluate every epoch\n",
        "    learning_rate=2e-5,                         # Learning rate\n",
        "    per_device_train_batch_size=8,              # Batch size for training\n",
        "    per_device_eval_batch_size=8,               # Batch size for evaluation\n",
        "    num_train_epochs=40,                        # Number of epochs\n",
        "    weight_decay=0.01,                          # Weight decay\n",
        "    logging_dir='/content/logs',                # Directory to save logs\n",
        "    logging_steps=10,                           # Number of steps between logging\n",
        ")"
      ],
      "metadata": {
        "id": "DVZwc4qv2kYz"
      },
      "execution_count": 26,
      "outputs": []
    },
    {
      "cell_type": "code",
      "source": [
        "model_name = \"bert-base-uncased\""
      ],
      "metadata": {
        "id": "CUqSB2FreuIC"
      },
      "execution_count": 27,
      "outputs": []
    },
    {
      "cell_type": "code",
      "source": [
        "# Load the pre-trained model configuration\n",
        "config = AutoConfig.from_pretrained(model_name, num_labels=25)"
      ],
      "metadata": {
        "colab": {
          "base_uri": "https://localhost:8080/",
          "height": 49,
          "referenced_widgets": [
            "6f3f239211874e0bb8d9e246a15ab8dd",
            "b76b52b6a1ac4c308c9a119b4d778b07",
            "52236d74661c41d9b66602fffd8c6f5f",
            "34041e75380d45b39d2bad818dc0ee79",
            "a6538d83cb4849fdbfc3236a3d064d0b",
            "a0f175db42d84e6d8200fe7a08dfc8f1",
            "b37621df97904cfa95b3397725552c37",
            "832d9563f2b542ab9d679a61e91a5479",
            "1286f8e8ca424c2a95399f7ea9825f5d",
            "f296c92bdb724e5fab1212a5e490b9b2",
            "09967e42f4694db78e2537b80cd589cd"
          ]
        },
        "id": "8vb958UYecYA",
        "outputId": "ad9b4d00-72d7-4ca5-b4a8-d57fd91d2c1b"
      },
      "execution_count": 28,
      "outputs": [
        {
          "output_type": "display_data",
          "data": {
            "text/plain": [
              "config.json:   0%|          | 0.00/570 [00:00<?, ?B/s]"
            ],
            "application/vnd.jupyter.widget-view+json": {
              "version_major": 2,
              "version_minor": 0,
              "model_id": "6f3f239211874e0bb8d9e246a15ab8dd"
            }
          },
          "metadata": {}
        }
      ]
    },
    {
      "cell_type": "code",
      "source": [
        "# Train the model\n",
        "\n",
        "trainer = Trainer(\n",
        "    model=model,                               # The model to train\n",
        "    args=training_args,                        # Training arguments\n",
        "    train_dataset=tokenized_datasets['train'], # Training dataset\n",
        "    eval_dataset=tokenized_datasets['validation'],\n",
        "    compute_metrics=compute_metrics\n",
        ")\n",
        "trainer.train()"
      ],
      "metadata": {
        "id": "NCkulT251mCW",
        "colab": {
          "base_uri": "https://localhost:8080/",
          "height": 1000
        },
        "outputId": "419a3d6e-f237-4830-c601-32d128689f09"
      },
      "execution_count": 29,
      "outputs": [
        {
          "output_type": "display_data",
          "data": {
            "text/plain": [
              "<IPython.core.display.HTML object>"
            ],
            "text/html": [
              "\n",
              "    <div>\n",
              "      \n",
              "      <progress value='1585' max='2880' style='width:300px; height:20px; vertical-align: middle;'></progress>\n",
              "      [1585/2880 12:23 < 10:08, 2.13 it/s, Epoch 22/40]\n",
              "    </div>\n",
              "    <table border=\"1\" class=\"dataframe\">\n",
              "  <thead>\n",
              " <tr style=\"text-align: left;\">\n",
              "      <th>Epoch</th>\n",
              "      <th>Training Loss</th>\n",
              "      <th>Validation Loss</th>\n",
              "      <th>Accuracy</th>\n",
              "    </tr>\n",
              "  </thead>\n",
              "  <tbody>\n",
              "    <tr>\n",
              "      <td>1</td>\n",
              "      <td>2.920300</td>\n",
              "      <td>2.826889</td>\n",
              "      <td>0.347150</td>\n",
              "    </tr>\n",
              "    <tr>\n",
              "      <td>2</td>\n",
              "      <td>2.254800</td>\n",
              "      <td>2.090674</td>\n",
              "      <td>0.715026</td>\n",
              "    </tr>\n",
              "    <tr>\n",
              "      <td>3</td>\n",
              "      <td>1.535400</td>\n",
              "      <td>1.366382</td>\n",
              "      <td>0.911917</td>\n",
              "    </tr>\n",
              "    <tr>\n",
              "      <td>4</td>\n",
              "      <td>0.936700</td>\n",
              "      <td>0.775459</td>\n",
              "      <td>0.963731</td>\n",
              "    </tr>\n",
              "    <tr>\n",
              "      <td>5</td>\n",
              "      <td>0.533800</td>\n",
              "      <td>0.407525</td>\n",
              "      <td>0.968912</td>\n",
              "    </tr>\n",
              "    <tr>\n",
              "      <td>6</td>\n",
              "      <td>0.232200</td>\n",
              "      <td>0.198006</td>\n",
              "      <td>0.994819</td>\n",
              "    </tr>\n",
              "    <tr>\n",
              "      <td>7</td>\n",
              "      <td>0.130800</td>\n",
              "      <td>0.099353</td>\n",
              "      <td>0.994819</td>\n",
              "    </tr>\n",
              "    <tr>\n",
              "      <td>8</td>\n",
              "      <td>0.064400</td>\n",
              "      <td>0.064280</td>\n",
              "      <td>0.994819</td>\n",
              "    </tr>\n",
              "    <tr>\n",
              "      <td>9</td>\n",
              "      <td>0.038500</td>\n",
              "      <td>0.052051</td>\n",
              "      <td>0.994819</td>\n",
              "    </tr>\n",
              "    <tr>\n",
              "      <td>10</td>\n",
              "      <td>0.027800</td>\n",
              "      <td>0.045836</td>\n",
              "      <td>0.994819</td>\n",
              "    </tr>\n",
              "    <tr>\n",
              "      <td>11</td>\n",
              "      <td>0.020000</td>\n",
              "      <td>0.042415</td>\n",
              "      <td>0.994819</td>\n",
              "    </tr>\n",
              "    <tr>\n",
              "      <td>12</td>\n",
              "      <td>0.018600</td>\n",
              "      <td>0.041061</td>\n",
              "      <td>0.994819</td>\n",
              "    </tr>\n",
              "    <tr>\n",
              "      <td>13</td>\n",
              "      <td>0.014600</td>\n",
              "      <td>0.040502</td>\n",
              "      <td>0.994819</td>\n",
              "    </tr>\n",
              "    <tr>\n",
              "      <td>14</td>\n",
              "      <td>0.012600</td>\n",
              "      <td>0.039387</td>\n",
              "      <td>0.994819</td>\n",
              "    </tr>\n",
              "    <tr>\n",
              "      <td>15</td>\n",
              "      <td>0.010000</td>\n",
              "      <td>0.039817</td>\n",
              "      <td>0.994819</td>\n",
              "    </tr>\n",
              "    <tr>\n",
              "      <td>16</td>\n",
              "      <td>0.009900</td>\n",
              "      <td>0.038981</td>\n",
              "      <td>0.994819</td>\n",
              "    </tr>\n",
              "    <tr>\n",
              "      <td>17</td>\n",
              "      <td>0.008900</td>\n",
              "      <td>0.038892</td>\n",
              "      <td>0.994819</td>\n",
              "    </tr>\n",
              "    <tr>\n",
              "      <td>18</td>\n",
              "      <td>0.007000</td>\n",
              "      <td>0.039200</td>\n",
              "      <td>0.994819</td>\n",
              "    </tr>\n",
              "    <tr>\n",
              "      <td>19</td>\n",
              "      <td>0.006700</td>\n",
              "      <td>0.039019</td>\n",
              "      <td>0.994819</td>\n",
              "    </tr>\n",
              "    <tr>\n",
              "      <td>20</td>\n",
              "      <td>0.006600</td>\n",
              "      <td>0.038269</td>\n",
              "      <td>0.994819</td>\n",
              "    </tr>\n",
              "    <tr>\n",
              "      <td>21</td>\n",
              "      <td>0.005900</td>\n",
              "      <td>0.038953</td>\n",
              "      <td>0.994819</td>\n",
              "    </tr>\n",
              "  </tbody>\n",
              "</table><p>\n",
              "    <div>\n",
              "      \n",
              "      <progress value='14' max='25' style='width:300px; height:20px; vertical-align: middle;'></progress>\n",
              "      [14/25 00:01 < 00:01, 7.02 it/s]\n",
              "    </div>\n",
              "    "
            ]
          },
          "metadata": {}
        },
        {
          "output_type": "error",
          "ename": "KeyboardInterrupt",
          "evalue": "",
          "traceback": [
            "\u001b[0;31m---------------------------------------------------------------------------\u001b[0m",
            "\u001b[0;31mKeyboardInterrupt\u001b[0m                         Traceback (most recent call last)",
            "\u001b[0;32m<ipython-input-29-cc8d69d51219>\u001b[0m in \u001b[0;36m<cell line: 10>\u001b[0;34m()\u001b[0m\n\u001b[1;32m      8\u001b[0m     \u001b[0mcompute_metrics\u001b[0m\u001b[0;34m=\u001b[0m\u001b[0mcompute_metrics\u001b[0m\u001b[0;34m\u001b[0m\u001b[0;34m\u001b[0m\u001b[0m\n\u001b[1;32m      9\u001b[0m )\n\u001b[0;32m---> 10\u001b[0;31m \u001b[0mtrainer\u001b[0m\u001b[0;34m.\u001b[0m\u001b[0mtrain\u001b[0m\u001b[0;34m(\u001b[0m\u001b[0;34m)\u001b[0m\u001b[0;34m\u001b[0m\u001b[0;34m\u001b[0m\u001b[0m\n\u001b[0m",
            "\u001b[0;32m/usr/local/lib/python3.10/dist-packages/transformers/trainer.py\u001b[0m in \u001b[0;36mtrain\u001b[0;34m(self, resume_from_checkpoint, trial, ignore_keys_for_eval, **kwargs)\u001b[0m\n\u001b[1;32m   1930\u001b[0m                 \u001b[0mhf_hub_utils\u001b[0m\u001b[0;34m.\u001b[0m\u001b[0menable_progress_bars\u001b[0m\u001b[0;34m(\u001b[0m\u001b[0;34m)\u001b[0m\u001b[0;34m\u001b[0m\u001b[0;34m\u001b[0m\u001b[0m\n\u001b[1;32m   1931\u001b[0m         \u001b[0;32melse\u001b[0m\u001b[0;34m:\u001b[0m\u001b[0;34m\u001b[0m\u001b[0;34m\u001b[0m\u001b[0m\n\u001b[0;32m-> 1932\u001b[0;31m             return inner_training_loop(\n\u001b[0m\u001b[1;32m   1933\u001b[0m                 \u001b[0margs\u001b[0m\u001b[0;34m=\u001b[0m\u001b[0margs\u001b[0m\u001b[0;34m,\u001b[0m\u001b[0;34m\u001b[0m\u001b[0;34m\u001b[0m\u001b[0m\n\u001b[1;32m   1934\u001b[0m                 \u001b[0mresume_from_checkpoint\u001b[0m\u001b[0;34m=\u001b[0m\u001b[0mresume_from_checkpoint\u001b[0m\u001b[0;34m,\u001b[0m\u001b[0;34m\u001b[0m\u001b[0;34m\u001b[0m\u001b[0m\n",
            "\u001b[0;32m/usr/local/lib/python3.10/dist-packages/transformers/trainer.py\u001b[0m in \u001b[0;36m_inner_training_loop\u001b[0;34m(self, batch_size, args, resume_from_checkpoint, trial, ignore_keys_for_eval)\u001b[0m\n\u001b[1;32m   2363\u001b[0m \u001b[0;34m\u001b[0m\u001b[0m\n\u001b[1;32m   2364\u001b[0m             \u001b[0mself\u001b[0m\u001b[0;34m.\u001b[0m\u001b[0mcontrol\u001b[0m \u001b[0;34m=\u001b[0m \u001b[0mself\u001b[0m\u001b[0;34m.\u001b[0m\u001b[0mcallback_handler\u001b[0m\u001b[0;34m.\u001b[0m\u001b[0mon_epoch_end\u001b[0m\u001b[0;34m(\u001b[0m\u001b[0margs\u001b[0m\u001b[0;34m,\u001b[0m \u001b[0mself\u001b[0m\u001b[0;34m.\u001b[0m\u001b[0mstate\u001b[0m\u001b[0;34m,\u001b[0m \u001b[0mself\u001b[0m\u001b[0;34m.\u001b[0m\u001b[0mcontrol\u001b[0m\u001b[0;34m)\u001b[0m\u001b[0;34m\u001b[0m\u001b[0;34m\u001b[0m\u001b[0m\n\u001b[0;32m-> 2365\u001b[0;31m             \u001b[0mself\u001b[0m\u001b[0;34m.\u001b[0m\u001b[0m_maybe_log_save_evaluate\u001b[0m\u001b[0;34m(\u001b[0m\u001b[0mtr_loss\u001b[0m\u001b[0;34m,\u001b[0m \u001b[0mgrad_norm\u001b[0m\u001b[0;34m,\u001b[0m \u001b[0mmodel\u001b[0m\u001b[0;34m,\u001b[0m \u001b[0mtrial\u001b[0m\u001b[0;34m,\u001b[0m \u001b[0mepoch\u001b[0m\u001b[0;34m,\u001b[0m \u001b[0mignore_keys_for_eval\u001b[0m\u001b[0;34m)\u001b[0m\u001b[0;34m\u001b[0m\u001b[0;34m\u001b[0m\u001b[0m\n\u001b[0m\u001b[1;32m   2366\u001b[0m \u001b[0;34m\u001b[0m\u001b[0m\n\u001b[1;32m   2367\u001b[0m             \u001b[0;32mif\u001b[0m \u001b[0mDebugOption\u001b[0m\u001b[0;34m.\u001b[0m\u001b[0mTPU_METRICS_DEBUG\u001b[0m \u001b[0;32min\u001b[0m \u001b[0mself\u001b[0m\u001b[0;34m.\u001b[0m\u001b[0margs\u001b[0m\u001b[0;34m.\u001b[0m\u001b[0mdebug\u001b[0m\u001b[0;34m:\u001b[0m\u001b[0;34m\u001b[0m\u001b[0;34m\u001b[0m\u001b[0m\n",
            "\u001b[0;32m/usr/local/lib/python3.10/dist-packages/transformers/trainer.py\u001b[0m in \u001b[0;36m_maybe_log_save_evaluate\u001b[0;34m(self, tr_loss, grad_norm, model, trial, epoch, ignore_keys_for_eval)\u001b[0m\n\u001b[1;32m   2791\u001b[0m         \u001b[0mmetrics\u001b[0m \u001b[0;34m=\u001b[0m \u001b[0;32mNone\u001b[0m\u001b[0;34m\u001b[0m\u001b[0;34m\u001b[0m\u001b[0m\n\u001b[1;32m   2792\u001b[0m         \u001b[0;32mif\u001b[0m \u001b[0mself\u001b[0m\u001b[0;34m.\u001b[0m\u001b[0mcontrol\u001b[0m\u001b[0;34m.\u001b[0m\u001b[0mshould_evaluate\u001b[0m\u001b[0;34m:\u001b[0m\u001b[0;34m\u001b[0m\u001b[0;34m\u001b[0m\u001b[0m\n\u001b[0;32m-> 2793\u001b[0;31m             \u001b[0mmetrics\u001b[0m \u001b[0;34m=\u001b[0m \u001b[0mself\u001b[0m\u001b[0;34m.\u001b[0m\u001b[0m_evaluate\u001b[0m\u001b[0;34m(\u001b[0m\u001b[0mtrial\u001b[0m\u001b[0;34m,\u001b[0m \u001b[0mignore_keys_for_eval\u001b[0m\u001b[0;34m)\u001b[0m\u001b[0;34m\u001b[0m\u001b[0;34m\u001b[0m\u001b[0m\n\u001b[0m\u001b[1;32m   2794\u001b[0m \u001b[0;34m\u001b[0m\u001b[0m\n\u001b[1;32m   2795\u001b[0m         \u001b[0;32mif\u001b[0m \u001b[0mself\u001b[0m\u001b[0;34m.\u001b[0m\u001b[0mcontrol\u001b[0m\u001b[0;34m.\u001b[0m\u001b[0mshould_save\u001b[0m\u001b[0;34m:\u001b[0m\u001b[0;34m\u001b[0m\u001b[0;34m\u001b[0m\u001b[0m\n",
            "\u001b[0;32m/usr/local/lib/python3.10/dist-packages/transformers/trainer.py\u001b[0m in \u001b[0;36m_evaluate\u001b[0;34m(self, trial, ignore_keys_for_eval, skip_scheduler)\u001b[0m\n\u001b[1;32m   2748\u001b[0m \u001b[0;34m\u001b[0m\u001b[0m\n\u001b[1;32m   2749\u001b[0m     \u001b[0;32mdef\u001b[0m \u001b[0m_evaluate\u001b[0m\u001b[0;34m(\u001b[0m\u001b[0mself\u001b[0m\u001b[0;34m,\u001b[0m \u001b[0mtrial\u001b[0m\u001b[0;34m,\u001b[0m \u001b[0mignore_keys_for_eval\u001b[0m\u001b[0;34m,\u001b[0m \u001b[0mskip_scheduler\u001b[0m\u001b[0;34m=\u001b[0m\u001b[0;32mFalse\u001b[0m\u001b[0;34m)\u001b[0m\u001b[0;34m:\u001b[0m\u001b[0;34m\u001b[0m\u001b[0;34m\u001b[0m\u001b[0m\n\u001b[0;32m-> 2750\u001b[0;31m         \u001b[0mmetrics\u001b[0m \u001b[0;34m=\u001b[0m \u001b[0mself\u001b[0m\u001b[0;34m.\u001b[0m\u001b[0mevaluate\u001b[0m\u001b[0;34m(\u001b[0m\u001b[0mignore_keys\u001b[0m\u001b[0;34m=\u001b[0m\u001b[0mignore_keys_for_eval\u001b[0m\u001b[0;34m)\u001b[0m\u001b[0;34m\u001b[0m\u001b[0;34m\u001b[0m\u001b[0m\n\u001b[0m\u001b[1;32m   2751\u001b[0m         \u001b[0mself\u001b[0m\u001b[0;34m.\u001b[0m\u001b[0m_report_to_hp_search\u001b[0m\u001b[0;34m(\u001b[0m\u001b[0mtrial\u001b[0m\u001b[0;34m,\u001b[0m \u001b[0mself\u001b[0m\u001b[0;34m.\u001b[0m\u001b[0mstate\u001b[0m\u001b[0;34m.\u001b[0m\u001b[0mglobal_step\u001b[0m\u001b[0;34m,\u001b[0m \u001b[0mmetrics\u001b[0m\u001b[0;34m)\u001b[0m\u001b[0;34m\u001b[0m\u001b[0;34m\u001b[0m\u001b[0m\n\u001b[1;32m   2752\u001b[0m \u001b[0;34m\u001b[0m\u001b[0m\n",
            "\u001b[0;32m/usr/local/lib/python3.10/dist-packages/transformers/trainer.py\u001b[0m in \u001b[0;36mevaluate\u001b[0;34m(self, eval_dataset, ignore_keys, metric_key_prefix)\u001b[0m\n\u001b[1;32m   3639\u001b[0m \u001b[0;34m\u001b[0m\u001b[0m\n\u001b[1;32m   3640\u001b[0m         \u001b[0meval_loop\u001b[0m \u001b[0;34m=\u001b[0m \u001b[0mself\u001b[0m\u001b[0;34m.\u001b[0m\u001b[0mprediction_loop\u001b[0m \u001b[0;32mif\u001b[0m \u001b[0mself\u001b[0m\u001b[0;34m.\u001b[0m\u001b[0margs\u001b[0m\u001b[0;34m.\u001b[0m\u001b[0muse_legacy_prediction_loop\u001b[0m \u001b[0;32melse\u001b[0m \u001b[0mself\u001b[0m\u001b[0;34m.\u001b[0m\u001b[0mevaluation_loop\u001b[0m\u001b[0;34m\u001b[0m\u001b[0;34m\u001b[0m\u001b[0m\n\u001b[0;32m-> 3641\u001b[0;31m         output = eval_loop(\n\u001b[0m\u001b[1;32m   3642\u001b[0m             \u001b[0meval_dataloader\u001b[0m\u001b[0;34m,\u001b[0m\u001b[0;34m\u001b[0m\u001b[0;34m\u001b[0m\u001b[0m\n\u001b[1;32m   3643\u001b[0m             \u001b[0mdescription\u001b[0m\u001b[0;34m=\u001b[0m\u001b[0;34m\"Evaluation\"\u001b[0m\u001b[0;34m,\u001b[0m\u001b[0;34m\u001b[0m\u001b[0;34m\u001b[0m\u001b[0m\n",
            "\u001b[0;32m/usr/local/lib/python3.10/dist-packages/transformers/trainer.py\u001b[0m in \u001b[0;36mevaluation_loop\u001b[0;34m(self, dataloader, description, prediction_loss_only, ignore_keys, metric_key_prefix)\u001b[0m\n\u001b[1;32m   3841\u001b[0m                     \u001b[0mall_inputs\u001b[0m\u001b[0;34m.\u001b[0m\u001b[0madd\u001b[0m\u001b[0;34m(\u001b[0m\u001b[0minputs_decode\u001b[0m\u001b[0;34m)\u001b[0m\u001b[0;34m\u001b[0m\u001b[0;34m\u001b[0m\u001b[0m\n\u001b[1;32m   3842\u001b[0m             \u001b[0;32mif\u001b[0m \u001b[0mlogits\u001b[0m \u001b[0;32mis\u001b[0m \u001b[0;32mnot\u001b[0m \u001b[0;32mNone\u001b[0m\u001b[0;34m:\u001b[0m\u001b[0;34m\u001b[0m\u001b[0;34m\u001b[0m\u001b[0m\n\u001b[0;32m-> 3843\u001b[0;31m                 \u001b[0mlogits\u001b[0m \u001b[0;34m=\u001b[0m \u001b[0mself\u001b[0m\u001b[0;34m.\u001b[0m\u001b[0maccelerator\u001b[0m\u001b[0;34m.\u001b[0m\u001b[0mpad_across_processes\u001b[0m\u001b[0;34m(\u001b[0m\u001b[0mlogits\u001b[0m\u001b[0;34m,\u001b[0m \u001b[0mdim\u001b[0m\u001b[0;34m=\u001b[0m\u001b[0;36m1\u001b[0m\u001b[0;34m,\u001b[0m \u001b[0mpad_index\u001b[0m\u001b[0;34m=\u001b[0m\u001b[0;34m-\u001b[0m\u001b[0;36m100\u001b[0m\u001b[0;34m)\u001b[0m\u001b[0;34m\u001b[0m\u001b[0;34m\u001b[0m\u001b[0m\n\u001b[0m\u001b[1;32m   3844\u001b[0m                 \u001b[0;32mif\u001b[0m \u001b[0mself\u001b[0m\u001b[0;34m.\u001b[0m\u001b[0mpreprocess_logits_for_metrics\u001b[0m \u001b[0;32mis\u001b[0m \u001b[0;32mnot\u001b[0m \u001b[0;32mNone\u001b[0m\u001b[0;34m:\u001b[0m\u001b[0;34m\u001b[0m\u001b[0;34m\u001b[0m\u001b[0m\n\u001b[1;32m   3845\u001b[0m                     \u001b[0mlogits\u001b[0m \u001b[0;34m=\u001b[0m \u001b[0mself\u001b[0m\u001b[0;34m.\u001b[0m\u001b[0mpreprocess_logits_for_metrics\u001b[0m\u001b[0;34m(\u001b[0m\u001b[0mlogits\u001b[0m\u001b[0;34m,\u001b[0m \u001b[0mlabels\u001b[0m\u001b[0;34m)\u001b[0m\u001b[0;34m\u001b[0m\u001b[0;34m\u001b[0m\u001b[0m\n",
            "\u001b[0;32m/usr/local/lib/python3.10/dist-packages/accelerate/accelerator.py\u001b[0m in \u001b[0;36mpad_across_processes\u001b[0;34m(self, tensor, dim, pad_index, pad_first)\u001b[0m\n\u001b[1;32m   2497\u001b[0m         \u001b[0;31m`\u001b[0m\u001b[0;31m`\u001b[0m\u001b[0;31m`\u001b[0m\u001b[0;34m\u001b[0m\u001b[0;34m\u001b[0m\u001b[0m\n\u001b[1;32m   2498\u001b[0m         \"\"\"\n\u001b[0;32m-> 2499\u001b[0;31m         \u001b[0;32mreturn\u001b[0m \u001b[0mpad_across_processes\u001b[0m\u001b[0;34m(\u001b[0m\u001b[0mtensor\u001b[0m\u001b[0;34m,\u001b[0m \u001b[0mdim\u001b[0m\u001b[0;34m=\u001b[0m\u001b[0mdim\u001b[0m\u001b[0;34m,\u001b[0m \u001b[0mpad_index\u001b[0m\u001b[0;34m=\u001b[0m\u001b[0mpad_index\u001b[0m\u001b[0;34m,\u001b[0m \u001b[0mpad_first\u001b[0m\u001b[0;34m=\u001b[0m\u001b[0mpad_first\u001b[0m\u001b[0;34m)\u001b[0m\u001b[0;34m\u001b[0m\u001b[0;34m\u001b[0m\u001b[0m\n\u001b[0m\u001b[1;32m   2500\u001b[0m \u001b[0;34m\u001b[0m\u001b[0m\n\u001b[1;32m   2501\u001b[0m     \u001b[0;32mdef\u001b[0m \u001b[0munwrap_model\u001b[0m\u001b[0;34m(\u001b[0m\u001b[0mself\u001b[0m\u001b[0;34m,\u001b[0m \u001b[0mmodel\u001b[0m\u001b[0;34m,\u001b[0m \u001b[0mkeep_fp32_wrapper\u001b[0m\u001b[0;34m:\u001b[0m \u001b[0mbool\u001b[0m \u001b[0;34m=\u001b[0m \u001b[0;32mTrue\u001b[0m\u001b[0;34m)\u001b[0m\u001b[0;34m:\u001b[0m\u001b[0;34m\u001b[0m\u001b[0;34m\u001b[0m\u001b[0m\n",
            "\u001b[0;32m/usr/local/lib/python3.10/dist-packages/accelerate/utils/operations.py\u001b[0m in \u001b[0;36mwrapper\u001b[0;34m(*args, **kwargs)\u001b[0m\n\u001b[1;32m    409\u001b[0m     \u001b[0;32mdef\u001b[0m \u001b[0mwrapper\u001b[0m\u001b[0;34m(\u001b[0m\u001b[0;34m*\u001b[0m\u001b[0margs\u001b[0m\u001b[0;34m,\u001b[0m \u001b[0;34m**\u001b[0m\u001b[0mkwargs\u001b[0m\u001b[0;34m)\u001b[0m\u001b[0;34m:\u001b[0m\u001b[0;34m\u001b[0m\u001b[0;34m\u001b[0m\u001b[0m\n\u001b[1;32m    410\u001b[0m         \u001b[0;32mtry\u001b[0m\u001b[0;34m:\u001b[0m\u001b[0;34m\u001b[0m\u001b[0;34m\u001b[0m\u001b[0m\n\u001b[0;32m--> 411\u001b[0;31m             \u001b[0;32mreturn\u001b[0m \u001b[0mfunction\u001b[0m\u001b[0;34m(\u001b[0m\u001b[0;34m*\u001b[0m\u001b[0margs\u001b[0m\u001b[0;34m,\u001b[0m \u001b[0;34m**\u001b[0m\u001b[0mkwargs\u001b[0m\u001b[0;34m)\u001b[0m\u001b[0;34m\u001b[0m\u001b[0;34m\u001b[0m\u001b[0m\n\u001b[0m\u001b[1;32m    412\u001b[0m         \u001b[0;32mexcept\u001b[0m \u001b[0mDistributedOperationException\u001b[0m \u001b[0;32mas\u001b[0m \u001b[0me\u001b[0m\u001b[0;34m:\u001b[0m\u001b[0;34m\u001b[0m\u001b[0;34m\u001b[0m\u001b[0m\n\u001b[1;32m    413\u001b[0m             \u001b[0moperation\u001b[0m \u001b[0;34m=\u001b[0m \u001b[0;34mf\"{function.__module__}.{function.__name__}\"\u001b[0m\u001b[0;34m\u001b[0m\u001b[0;34m\u001b[0m\u001b[0m\n",
            "\u001b[0;32m/usr/local/lib/python3.10/dist-packages/accelerate/utils/operations.py\u001b[0m in \u001b[0;36mpad_across_processes\u001b[0;34m(tensor, dim, pad_index, pad_first)\u001b[0m\n\u001b[1;32m    676\u001b[0m         \u001b[0;32mreturn\u001b[0m \u001b[0mnew_tensor\u001b[0m\u001b[0;34m\u001b[0m\u001b[0;34m\u001b[0m\u001b[0m\n\u001b[1;32m    677\u001b[0m \u001b[0;34m\u001b[0m\u001b[0m\n\u001b[0;32m--> 678\u001b[0;31m     return recursively_apply(\n\u001b[0m\u001b[1;32m    679\u001b[0m         \u001b[0m_pad_across_processes\u001b[0m\u001b[0;34m,\u001b[0m \u001b[0mtensor\u001b[0m\u001b[0;34m,\u001b[0m \u001b[0merror_on_other_type\u001b[0m\u001b[0;34m=\u001b[0m\u001b[0;32mTrue\u001b[0m\u001b[0;34m,\u001b[0m \u001b[0mdim\u001b[0m\u001b[0;34m=\u001b[0m\u001b[0mdim\u001b[0m\u001b[0;34m,\u001b[0m \u001b[0mpad_index\u001b[0m\u001b[0;34m=\u001b[0m\u001b[0mpad_index\u001b[0m\u001b[0;34m,\u001b[0m \u001b[0mpad_first\u001b[0m\u001b[0;34m=\u001b[0m\u001b[0mpad_first\u001b[0m\u001b[0;34m\u001b[0m\u001b[0;34m\u001b[0m\u001b[0m\n\u001b[1;32m    680\u001b[0m     )\n",
            "\u001b[0;32m/usr/local/lib/python3.10/dist-packages/accelerate/utils/operations.py\u001b[0m in \u001b[0;36mrecursively_apply\u001b[0;34m(func, data, test_type, error_on_other_type, *args, **kwargs)\u001b[0m\n\u001b[1;32m    124\u001b[0m         )\n\u001b[1;32m    125\u001b[0m     \u001b[0;32melif\u001b[0m \u001b[0mtest_type\u001b[0m\u001b[0;34m(\u001b[0m\u001b[0mdata\u001b[0m\u001b[0;34m)\u001b[0m\u001b[0;34m:\u001b[0m\u001b[0;34m\u001b[0m\u001b[0;34m\u001b[0m\u001b[0m\n\u001b[0;32m--> 126\u001b[0;31m         \u001b[0;32mreturn\u001b[0m \u001b[0mfunc\u001b[0m\u001b[0;34m(\u001b[0m\u001b[0mdata\u001b[0m\u001b[0;34m,\u001b[0m \u001b[0;34m*\u001b[0m\u001b[0margs\u001b[0m\u001b[0;34m,\u001b[0m \u001b[0;34m**\u001b[0m\u001b[0mkwargs\u001b[0m\u001b[0;34m)\u001b[0m\u001b[0;34m\u001b[0m\u001b[0;34m\u001b[0m\u001b[0m\n\u001b[0m\u001b[1;32m    127\u001b[0m     \u001b[0;32melif\u001b[0m \u001b[0merror_on_other_type\u001b[0m\u001b[0;34m:\u001b[0m\u001b[0;34m\u001b[0m\u001b[0;34m\u001b[0m\u001b[0m\n\u001b[1;32m    128\u001b[0m         raise TypeError(\n",
            "\u001b[0;32m/usr/local/lib/python3.10/dist-packages/accelerate/utils/operations.py\u001b[0m in \u001b[0;36m_pad_across_processes\u001b[0;34m(tensor, dim, pad_index, pad_first)\u001b[0m\n\u001b[1;32m    656\u001b[0m \u001b[0;34m\u001b[0m\u001b[0m\n\u001b[1;32m    657\u001b[0m         \u001b[0;31m# Gather all sizes\u001b[0m\u001b[0;34m\u001b[0m\u001b[0;34m\u001b[0m\u001b[0m\n\u001b[0;32m--> 658\u001b[0;31m         \u001b[0msize\u001b[0m \u001b[0;34m=\u001b[0m \u001b[0mtorch\u001b[0m\u001b[0;34m.\u001b[0m\u001b[0mtensor\u001b[0m\u001b[0;34m(\u001b[0m\u001b[0mtensor\u001b[0m\u001b[0;34m.\u001b[0m\u001b[0mshape\u001b[0m\u001b[0;34m,\u001b[0m \u001b[0mdevice\u001b[0m\u001b[0;34m=\u001b[0m\u001b[0mtensor\u001b[0m\u001b[0;34m.\u001b[0m\u001b[0mdevice\u001b[0m\u001b[0;34m)\u001b[0m\u001b[0;34m[\u001b[0m\u001b[0;32mNone\u001b[0m\u001b[0;34m]\u001b[0m\u001b[0;34m\u001b[0m\u001b[0;34m\u001b[0m\u001b[0m\n\u001b[0m\u001b[1;32m    659\u001b[0m         \u001b[0msizes\u001b[0m \u001b[0;34m=\u001b[0m \u001b[0mgather\u001b[0m\u001b[0;34m(\u001b[0m\u001b[0msize\u001b[0m\u001b[0;34m)\u001b[0m\u001b[0;34m.\u001b[0m\u001b[0mcpu\u001b[0m\u001b[0;34m(\u001b[0m\u001b[0;34m)\u001b[0m\u001b[0;34m\u001b[0m\u001b[0;34m\u001b[0m\u001b[0m\n\u001b[1;32m    660\u001b[0m         \u001b[0;31m# Then pad to the maximum size\u001b[0m\u001b[0;34m\u001b[0m\u001b[0;34m\u001b[0m\u001b[0m\n",
            "\u001b[0;31mKeyboardInterrupt\u001b[0m: "
          ]
        }
      ]
    },
    {
      "cell_type": "markdown",
      "source": [
        "### Save Model"
      ],
      "metadata": {
        "id": "ZcgsEYJlKbR0"
      }
    },
    {
      "cell_type": "code",
      "source": [
        "trainer.save_model(model_output_path)"
      ],
      "metadata": {
        "id": "t8WyDLu1e7hL"
      },
      "execution_count": 30,
      "outputs": []
    },
    {
      "cell_type": "code",
      "source": [
        "tokenizer.save_pretrained(model_output_path)"
      ],
      "metadata": {
        "colab": {
          "base_uri": "https://localhost:8080/"
        },
        "id": "e4Ay3_v7fV0Z",
        "outputId": "add4be24-d619-4198-a81b-8c83fab094a7"
      },
      "execution_count": 31,
      "outputs": [
        {
          "output_type": "execute_result",
          "data": {
            "text/plain": [
              "('/content/bert_model/tokenizer_config.json',\n",
              " '/content/bert_model/special_tokens_map.json',\n",
              " '/content/bert_model/vocab.txt',\n",
              " '/content/bert_model/added_tokens.json',\n",
              " '/content/bert_model/tokenizer.json')"
            ]
          },
          "metadata": {},
          "execution_count": 31
        }
      ]
    },
    {
      "cell_type": "code",
      "source": [],
      "metadata": {
        "id": "SrvSEzdlfc9Q"
      },
      "execution_count": 67,
      "outputs": []
    },
    {
      "cell_type": "code",
      "source": [
        "# Save the model\n",
        "trainer.save_model('saved_bert_model')"
      ],
      "metadata": {
        "id": "r0-EFIfIGAwB"
      },
      "execution_count": 32,
      "outputs": []
    },
    {
      "cell_type": "code",
      "source": [
        "!ls"
      ],
      "metadata": {
        "id": "h3SgH3qXGA1S",
        "colab": {
          "base_uri": "https://localhost:8080/"
        },
        "outputId": "4bf8bbb8-d268-4361-9a0b-9b368ed24aee"
      },
      "execution_count": 33,
      "outputs": [
        {
          "output_type": "stream",
          "name": "stdout",
          "text": [
            "bert_model  logs  sample_data  saved_bert_model  UpdatedResumeDataSet.csv\n"
          ]
        }
      ]
    },
    {
      "cell_type": "code",
      "source": [
        "# Create a Zip file and download\n",
        "!zip -r saved_bert_model.zip saved_bert_model"
      ],
      "metadata": {
        "id": "e7KOsH5j6fkP",
        "colab": {
          "base_uri": "https://localhost:8080/"
        },
        "outputId": "ecb12fd8-f26e-4930-f67a-323951744aa4"
      },
      "execution_count": 34,
      "outputs": [
        {
          "output_type": "stream",
          "name": "stdout",
          "text": [
            "  adding: saved_bert_model/ (stored 0%)\n",
            "  adding: saved_bert_model/config.json (deflated 64%)\n",
            "  adding: saved_bert_model/training_args.bin (deflated 52%)\n",
            "  adding: saved_bert_model/model.safetensors (deflated 8%)\n"
          ]
        }
      ]
    },
    {
      "cell_type": "markdown",
      "source": [
        "### Load Model"
      ],
      "metadata": {
        "id": "6GxwVdGLKgPe"
      }
    },
    {
      "cell_type": "markdown",
      "source": [
        "**Exercise 15: Load the saved model and create a pipeline to perform text classification [1 Mark]**\n",
        "\n",
        " * Create the pipeline object for text classification\n",
        " * Create a `make_prediction` function to use pipeline object and output the prediction label\n",
        "\n",
        "**Hint:** pipeline()"
      ],
      "metadata": {
        "id": "kkX_uGuNaePi"
      }
    },
    {
      "cell_type": "code",
      "source": [
        "from transformers import pipeline"
      ],
      "metadata": {
        "id": "zh3Dvzz-GBEr"
      },
      "execution_count": 35,
      "outputs": []
    },
    {
      "cell_type": "code",
      "source": [
        "my_model = pipeline(\n",
        "    'text-classification',\n",
        "    model=model_output_path,\n",
        "    tokenizer=model_output_path,\n",
        "    device='cuda'\n",
        ")"
      ],
      "metadata": {
        "id": "SKjG3Gm0Gb1Z"
      },
      "execution_count": 36,
      "outputs": []
    },
    {
      "cell_type": "code",
      "source": [
        "# Function to predict label for a resume text\n",
        "\n",
        "def make_prediction(input_text):\n",
        "    result = my_model(input_text)\n",
        "    # result[0]['label']\n",
        "    predicted_label = result[0]['label']\n",
        "    label_index = int(predicted_label.split('_')[1])\n",
        "    category = label_encoder.inverse_transform([label_index])[0]\n",
        "\n",
        "    return category\n",
        "\n"
      ],
      "metadata": {
        "id": "AvSyk5jylTz7"
      },
      "execution_count": 37,
      "outputs": []
    },
    {
      "cell_type": "code",
      "source": [
        "# Test prediction\n",
        "make_prediction('programming, web designing, coding')"
      ],
      "metadata": {
        "id": "BARs_uj-lTxH",
        "colab": {
          "base_uri": "https://localhost:8080/",
          "height": 36
        },
        "outputId": "5a8de097-b49a-4e90-a9c2-41dce36f59ae"
      },
      "execution_count": 38,
      "outputs": [
        {
          "output_type": "execute_result",
          "data": {
            "text/plain": [
              "'Web Designing'"
            ],
            "application/vnd.google.colaboratory.intrinsic+json": {
              "type": "string"
            }
          },
          "metadata": {},
          "execution_count": 38
        }
      ]
    },
    {
      "cell_type": "code",
      "source": [
        "make_prediction('continuous integration and ')"
      ],
      "metadata": {
        "id": "jUPAf9tR8yEC",
        "colab": {
          "base_uri": "https://localhost:8080/",
          "height": 36
        },
        "outputId": "3d756c4f-3ecc-4d15-efd4-bbce00034adf"
      },
      "execution_count": 39,
      "outputs": [
        {
          "output_type": "execute_result",
          "data": {
            "text/plain": [
              "'Python Developer'"
            ],
            "application/vnd.google.colaboratory.intrinsic+json": {
              "type": "string"
            }
          },
          "metadata": {},
          "execution_count": 39
        }
      ]
    },
    {
      "cell_type": "code",
      "source": [
        "make_prediction('java ')"
      ],
      "metadata": {
        "id": "vRgaCbxzExGC",
        "colab": {
          "base_uri": "https://localhost:8080/",
          "height": 36
        },
        "outputId": "e098edeb-68a3-4c65-eae6-7dddab9252d6"
      },
      "execution_count": 40,
      "outputs": [
        {
          "output_type": "execute_result",
          "data": {
            "text/plain": [
              "'Java Developer'"
            ],
            "application/vnd.google.colaboratory.intrinsic+json": {
              "type": "string"
            }
          },
          "metadata": {},
          "execution_count": 40
        }
      ]
    },
    {
      "cell_type": "code",
      "source": [
        "make_prediction('machine learning, data, EDA, big data, neural networks')"
      ],
      "metadata": {
        "id": "SG_mZItOqG2v",
        "colab": {
          "base_uri": "https://localhost:8080/",
          "height": 36
        },
        "outputId": "3b9f57a9-674e-4868-afad-db584eb2c0e5"
      },
      "execution_count": 41,
      "outputs": [
        {
          "output_type": "execute_result",
          "data": {
            "text/plain": [
              "'Data Science'"
            ],
            "application/vnd.google.colaboratory.intrinsic+json": {
              "type": "string"
            }
          },
          "metadata": {},
          "execution_count": 41
        }
      ]
    },
    {
      "cell_type": "markdown",
      "metadata": {
        "id": "mr0xI6QwFN-Q"
      },
      "source": [
        "## **Optional**: Create a Gradio based web interface to test and display the model predictions"
      ]
    },
    {
      "cell_type": "code",
      "execution_count": 42,
      "metadata": {
        "id": "wl0ngdnKjKHH",
        "colab": {
          "base_uri": "https://localhost:8080/"
        },
        "outputId": "9e46483c-e3ac-4c1a-de60-60cfdcc06af5"
      },
      "outputs": [
        {
          "output_type": "stream",
          "name": "stdout",
          "text": [
            "\u001b[2K     \u001b[90m━━━━━━━━━━━━━━━━━━━━━━━━━━━━━━━━━━━━━━━━\u001b[0m \u001b[32m50.4/50.4 kB\u001b[0m \u001b[31m3.8 MB/s\u001b[0m eta \u001b[36m0:00:00\u001b[0m\n",
            "\u001b[2K   \u001b[90m━━━━━━━━━━━━━━━━━━━━━━━━━━━━━━━━━━━━━━━━\u001b[0m \u001b[32m16.8/16.8 MB\u001b[0m \u001b[31m82.6 MB/s\u001b[0m eta \u001b[36m0:00:00\u001b[0m\n",
            "\u001b[2K   \u001b[90m━━━━━━━━━━━━━━━━━━━━━━━━━━━━━━━━━━━━━━━━\u001b[0m \u001b[32m318.7/318.7 kB\u001b[0m \u001b[31m22.9 MB/s\u001b[0m eta \u001b[36m0:00:00\u001b[0m\n",
            "\u001b[2K   \u001b[90m━━━━━━━━━━━━━━━━━━━━━━━━━━━━━━━━━━━━━━━━\u001b[0m \u001b[32m75.6/75.6 kB\u001b[0m \u001b[31m5.7 MB/s\u001b[0m eta \u001b[36m0:00:00\u001b[0m\n",
            "\u001b[2K   \u001b[90m━━━━━━━━━━━━━━━━━━━━━━━━━━━━━━━━━━━━━━━━\u001b[0m \u001b[32m77.9/77.9 kB\u001b[0m \u001b[31m6.1 MB/s\u001b[0m eta \u001b[36m0:00:00\u001b[0m\n",
            "\u001b[2K   \u001b[90m━━━━━━━━━━━━━━━━━━━━━━━━━━━━━━━━━━━━━━━━\u001b[0m \u001b[32m141.9/141.9 kB\u001b[0m \u001b[31m10.7 MB/s\u001b[0m eta \u001b[36m0:00:00\u001b[0m\n",
            "\u001b[2K   \u001b[90m━━━━━━━━━━━━━━━━━━━━━━━━━━━━━━━━━━━━━━━━\u001b[0m \u001b[32m10.3/10.3 MB\u001b[0m \u001b[31m91.8 MB/s\u001b[0m eta \u001b[36m0:00:00\u001b[0m\n",
            "\u001b[2K   \u001b[90m━━━━━━━━━━━━━━━━━━━━━━━━━━━━━━━━━━━━━━━━\u001b[0m \u001b[32m62.8/62.8 kB\u001b[0m \u001b[31m3.2 MB/s\u001b[0m eta \u001b[36m0:00:00\u001b[0m\n",
            "\u001b[2K   \u001b[90m━━━━━━━━━━━━━━━━━━━━━━━━━━━━━━━━━━━━━━━━\u001b[0m \u001b[32m93.2/93.2 kB\u001b[0m \u001b[31m7.2 MB/s\u001b[0m eta \u001b[36m0:00:00\u001b[0m\n",
            "\u001b[2K   \u001b[90m━━━━━━━━━━━━━━━━━━━━━━━━━━━━━━━━━━━━━━━━\u001b[0m \u001b[32m58.3/58.3 kB\u001b[0m \u001b[31m4.4 MB/s\u001b[0m eta \u001b[36m0:00:00\u001b[0m\n",
            "\u001b[2K   \u001b[90m━━━━━━━━━━━━━━━━━━━━━━━━━━━━━━━━━━━━━━━━\u001b[0m \u001b[32m72.0/72.0 kB\u001b[0m \u001b[31m5.5 MB/s\u001b[0m eta \u001b[36m0:00:00\u001b[0m\n",
            "\u001b[2K   \u001b[90m━━━━━━━━━━━━━━━━━━━━━━━━━━━━━━━━━━━━━━━━\u001b[0m \u001b[32m130.2/130.2 kB\u001b[0m \u001b[31m10.1 MB/s\u001b[0m eta \u001b[36m0:00:00\u001b[0m\n",
            "\u001b[?25h"
          ]
        }
      ],
      "source": [
        "!pip -q install gradio"
      ]
    },
    {
      "cell_type": "code",
      "execution_count": 43,
      "metadata": {
        "id": "3XwCJSdDDVVU"
      },
      "outputs": [],
      "source": [
        "import gradio"
      ]
    },
    {
      "cell_type": "code",
      "execution_count": 44,
      "metadata": {
        "id": "bpRnUY5w551-",
        "colab": {
          "base_uri": "https://localhost:8080/",
          "height": 596
        },
        "outputId": "68fd2043-48ac-446e-aae3-e3470012e3c3"
      },
      "outputs": [
        {
          "output_type": "stream",
          "name": "stdout",
          "text": [
            "Colab notebook detected. To show errors in colab notebook, set debug=True in launch()\n",
            "Running on public URL: https://d1a5ae0053cdd5bd62.gradio.live\n",
            "\n",
            "This share link expires in 72 hours. For free permanent hosting and GPU upgrades, run `gradio deploy` from Terminal to deploy to Spaces (https://huggingface.co/spaces)\n"
          ]
        },
        {
          "output_type": "display_data",
          "data": {
            "text/plain": [
              "<IPython.core.display.HTML object>"
            ],
            "text/html": [
              "<div><iframe src=\"https://d1a5ae0053cdd5bd62.gradio.live\" width=\"100%\" height=\"500\" allow=\"autoplay; camera; microphone; clipboard-read; clipboard-write;\" frameborder=\"0\" allowfullscreen></iframe></div>"
            ]
          },
          "metadata": {}
        },
        {
          "output_type": "execute_result",
          "data": {
            "text/plain": []
          },
          "metadata": {},
          "execution_count": 44
        }
      ],
      "source": [
        "# Textbox to take Input from user\n",
        "in_text = gradio.Textbox(lines=10, placeholder=None, value=\"Enter resume text here\", label='Resume Text')\n",
        "\n",
        "\n",
        "# Textbox to display Output prediction\n",
        "out_label = gradio.Textbox(type=\"text\", label='Predicted Class Label')\n",
        "\n",
        "\n",
        "# Gradio interface to create UI\n",
        "iface = gradio.Interface(fn = make_prediction,             # fine-tuned model is used inside this function\n",
        "                         inputs = [in_text],\n",
        "                         outputs = [out_label],\n",
        "                         title = \"Resume Classification\",\n",
        "                         description = \"Using fine-tuned Bert model\",\n",
        "                         allow_flagging = 'never')\n",
        "\n",
        "\n",
        "# Launch interface\n",
        "iface.launch(share = True)"
      ]
    },
    {
      "cell_type": "code",
      "source": [],
      "metadata": {
        "id": "cDsj5BgBxVMs"
      },
      "execution_count": null,
      "outputs": []
    }
  ]
}